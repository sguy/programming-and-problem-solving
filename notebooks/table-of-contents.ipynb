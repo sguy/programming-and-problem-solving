{
 "cells": [
  {
   "cell_type": "markdown",
   "id": "0",
   "metadata": {},
   "source": [
    "# Table of Contents: Programming and Problem Solving 🚀\n",
    "\n",
    "Welcome to the Programming and Problem Solving series! This Table of Contents will help you navigate through all the notebooks in this course. Each notebook builds on the previous one, so it's recommended to go through them in order.\n",
    "\n",
    "Below you'll find a list of all the notebooks, a brief overview of what each one covers, and the key Python concepts you'll learn or practice."
   ]
  },
  {
   "cell_type": "markdown",
   "id": "1",
   "metadata": {},
   "source": [
    "## Notebook Series Overview\n",
    "\n",
    "Click on the links below to open each notebook in Google Colab."
   ]
  },
  {
   "cell_type": "markdown",
   "id": "2",
   "metadata": {},
   "source": [
    "### 📖 [Notebook 1: Getting Started](https://colab.research.google.com/github/sguy/programming-and-problem-solving/blob/main/notebooks/01-getting-started.ipynb)\n",
    "\n",
    "**Overview:** This notebook introduces you to the Jupyter Notebook environment (specifically Google Colab) and the basic mechanics of running code and writing text.\n",
    "**Python Topics Covered:**\n",
    "*   Understanding code cells vs. markdown cells.\n",
    "*   Running Python code.\n",
    "*   Basic Markdown formatting."
   ]
  },
  {
   "cell_type": "markdown",
   "id": "3",
   "metadata": {},
   "source": [
    "### 🐍 [Notebook 2: First Steps with Python](https://colab.research.google.com/github/sguy/programming-and-problem-solving/blob/main/notebooks/02-first-steps-with-python.ipynb)\n",
    "\n",
    "**Overview:** Dive into the fundamentals of Python programming, learning how to display information, store data, and understand basic data types.\n",
    "**Python Topics Covered:**\n",
    "*   `print()` function for output.\n",
    "*   Variables for storing data.\n",
    "*   Introduction to data types: strings and numbers.\n",
    "*   Understanding simple error messages."
   ]
  },
  {
   "cell_type": "markdown",
   "id": "4",
   "metadata": {},
   "source": [
    "### 📐 [Notebook 3: Shapes and Calculations](https://colab.research.google.com/github/sguy/programming-and-problem-solving/blob/main/notebooks/03-shapes-and-calculations.ipynb)\n",
    "\n",
    "**Overview:** Learn how to perform calculations in Python, get input from users, and write your own reusable blocks of code called functions.\n",
    "**Python Topics Covered:**\n",
    "*   Basic arithmetic operators (`+`, `-`, `*`, `/`).\n",
    "*   Order of operations using parentheses `()`.\n",
    "*   `input()` function for user interaction.\n",
    "*   Type conversion: `int()`, `float()`.\n",
    "*   Defining functions with `def`, parameters, and `return` statements."
   ]
  },
  {
   "cell_type": "markdown",
   "id": "5",
   "metadata": {},
   "source": [
    "### 🤔 [Notebook 4: Python's Decision Power & Organizing with Lists](https://colab.research.google.com/github/sguy/programming-and-problem-solving/blob/main/notebooks/04-decisions-and-lists.ipynb)\n",
    "\n",
    "**Overview:** Explore how to make your programs make decisions using conditional logic and how to store and manage collections of items using lists.\n",
    "**Python Topics Covered:**\n",
    "*   Boolean values (`True`, `False`).\n",
    "*   Comparison operators (`==`, `!=`, `>`, `<`, `>=`, `<=`).\n",
    "*   Conditional statements: `if`, `else`, `elif`.\n",
    "*   Lists: creating, adding items with `.append()`.\n",
    "*   Getting list length with `len()`.\n",
    "*   Introduction to object methods (e.g., `list.append()`)."
   ]
  },
  {
   "cell_type": "markdown",
   "id": "6",
   "metadata": {},
   "source": [
    "### 🕵️‍♀️ [Notebook 5: The Caesar Cipher](https://colab.research.google.com/github/sguy/programming-and-problem-solving/blob/main/notebooks/05-the-caesar-cipher.ipynb)\n",
    "\n",
    "**Overview:** Delve into the world of cryptography by implementing the Caesar cipher, learning more about string manipulation and iterative processing with loops.\n",
    "**Python Topics Covered:**\n",
    "*   String methods like `.upper()`.\n",
    "*   Understanding strings as sequences of characters.\n",
    "*   `ord()` and `chr()` functions for character encoding.\n",
    "*   The modulo operator (`%`) for wrapping.\n",
    "*   `for` loops for iteration.\n",
    "*   Problem decomposition into functions."
   ]
  },
  {
   "cell_type": "markdown",
   "id": "7",
   "metadata": {},
   "source": [
    "### 🔢 [Notebook 6: Prime Numbers](https://colab.research.google.com/github/sguy/programming-and-problem-solving/blob/main/notebooks/06-prime-numbers.ipynb)\n",
    "\n",
    "**Overview:** Learn about prime numbers and develop algorithms to identify them, reinforcing your understanding of loops, conditionals, and functions in a mathematical context.\n",
    "**Python Topics Covered:**\n",
    "*   Problem-solving techniques: specifying, understanding, and breaking down problems.\n",
    "*   Modulo operator (`%`) for divisibility checks.\n",
    "*   Boolean logic and conditional statements (`if`/`else`).\n",
    "*   Defining and using functions.\n",
    "*   `for` loops with `range()`.\n",
    "*   Building and populating lists."
   ]
  }
 ],
 "metadata": {
  "kernelspec": {
   "display_name": "paps-venv",
   "language": "python",
   "name": "python3"
  },
  "language_info": {
   "codemirror_mode": {
    "name": "ipython",
    "version": 3
   },
   "file_extension": ".py",
   "mimetype": "text/x-python",
   "name": "python",
   "nbconvert_exporter": "python",
   "pygments_lexer": "ipython3",
   "version": "3.10.17"
  }
 },
 "nbformat": 4,
 "nbformat_minor": 5
}
