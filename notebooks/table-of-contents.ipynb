{
 "cells": [
  {
   "cell_type": "markdown",
   "id": "0",
   "metadata": {},
   "source": [
    "# Table of Contents: Programming and Problem Solving 🚀\n",
    "\n",
    "Welcome to the Programming and Problem Solving series! This Table of Contents will help you navigate through all the notebooks in this course. Each notebook builds on the previous one, so it's recommended to go through them in order.\n",
    "\n",
    "Below you'll find a list of all the notebooks, a brief overview of what each one covers, and the key Python concepts you'll learn or practice."
   ]
  },
  {
   "cell_type": "markdown",
   "id": "1",
   "metadata": {},
   "source": [
    "## Notebook Series Overview\n",
    "\n",
    "Click on the links below to open each notebook in Google Colab."
   ]
  },
  {
   "cell_type": "markdown",
   "id": "2",
   "metadata": {},
   "source": [
    "### 📖 [Notebook 1: Getting Started](https://colab.research.google.com/github/sguy/programming-and-problem-solving/blob/main/notebooks/01-getting-started.ipynb)\n",
    "\n",
    "This notebook introduces you to the Jupyter Notebook environment (specifically Google Colab) and the basic mechanics of running code and writing text.\n",
    "\n",
    "**Python Topics Covered:**\n",
    "*   Understanding code cells vs. markdown cells.\n",
    "*   Running Python code.\n",
    "*   Basic Markdown formatting."
   ]
  },
  {
   "cell_type": "markdown",
   "id": "3",
   "metadata": {},
   "source": [
    "### 🐍 [Notebook 2: First Steps with Python](https://colab.research.google.com/github/sguy/programming-and-problem-solving/blob/main/notebooks/02-first-steps-with-python.ipynb)\n",
    "\n",
    "Dive into the fundamentals of Python programming, learning how to display information, store data, and understand basic data types.\n",
    "\n",
    "**Python Topics Covered:**\n",
    "*   `print()` function for output.\n",
    "*   Comments for annotating code.\n",
    "*   Variables for storing data.\n",
    "*   Introduction to data types: strings and numbers.\n",
    "*   Understanding syntax highlighting.\n",
    "*   Understanding simple error messages."
   ]
  },
  {
   "cell_type": "markdown",
   "id": "4",
   "metadata": {},
   "source": [
    "### 📐 [Notebook 3: Basic Calculations](https://colab.research.google.com/github/sguy/programming-and-problem-solving/blob/main/notebooks/03-basic-calculations.ipynb)\n",
    "\n",
    "Learn how to perform calculations in Python using basic arithmetic and variables. This notebook uses the example of calculating the perimeter and area of a rectangle.\n",
    "\n",
    "**Python Topics Covered:**\n",
    "*   Basic arithmetic operators (`+`, `-`, `*`, `/`).\n",
    "*   Order of operations using parentheses `()`.\n",
    "*   Exponent operator (`**`) for powers and roots.\n",
    "\n",
    "**Optional Practice:** For more challenging problems, see [Notebook 3: Extended Practice](https://colab.research.google.com/github/sguy/programming-and-problem-solving/blob/main/notebooks/03-basic-calculations.extended-practice.ipynb)."
   ]
  },
  {
   "cell_type": "markdown",
   "id": "5",
   "metadata": {},
   "source": [
    "### 💬 [Notebook 4: Interactive Programs](https://colab.research.google.com/github/sguy/programming-and-problem-solving/blob/main/notebooks/04-interactive-programs.ipynb)\n",
    "\n",
    "Make your programs more flexible and powerful by learning how to get input directly from the user. We'll upgrade our rectangle calculator to ask the user for the dimensions.\n",
    "\n",
    "**Python Topics Covered:**\n",
    "*   `input()` function for user interaction.\n",
    "*   Type conversion: `int()`, `float()`."
   ]
  },
  {
   "cell_type": "markdown",
   "id": "6",
   "metadata": {},
   "source": [
    "### 📝 [Review: Notebooks 2-4](https://colab.research.google.com/github/sguy/programming-and-problem-solving/blob/main/notebooks/02-04.review-notebook.ipynb)\n",
    "\n",
    "This special notebook helps you review and practice the key concepts from the first few lessons, including variables, data types, calculations, and getting user input.\n",
    "\n",
    "**Python Topics Covered:**\n",
    "*   Consolidating knowledge of variables, data types, and operators.\n",
    "*   Combining `input()` and type conversion (`int()`, `float()`).\n",
    "*   Applying skills to solve multi-step problems."
   ]
  },
  {
   "cell_type": "markdown",
   "id": "7",
   "metadata": {},
   "source": [
    "### 🛠️ [Notebook 5: Reusable Code with Functions](https://colab.research.google.com/github/sguy/programming-and-problem-solving/blob/main/notebooks/05-reusable-code-with-functions.ipynb)\n",
    "\n",
    "Learn how to organize your code into reusable blocks called functions to make your programs more efficient and readable. We'll build functions to calculate area and perimeter, and then use them to solve a more complex problem.\n",
    "\n",
    "**Python Topics Covered:**\n",
    "*   Defining functions with `def`, parameters, and `return` statements.\n",
    "*   The DRY (Don't Repeat Yourself) principle.\n",
    "*   Using function **composition** to solve complex problems."
   ]
  },
  {
   "cell_type": "markdown",
   "id": "8",
   "metadata": {},
   "source": [
    "### 🤔 [Notebook 6: Python's Decision Power](https://colab.research.google.com/github/sguy/programming-and-problem-solving/blob/main/notebooks/06-decisions.ipynb)\n",
    "\n",
    "Explore how to make your programs make decisions using conditional logic. We'll create a program that can tell you if a shape is a square or a rectangle.\n",
    "\n",
    "**Python Topics Covered:**\n",
    "*   Boolean values (`True`, `False`).\n",
    "*   Comparison operators (`==`, `!=`, `>`, `<`, `>=`, `<=`).\n",
    "*   Conditional statements: `if`, `else`, `elif`."
   ]
  },
  {
   "cell_type": "markdown",
   "id": "9",
   "metadata": {},
   "source": [
    "### 🗂️ [Notebook 7: Organizing with Lists](https://colab.research.google.com/github/sguy/programming-and-problem-solving/blob/main/notebooks/07-lists.ipynb)\n",
    "\n",
    "Learn about lists, a fundamental data structure in Python for storing and organizing collections of items.\n",
    "\n",
    "**Python Topics Covered:**\n",
    "*   Creating lists.\n",
    "*   Adding items to lists with `.append()`\n",
    "*   Accessing items by index.\n",
    "*   Getting the length of a list with `len()`."
   ]
  },
  {
   "cell_type": "markdown",
   "id": "10",
   "metadata": {},
   "source": [
    "### 📝 [Review: Notebooks 5-7](https://colab.research.google.com/github/sguy/programming-and-problem-solving/blob/main/notebooks/05-07.review-notebook.ipynb)\n",
    "\n",
    "This special notebook helps you review and practice the key concepts from the lessons on functions, decisions, and lists.\n",
    "\n",
    "**Python Topics Covered:**\n",
    "*   Consolidating knowledge of variables, data types, and operators.\n",
    "*   Combining these concepts to solve more complex problems."
   ]
  },
  {
   "cell_type": "markdown",
   "id": "11",
   "metadata": {},
   "source": [
    "### 🔁 [Notebook 8: Mastering Loops](https://colab.research.google.com/github/sguy/programming-and-problem-solving/blob/main/notebooks/08-for-loops.ipynb)\n",
    "\n",
    "Learn how to use loops to repeat actions and work with lists more efficiently.\n",
    "\n",
    "**Python Topics Covered:**\n",
    "*   `for` loops for iterating over lists.\n",
    "*   `range()` to generate sequences of numbers.\n",
    "*   Using loops to perform calculations and manipulate data."
   ]
  },
  {
   "cell_type": "markdown",
   "id": "12",
   "metadata": {},
   "source": [
    "### 🎮 [Notebook 9: The Game Loop](https://colab.research.google.com/github/sguy/programming-and-problem-solving/blob/main/notebooks/09-the-game-loop.ipynb)\n",
    "\n",
    "Learn about the game loop, a fundamental concept in game development, and use it to create interactive games.\n",
    "\n",
    "**Python Topics Covered:**\n",
    "*   `while` loops for indefinite repetition.\n",
    "*   The game loop pattern (initialize, loop, update, check for end).\n",
    "*   Using a \"black box\" function to generate random numbers."
   ]
  },
  {
   "cell_type": "markdown",
   "id": "13",
   "metadata": {},
   "source": [
    "### 📈 [Notebook 12.b: Finding Linear Patterns](https://colab.research.google.com/github/sguy/programming-and-problem-solving/blob/main/notebooks/12.b-finding-linear-patterns.ipynb)\n",
    "\n",
    "Become a data detective! Learn to identify linear patterns in sequences of numbers using the Method of First Differences, and deduce the underlying linear function.\n",
    "\n",
    "**Python Topics Covered:**\n",
    "*   The Method of First Differences.\n",
    "*   Calculating differences between elements in a list.\n",
    "*   Determining the equation of a line (`y = mx + b`) from a sequence."
   ]
  }
 ],
 "metadata": {
  "kernelspec": {
   "display_name": "Python 3 (ipykernel)",
   "language": "python",
   "name": "python3"
  },
  "language_info": {
   "codemirror_mode": {
    "name": "ipython",
    "version": 3
   },
   "file_extension": ".py",
   "mimetype": "text/x-python",
   "name": "python",
   "nbconvert_exporter": "python",
   "pygments_lexer": "ipython3",
   "version": "3.13.5"
  }
 },
 "nbformat": 4,
 "nbformat_minor": 5
}
