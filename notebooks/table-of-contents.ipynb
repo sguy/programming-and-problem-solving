{
 "cells": [
  {
   "cell_type": "markdown",
   "id": "0",
   "metadata": {},
   "source": [
    "# Table of Contents: Programming and Problem Solving 🚀\n",
    "\n",
    "Welcome to the Programming and Problem Solving series! This Table of Contents will help you navigate through all the notebooks in this course. Each notebook builds on the previous one, so it's recommended to go through them in order.\n",
    "\n",
    "Below you'll find a list of all the notebooks, a brief overview of what each one covers, and the key Python concepts you'll learn or practice."
   ]
  },
  {
   "cell_type": "markdown",
   "id": "1",
   "metadata": {},
   "source": [
    "## Notebook Series Overview\n",
    "\n",
    "Click on the links below to open each notebook in Google Colab."
   ]
  },
  {
   "cell_type": "markdown",
   "id": "2",
   "metadata": {},
   "source": [
    "### 📖 [Notebook 1: Getting Started](https://colab.research.google.com/github/sguy/programming-and-problem-solving/blob/main/notebooks/01-getting-started.ipynb)\n",
    "\n",
    "This notebook introduces you to the Jupyter Notebook environment (specifically Google Colab) and the basic mechanics of running code and writing text.\n",
    "\n",
    "**Python Topics Covered:**\n",
    "*   Understanding code cells vs. markdown cells.\n",
    "*   Running Python code.\n",
    "*   Basic Markdown formatting."
   ]
  },
  {
   "cell_type": "markdown",
   "id": "3",
   "metadata": {},
   "source": [
    "### 🐍 [Notebook 2: First Steps with Python](https://colab.research.google.com/github/sguy/programming-and-problem-solving/blob/main/notebooks/02-first-steps-with-python.ipynb)\n",
    "\n",
    "Dive into the fundamentals of Python programming, learning how to display information, store data, and understand basic data types.\n",
    "\n",
    "**Python Topics Covered:**\n",
    "*   `print()` function for output.\n",
    "*   Comments for annotating code.\n",
    "*   Variables for storing data.\n",
    "*   Introduction to data types: strings and numbers.\n",
    "*   Understanding syntax highlighting.\n",
    "*   Understanding simple error messages."
   ]
  },
  {
   "cell_type": "markdown",
   "id": "4",
   "metadata": {},
   "source": [
    "### 📐 Notebook 3: Basic Calculations\n",
    "\n",
    "Learn how to perform calculations in Python using basic arithmetic and variables.\n",
    "\n",
    "**Python Topics Covered:**\n",
    "*   Basic arithmetic operators (`+`, `-`, `*`, `/`).\n",
    "*   Order of operations using parentheses `()`.\n",
    "*   Exponent operator (`**`) for powers and roots."
   ]
  },
  {
   "cell_type": "markdown",
   "id": "5",
   "metadata": {},
   "source": [
    "### 💬 Notebook 4: Interactive Programs\n",
    "\n",
    "Make your programs more flexible and powerful by learning how to get input directly from the user.\n",
    "\n",
    "**Python Topics Covered:**\n",
    "*   `input()` function for user interaction.\n",
    "*   Type conversion: `int()`, `float()`."
   ]
  },
  {
   "cell_type": "markdown",
   "id": "6",
   "metadata": {},
   "source": [
    "### 🛠️ Notebook 5: Reusable Code with Functions\n",
    "\n",
    "Learn how to organize your code into reusable blocks called functions to make your programs more efficient and readable.\n",
    "\n",
    "**Python Topics Covered:**\n",
    "*   Defining functions with `def`, parameters, and `return` statements.\n",
    "*   The DRY (Don't Repeat Yourself) principle.\n",
    "*   Using function **composition** to solve complex problems."
   ]
  },
  {
   "cell_type": "markdown",
   "id": "7",
   "metadata": {},
   "source": [
    "### 🤔 Notebook 6: Python's Decision Power\n",
    "\n",
    "Explore how to make your programs make decisions using conditional logic.\n",
    "\n",
    "**Python Topics Covered:**\n",
    "*   Boolean values (`True`, `False`).\n",
    "*   Comparison operators (`==`, `!=`, `>`, `<`, `>=`, `<=`).\n",
    "*   Conditional statements: `if`, `else`, `elif`."
   ]
  }
 ],
 "metadata": {
  "kernelspec": {
   "display_name": "paps-venv",
   "language": "python",
   "name": "python3"
  },
  "language_info": {
   "codemirror_mode": {
    "name": "ipython",
    "version": 3
   },
   "file_extension": ".py",
   "mimetype": "text/x-python",
   "name": "python",
   "nbconvert_exporter": "python",
   "pygments_lexer": "ipython3",
   "version": "3.10.12"
  }
 },
 "nbformat": 4,
 "nbformat_minor": 5
}
