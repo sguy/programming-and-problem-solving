{
 "cells": [
  {
   "cell_type": "markdown",
   "id": "0",
   "metadata": {},
   "source": [
    "# Notebook 6: Python's Decision Power🚦\n",
    "> \"The power to choose can be the most important power of all.\" - *Lois Lowry, The Giver*\n",
    "\n",
    "Welcome to our sixth Python notebook! In the last few notebooks, you learned how to perform calculations, get user input, and write reusable code with **functions**. Great job!\n",
    "\n",
    "Now, we're going to give your programs some brains! We'll explore:\n",
    "*   How programs can make **decisions** based on different conditions.\n",
    "**Learning Objectives:**\n",
    "*   Understand and use Boolean values (`True`, `False`).\n",
    "*   Use comparison operators (like `==`, `>`, `<`) to create conditions.\n",
    "*   Write `if`, `elif`, and `else` statements to control the flow of your program.\n",
    "\n",
    "**Estimated Time:** 45-65 minutes\n",
    "\n",
    "**Prerequisites/Review:**\n",
    "*   Variables and Data Types (Notebook 2)\n",
    "*   Basic Arithmetic (Notebook 3)\n",
    "*   Getting User Input with `input()` (Notebook 4)\n",
    "*   Defining and calling functions (Notebook 5)\n",
    "\n",
    "Let's get started!"
   ]
  },
  {
   "cell_type": "markdown",
   "id": "1",
   "metadata": {},
   "source": [
    "## 🐍 What are Decisions in Code? Introducing Booleans!\n",
    "\n",
    "Imagine you're writing a game. You might need to check: *Is the player's score high enough to win?* Or, if you're building a website: *Did the user enter the correct password?*\n",
    "\n",
    "These are all questions that have a simple **yes** or **no** answer. In programming, we represent these yes/no answers using special values called **Booleans**.\n",
    "\n",
    "There are only two Boolean values in Python:\n",
    "*   `True` (like a \"yes\")\n",
    "*   `False` (like a \"no\")\n",
    "\n",
    "⚠️ **Heads Up!** `True` and `False` must be capitalized in Python. `true` or `false` (lowercase) will cause an error.\n",
    "Booleans are a data type in Python, representing truthiness or falsehood."
   ]
  },
  {
   "cell_type": "code",
   "execution_count": null,
   "id": "2",
   "metadata": {},
   "outputs": [],
   "source": [
    "is_student = True\n",
    "has_homework = False\n",
    "is_weekend = True\n",
    "\n",
    "print(\"Is the person a student?\", is_student)\n",
    "print(\"Does the student have homework?\", has_homework)\n",
    "print(\"Is it the weekend?\", is_weekend)\n",
    "\n",
    "# Let's check their type!\n",
    "print(\"The type of is_student is:\", type(is_student))  # Expected output: <class 'bool'>\n"
   ]
  },
  {
   "cell_type": "markdown",
   "id": "3",
   "metadata": {},
   "source": [
    "## 🐍 Comparing Things: Comparison Operators\n",
    "So, how do we get these `True` or `False` values? We often get them by **comparing** two things using **comparison operators**. These operators ask a question and Python answers with `True` or `False`.\n",
    "\n",
    "Here are the common comparison operators:\n",
    "\n",
    "| Operator | Math         | Meaning                      | Example         | Result if `x=5`, `y=10` |\n",
    "| :------- | :----------- | :--------------------------- | :-------------- | :---------------------- |\n",
    "| `==`     | $x = y$      | Equal to                     | `x == y`        | `False`                 |\n",
    "| `!=`     | $x \\ne y$   | Not equal to                 | `x != y`        | `True`                  |\n",
    "| `>`      | $x > y$      | Greater than                 | `x > y`         | `False`                 |\n",
    "| `<`      | $x < y$      | Less than                    | `x < y`         | `True`                  |\n",
    "| `>=`     | $x \\ge 5$   | Greater than or equal to     | `x >= 5`        | `True`                  |\n",
    "| `<=`     | $y \\le 10$  | Less than or equal to        | `y <= 10`       | `True`                  |"
   ]
  },
  {
   "cell_type": "code",
   "execution_count": null,
   "id": "4",
   "metadata": {},
   "outputs": [],
   "source": [
    "x = 5\n",
    "y = 10\n",
    "name = \"Alice\"\n",
    "\n",
    "print(\"Is x equal to 5?\", x == 5)                  # True\n",
    "print(\"Is x not equal to y?\", x != y)              # True\n",
    "print(\"Is y greater than x?\", y > x)               # True\n",
    "print(\"Is x less than or equal to 5?\", x <= 5)     # True\n",
    "print(\"Is name equal to 'Alice'?\", name == \"Alice\") # True\n",
    "print(\"Is name equal to 'Bob'?\", name == \"Bob\")     # False\n",
    "# You can store the result of a comparison in a variable\n",
    "is_x_big = (x > 100)  # Check if x is greater than 100\n",
    "print(\"Is x big?\", is_x_big)  # Output the result (False in this case)\n"
   ]
  },
  {
   "cell_type": "markdown",
   "id": "5",
   "metadata": {},
   "source": [
    "### ✅ Check Your Understanding:\n",
    "Which of the following is **not** a valid Boolean value in Python?\n",
    "\n",
    "a) `True`  b) `False`  c) `true`  d) `(10 > 5)`\n",
    "\n",
    "<details>\n",
    "  <summary>Click for the answer</summary>\n",
    "\n",
    "  **c) `true`**. In Python, Boolean values must be capitalized: `True` and `False`.\n",
    "</details>"
   ]
  },
  {
   "cell_type": "markdown",
   "id": "6",
   "metadata": {},
   "source": [
    "## 🐍 Code Structure: Indentation and Blocks\n",
    "\n",
    "In Python, indentation (horizontal spacing) is not just for readability; it's part of the syntax! It defines **blocks of code**, which are groups of statements treated as a unit. These blocks are crucial for conditional statements, loops, and functions.\n",
    "\n",
    "Let's look at some examples to understand how indentation works and how it differs from blank lines (vertical spacing)."
   ]
  },
  {
   "cell_type": "code",
   "execution_count": null,
   "id": "7",
   "metadata": {},
   "outputs": [],
   "source": [
    "condition = True  # Try changing this to False and see what happens!\n",
    "\n",
    "if condition:\n",
    "    print(\"This is inside the block.\")\n",
    "print(\"This is outside the block.\")"
   ]
  },
  {
   "cell_type": "markdown",
   "id": "8",
   "metadata": {},
   "source": [
    "Before running the code above, what do you think the output will be? Remember to consider which lines are inside the indented block and which are outside. Building a mental model of how the code will execute is a crucial skill for debugging and writing correct programs.\n",
    "\n",
    "The `print(\"This is inside the block.\")` statement is indented, so it's *part of the block* that belongs to the `if` statement. It will only run if `condition` is `True`. The `print(\"This is outside the block.\")` statement is *not* indented, so it's *outside the block* and will run regardless of the condition."
   ]
  },
  {
   "cell_type": "code",
   "execution_count": null,
   "id": "9",
   "metadata": {},
   "outputs": [],
   "source": [
    "condition = False\n",
    "\n",
    "if condition:\n",
    "    print(\"This is inside the block.\")\n",
    "    print(\"So is this!\")\n",
    "\n",
    "print(\"This is outside.\")"
   ]
  },
  {
   "cell_type": "markdown",
   "id": "10",
   "metadata": {},
   "source": [
    "x = 5\n",
    "y = 10\n",
    "name = \"Alice\"\n",
    "\n",
    "print(\"Is x equal to 5?\", x == 5)                  # True\n",
    "print(\"Is x not equal to y?\", x != y)              # True\n",
    "print(\"Is y greater than x?\", y > x)               # True\n",
    "print(\"Is x less than or equal to 5?\", x <= 5)     # True\n",
    "print(\"Is name equal to 'Alice'?\", name == \"Alice\") # True\n",
    "print(\"Is name equal to 'Bob'?\", name == \"Bob\")     # False\n",
    "\n",
    "In this example, *both* `print` statements are indented under the `if` statement. They form a single block and will either both run (if `condition` is `True`) or both be skipped (if `condition` is `False`).\n",
    "\n",
    "What will happen when you run this code with `condition = False`?"
   ]
  },
  {
   "cell_type": "code",
   "execution_count": null,
   "id": "11",
   "metadata": {},
   "outputs": [],
   "source": [
    "condition = True\n",
    "\n",
    "if condition:\n",
    "    print(\"This is part of the if block.\")\n",
    "\n",
    "    print(\"This is also part of the if block, but it might look confusing because of the blank line.\")\n",
    "\n",
    "print(\"This is outside the if block.\")"
   ]
  },
  {
   "cell_type": "markdown",
   "id": "12",
   "metadata": {},
   "source": [
    "Here, the blank line (vertical space) *inside* the `if` block doesn't change the logic. Both `print` statements within the `if` block are still indented the same amount, so they are both considered part of the block. The blank line just adds vertical separation for readability, like paragraphs in writing.\n",
    "However, notice the indentation of the *last* `print` statement. It's not indented, so it's outside the `if` block and will always run.\n",
    "\n",
    "Therefore, the output will be:\n",
    "```\n",
    "This is part of the if block.\n",
    "\n",
    "This is also part of the if block, but it might look confusing because of the blank line.\n",
    "This is outside the if block.\n",
    "```\n",
    "\n",
    "**Key Takeaway:** Pay close attention to indentation! Syntax highlighting can help you quickly spot indentation errors. Incorrect indentation is a common source of bugs for beginners, so train your eye to recognize proper block structure."
   ]
  },
  {
   "cell_type": "markdown",
   "id": "13",
   "metadata": {},
   "source": [
    "## 🐍 Making Choices: `if`, `elif`, and `else`\n",
    "\n",
    "Now that we can create `True`/`False` conditions, we can tell our program to do different things based on these conditions. This is called **conditional execution**, and we use `if`, `elif` (short for \"else if\"), and `else` statements.\n",
    "\n",
    "### The `if` Statement\n",
    "An `if` statement runs a block of code *only if* its condition is `True`.\n",
    "\n",
    "```python\n",
    "if condition:\n",
    "    # This code runs if the condition is True\n",
    "    # Notice the indentation!\n",
    "    print(\"The condition was true!\")\n",
    "```\n",
    "The indentation (usually 4 spaces) is very important. It tells Python which lines of code belong to the `if` statement."
   ]
  },
  {
   "cell_type": "code",
   "execution_count": null,
   "id": "14",
   "metadata": {},
   "outputs": [],
   "source": [
    "temperature = 72 # degrees Fahrenheit\n",
    "\n",
    "if temperature > 85: # Is it hotter than 85°F?\n",
    "    print(\"It's a hot day!\")\n",
    "    print(\"Remember to drink water.\")\n",
    "\n",
    "if temperature < 50: # Is it colder than 50°F?\n",
    "    print(\"It's cold, wear a jacket!\") # This won't print because 72 is not < 50"
   ]
  },
  {
   "cell_type": "markdown",
   "id": "15",
   "metadata": {},
   "source": [
    "### The `else` Statement\n",
    "What if you want to do something else if the condition is `False`? That's where `else` comes in. It's paired with an `if` statement.\n",
    "\n",
    "```python\n",
    "if condition:\n",
    "    # Runs if condition is True\n",
    "    print(\"Condition was True.\")\n",
    "else:\n",
    "    # Runs if condition is False\n",
    "    print(\"Condition was False.\")\n",
    "```"
   ]
  },
  {
   "cell_type": "code",
   "execution_count": null,
   "id": "16",
   "metadata": {},
   "outputs": [],
   "source": [
    "user_age = int(input(\"Enter your age: \"))\n",
    "\n",
    "if user_age >= 18:\n",
    "    print(\"You are an adult.\")\n",
    "else:\n",
    "    print(\"You are a minor.\")"
   ]
  },
  {
   "cell_type": "markdown",
   "id": "17",
   "metadata": {},
   "source": [
    "### The `elif` Statement\n",
    "Sometimes you have more than two possibilities. `elif` (short for \"else if\") lets you check multiple conditions in order.\n",
    "\n",
    "```python\n",
    "if condition1:\n",
    "    # Runs if condition1 is True\n",
    "    print(\"Condition 1 was True.\")\n",
    "elif condition2:\n",
    "    # Runs if condition1 was False AND condition2 is True\n",
    "    print(\"Condition 2 was True.\")\n",
    "elif condition3:\n",
    "    # Runs if condition1 and condition2 were False AND condition3 is True\n",
    "    print(\"Condition 3 was True.\")\n",
    "else:\n",
    "    # Runs if ALL preceding conditions were False\n",
    "    print(\"None of the conditions were True.\")\n",
    "```\n",
    "Python checks the conditions from top to bottom. As soon as it finds one that is `True`, it runs that block of code and skips the rest of the `elif`/`else` blocks in that chain."
   ]
  },
  {
   "cell_type": "code",
   "execution_count": null,
   "id": "18",
   "metadata": {},
   "outputs": [],
   "source": [
    "score = int(input(\"Enter your test score (0-100): \"))\n",
    "\n",
    "if score >= 90:\n",
    "    print(\"Grade: A - Excellent!\")\n",
    "elif score >= 80:\n",
    "    print(\"Grade: B - Good job!\")\n",
    "elif score >= 70:\n",
    "    print(\"Grade: C - Satisfactory.\")\n",
    "elif score >= 60:\n",
    "    print(\"Grade: D - Needs improvement.\")\n",
    "else:\n",
    "    print(\"Grade: F - Please see your teacher.\")"
   ]
  },
  {
   "cell_type": "markdown",
   "id": "19",
   "metadata": {},
   "source": [
    "### 🎯 Mini-Challenge: Movie Ticket Pricer\n",
    "Let's write a program to determine the price of a movie ticket based on age.\n",
    "\n",
    "Ask the user for their age and output the correct ticket price:\n",
    "*   If under 5: \\$0\n",
    "*   If 5-12: \\$5\n",
    "*   If 13+: \\$10"
   ]
  },
  {
   "cell_type": "markdown",
   "id": "20",
   "metadata": {},
   "source": [
    "<details>\n",
    "  <summary>Click for a hint</summary>\n",
    "  Remember to use `input()` to get the age, and convert it to an integer.\n",
    "</details>\n",
    "<details>\n",
    "  <summary>Click for another hint</summary>\n",
    "  Use `if`, `elif`, and `else` to check different age ranges and assign the correct ticket price.\n",
    "</details>"
   ]
  },
  {
   "cell_type": "code",
   "execution_count": null,
   "id": "21",
   "metadata": {},
   "outputs": [],
   "source": [
    "# YOUR CODE HERE"
   ]
  },
  {
   "cell_type": "markdown",
   "id": "22",
   "metadata": {},
   "source": [
    "<details>\n",
    "  <summary>Click here to see a possible solution</summary>\n",
    "\n",
    "```python\n",
    "# Get the user's age\n",
    "age = int(input(\"Enter your age: \")) # Sample interaction: Enter your age: 10\n",
    "\n",
    "# Determine the ticket price based on age\n",
    "if age < 5:\n",
    "    price = 0\n",
    "elif age <= 12:  # Ages 5-12\n",
    "    price = 5\n",
    "else:  # Ages 13+\n",
    "    price = 10\n",
    "\n",
    "# Print the ticket price\n",
    "print(\"Ticket price: $\" + str(price)) # Expected output: Ticket price: $5\n",
    "```\n",
    "</details>"
   ]
  },
  {
   "cell_type": "markdown",
   "id": "23",
   "metadata": {},
   "source": [
    "## 🎉 Part 6 Wrap-up & What's Next! 🎉\n",
    "\n",
    "Fantastic work! You've learned how to make your Python programs much more dynamic and intelligent.\n",
    "\n",
    "**Here's a recap of what you learned:**\n",
    "*   **Boolean values** (`True` and `False`) are the foundation of decision-making.\n",
    "*   **Comparison operators** (`==`, `!=`, `>`, `<`, `>=`, `<=`) help you create Boolean conditions by comparing values.\n",
    "*   **Conditional statements** (`if`, `elif`, `else`) allow your code to execute different blocks based on whether conditions are true or false.\n",
    "\n",
    "**Key Takeaways:**\n",
    "*   Conditional logic is essential for creating programs that can react to different inputs and situations.\n",
    "\n",
    "### Next Up: Notebook 7: The Caesar Cipher 🕵️‍♀️\n",
    "In our next notebook, we'll learn how to store and manage **collections of items** using a powerful tool called **lists**.\n",
    "Then we'll dive into a fun and classic coding problem: implementing the Caesar Cipher! This will be a great way to apply your new knowledge of decisions and lists and start working more with text (strings) and loops. Get ready to encode and decode secret messages!\n",
    "\n",
    "Keep practicing with `if` statements. Try creating your own small programs that make decisions!"
   ]
  }
 ],
 "metadata": {
  "kernelspec": {
   "display_name": "paps-venv",
   "language": "python",
   "name": "python3"
  },
  "language_info": {
   "codemirror_mode": {
    "name": "ipython",
    "version": 3
   },
   "file_extension": ".py",
   "mimetype": "text/x-python",
   "name": "python",
   "nbconvert_exporter": "python",
   "pygments_lexer": "ipython3",
   "version": "3.10.12"
  }
 },
 "nbformat": 4,
 "nbformat_minor": 5
}
