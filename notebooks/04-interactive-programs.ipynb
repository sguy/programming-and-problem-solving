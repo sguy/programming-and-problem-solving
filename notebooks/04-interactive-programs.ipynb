{
 "cells": [
  {
   "cell_type": "markdown",
   "id": "0",
   "metadata": {},
   "source": [
    "# Notebook 4: Interactive Programs 💬\n",
    "\n",
    "Welcome to our fourth Python notebook! In the last lesson, you learned how to use Python for basic arithmetic to calculate properties of shapes. That's a great start!\n",
    "\n",
    "However, those programs were a bit rigid because the numbers were \"hardcoded.\" In this notebook, we'll make our programs much more powerful and flexible by learning how to get input directly from the user!\n",
    "\n",
    "**Learning Objectives:**\n",
    "*   Use the `input()` function to get data from a user.\n",
    "*   Understand why `input()` always returns a string.\n",
    "*   Convert strings to numbers for calculations using `int()` and `float()`.\n",
    "\n",
    "**Estimated Time:** 25-35 minutes\n",
    "\n",
    "**Prerequisites/Review:**\n",
    "*   Basic arithmetic operators (`+`, `*`, etc.) from Notebook 3: Basic Calculations.\n",
    "*   Variables and the `print()` function from Notebook 2: First Steps with Python.\n",
    "\n",
    "Let's make our code talk to us!"
   ]
  },
  {
   "cell_type": "markdown",
   "id": "1",
   "metadata": {},
   "source": [
    "## 🐍 Making it Interactive: Getting User Input with `input()`\n",
    "\n",
    "Hardcoding values is fine for simple tests, but what if we want to calculate the area of a square with a *different* side length each time we run the program? Or let someone else use our program to calculate for *their* shapes?\n",
    "\n",
    "For this, we need to get **input from the user**. Python provides a built-in function called `input()` to do this.\n",
    "\n",
    "The `input()` function does two things:\n",
    "1.  It displays a message (called a **prompt**) to the user, asking them to type something.\n",
    "2.  It waits for the user to type their response and press Enter.\n",
    "3.  It then **returns** whatever the user typed as a **string**."
   ]
  },
  {
   "cell_type": "code",
   "execution_count": null,
   "id": "2",
   "metadata": {},
   "outputs": [],
   "source": [
    "user_name = input(\"What is your name? \")\n",
    "print(\"Hello,\", user_name, \"!\")"
   ]
  },
  {
   "cell_type": "markdown",
   "id": "3",
   "metadata": {},
   "source": [
    "### ⚠️ Heads Up! `input()` Always Gives You a String\n",
    "\n",
    "This is a very important point! Even if the user types in a number, the `input()` function will give it to your program as a **string** (text).\n",
    "\n",
    "Let's see this in action. Run the cell below and enter a number when prompted."
   ]
  },
  {
   "cell_type": "code",
   "execution_count": null,
   "id": "4",
   "metadata": {},
   "outputs": [],
   "source": [
    "user_number_text = input(\"Enter a number: \")\n",
    "print(\"You entered:\", user_number_text)\n",
    "print(\"The type of data you entered is:\", type(user_number_text)) # type() tells us the data type"
   ]
  },
  {
   "cell_type": "markdown",
   "id": "5",
   "metadata": {},
   "source": [
    "You'll notice it says `<class 'str'>`, which means it's a string!\n",
    "\n",
    "If we want to do math with the user's input, we need to convert it from a string to a number. We can use:\n",
    "*   `int()`: to convert a string to an **integer** (whole number).\n",
    "*   `float()`: to convert a string to a **floating-point number** (number with a decimal).\n",
    "\n",
    "If the user types something that can't be converted to a number (like \"hello\"), trying to use `int()` or `float()` will cause an error. For now, we'll assume the user enters valid numbers."
   ]
  },
  {
   "cell_type": "code",
   "execution_count": null,
   "id": "6",
   "metadata": {},
   "outputs": [],
   "source": [
    "# Calculate square area with user input\n",
    "\n",
    "side_length_str = input(\"Enter the side length of the square: \")\n",
    "\n",
    "# Convert the input string to a number (let's use float for flexibility)\n",
    "side_length_num = float(side_length_str)\n",
    "\n",
    "area = side_length_num * side_length_num\n",
    "\n",
    "print(\"The side length you entered is:\", side_length_num)\n",
    "print(\"The area of the square is:\", area)"
   ]
  },
  {
   "cell_type": "markdown",
   "id": "7",
   "metadata": {},
   "source": [
    "### 🎯 Mini-Challenge: Rectangle Area with User Input\n",
    "\n",
    "1.  In the code cell below, ask the user to enter the **length** of a rectangle.\n",
    "2.  Store their input and convert it to a number (e.g., a float).\n",
    "3.  Then, ask the user to enter the **width** of the rectangle.\n",
    "4.  Store their input and convert it to a number.\n",
    "5.  Calculate the area of the rectangle (`area = length * width`).\n",
    "6.  Print the length, width, and the calculated area."
   ]
  },
  {
   "cell_type": "code",
   "execution_count": null,
   "id": "8",
   "metadata": {},
   "outputs": [],
   "source": [
    "# 1. Ask the user to enter the length of the rectangle and store it in a variable\n",
    "length_str = input(\"Enter the length of the rectangle: \")\n",
    "# 2. Convert the length from a string to a number (float)\n",
    "length_num = float(length_str)\n",
    "\n",
    "# 3. Ask the user to enter the width of the rectangle and store it\n",
    "width_str = input(\"Enter the width of the rectangle: \")\n",
    "# 4. Convert the width from a string to a number (float)\n",
    "width_num = float(width_str)\n",
    "\n",
    "# 5. Calculate the area (length * width)\n",
    "rect_area = length_num * width_num\n",
    "\n",
    "# 6. Print the length, width, and the calculated area\n",
    "print(\"Rectangle Length:\", length_num)\n",
    "print(\"Rectangle Width:\", width_num)\n",
    "print(\"Rectangle Area:\", rect_area)"
   ]
  },
  {
   "cell_type": "markdown",
   "id": "9",
   "metadata": {},
   "source": [
    "## 🎉 Part 4 Wrap-up & What's Next! 🎉\n",
    "\n",
    "Great job! You've learned one of the most important concepts in programming: making your programs interactive.\n",
    "\n",
    "**Here's a recap of what you learned:**\n",
    "*   The `input()` function pauses the program and waits for the user to type something.\n",
    "*   `input()` always gives you back a **string** data type.\n",
    "*   To do math with user input, you must first convert the string to a number using `int()` or `float()`.\n",
    "\n",
    "**Key Takeaways:**\n",
    "*   Always be mindful of **data types**, especially when getting input from users.\n",
    "*   Interactive programs are much more flexible and useful than programs with hardcoded values.\n",
    "\n",
    "### Next Up: Notebook 5: Reusable Code with Functions 🚀\n",
    "\n",
    "In our next notebook, we'll learn how to organize our code into reusable blocks called **functions**. This will help us avoid repeating code and make our programs much easier to read and manage."
   ]
  }
 ],
 "metadata": {
  "kernelspec": {
   "display_name": "paps-venv",
   "language": "python",
   "name": "python3"
  },
  "language_info": {
   "codemirror_mode": {
    "name": "ipython",
    "version": 3
   },
   "file_extension": ".py",
   "mimetype": "text/x-python",
   "name": "python",
   "nbconvert_exporter": "python",
   "pygments_lexer": "ipython3",
   "version": "3.10.17"
  }
 },
 "nbformat": 4,
 "nbformat_minor": 5
}
