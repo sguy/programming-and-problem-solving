{
 "cells": [
  {
   "cell_type": "markdown",
   "id": "0",
   "metadata": {},
   "source": [
    "# Notebook 4: Interactive Programs 💬\n",
    "\n",
    "Welcome to our fourth Python notebook! In the last lesson, you learned how to use Python for basic arithmetic to calculate properties of shapes. That's a great start.\n",
    "\n",
    "However, those programs were a bit rigid because the numbers were \"hardcoded.\" In this notebook, we'll make our programs much more powerful and flexible by learning how to get input directly from the user.\n",
    "\n",
    "> \"You’ve got to start with the customer experience and work back toward the technology – not the other way around.\" — [Steve Jobs](https://en.wikipedia.org/wiki/Steve_Jobs)\n",
    "\n",
    "This is the moment our programs stop being just about what *we* tell them to do and start being about what the *user* wants to do. Getting user input is the first step to creating a great experience for others.\n",
    "\n",
    "## Learning Objectives\n",
    "*   Use the `input()` function to get data from a user.\n",
    "*   Understand why `input()` always returns a string.\n",
    "*   Convert strings to numbers for calculations using `int()` and `float()`.\n",
    "\n",
    "**Estimated Time:** 25-35 minutes\n",
    "\n",
    "## Prerequisites/Review\n",
    "*   Basic arithmetic operators (`+`, `*`, etc.) from Notebook 3: Basic Calculations.\n",
    "*   Variables and the `print()` function from Notebook 2: First Steps with Python.\n",
    "\n",
    "Let's make our code talk to us."
   ]
  },
  {
   "cell_type": "markdown",
   "id": "1",
   "metadata": {},
   "source": [
    "## 🐍 New Concept: Getting User Input with `input()`\n",
    "\n",
    "Hardcoding values is fine for simple tests, but what if we want to calculate the area of a square with a *different* side length each time we run the program? Or let someone else use our program to calculate for *their* shapes?\n",
    "\n",
    "For this, we need to get **input from the user**. Python provides a built-in function called `input()` to do this.\n",
    "\n",
    "The `input()` function does two things:\n",
    "1.  It displays a message (called a **prompt**) to the user, asking them to type something.\n",
    "2.  It waits for the user to type their response and press Enter.\n",
    "3.  It then **returns** whatever the user typed as a **string**."
   ]
  },
  {
   "cell_type": "code",
   "execution_count": null,
   "id": "2",
   "metadata": {},
   "outputs": [],
   "source": [
    "user_name = input(\"What is your name? \")\n",
    "print(\"Hello,\", user_name, \"!\")"
   ]
  },
  {
   "cell_type": "markdown",
   "id": "3",
   "metadata": {},
   "source": [
    "### ⚠️ Heads Up!: `input()` Always Gives You a String\n",
    "\n",
    "This is a very important point. Even if the user types in a number, the `input()` function will give it to your program as a **string** (text).\n",
    "\n",
    "Let's see this in action. Run the cell below and enter a number when prompted."
   ]
  },
  {
   "cell_type": "code",
   "execution_count": null,
   "id": "4",
   "metadata": {},
   "outputs": [],
   "source": [
    "user_number_text = input(\"Enter a number: \")\n",
    "print(\"You entered:\", user_number_text)\n",
    "print(\"The type of data you entered is:\", type(user_number_text)) # type() tells us the data type"
   ]
  },
  {
   "cell_type": "markdown",
   "id": "5",
   "metadata": {},
   "source": [
    "You'll notice it says `<class 'str'>`, which means it's a string.\n",
    "\n",
    "If we want to do math with the user's input, we need to convert it from a string to a number. We can use:\n",
    "*   `int()`: to convert a string to an **integer** (whole number).\n",
    "*   `float()`: to convert a string to a **floating-point number** (number with a decimal).\n",
    "\n",
    "If the user types something that can't be converted to a number (like \"hello\"), trying to use `int()` or `float()` will cause an error. For now, we'll assume the user enters valid numbers."
   ]
  },
  {
   "cell_type": "code",
   "execution_count": null,
   "id": "6",
   "metadata": {},
   "outputs": [],
   "source": [
    "# Calculate square area with user input\n",
    "\n",
    "side_length_str = input(\"Enter the side length of the square: \")\n",
    "\n",
    "# Convert the input string to a number (let's use float for flexibility)\n",
    "side_length_num = float(side_length_str)\n",
    "\n",
    "area = side_length_num * side_length_num\n",
    "\n",
    "print(\"The side length you entered is:\", side_length_num)\n",
    "print(\"The area of the square is:\", area)"
   ]
  },
  {
   "cell_type": "markdown",
   "id": "7",
   "metadata": {},
   "source": [
    "### 🎯 Mini-Challenge: Interactive Rectangle Area\n",
    "\n",
    "Let's combine what you've learned! In the code cell below, write a program that:\n",
    "1.  Asks the user to enter the **length** of a rectangle.\n",
    "2.  Asks the user to enter the **width** of a rectangle.\n",
    "3.  Calculates the area.\n",
    "4.  Prints the final calculated area to the screen.\n",
    "\n",
    "Remember to convert the user's input from a string to a number (`float` is a good choice) before you do the calculation."
   ]
  },
  {
   "cell_type": "markdown",
   "id": "8",
   "metadata": {},
   "source": [
    "<details>\n",
    "  <summary>Hint: How do I ask for input?</summary>\n",
    "\n",
    "  Start by asking the user for the length and storing the result in a variable. You can use a line like this:\n",
    "  `length_str = input(\"What is the length? \")`\n",
    "</details>\n",
    "<details>\n",
    "  <summary>Hint: What data type does input() give me?</summary>\n",
    "\n",
    "  Remember that the `input()` function always gives you a string. What data type is stored in the `length_str` variable?\n",
    "</details>\n",
    "<details>\n",
    "  <summary>Hint: How do I use the input for math?</summary>\n",
    "\n",
    "  To calculate the area, you need to multiply two numbers. What data type do you need to convert `length_str` into before you can use it in a calculation? How can you do that?\n",
    "</details>"
   ]
  },
  {
   "cell_type": "code",
   "execution_count": null,
   "id": "9",
   "metadata": {},
   "outputs": [],
   "source": [
    "# YOUR CODE HERE"
   ]
  },
  {
   "cell_type": "markdown",
   "id": "10",
   "metadata": {},
   "source": [
    "<details>\n",
    "  <summary>Click to see a possible solution</summary>\n",
    "\n",
    "  ```python\n",
    "  # 1. Ask for the length and convert it to a float.\n",
    "  length_str = input(\"Enter the length of the rectangle: \") # Sample interaction: Enter the length of the rectangle: 10.5\n",
    "  length_num = float(length_str)\n",
    "\n",
    "  # 2. Ask for the width and convert it to a float.\n",
    "  width_str = input(\"Enter the width of the rectangle: \")   # Sample interaction: Enter the width of the rectangle: 4\n",
    "  width_num = float(width_str)\n",
    "\n",
    "  # 3. Calculate the area.\n",
    "  rect_area = length_num * width_num\n",
    "\n",
    "  # 4. Print the final result.\n",
    "  print(\"The area of the rectangle is:\", rect_area) # Expected output: The area of the rectangle is: 42.0\n",
    "  ```\n",
    "</details>"
   ]
  },
  {
   "cell_type": "markdown",
   "id": "11",
   "metadata": {},
   "source": [
    "### 🎯 Mini-Challenge: Fahrenheit to Celsius Converter\n",
    "\n",
    "Time to practice again! Write a program that converts a temperature from Fahrenheit to Celsius.\n",
    "\n",
    "The formula is: $$C = (F - 32) \\times \\frac{5}{9}$$\n",
    "\n",
    "Your program should:\n",
    "1.  Ask the user to enter a temperature in Fahrenheit.\n",
    "2.  Convert the input to a number.\n",
    "3.  Calculate the equivalent temperature in Celsius.\n",
    "4.  Print the result."
   ]
  },
  {
   "cell_type": "markdown",
   "id": "12",
   "metadata": {},
   "source": [
    "<details>\n",
    "  <summary>Hint: Getting the user's input</summary>\n",
    "\n",
    "  First, you need to get the temperature from the user. Use the `input()` function and store the result in a variable with a descriptive name, like `f_temp_str`.\n",
    "</details>\n",
    "<details>\n",
    "  <summary>Hint: Converting the input to a number</summary>\n",
    "\n",
    "  The value you get from `input()` will be a string. To use it in a math formula, you'll need to convert it to a number using `float()`.\n",
    "</details>\n",
    "<details>\n",
    "  <summary>Hint: Writing the conversion formula</summary>\n",
    "\n",
    "  When you write the formula in Python, make sure to use parentheses `()` to ensure the subtraction happens *before* the multiplication, just like in the formula.\n",
    "</details>"
   ]
  },
  {
   "cell_type": "code",
   "execution_count": null,
   "id": "13",
   "metadata": {},
   "outputs": [],
   "source": [
    "# YOUR CODE HERE"
   ]
  },
  {
   "cell_type": "markdown",
   "id": "14",
   "metadata": {},
   "source": [
    "<details>\n",
    "  <summary>Click to see a possible solution</summary>\n",
    "\n",
    "  ```python\n",
    "  # Pro-Tip: You can combine the input() and float() calls into one line!\n",
    "  # This is a common and efficient way to write this kind of code.\n",
    "  f_temp_num = float(input(\"Enter the temperature in Fahrenheit: \")) # Sample interaction: Enter the temperature in Fahrenheit: 68\n",
    "\n",
    "  # 2. Apply the conversion formula.\n",
    "  c_temp = (f_temp_num - 32) * 5 / 9\n",
    "\n",
    "  # 3. Print the final result.\n",
    "  print(\"The temperature in Celsius is:\", c_temp) # Expected output: The temperature in Celsius is: 20.0\n",
    "  ```\n",
    "</details>"
   ]
  },
  {
   "cell_type": "markdown",
   "id": "15",
   "metadata": {},
   "source": [
    "---\n",
    "\n",
    "### 🤔 Discussion Question:\n",
    "\n",
    "Think about the interactive programs you just wrote.\n",
    "\n",
    "*   What was the most surprising or tricky part about using the `input()` function for the first time?\n",
    "*   Why is it so important to convert the string you get from `input()` into a number like an `int` or a `float` before doing calculations? What kind of error might you see if you forget?\n",
    "*   Can you think of a real-world app or website you use that must be using something like `input()` to get information from you? (e.g., a search bar, a login form, a calculator app)."
   ]
  },
  {
   "cell_type": "markdown",
   "id": "16",
   "metadata": {},
   "source": [
    "## 🎉 Notebook 4 Wrap-up & What's Next!\n",
    "\n",
    "Great job. You've learned one of the most important concepts in programming: making your programs interactive.\n",
    "\n",
    "**Key Takeaways:**\n",
    "*   The `input()` function pauses the program and waits for the user to type something.\n",
    "*   `input()` always returns a **string**, so you must use `int()` or `float()` to convert the input to a number for calculations.\n",
    "*   Data types are crucial! You must ensure your data is in the correct format (e.g., a number) before you can perform operations like multiplication on it.\n",
    "*   Your programs are no longer static. By getting user input, you can create tools that solve different problems every time they run.\n",
    "\n",
    "### Next Up: Notebook 5: Reusable Code with Functions 🚀\n",
    "\n",
    "In our next notebook, we'll learn how to organize our code into reusable blocks called **functions**. This will help us avoid repeating code and make our programs much easier to read and manage."
   ]
  }
 ],
 "metadata": {
  "kernelspec": {
   "display_name": "paps-venv",
   "language": "python",
   "name": "python3"
  },
  "language_info": {
   "codemirror_mode": {
    "name": "ipython",
    "version": 3
   },
   "file_extension": ".py",
   "mimetype": "text/x-python",
   "name": "python",
   "nbconvert_exporter": "python",
   "pygments_lexer": "ipython3",
   "version": "3.10.17"
  }
 },
 "nbformat": 4,
 "nbformat_minor": 5
}
