{
 "cells": [
  {
   "cell_type": "markdown",
   "id": "0",
   "metadata": {},
   "source": [
    "# Notebook 11.2: Breaking the Code 🕵️‍♀️\n",
    "\n",
    "> \"It is a capital mistake to theorize before one has data.\" — Arthur Conan Doyle, *A Study in Scarlet*\n",
    "\n",
    "Welcome back, Agent! In the last notebook, you learned how to encrypt and decrypt messages using the Caesar Cipher. But what happens when you intercept a message and you *don't* know the key? In this notebook, you'll put on your detective hat and learn how to break the code!\n",
    "\n",
    "### Learning Objectives\n",
    "\n",
    "By the end of this notebook, you will be able to:\n",
    "\n",
    "*   Understand and implement a **brute-force attack** to break a Caesar cipher.\n",
    "*   Understand the concept of **frequency analysis** as a code-breaking technique.\n",
    "*   Use dictionaries to count the frequency of letters in a text.\n",
    "*   Combine loops, dictionaries, and conditional logic to analyze encrypted messages.\n",
    "\n",
    "### Prerequisites/Review\n",
    "\n",
    "*   Concepts from [Notebook 10: Dictionaries](https://colab.research.google.com/github/sguy/programming-and-problem-solving/blob/main/notebooks/10-dictionaries.ipynb), including how to create and use dictionaries.\n",
    "*   Concepts from [Notebook 11.a: The Caesar Cipher](https://colab.research.google.com/github/sguy/programming-and-problem-solving/blob/main/notebooks/11.a-the-caesar-cipher.ipynb), including the `caesar_cipher` function.\n",
    "\n",
    "### Estimated Time\n",
    "This notebook is designed to be completed in approximately **30-60 minutes**.\n",
    "\n",
    "[Return to Table of Contents](https://colab.research.google.com/github/sguy/programming-and-problem-solving/blob/main/notebooks/table-of-contents.ipynb)\n"
   ]
  },
  {
   "cell_type": "markdown",
   "id": "1",
   "metadata": {},
   "source": [
    "## 🕵️‍♀️ Brute-Force Attack: Trying Every Possibility\n",
    "\n",
    "Imagine you have a locked box, and you don't know the combination. One way to open it is to try every single possible combination until you find the right one. This is exactly what a **brute-force attack** is in cryptography!\n",
    "\n",
    "For the Caesar cipher, there are only 25 possible keys (shifts from 1 to 25, since a shift of 0 or 26 would result in the original message). This is a small enough number that a computer can try every single one very quickly.\n",
    "\n",
    "Let's recall our `caesar_cipher` function from the previous notebook. We'll use it here to decrypt messages with different keys."
   ]
  },
  {
   "cell_type": "code",
   "execution_count": null,
   "id": "2",
   "metadata": {},
   "outputs": [],
   "source": [
    "def caesar_cipher(text, shift, mode='decrypt'):\n",
    "    result = \"\"\n",
    "    for char in text:\n",
    "        if char.isalpha():\n",
    "            start = ord('a') if char.islower() else ord('A')\n",
    "            offset = ord(char) - start\n",
    "            if mode == 'encrypt':\n",
    "                shifted_offset = (offset + shift) % 26\n",
    "            elif mode == 'decrypt':\n",
    "                shifted_offset = (offset - shift) % 26\n",
    "            result += chr(start + shifted_offset)\n",
    "        else:\n",
    "            result += char\n",
    "    return result\n",
    "\n",
    "# Test the function (optional, but good practice)\n",
    "encrypted_message = caesar_cipher(\"HELLO\", 3, 'encrypt')\n",
    "decrypted_message = caesar_cipher(encrypted_message, 3, 'decrypt')\n",
    "print(f\"Original: HELLO, Encrypted: {encrypted_message}, Decrypted: {decrypted_message}\")"
   ]
  },
  {
   "cell_type": "markdown",
   "id": "3",
   "metadata": {},
   "source": [
    "### How to Brute-Force a Caesar Cipher\n",
    "\n",
    "Let's say we intercept the following encrypted message:\n",
    "\n",
    "```\n",
    "\"khoor zruog\"\n",
    "```\n",
    "\n",
    "We don't know the key! But we can try every possible shift from 1 to 25 and see which one makes sense."
   ]
  },
  {
   "cell_type": "code",
   "execution_count": null,
   "id": "4",
   "metadata": {},
   "outputs": [],
   "source": [
    "encrypted_text = \"khoor zruog\"\n",
    "\n",
    "print(f\"Encrypted Message: {encrypted_text}\")\n",
    "\n",
    "for key in range(1, 26):\n",
    "    decrypted_text = caesar_cipher(encrypted_text, key, 'decrypt')\n",
    "    print(f\"Trying key {key:2}: {decrypted_text}\")"
   ]
  },
  {
   "cell_type": "markdown",
   "id": "5",
   "metadata": {},
   "source": [
    "Did you see it? One of the decrypted messages should look like a readable English phrase! This is how a brute-force attack works: you try everything until something makes sense.\n",
    "\n",
    "### 🎯 Mini-Challenge: Brute-Force the Secret Message!\n",
    "\n",
    "Your mission, should you choose to accept it, is to decrypt the following secret message using a brute-force attack. Find the original message and the key that was used to encrypt it.\n",
    "\n",
    "```\n",
    "\"wklv lv d vhfuhw phvvdjh\"\n",
    "```"
   ]
  },
  {
   "cell_type": "markdown",
   "id": "6",
   "metadata": {},
   "source": [
    "<details>\n",
    "  <summary>Hint: Remember the range of possible keys.</summary>\n",
    "  Try keys from 1 to 25. The correct key will reveal a readable message.\n",
    "</details>\n",
    "\n",
    "<details>\n",
    "  <summary>Hint: Reuse the `caesar_cipher` function.</summary>\n",
    "  You already have a function that can decrypt. Just call it inside a loop with different `shift` values.\n",
    "</details>"
   ]
  },
  {
   "cell_type": "code",
   "execution_count": null,
   "id": "7",
   "metadata": {},
   "outputs": [],
   "source": [
    "secret_message = \"wklv lv d vhfuhw phvvdjh\"\n",
    "\n",
    "# YOUR CODE HERE\n"
   ]
  },
  {
   "cell_type": "markdown",
   "id": "8",
   "metadata": {},
   "source": [
    "<details>\n",
    "  <summary>Click to see a possible solution</summary>\n",
    "\n",
    "  ```python\n",
    "  secret_message = \"wklv lv d vhfuhw phvvdjh\"\n",
    "\n",
    "  print(f\"Encrypted Message: {secret_message}\n",
    "\")\n",
    "\n",
    "  for key in range(1, 26):\n",
    "      decrypted_text = caesar_cipher(secret_message, key, 'decrypt')\n",
    "      print(f\"Trying key {key:2}: {decrypted_text}\")\n",
    "\n",
    "  # The correct key is 3, which decrypts to \"this is a secret message\"\n",
    "  ```\n",
    "</details>"
   ]
  },
  {
   "cell_type": "markdown",
   "id": "9",
   "metadata": {},
   "source": [
    "## 📊 Frequency Analysis: The Codebreaker's Secret Weapon\n",
    "\n",
    "While brute-force works for simple ciphers like Caesar, what if there were hundreds or thousands of possible keys? Trying every single one would take too long! This is where **frequency analysis** comes in.\n",
    "\n",
    "Frequency analysis is a technique that uses the known frequency of letters in a language to help decipher a coded message. In English, for example, the letter 'E' is the most common, followed by 'T', 'A', 'O', 'I', 'N', 'S', 'H', 'R'. The least common letters are 'Z', 'Q', 'J', 'X'.\n",
    "\n",
    "If you analyze an encrypted message and find that the most frequent letter in the ciphertext is 'X', it's highly probable that 'X' stands for 'E' in the original message. This gives you a clue about the shift key!\n",
    "\n",
    "Let's write a function to count the frequency of each letter in a given text."
   ]
  },
  {
   "cell_type": "code",
   "execution_count": null,
   "id": "10",
   "metadata": {},
   "outputs": [],
   "source": [
    "def calculate_letter_frequencies(text):\n",
    "    frequencies = {}\n",
    "    total_letters = 0\n",
    "    for char in text:\n",
    "        if char.isalpha():\n",
    "            char = char.upper() # Convert to uppercase for consistent counting\n",
    "            frequencies[char] = frequencies.get(char, 0) + 1\n",
    "            total_letters += 1\n",
    "\n",
    "    # Convert counts to percentages\n",
    "    for char in frequencies:\n",
    "        frequencies[char] = (frequencies[char] / total_letters) * 100\n",
    "\n",
    "    # Sort by frequency (descending)\n",
    "    sorted_frequencies = sorted(frequencies.items(), key=lambda item: item[1], reverse=True)\n",
    "    return sorted_frequencies\n",
    "\n",
    "# Example usage:\n",
    "sample_text = \"This is a sample text to analyze for letter frequencies.\"\n",
    "sample_frequencies = calculate_letter_frequencies(sample_text)\n",
    "print(\"Sample Text Frequencies:\", sample_frequencies)"
   ]
  },
  {
   "cell_type": "markdown",
   "id": "11",
   "metadata": {},
   "source": [
    "### English Letter Frequencies (Approximate)\n",
    "\n",
    "Here are the approximate frequencies of letters in the English language. We can use this as a reference.\n",
    "\n",
    "| Letter | Frequency (%) |\n",
    "|---|---|\n",
    "| E | 12.70 |\n",
    "| T | 9.06 |\n",
    "| A | 8.17 |\n",
    "| O | 7.51 |\n",
    "| I | 6.97 |\n",
    "| N | 6.75 |\n",
    "| S | 6.33 |\n",
    "| H | 6.09 |\n",
    "| R | 5.99 |\n",
    "| D | 4.25 |\n",
    "| L | 4.03 |\n",
    "| U | 2.76 |\n",
    "| C | 2.78 |\n",
    "| M | 2.41 |\n",
    "| W | 2.36 |\n",
    "| F | 2.23 |\n",
    "| G | 2.02 |\n",
    "| Y | 1.97 |\n",
    "| P | 1.93 |\n",
    "| B | 1.29 |\n",
    "| V | 0.98 |\n",
    "| K | 0.77 |\n",
    "| J | 0.15 |\n",
    "| X | 0.15 |\n",
    "| Q | 0.10 |\n",
    "| Z | 0.07 |"
   ]
  },
  {
   "cell_type": "markdown",
   "id": "12",
   "metadata": {},
   "source": [
    "### Applying Frequency Analysis\n",
    "\n",
    "Let's take an encrypted message and calculate its letter frequencies. Then, we can compare them to the English frequencies to guess the shift."
   ]
  },
  {
   "cell_type": "code",
   "execution_count": null,
   "id": "13",
   "metadata": {},
   "outputs": [],
   "source": [
    "encrypted_message_fa = \"L fdph, L vdz, L frqtxhuhg.\"\n",
    "encrypted_frequencies = calculate_letter_frequencies(encrypted_message_fa)\n",
    "\n",
    "print(f\"Encrypted Message: {encrypted_message_fa}\")\n",
    "print(\"Encrypted Frequencies:\", encrypted_frequencies)\n",
    "\n",
    "# The most frequent letter in English is 'E'.\n",
    "# Let's assume the most frequent letter in our encrypted message corresponds to 'E'.\n",
    "# In our example, the most frequent letter in 'L fdph, L vdz, L frqtxhuhg.' is 'L'.\n",
    "# If 'L' corresponds to 'E', what is the shift?\n",
    "# 'L' is the 11th letter (0-indexed) and 'E' is the 4th letter.\n",
    "# Shift = (ord('L') - ord('E')) % 26 = (76 - 69) % 26 = 7 % 26 = 7\n",
    "# Let's try decrypting with a shift of 7.\n",
    "\n",
    "guessed_shift = 7\n",
    "decrypted_fa_message = caesar_cipher(encrypted_message_fa, guessed_shift, 'decrypt')\n",
    "print(f\"Decrypted with guessed shift {guessed_shift}: {decrypted_fa_message}\")"
   ]
  },
  {
   "cell_type": "markdown",
   "id": "14",
   "metadata": {},
   "source": [
    "By comparing the most frequent letter in the encrypted text ('L') to the most frequent letter in English ('E'), we can deduce the shift. 'L' is 7 letters after 'E' in the alphabet, so a shift of 7 seems likely. When we decrypt with a shift of 7, we get a meaningful message!\n",
    "\n",
    "### 🎯 Mini-Challenge: Break the Code with Frequency Analysis!\n",
    "\n",
    "You've intercepted another message. Use frequency analysis to determine the most likely shift and decrypt the message.\n",
    "\n",
    "```\n",
    "\"wkh qljkw lv brxqj\"\n",
    "```"
   ]
  },
  {
   "cell_type": "markdown",
   "id": "15",
   "metadata": {},
   "source": [
    "<details>\n",
    "  <summary>Hint: Calculate the frequencies first.</summary>\n",
    "  Use the `calculate_letter_frequencies` function on the encrypted message.\n",
    "</details>\n",
    "\n",
    "<details>\n",
    "  <summary>Hint: Compare the most frequent letter.</summary>\n",
    "  Identify the most frequent letter in your encrypted message and assume it corresponds to 'E' (the most common letter in English). Calculate the shift based on this assumption.\n",
    "</details>"
   ]
  },
  {
   "cell_type": "code",
   "execution_count": null,
   "id": "16",
   "metadata": {},
   "outputs": [],
   "source": [
    "secret_message_fa = \"wkh qljkw lv brxqj\"\n",
    "\n",
    "# YOUR CODE HERE\n"
   ]
  },
  {
   "cell_type": "markdown",
   "id": "17",
   "metadata": {},
   "source": [
    "<details>\n",
    "  <summary>Click to see a possible solution</summary>\n",
    "\n",
    "  ```python\n",
    "  secret_message_fa = \"wkh qljkw lv brxqj\"\n",
    "\n",
    "  # Calculate frequencies of the encrypted message\n",
    "  encrypted_freq = calculate_letter_frequencies(secret_message_fa)\n",
    "  print(\"Encrypted Frequencies:\", encrypted_freq)\n",
    "\n",
    "  # The most frequent letter in English is 'E'.\n",
    "  # Let's assume the most frequent letter in our encrypted message corresponds to 'E'.\n",
    "  # From the output of encrypted_freq, let's say the most frequent is 'K'.\n",
    "  # If 'K' corresponds to 'E', what is the shift?\n",
    "  # 'K' is the 10th letter (0-indexed) and 'E' is the 4th letter.\n",
    "  # Shift = (ord('K') - ord('E')) % 26 = (75 - 69) % 26 = 6 % 26 = 6\n",
    "  # Let's try decrypting with a shift of 6.\n",
    "\n",
    "  # In this specific example, 'H' is the most frequent letter in \"wkh qljkw lv brxqj\"\n",
    "  # If 'H' (7th letter) corresponds to 'E' (4th letter), the shift is (7-4) = 3.\n",
    "  # Let's verify this with the caesar_cipher function.\n",
    "\n",
    "  guessed_shift_fa = 3 # Based on 'H' -> 'E'\n",
    "  decrypted_fa_message_challenge = caesar_cipher(secret_message_fa, guessed_shift_fa, 'decrypt')\n",
    "  print(f\"\n",
    "Decrypted with guessed shift {guessed_shift_fa}: {decrypted_fa_message_challenge}\")\n",
    "  # Expected output: the night is young\n",
    "  ```\n",
    "</details>"
   ]
  },
  {
   "cell_type": "markdown",
   "id": "18",
   "metadata": {},
   "source": [
    "## 👋 Conclusion\n",
    "\n",
    "Congratulations, Agent! You've successfully completed your training in breaking the Caesar cipher. You've learned two powerful techniques:\n",
    "\n",
    "*   **Brute-Force Attack:** Trying every possible key until the message makes sense. This works well for ciphers with a small number of possible keys.\n",
    "*   **Frequency Analysis:** Using the statistical properties of language (like how often certain letters appear) to deduce the key. This is a classic code-breaking technique that is effective against substitution ciphers.\n",
    "\n",
    "These methods are fundamental in the world of cryptography and cryptanalysis. While modern encryption methods are far more complex, the underlying principles of analyzing patterns and trying possibilities remain key to understanding how codes are made and broken.\n",
    "\n",
    "### 🤔 Reflection Question:\n",
    "\n",
    "Consider the brute-force and frequency analysis methods. In what scenarios would one be preferred over the other? Can you think of any situations where neither would work well?"
   ]
  },
  {
   "cell_type": "markdown",
   "id": "19",
   "metadata": {},
   "source": [
    "### Key Takeaways\n",
    "\n",
    "*   **Brute-Force:** Effective for ciphers with a limited number of keys. Automates trying all possible keys.\n",
    "*   **Frequency Analysis:** Exploits the predictable patterns of letter distribution in a language to infer the encryption key.\n",
    "*   **Dictionaries:** Useful for counting occurrences of items, such as letters in a text, to perform frequency analysis.\n",
    "*   **Python's flexibility:** Loops, dictionaries, and string manipulation are powerful tools for cryptographic tasks."
   ]
  },
  {
   "cell_type": "markdown",
   "id": "20",
   "metadata": {},
   "source": [
    "### Next Up: Notebook 12.a: Functions, Sequences, and Plots 📈\n",
    "\n",
    "In our next series of notebooks, we'll shift gears from cryptography to explore the fascinating world where programming meets mathematics and data! We'll start with [Notebook 12.a: Functions, Sequences, and Plots](https://colab.research.google.com/github/sguy/programming-and-problem-solving/blob/main/notebooks/12.a-functions-sequences-and-plots.ipynb) focusing on how we can use Python to understand and visualize mathematical functions and sequences. Get ready to plot some data!"
   ]
  },
  {
   "cell_type": "markdown",
   "id": "21",
   "metadata": {},
   "source": [
    "[Return to Table of Contents](https://colab.research.google.com/github/sguy/programming-and-problem-solving/blob/main/notebooks/table-of-contents.ipynb)"
   ]
  }
 ],
 "metadata": {
  "colab": {
   "collapsed_sections": [],
   "provenance": []
  },
  "kernelspec": {
   "display_name": "Python 3",
   "language": "python",
   "name": "python3"
  },
  "language_info": {
   "codemirror_mode": {
    "name": "ipython",
    "version": 3
   },
   "file_extension": ".py",
   "mimetype": "text/x-python",
   "name": "python",
   "nbconvert_exporter": "python",
   "pygments_lexer": "ipython3",
   "version": "3.10.12"
  }
 },
 "nbformat": 4,
 "nbformat_minor": 0
}
