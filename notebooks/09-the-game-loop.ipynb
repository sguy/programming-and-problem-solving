{
 "cells": [
  {
   "cell_type": "markdown",
   "id": "0",
   "metadata": {},
   "source": [
    "# Notebook 9: The Game Loop 🎮\n",
    "> \"Play is the highest form of research.\" - *Albert Einstein*\n",
    "\n",
    "Welcome to our ninth Python notebook! You've learned how to repeat actions a specific number of times with `for` loops. Now, we're going to explore a new kind of loop that's perfect for situations where you don't know how many times you need to repeat, like in a game.\n",
    "\n",
    "In this notebook, we'll build some simple, interactive games. Along the way, we'll learn about the **game loop**, a fundamental concept in game development, and a new type of loop called the `while` loop.\n",
    "\n",
    "**Learning Objectives:**\n",
    "*   Understand the concept of a **game loop** (initialize, loop, update, check for end).\n",
    "*   Use `while` loops to repeat actions until a certain condition becomes false.\n",
    "*   Understand the idea of a \"black box\" function—a tool you can use without needing to know its internal workings.\n",
    "*   Use a provided `random_number()` function to add unpredictability to your programs.\n",
    "\n",
    "**Estimated Time:** 45-60 minutes\n",
    "\n",
    "**Prerequisites/Review:**\n",
    "*   Conditional Statements (`if`/`else`) (Notebook 6)\n",
    "*   `for` loops (Notebook 8)\n",
    "*   Getting user input with `input()` (Notebook 4)\n",
    "\n",
    "Let's build some games!"
   ]
  },
  {
   "cell_type": "markdown",
   "id": "1",
   "metadata": {},
   "source": [
    "## 🎉 Part 9 Wrap-up & What's Next! 🎉\n",
    "\n",
    "Amazing work! You've just built interactive games and learned about the `while` loop, a cornerstone of game development and many other types of programs.\n",
    "\n",
    "**Here's a recap of what you learned:**\n",
    "*   The **game loop** is a pattern used to keep a game running and responsive.\n",
    "*   `while` loops are ideal for repeating code as long as a certain condition is `True`.\n",
    "*   You can use functions as \"black boxes\" without needing to understand their internal complexity.\n",
    "\n",
    "**Key Takeaways:**\n",
    "*   `for` loops are for iterating a *known* number of times (like over a list).\n",
    "*   `while` loops are for iterating an *unknown* number of times, until a condition is met.\n",
    "\n",
    "### Next Up: Notebook 10: The Caesar Cipher 🕵️‍♀️\n",
    "\n",
    "In our next notebook, we'll dive into the exciting world of cryptography by implementing a famous and ancient cipher: the **Caesar Cipher**. We'll put our knowledge of loops, functions, and string manipulation to the test to encode and decode secret messages!\n"
   ]
  }
 ],
 "metadata": {
  "kernelspec": {
   "display_name": "paps-venv",
   "language": "python",
   "name": "python3"
  },
  "language_info": {
   "codemirror_mode": {
    "name": "ipython",
    "version": 3
   },
   "file_extension": ".py",
   "mimetype": "text/x-python",
   "name": "python",
   "nbconvert_exporter": "python",
   "pygments_lexer": "ipython3",
   "version": "3.10.12"
  }
 },
 "nbformat": 4,
 "nbformat_minor": 5
}
