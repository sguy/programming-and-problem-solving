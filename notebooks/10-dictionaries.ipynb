{
 "cells": [
  {
   "cell_type": "markdown",
   "id": "0",
   "metadata": {},
   "source": [
    "# Notebook 10: Organizing Game Data with Dictionaries\n",
    "\n",
    "> \"Data is a precious thing and will last longer than the systems themselves.\" — [Tim Berners-Lee](https://en.wikipedia.org/wiki/Tim_Berners-Lee)\n",
    "\n",
    "Welcome to your tenth notebook! So far, we've used variables to store single pieces of information and lists to store ordered sequences. But what if you have a bunch of related information that isn't just a simple sequence? \n",
    "\n",
    "In this notebook, we'll explore one of Python's most powerful and versatile data structures: the **dictionary**. We'll learn how to use dictionaries to organize complex data for a simple game, and along the way, we'll also learn about a modern and powerful way to format strings.\n",
    "\n",
    "### Learning Objectives\n",
    "\n",
    "By the end of this notebook, you will be able to:\n",
    "\n",
    "* Understand what a dictionary is and how it differs from a list.\n",
    "* Create, access, modify, and remove items from a dictionary.\n",
    "* Use f-strings for clear and concise output of dictionary data.\n",
    "* Iterate over the keys and values of a dictionary.\n",
    "* Store complex data, like lists and other dictionaries, inside a dictionary.\n",
    "\n",
    "### Prerequisites\n",
    "\n",
    "This notebook assumes you have a good understanding of the following concepts from previous lessons:\n",
    "\n",
    "* Variables and basic data types (like strings and numbers).\n",
    "* [Notebook 5: Reusable Code with Functions 🛠️](https://colab.research.google.com/github/sguy/programming-and-problem-solving/blob/main/notebooks/05-reusable-code-with-functions.ipynb)\n",
    "* [Notebook 7: Organizing with Lists 📋](https://colab.research.google.com/github/sguy/programming-and-problem-solving/blob/main/notebooks/07-lists.ipynb)\n",
    "\n",
    "**Estimated time to complete:** 45-60 minutes\n",
    "\n",
    "---\n",
    "\n",
    "[Return to Table of Contents](https://colab.research.google.com/github/sguy/programming-and-problem-solving/blob/main/notebooks/table-of-contents.ipynb)"
   ]
  },
  {
   "cell_type": "markdown",
   "id": "1",
   "metadata": {},
   "source": [
    "## 🐍 New Concept: Dictionaries - Your Game's Data Organizer\n",
    "\n",
    "Let's start building our game. The first thing we need is a way to represent our player and all their statistics. We could try using a list:\n",
    "\n",
    "`player_list = [\"Elara\", 100, 50, 0]`\n",
    "\n",
    "We could decide that index `0` is the player's name, `1` is their health, `2` is their gold, and `3` is their score. But what happens if we add more stats? What if we forget the order? It can get confusing fast!\n",
    "\n",
    "This is where a **dictionary** comes in. A dictionary is a data structure that stores information in **key-value pairs**. Instead of accessing data by an index number, we access it by a unique **key**, which is usually a descriptive string.\n",
    "\n",
    "* **Key:** A unique identifier for a piece of data (like a word in a real dictionary).\n",
    "* **Value:** The data itself (like the definition of the word).\n",
    "\n",
    "Let's see how much clearer this is. Notice the use of curly braces `{}` and the `key: value` syntax."
   ]
  },
  {
   "cell_type": "code",
   "execution_count": null,
   "id": "2",
   "metadata": {},
   "outputs": [],
   "source": [
    "# Create a dictionary to hold our player's stats\n",
    "player = {\n",
    "    'name': 'Elara',\n",
    "    'health': 100,\n",
    "    'gold': 50,\n",
    "    'score': 0\n",
    "}\n",
    "\n",
    "# Print the dictionary to see what it looks like\n",
    "print(player)"
   ]
  },
  {
   "cell_type": "markdown",
   "id": "3",
   "metadata": {},
   "source": [
    "### 💡 Tip: A Dictionary is like a Filing Cabinet\n",
    "\n",
    "Remember our \"box\" analogy for variables? A dictionary is like a filing cabinet. \n",
    "\n",
    "*   The dictionary itself is the whole cabinet.\n",
    "*   Each drawer is labeled with a unique **key** (a string).\n",
    "*   Inside each drawer, you store the **value**.\n",
    "\n",
    "This analogy helps explain why the order doesn't matter, and why keys are so important. You don't ask for 'the first drawer'; you ask for the drawer labeled 'health'."
   ]
  },
  {
   "cell_type": "markdown",
   "id": "4",
   "metadata": {},
   "source": [
    "## 🐍 New Concept: A Better Way to Print - F-Strings\n",
    "\n",
    "That's much better! But printing the whole dictionary like that isn't very user-friendly. We want to create nice, readable status messages.\n",
    "\n",
    "You've seen how we can join strings and variables with `+`, but it can get messy, especially when you have to convert numbers to strings using `str()`:\n",
    "\n",
    "`print(\"Health: \" + str(player['health']))`\n",
    "\n",
    "Python has a much cleaner, more modern way to format strings called **f-strings** (the 'f' stands for 'formatted').\n",
    "\n",
    "You create an f-string by putting the letter `f` before the opening quote. Inside the string, you can put any variable or expression directly inside curly braces `{}`, and Python will automatically evaluate it and put the result into the string."
   ]
  },
  {
   "cell_type": "markdown",
   "id": "5",
   "metadata": {},
   "source": [
    "### ⚠️ Heads Up!: Single vs. Double Quotes\n",
    "\n",
    "You may have noticed that Python uses both single quotes (`'`) and double quotes (`\"`) for strings. To Python, they are exactly the same!\n",
    "\n",
    "The only rule is that you can't end a string with a different quote than you started it with. This flexibility is very useful. If you need to put a single quote inside a string, you can wrap the whole string in double quotes, and vice-versa.\n",
    "\n",
    "This is especially helpful with f-strings when we need to access dictionary keys, which are often in single quotes. By using double quotes for the f-string itself, we avoid any confusion:\n",
    "\n",
    "`f\"Player's Health: {player['health']}\"`"
   ]
  },
  {
   "cell_type": "markdown",
   "id": "6",
   "metadata": {},
   "source": [
    "### Walking Through F-Strings\n",
    "\n",
    "Let's walk slowly into using f-strings with our dictionary.\n",
    "\n",
    "**Step 1: Extract the value into a variable.** This is something you've done before."
   ]
  },
  {
   "cell_type": "code",
   "execution_count": null,
   "id": "7",
   "metadata": {},
   "outputs": [],
   "source": [
    "# Get the player's name and store it in a variable\n",
    "player_name = player['name']\n",
    "print(player_name)"
   ]
  },
  {
   "cell_type": "markdown",
   "id": "8",
   "metadata": {},
   "source": [
    "**Step 2: Use that simple variable in an f-string.**"
   ]
  },
  {
   "cell_type": "code",
   "execution_count": null,
   "id": "9",
   "metadata": {},
   "outputs": [],
   "source": [
    "# Now, use the variable in an f-string\n",
    "print(f\"Welcome, {player_name}!\")"
   ]
  },
  {
   "cell_type": "markdown",
   "id": "10",
   "metadata": {},
   "source": [
    "**Step 3: Put the whole term directly inside the f-string.**\n",
    "\n",
    "Making up a new variable name like `player_name` just to print it once can be mentally expensive and clutter up your code. F-strings let you skip that step! You can put the entire expression, or **term**, that gets the value directly inside the curly braces."
   ]
  },
  {
   "cell_type": "code",
   "execution_count": null,
   "id": "11",
   "metadata": {},
   "outputs": [],
   "source": [
    "# We can combine the steps!\n",
    "print(f\"Health: {player['health']}\")\n",
    "print(f\"Gold: {player['gold']}\")"
   ]
  },
  {
   "cell_type": "markdown",
   "id": "12",
   "metadata": {},
   "source": [
    "## ⚙️ Building the Game Engine: Functions!\n",
    "\n",
    "Now that we have our data structure and a nice way to display it, let's build the logic for our game. Manually changing the dictionary for every little thing is tedious. This is a perfect opportunity to use functions! We can create a set of functions that act as our \"game engine\", taking a player's data as an argument and modifying it.\n",
    "\n",
    "This is a very common and powerful pattern in programming: separating your data (the dictionary) from the logic that acts on that data (the functions). Let's start with a function to display the player's status."
   ]
  },
  {
   "cell_type": "code",
   "execution_count": null,
   "id": "13",
   "metadata": {},
   "outputs": [],
   "source": [
    "def display_status(player_data):\n",
    "    \"\"\"Prints the player's name, health, and gold.\"\"\"\n",
    "    print(f\"--- {player_data['name']} ---\")\n",
    "    print(f\"Health: {player_data['health']}\")\n",
    "    print(f\"Gold: {player_data['gold']}\")\n",
    "\n",
    "# Let's test it!\n",
    "display_status(player)"
   ]
  },
  {
   "cell_type": "markdown",
   "id": "14",
   "metadata": {},
   "source": [
    "### 🐍 New Concept: Shorthand Assignment Operators\n",
    "\n",
    "In programming, it's very common to modify a variable by performing an operation on its current value. For example, to add 10 to a variable `score`, you would write:\n",
    "\n",
    "`score = score + 10`\n",
    "\n",
    "This is a bit repetitive, so Python provides a shorthand way to write this using an **assignment operator**. For the example above, we can use `+=`:\n",
    "\n",
    "`score += 10`\n",
    "\n",
    "This does the exact same thing! It's just a more concise way to write it. You can use this for other operations as well:\n",
    "\n",
    "*   `-=`: Subtract and assign\n",
    "*   `*=`: Multiply and assign\n",
    "*   `/=`: Divide and assign\n",
    "\n",
    "We'll use these operators in the upcoming challenges to modify our player's stats."
   ]
  },
  {
   "cell_type": "markdown",
   "id": "15",
   "metadata": {},
   "source": [
    "### 🎯 Mini-Challenge: The `take_damage` function\n",
    "\n",
    "Let's create a function to handle the player taking damage. The function should:\n",
    "\n",
    "1. Be named `take_damage`.\n",
    "2. Accept `player_data` and `amount` as parameters.\n",
    "3. Subtract the `amount` from the player's `health`.\n",
    "4. Print a message showing how much damage was taken.\n",
    "5. After taking damage, check if the player's health is 0 or less. If it is, print a message that the player has been defeated.\n",
    "<details>\n",
    "<summary>Hint: How to check the player's health?</summary>\n",
    "\n",
    "You can access the player's health with `player_data['health']`. You can then use an `if` statement to check if it's less than or equal to 0.\n",
    "</details>"
   ]
  },
  {
   "cell_type": "code",
   "execution_count": null,
   "id": "16",
   "metadata": {},
   "outputs": [],
   "source": [
    "def take_damage(player_data, amount):\n",
    "    # YOUR CODE HERE"
   ]
  },
  {
   "cell_type": "code",
   "execution_count": null,
   "id": "17",
   "metadata": {},
   "outputs": [],
   "source": [
    "# Let's test it\n",
    "print(\"The player encounters a goblin!\")\n",
    "take_damage(player, 30)\n",
    "display_status(player)\n",
    "\n",
    "print(\"The player falls into a trap!\")\n",
    "take_damage(player, 80) # This should be enough to be defeated\n",
    "display_status(player)\n",
    "\n",
    "# Reset health for the next sections\n",
    "player['health'] = 100"
   ]
  },
  {
   "cell_type": "markdown",
   "id": "18",
   "metadata": {},
   "source": [
    "<details>\n",
    "<summary>Click to see a possible solution</summary>\n",
    "\n",
    "```python\n",
    "def take_damage(player_data, amount):\n",
    "    player_data['health'] -= amount\n",
    "    print(f\"{player_data['name']} takes {amount} damage!\")\n",
    "    if player_data['health'] <= 0:\n",
    "        print(f\"{player_data['name']} has been defeated!\")\n",
    "```\n",
    "</details>"
   ]
  },
  {
   "cell_type": "markdown",
   "id": "19",
   "metadata": {},
   "source": [
    "### ⚠️ Heads Up!: Handling Missing Keys\n",
    "\n",
    "What happens if you try to access a key that doesn't exist in the dictionary? Let's try to access the player's `mana` attribute, which we haven't defined yet."
   ]
  },
  {
   "cell_type": "code",
   "execution_count": null,
   "id": "20",
   "metadata": {},
   "outputs": [],
   "source": [
    "# This will cause an error!\n",
    "# print(player['mana'])"
   ]
  },
  {
   "cell_type": "markdown",
   "id": "21",
   "metadata": {},
   "source": [
    "As you can see, this code crashes and gives us a **`KeyError`**. This is a very common error when working with dictionaries. It means you tried to look up a key that doesn't exist.\n",
    "\n",
    "To prevent this, you should always check if a key exists **before** you try to access it. The easiest way to do this is with the `in` keyword."
   ]
  },
  {
   "cell_type": "code",
   "execution_count": null,
   "id": "22",
   "metadata": {},
   "outputs": [],
   "source": [
    "# Check if the 'mana' key exists\n",
    "if 'mana' in player:\n",
    "    print(f\"Mana: {player['mana']}\")\n",
    "else:\n",
    "    print(\"The player does not have a mana attribute.\")\n",
    "\n",
    "# Check if the 'health' key exists\n",
    "if 'health' in player:\n",
    "    print(f\"Health: {player['health']}\")"
   ]
  },
  {
   "cell_type": "markdown",
   "id": "23",
   "metadata": {},
   "source": [
    "## 🎒 The Inventory System: Nesting Dictionaries\n",
    "\n",
    "What's a game without items? Our player needs a way to carry things they find or buy. We can add an inventory to our player by adding a new key, `'inventory'`.\n",
    "\n",
    "The value of this key can be another dictionary! This is called **nesting**. We can have dictionaries inside dictionaries, which allows us to build complex and well-organized data structures. For the inventory, the keys will be the item names and the values will be the quantity of each item."
   ]
  },
  {
   "cell_type": "code",
   "execution_count": null,
   "id": "24",
   "metadata": {},
   "outputs": [],
   "source": [
    "# Add a new key, 'inventory', whose value is another dictionary\n",
    "player['inventory'] = {\n",
    "    'healing potion': 1,\n",
    "    'sword': 1\n",
    "}\n",
    "\n",
    "# Let's see the whole player dictionary now\n",
    "display_status(player) # Our status function still works!\n",
    "print(f\"Inventory: {player['inventory']}\")"
   ]
  },
  {
   "cell_type": "markdown",
   "id": "25",
   "metadata": {},
   "source": [
    "### 🎯 Mini-Challenge: The `buy_item` function\n",
    "\n",
    "This next challenge is a bit more complex. Let's create a function that allows the player to buy items from a shop. The function should:\n",
    "\n",
    "1. Be named `buy_item`. \n",
    "2. Accept `player_data`, `item_name`, and `cost`. \n",
    "3. Check if the player's `gold` is greater than or equal to the `cost`. \n",
    "4. If it is, decrease their `gold` by the `cost` and add the `item_name` to their `inventory`. \n",
    "5. If the item is already in the inventory, increase its quantity by 1. If not, add it to the inventory with a quantity of 1. \n",
    "6. If they don't have enough gold, print a message like \"Not enough gold!\""
   ]
  },
  {
   "cell_type": "markdown",
   "id": "26",
   "metadata": {},
   "source": [
    "<details>\n",
    "<summary>Hint: How to check if an item is already in the inventory?</summary>\n",
    "\n",
    "You can check if a key exists in a dictionary using the `in` keyword. For example: `if 'sword' in player_data['inventory']:`\n",
    "</details>"
   ]
  },
  {
   "cell_type": "code",
   "execution_count": null,
   "id": "27",
   "metadata": {},
   "outputs": [],
   "source": [
    "def buy_item(player_data, item_name, cost):\n",
    "    # YOUR CODE HERE"
   ]
  },
  {
   "cell_type": "code",
   "execution_count": null,
   "id": "28",
   "metadata": {},
   "outputs": [],
   "source": [
    "# Let's test it\n",
    "print(\"Buying a shield for 30 gold...\")\n",
    "buy_item(player, 'shield', 30)\n",
    "display_status(player)\n",
    "print(f\"Inventory: {player['inventory']}\")\n",
    "\n",
    "print(\"Buying another healing potion for 20 gold...\")\n",
    "buy_item(player, 'healing potion', 20)\n",
    "display_status(player)\n",
    "print(f\"Inventory: {player['inventory']}\")\n",
    "\n",
    "print(\"Trying to buy an expensive magic sword for 200 gold...\")\n",
    "buy_item(player, 'magic sword', 200)\n",
    "display_status(player)\n",
    "print(f\"Inventory: {player['inventory']}\")"
   ]
  },
  {
   "cell_type": "markdown",
   "id": "29",
   "metadata": {},
   "source": [
    "<details>\n",
    "<summary>Click to see a possible solution</summary>\n",
    "\n",
    "```python\n",
    "def buy_item(player_data, item_name, cost):\n",
    "    if player_data['gold'] >= cost:\n",
    "        print(f\"Bought {item_name}!\") # Expected output: Bought shield! / Bought healing potion!\n",
    "        player_data['gold'] -= cost\n",
    "        \n",
    "        # Check if the item is already in the inventory\n",
    "        if item_name in player_data['inventory']:\n",
    "            # If yes, increase the count\n",
    "            player_data['inventory'][item_name] += 1\n",
    "        else:\n",
    "            # If no, add it with a count of 1\n",
    "            player_data['inventory'][item_name] = 1\n",
    "    else:\n",
    "        print(f\"Not enough gold to buy {item_name}!\") # Expected output: Not enough gold to buy magic sword!\n",
    "```\n",
    "</details>"
   ]
  },
  {
   "cell_type": "markdown",
   "id": "30",
   "metadata": {},
   "source": [
    "### Removing Items from a Dictionary\n",
    "\n",
    "What if you want to remove an item from a dictionary? You can use the `del` keyword, which is short for 'delete'.\n",
    "\n",
    "Let's say the player wants to drop their torch. We can remove it from their inventory like this:"
   ]
  },
  {
   "cell_type": "code",
   "execution_count": null,
   "id": "31",
   "metadata": {},
   "outputs": [],
   "source": [
    "# First, let's add a torch to the inventory for this example\n",
    "player['inventory']['torch'] = 1\n",
    "print(f\"Inventory before dropping torch: {player['inventory']}\")\n",
    "\n",
    "# Now, let's delete the torch\n",
    "del player['inventory']['torch']\n",
    "print(f\"Inventory after dropping torch: {player['inventory']}\")"
   ]
  },
  {
   "cell_type": "markdown",
   "id": "32",
   "metadata": {},
   "source": [
    "## 💪 More Dictionary Power\n",
    "\n",
    "Dictionaries are incredibly flexible. Their values aren't limited to numbers and strings. They can hold lists, other dictionaries, or any other data type."
   ]
  },
  {
   "cell_type": "markdown",
   "id": "33",
   "metadata": {},
   "source": [
    "### Using Lists as Values\n",
    "\n",
    "Let's add a list of completed quests to our player."
   ]
  },
  {
   "cell_type": "code",
   "execution_count": null,
   "id": "34",
   "metadata": {},
   "outputs": [],
   "source": [
    "player['completed_quests'] = ['Find the Lost Sword', 'Clear the Goblin Cave']\n",
    "\n",
    "# You can access it like any other value\n",
    "print(player['completed_quests'])\n",
    "\n",
    "# And you can use list methods on it\n",
    "player['completed_quests'].append('Defeat the Slime King')\n",
    "\n",
    "print(player['completed_quests'])"
   ]
  },
  {
   "cell_type": "markdown",
   "id": "35",
   "metadata": {},
   "source": [
    "### Iterating Over Dictionaries\n",
    "\n",
    "Just like with lists, `for` loops are perfect for working with every item in a dictionary. By default, a `for` loop will iterate over the **keys** of the dictionary."
   ]
  },
  {
   "cell_type": "code",
   "execution_count": null,
   "id": "36",
   "metadata": {},
   "outputs": [],
   "source": [
    "# Loop through the inventory and print each item name (the key)\n",
    "print(\"Player Inventory:\")\n",
    "for item in player['inventory']:\n",
    "    print(f\"- {item}\")"
   ]
  },
  {
   "cell_type": "markdown",
   "id": "37",
   "metadata": {},
   "source": [
    "Sometimes you need the values, or both the key and the value. Dictionaries have special methods for this:\n",
    "\n",
    "* `.keys()`: Returns a view of the keys (this is the default behavior).\n",
    "* `.values()`: Returns a view of the values.\n",
    "* `.items()`: Returns a view of the key-value pairs as tuples."
   ]
  },
  {
   "cell_type": "code",
   "execution_count": null,
   "id": "38",
   "metadata": {},
   "outputs": [],
   "source": [
    "# Loop through the inventory and print the quantity of each item\n",
    "total_items = 0\n",
    "for quantity in player['inventory'].values():\n",
    "    total_items += quantity\n",
    "print(f\"Total number of items: {total_items}\")\n",
    "\n",
    "# Loop through both the item and its quantity at the same time\n",
    "print(\"Inventory with quantities:\")\n",
    "for item_name, quantity in player['inventory'].items():\n",
    "    print(f\"- {item_name}: {quantity}\")"
   ]
  },
  {
   "cell_type": "markdown",
   "id": "39",
   "metadata": {},
   "source": [
    "### 🎯 Mini-Challenge: Potion Counter\n",
    "\n",
    "Let's write a function to count how many different *types* of potions a player has. For example, `'healing potion'` and `'mana potion'` should both be counted.\n",
    "\n",
    "1. Define a function `count_potions` that accepts `player_data`. \n",
    "2. Initialize a counter variable to 0.\n",
    "3. Loop through the keys of the player's inventory.\n",
    "4. Inside the loop, use an `if` statement to check if the word `'potion'` is in the item name (the key).\n",
    "5. If it is, increment your counter.\n",
    "6. Return the final count.\n",
    "<details>\n",
    "<summary>Hint: How to check for the word 'potion'?</summary>\n",
    "\n",
    "You can use the `in` keyword to check if a substring exists within a string. For example, `'potion' in 'healing potion'` would be `True`.\n",
    "</details>"
   ]
  },
  {
   "cell_type": "code",
   "execution_count": null,
   "id": "40",
   "metadata": {},
   "outputs": [],
   "source": [
    "def count_potions(player_data):\n",
    "    # YOUR CODE HERE"
   ]
  },
  {
   "cell_type": "code",
   "execution_count": null,
   "id": "41",
   "metadata": {},
   "outputs": [],
   "source": [
    "# Let's add another potion to the inventory to test\n",
    "player['inventory']['mana potion'] = 3\n",
    "\n",
    "potion_count = count_potions(player)\n",
    "print(f\"The player has {potion_count} different types of potions.\")"
   ]
  },
  {
   "cell_type": "markdown",
   "id": "42",
   "metadata": {},
   "source": [
    "<details>\n",
    "<summary>Click to see a possible solution</summary>\n",
    "\n",
    "```python\n",
    "def count_potions(player_data):\n",
    "    potion_counter = 0\n",
    "    for item_name in player_data['inventory'].keys():\n",
    "        if 'potion' in item_name:\n",
    "            potion_counter += 1\n",
    "    return potion_counter\n",
    "```\n",
    "</details>"
   ]
  },
  {
   "cell_type": "markdown",
   "id": "43",
   "metadata": {},
   "source": [
    "## 🚀 Capstone Challenge: The Shop\n",
    "\n",
    "It's time to put everything you've learned about dictionaries together! In this final challenge, you'll implement a simple interactive shop. We'll provide the main loop, and your job is to implement the two functions that make it work."
   ]
  },
  {
   "cell_type": "code",
   "execution_count": null,
   "id": "44",
   "metadata": {},
   "outputs": [],
   "source": [
    "# We need to re-define our player and shop for this challenge\n",
    "player = {\n",
    "    'name': 'Elara',\n",
    "    'health': 100,\n",
    "    'gold': 200,\n",
    "    'inventory': {}\n",
    "}\n",
    "\n",
    "shop = {\n",
    "    'healing potion': 20,\n",
    "    'iron sword': 100,\n",
    "    'leather armor': 50,\n",
    "    'torch': 5\n",
    "}"
   ]
  },
  {
   "cell_type": "markdown",
   "id": "45",
   "metadata": {},
   "source": [
    "### Part 1: `print_shop_inventory`\n",
    "\n",
    "Implement the `print_shop_inventory` function. It should take the `shop_data` dictionary as a parameter and loop through it to print each item and its price. This is a great opportunity to use the `.items()` method you learned about earlier.\n",
    "<details>\n",
    "<summary>Hint: How to loop through a dictionary's items?</summary>\n",
    "\n",
    "You can use a `for` loop with `.items()` like this: `for key, value in my_dict.items():`.\n",
    "</details>"
   ]
  },
  {
   "cell_type": "markdown",
   "id": "46",
   "metadata": {},
   "source": [
    "### Part 2: `buy_item`\n",
    "\n",
    "Implement the `buy_item` function. It should take `player_data`, `shop_data`, and `item_name` as parameters. The function should handle all the logic of a purchase:\n",
    "\n",
    "1.  Check if the `item_name` exists in the `shop_data`.\n",
    "2.  If it does, get the `cost` and check if the player has enough `gold`.\n",
    "3.  If they have enough gold, update the player's `gold` and `inventory`, and **remove the item from the `shop_data`**.\n",
    "4.  If the item isn't in the shop, or the player can't afford it, print an appropriate message.\n",
    "<details>\n",
    "<summary>Hint: How to structure the logic?</summary>\n",
    "\n",
    "You can use a nested `if`/`else` structure. The outer `if` checks if the item is in the shop. The inner `if` checks if the player has enough gold.\n",
    "</details>"
   ]
  },
  {
   "cell_type": "code",
   "execution_count": null,
   "id": "47",
   "metadata": {},
   "outputs": [],
   "source": [
    "def print_shop_inventory(shop_data):\n",
    "    # YOUR CODE HERE"
   ]
  },
  {
   "cell_type": "markdown",
   "id": "48",
   "metadata": {},
   "source": [
    "### Part 2: `buy_item`\n",
    "\n",
    "Implement the `buy_item` function. It should take `player_data`, `shop_data`, and `item_name` as parameters. The function should handle all the logic of a purchase:\n",
    "\n",
    "1.  Check if the `item_name` exists in the `shop_data`.\n",
    "2.  If it does, get the `cost` and check if the player has enough `gold`.\n",
    "3.  If they have enough gold, update the player's `gold` and `inventory`.\n",
    "4.  If the item isn't in the shop, or the player can't afford it, print an appropriate message."
   ]
  },
  {
   "cell_type": "code",
   "execution_count": null,
   "id": "49",
   "metadata": {},
   "outputs": [],
   "source": [
    "def buy_item(player_data, shop_data, item_name):\n",
    "    # YOUR CODE HERE"
   ]
  },
  {
   "cell_type": "code",
   "execution_count": null,
   "id": "50",
   "metadata": {},
   "outputs": [],
   "source": [
    "while True:\n",
    "    print_shop_inventory(shop)\n",
    "    print('-----')\n",
    "    item = input(f\"You have {player['gold']} Gold. What do you want to buy? (press Q to quit) \")\n",
    "    if item.upper() == 'Q':\n",
    "        break\n",
    "    buy_item(player, shop, item)"
   ]
  },
  {
   "cell_type": "markdown",
   "id": "51",
   "metadata": {},
   "source": [
    "<details>\n",
    "<summary>Click to see a possible solution</summary>\n",
    "\n",
    "```python\n",
    "def print_shop_inventory(shop_data):\n",
    "    print(\"Welcome to the shop! Here's what we have for sale:\")\n",
    "    for item, price in shop_data.items():\n",
    "        print(f\"- {item}: {price} gold\")\n",
    "\n",
    "def buy_item(player_data, shop_data, item_name):\n",
    "    if item_name in shop_data:\n",
    "        cost = shop_data[item_name]\n",
    "        if player_data['gold'] >= cost:\n",
    "            print(f\"You bought a {item_name} for {cost} gold.\")\n",
    "            player_data['gold'] -= cost\n",
    "            del shop_data[item_name]  # Remove the item from the shop\n",
    "\n",
    "            if item_name in player_data['inventory']:\n",
    "                player_data['inventory'][item_name] += 1\n",
    "            else:\n",
    "                player_data['inventory'][item_name] = 1\n",
    "        else:\n",
    "            print(\"You don't have enough gold for that!\")\n",
    "    else:\n",
    "        print(\"Sorry, we don't sell that here.\")\n",
    "```\n",
    "</details>"
   ]
  },
  {
   "cell_type": "markdown",
   "id": "52",
   "metadata": {},
   "source": [
    "## 🎉 Well Done! Summary and Next Steps\n",
    "\n",
    "Congratulations! You've just built a mini-game engine using dictionaries and functions and learned about some of the most common dictionary operations.\n",
    "\n",
    "### Lists vs. Dictionaries\n",
    "\n",
    "Here is a summary of the differences between lists and dictionaries for common operations:\n",
    "\n",
    "| Operation | List | Dictionary |\n",
    "|---|---|---|\n",
    "| **Purpose** | Ordered collection of items | Unordered collection of key-value pairs |\n",
    "| **Syntax** | `[item1, item2]` | `{'key1': value1, 'key2': value2}` |\n",
    "| **Access** | By integer index: `my_list[0]` | By key: `my_dict['key1']` |\n",
    "| **Add Item** | `.append(item)` | `my_dict['new_key'] = new_value` |\n",
    "| **Remove Item**| `.remove(item)` or `del my_list[0]` | `del my_dict['key1']` |\n",
    "| **Get Size** | `len(my_list)` | `len(my_dict)` |\n",
    "| **Iterate** | `for item in my_list:` | `for key in my_dict:` (default) or `for key, value in my_dict.items():` |\n",
    "\n",
    "### 🤔 Discussion Question:\n",
    "\n",
    "We used a dictionary for the player's inventory, where the item name was the key and the quantity was the value. What are the pros and cons of this approach compared to using a simple list of strings, like `inventory = ['sword', 'healing potion', 'healing potion']`?\n",
    "\n",
    "### Next Up: The Secrets of Encryption\n",
    "\n",
    "In our next notebook, [Notebook 11: The Caesar Cipher](https://colab.research.google.com/github/sguy/programming-and-problem-solving/blob/main/notebooks/10-the-caesar-cipher.ipynb), we'll dive into the fascinating world of cryptography. We'll learn how to encode and decode secret messages and discover the surprising connection between prime numbers and secure communication on the internet. We will also formally introduce another useful data structure: the **tuple**.\n",
    "\n",
    "---\n",
    "\n",
    "[Return to Table of Contents](https://colab.research.google.com/github/sguy/programming-and-problem-solving/blob/main/notebooks/table-of-contents.ipynb)"
   ]
  }
 ],
 "metadata": {
  "kernelspec": {
   "display_name": "Python 3",
   "name": "python3"
  },
  "language_info": {
   "name": "python",
   "version": "3.11.2"
  }
 },
 "nbformat": 4,
 "nbformat_minor": 5
}
