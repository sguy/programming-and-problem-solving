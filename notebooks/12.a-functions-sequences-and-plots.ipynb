{
  "cells": [
    {
      "cell_type": "markdown",
      "id": "header-title",
      "metadata": {},
      "source": [
        "# 12.a: Functions, Sequences, and Plots"
      ]
    },
    {
      "cell_type": "markdown",
      "id": "header-quote",
      "metadata": {},
      "source": [
        "> The universe ... is written in the language of mathematics, and its characters are triangles, circles, and other geometrical figures, without which it is humanly impossible to understand a single word of it.\n",
        ">\n",
        "> — [Galileo Galilei](https://en.wikipedia.org/wiki/Galileo_Galilei)"
      ]
    },
    {
      "cell_type": "markdown",
      "id": "header-learning-objectives",
      "metadata": {},
      "source": [
        "## 🎯 Learning Objectives\n",
        "\n",
        "By the end of this notebook, you will be able to:\n",
        "- Write a Python function to represent a mathematical rule.\n",
        "- Use a list comprehension to generate a sequence of data from a function.\n",
        "- Create a basic plot from data using the `matplotlib` library."
      ]
    },
    {
      "cell_type": "markdown",
      "id": "header-prerequisites",
      "metadata": {},
      "source": [
        "## 📚 Prerequisites\n",
        "\n",
        "This notebook builds on concepts from previous lessons. Before you begin, make sure you are comfortable with:\n",
        "- Concepts from [Notebook 5: Reusable Code with Functions](https://colab.research.google.com/github/sguy/programming-and-problem-solving/blob/main/notebooks/05-reusable-code-with-functions.ipynb), including defining functions and using parameters.\n",
        "- Concepts from [Notebook 7: Organizing with Lists](https://colab.research.google.com/github/sguy/programming-and-problem-solving/blob/main/notebooks/07-lists.ipynb), including creating and inspecting lists."
      ]
    },
    {
      "cell_type": "markdown",
      "id": "header-time-and-toc",
      "metadata": {},
      "source": [
        "*Estimated Time: 45 minutes*\n",
        "\n",
        "---\n",
        "\n",
        "[Return to Table of Contents](https://colab.research.google.com/github/sguy/programming-and-problem-solving/blob/main/notebooks/table-of-contents.ipynb)"
      ]
    },
    {
      "cell_type": "markdown",
      "id": "intro-from-rules-to-numbers",
      "metadata": {},
      "source": [
        "## Introduction: From Rules to Numbers\n",
        "\n",
        "Imagine you have a machine. You put a number in, and it spits out a new number based on a specific rule. In physics, a falling object follows a rule. Its position changes over time. A simple, but incorrect, model might be that its position changes linearly (like a car at constant speed). A better model is quadratic, because the object accelerates.\n",
        "\n",
        "Let's define two functions to represent these two models."
      ]
    },
    {
      "cell_type": "markdown",
      "id": "representing-rules",
      "metadata": {},
      "source": [
        "## 🐍 New Concept: Representing Rules in Python\n",
        "\n",
        "We can represent rules in Python using a `def` statement to create a function. A function is a reusable block of code that performs a specific task. Just like an `if` statement, a function definition uses an indented block of code to define what it does."
      ]
    },
    {
      "cell_type": "code",
      "id": "model-definitions",
      "metadata": {},
      "execution_count": null,
      "outputs": [],
      "source": [
        "def linear_model(time):\n",
        "    \"\"\"A simple (but incorrect) model where position changes at a constant rate.\"\"\"\n",
        "    speed = 20 # meters per second\n",
        "    return speed * time\n",
        "\n",
        "def quadratic_model(time):\n",
        "    \"\"\"A more realistic model for a falling object with acceleration.\"\"\"\n",
        "    # The formula is d = 0.5 * g * t^2. We'll approximate g (gravity) as 9.8 m/s^2.\n",
        "    gravity = 9.8\n",
        "    return 0.5 * gravity * (time ** 2)"
      ]
    },
    {
      "cell_type": "markdown",
      "id": "list-comprehension-intro",
      "metadata": {},
      "source": [
        "## 🐍 New Concept: List Comprehensions\n",
        "\n",
        "A common task in Python is to create a new list by performing an operation on each item in an existing list or sequence. We've seen how to do this with a `for` loop and the `.append()` method:"
      ]
    },
    {
      "cell_type": "code",
      "id": "for-loop-example",
      "metadata": {},
      "execution_count": null,
      "outputs": [],
      "source": [
        "# Create a list of squares from a list of numbers using a for loop\n",
        "numbers = [1, 2, 3, 4, 5]\n",
        "squares = [] # Start with an empty list\n",
        "for n in numbers:\n",
        "    squares.append(n**2) # Append the square of each number\n",
        "\n",
        "print(squares)"
      ]
    },
    {
      "cell_type": "markdown",
      "id": "list-comprehension-explanation",
      "metadata": {},
      "source": [
        "This pattern is so common that Python has a special, more concise syntax for it called a **list comprehension**. It lets you combine the `for` loop and the `.append()` into a single line.\n",
        "\n",
        "The basic syntax is: `[expression for item in iterable]`\n",
        "\n",
        "Here is the same example using a list comprehension:"
      ]
    },
    {
      "cell_type": "code",
      "id": "list-comprehension-example",
      "metadata": {},
      "execution_count": null,
      "outputs": [],
      "source": [
        "numbers = [1, 2, 3, 4, 5]\n",
        "\n",
        "# Create a list of squares using a list comprehension\n",
        "squares = [n**2 for n in numbers]\n",
        "\n",
        "print(squares)"
      ]
    },
    {
      "cell_type": "markdown",
      "id": "mini-challenge-uppercase",
      "metadata": {},
      "source": [
        "### 🎯 Mini-Challenge: Uppercase Words\n",
        "\n",
        "Use a list comprehension to create a new list called `uppercase_words` where every word from the `words` list is in uppercase.\n",
        "\n",
        "**Hint:** Strings have a helpful method called `.upper()` that returns an all-uppercase version of the string. For example, `'hello'.upper()` would become `'HELLO'`."
      ]
    },
    {
      "cell_type": "code",
      "id": "mini-challenge-uppercase-starter",
      "metadata": {},
      "execution_count": null,
      "outputs": [],
      "source": [
        "words = ['hello', 'world', 'python', 'is', 'fun']\n",
        "uppercase_words = [] # YOUR CODE HERE\n",
        "\n",
        "print(uppercase_words)"
      ]
    },
    {
      "cell_type": "markdown",
      "id": "mini-challenge-uppercase-solution",
      "metadata": {},
      "source": [
        "<details>\n",
        "<summary>Click to see a possible solution</summary>\n",
        "\n",
        "```python\n",
        "words = ['hello', 'world', 'python', 'is', 'fun']\n",
        "uppercase_words = [word.upper() for word in words]\n",
        "print(uppercase_words)\n",
        "# Expected output: ['HELLO', 'WORLD', 'PYTHON', 'IS', 'FUN']\n",
        "```\n",
        "</details>"
      ]
    },
    {
      "cell_type": "markdown",
      "id": "mini-challenge-tax",
      "metadata": {},
      "source": [
        "### 🎯 Mini-Challenge: Calculating Prices with Tax\n",
        "\n",
        "You have a list of prices for items in a shopping cart. Use a list comprehension to create a new list called `prices_with_tax` that contains the final price of each item after a 10% sales tax is added.",
        "\n",
        "<details>\n",
        "<summary>Hint: How do you calculate a 10% increase?</summary>\n",
        "\n",
        "To increase a number by 10%, you can multiply it by 1.10. For example, `100 * 1.10` would be `110`.\n",
        "</details>"
      ]
    },
    {
      "cell_type": "code",
      "id": "mini-challenge-tax-starter",
      "metadata": {},
      "execution_count": null,
      "outputs": [],
      "source": [
        "prices = [20.00, 15.50, 5.25, 100.00]\n",
        "prices_with_tax = [] # YOUR CODE HERE\n",
        "\n",
        "print(prices_with_tax)"
      ]
    },
    {
      "cell_type": "markdown",
      "id": "mini-challenge-tax-solution",
      "metadata": {},
      "source": [
        "<details>\n",
        "<summary>Click to see a possible solution</summary>\n",
        "\n",
        "```python\n",
        "prices = [20.00, 15.50, 5.25, 100.00]\n",
        "# To add a 10% tax, we multiply by 1.10\n",
        "prices_with_tax = [price * 1.10 for price in prices]\n",
        "print(prices_with_tax)\n",
        "# Expected output: [22.0, 17.05, 5.775, 110.0]\n",
        "```\n",
        "</details>"
      ]
    },
    {
      "cell_type": "markdown",
      "id": "range-reminder-tip",
      "metadata": {},
      "source": [
        "### 💡 Tip: A Reminder About `range()`\n",
        "\n",
        "Remember that the `range(n)` function generates a sequence of numbers starting from 0 up to, but not including, `n`. To turn this sequence into a list, we wrap it with the `list()` command, like `list(range(11))` which gives us `[0, 1, 2, 3, 4, 5, 6, 7, 8, 9, 10]`."
      ]
    },
    {
      "cell_type": "markdown",
      "id": "storing-sequences-intro",
      "metadata": {},
      "source": [
        "### Storing Sequences in Lists\n",
        "\n",
        "Now, let's use a list comprehension to generate the position data for our two models. This is more efficient and often easier to read than writing a full `for` loop."
      ]
    },
    {
      "cell_type": "code",
      "execution_count": null,
      "id": "data-generation",
      "metadata": {},
      "outputs": [],
      "source": [
        "# Let's generate data for 10 seconds\n",
        "time_points = list(range(11)) # 0 to 10 seconds\n",
        "\n",
        "# Use a list comprehension to generate the position data for each model\n",
        "linear_positions = [linear_model(t) for t in time_points]\n",
        "quadratic_positions = [quadratic_model(t) for t in time_points]\n",
        "\n",
        "print(f'Time points: {time_points}')\n",
        "print(f'Linear model positions: {linear_positions}')\n",
        "print(f'Quadratic model positions: {quadratic_positions}')"
      ]
    },
    {
      "cell_type": "markdown",
      "id": "importing-libraries-intro",
      "metadata": {},
      "source": [
        "## 🐍 New Concept: Importing Libraries\n",
        "\n",
        "So far, we've written all of our own code. But one of the most powerful features of programming is the ability to **reuse code that other people have already written**. Think of it like a giant public library. Instead of having to write instructions for how to draw a plot from scratch (which is very complicated!), we can just 'check out' a book on plotting and use its tools.\n",
        "\n",
        "In Python, we do this with the `import` keyword. When you see `import matplotlib.pyplot as plt`, you're telling Python:\n",
        "\n",
        "1.  \"I want to use some really awesome code from the `matplotlib` library, specifically the `pyplot` part of it.\"\n",
        "2.  \"This name is a bit long to type over and over, so from now on, I'll refer to it using the nickname `plt`.\"\n",
        "\n",
        "This idea of reusing code is fundamental to the 'economics' of programming. It lets us build amazing things quickly without having to reinvent the wheel every time."
      ]
    },
    {
      "cell_type": "markdown",
      "id": "matplotlib-intro",
      "metadata": {},
      "source": [
        "### Visualizing with Matplotlib\n",
        "\n",
        "Now that we've imported our plotting library, let's use it! The `plt` nickname gives us access to all of its functions, like `plt.plot()` to draw lines and `plt.show()` to display the result."
      ]
    },
    {
      "cell_type": "code",
      "execution_count": null,
      "id": "plotting-code",
      "metadata": {},
      "outputs": [],
      "source": [
        "import matplotlib.pyplot as plt\n",
        "\n",
        "# Create the plot\n",
        "plt.figure(figsize=(10, 6))\n",
        "\n",
        "# Plot the linear model data\n",
        "plt.plot(time_points, linear_positions, label='Linear Model (constant speed)', marker='o')\n",
        "\n",
        "# Plot the quadratic model data\n",
        "plt.plot(time_points, quadratic_positions, label='Quadratic Model (acceleration)', marker='x')\n",
        "\n",
        "# Add labels and a title\n",
        "plt.xlabel('Time (seconds)')\n",
        "plt.ylabel('Position (meters)')\n",
        "plt.title('Position vs. Time for Different Models')\n",
        "plt.legend()\n",
        "plt.grid(True)\n",
        "\n",
        "# Show the plot\n",
        "plt.show()"
      ]
    },
    {
      "cell_type": "markdown",
      "id": "challenge-triangle-description",
      "metadata": {},
      "source": [
        "### 🎯 Mini-Challenge: Area of an Equilateral Triangle\n",
        "\n",
        "This challenge combines everything we've learned: functions, list comprehensions, and plotting. Your goal is to plot the area of an equilateral triangle as its side length increases.\n",
        "\n",
        "The area of an equilateral triangle is given by the formula:\n",
        "$$Area = \\frac{\\sqrt{3}}{4} \\times side^2$$"
      ]
    },
    {
      "cell_type": "markdown",
      "id": "challenge-triangle-hints",
      "metadata": {},
      "source": [
        "<details>\n",
        "<summary>Hint: How do I calculate the square root?</summary>\n",
        "\n",
        "There are two great ways to calculate a square root!\n",
        "\n",
        "1.  You can `import math` at the top of your code cell and then use `math.sqrt()` to find the square root of a number. For example, `math.sqrt(9)` is `3.0`.\n",
        "2.  Alternatively, you can raise a number to the power of `0.5`. For example, `9 ** 0.5` is also `3.0`.\n",
        "\n",
        "Both methods work perfectly, so you can use whichever one you prefer!\n",
        "</details>\n",
        "<details>\n",
        "<summary>Hint: How should I structure the code?</summary>\n",
        "\n",
        "It's best to break the problem down into the same steps we took in the lesson:\n",
        "1.  Write a function that takes a `side` and returns the `area`.\n",
        "2.  Create a list of `side_lengths` from 1 to 10.\n",
        "3.  Use a list comprehension with your function to create a list of `areas`.\n",
        "4.  Use `plt.plot()` to plot the `side_lengths` vs. the `areas`.\n",
        "</details>"
      ]
    },
    {
      "cell_type": "code",
      "id": "challenge-triangle-starter",
      "metadata": {},
      "execution_count": null,
      "outputs": [],
      "source": [
        "import math\n",
        "import matplotlib.pyplot as plt\n",
        "\n",
        "# 1. Define the function that calculates the area of the triangle\n",
        "def triangle_area(side):\n",
        "    # YOUR CODE HERE\n",
        "    # Implement the formula: (sqrt(3)/4) * side^2\n",
        "    return 0\n",
        "\n",
        "# 2. Create a list of side lengths from 1 to 10\n",
        "side_lengths = list(range(1, 11))\n",
        "\n",
        "# 3. Use a list comprehension to calculate the area for each side length\n",
        "areas = [] # YOUR CODE HERE\n",
        "\n",
        "print(f'Side lengths: {side_lengths}')\n",
        "print(f'Areas: {areas}')\n",
        "\n",
        "# 4. Plot the side lengths vs. the areas\n",
        "# YOUR CODE HERE\n",
        "\n",
        "# Display the plot\n",
        "plt.show()"
      ]
    },
    {
      "cell_type": "markdown",
      "id": "challenge-triangle-solution",
      "metadata": {},
      "source": [
        "<details>\n",
        "<summary>Click to see a possible solution</summary>\n",
        "\n",
        "```python\n",
        "import math\n",
        "import matplotlib.pyplot as plt\n",
        "\n",
        "# 1. Define the function that calculates the area of the triangle\n",
        "def triangle_area(side):\n",
        "    \"\"\"Calculates the area of an equilateral triangle given its side length.\"\"\"\n",
        "    return ((3**0.5) / 4) * (side ** 2) # Using the power method for sqrt\n",
        "\n",
        "# 2. Create a list of side lengths from 1 to 10\n",
        "side_lengths = list(range(1, 11))\n",
        "\n",
        "# 3. Use a list comprehension to calculate the area for each side length\n",
        "areas = [triangle_area(s) for s in side_lengths]\n",
        "\n",
        "# 4. Plot the side lengths vs. the areas\n",
        "plt.figure(figsize=(10, 6))\n",
        "plt.plot(side_lengths, areas, marker='o', color='green')\n",
        "plt.title('Area of an Equilateral Triangle vs. Side Length')\n",
        "plt.xlabel('Side Length')\n",
        "plt.ylabel('Area')\n",
        "plt.grid(True)\n",
        "plt.show()\n",
        "```\n",
        "\n",
        "</details>"
      ]
    },
    {
      "cell_type": "markdown",
      "id": "footer-summary",
      "metadata": {},
      "source": [
        "## 🎉 Well Done!\n",
        "\n",
        "In this notebook, we took our first steps into the world of mathematical modeling and data visualization. We saw how a simple rule, expressed as a Python function, can generate a sequence of data. By plotting that data, we were able to instantly see the fundamental difference between linear and quadratic growth. As you worked through the material, you may have noticed how turning a mathematical formula into a function and then creating a plot felt like a powerful way to explore an idea. Is it easier to understand the difference between `2*x` and `x**2` by looking at the formulas or by looking at their graphs? Thinking about how you best understand concepts is a key part of learning.\n",
        "\n",
        "### Key Takeaways\n",
        "- **Functions as Rules**: Python functions are a perfect way to represent mathematical formulas and rules.\n",
        "- **List Comprehensions**: A clean and efficient way to create a new list by performing an operation on each item in another sequence.\n",
        "- **Matplotlib for Plotting**: A few simple commands from the `matplotlib` library are all it takes to turn lists of data into an informative plot.\n",
        "- **Visualizing Models**: Plots help us understand the nature of our data and models immediately. The curve of the quadratic model looks much more like the path of an accelerating object than the straight line of the linear model."
      ]
    },
    {
      "cell_type": "markdown",
      "id": "footer-next-steps",
      "metadata": {},
      "source": [
        "### Next Up: Notebook 12.b: Finding Linear Patterns 🚀\n",
        "\n",
        "We've seen how to go from a function to a plot. But what if we have the data and want to find the function? In our next notebook, [Notebook 12.b: Finding Linear Patterns](https://colab.research.google.com/github/sguy/programming-and-problem-solving/blob/main/notebooks/12.b-finding-linear-patterns.ipynb), we'll become data detectives and learn a powerful method to uncover the linear rule hidden in a sequence of numbers."
      ]
    },
    {
      "cell_type": "markdown",
      "id": "footer-toc-link",
      "metadata": {},
      "source": [
        "---\n",
        "[Return to Table of Contents](https://colab.research.google.com/github/sguy/programming-and-problem-solving/blob/main/notebooks/table-of-contents.ipynb)"
      ]
    }
  ],
  "metadata": {
    "kernelspec": {
      "display_name": "Python 3",
      "language": "python",
      "name": "python3"
    },
    "language_info": {
      "name": "python",
      "version": "3.9.1"
    }
  },
  "nbformat": 4,
  "nbformat_minor": 2
}