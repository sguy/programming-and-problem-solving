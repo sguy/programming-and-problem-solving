{
  "cells": [
    {
      "cell_type": "markdown",
      "id": "header-title",
      "metadata": {},
      "source": [
        "# 12.a: Functions, Sequences, and Plots"
      ]
    },
    {
      "cell_type": "markdown",
      "id": "header-quote",
      "metadata": {},
      "source": [
        "> The universe ... is written in the language of mathematics, and its characters are triangles, circles, and other geometrical figures, without which it is humanly impossible to understand a single word of it.\n",
        "> — [Galileo Galilei](https://en.wikipedia.org/wiki/Galileo_Galilei)\n"
      ]
    },
    {
      "cell_type": "markdown",
      "id": "header-learning-objectives",
      "metadata": {},
      "source": [
        "## 🎯 Learning Objectives\n",
        "\n",
        "By the end of this notebook, you will be able to:\n",
        "- Define independent and dependent variables.\n",
        "- Write a Python function to represent a mathematical rule.\n",
        "- Pass a function as an argument to a helper function to generate a sequence of data.\n",
        "- Create a basic plot from data using the `matplotlib` library."
      ]
    },
    {
      "cell_type": "markdown",
      "id": "header-prerequisites",
      "metadata": {},
      "source": [
        "## 📚 Prerequisites\n",
        "\n",
        "This notebook builds on concepts from previous lessons. Before you begin, make sure you are comfortable with:\n",
        "- Concepts from [Notebook 5: Reusable Code with Functions](https://colab.research.google.com/github/sguy/programming-and-problem-solving/blob/main/notebooks/05-reusable-code-with-functions.ipynb), including defining functions and using parameters.\n",
        "- Concepts from [Notebook 7: Organizing with Lists](https://colab.research.google.com/github/sguy/programming-and-problem-solving/blob/main/notebooks/07-lists.ipynb), including creating and inspecting lists."
      ]
    },
    {
      "cell_type": "markdown",
      "id": "header-time-and-toc",
      "metadata": {},
      "source": [
        "*Estimated Time: 45 minutes*\n",
        "\n",
        "---\n",
        "\n",
        "[Return to Table of Contents](https://colab.research.google.com/github/sguy/programming-and-problem-solving/blob/main/notebooks/table-of-contents.ipynb)"
      ]
    },
    {
      "cell_type": "markdown",
      "id": "intro-from-rules-to-numbers",
      "metadata": {},
      "source": [
        "## Introduction: From Data to Discovery\n",
        "\n",
        "Have you ever wondered how scientists can predict the path of a planet, how financial analysts forecast market trends, or how a GPS knows where you'll be in 30 seconds? The answer often lies in finding a mathematical rule that describes a pattern of data.\n",
        "\n",
        "A key part of this is understanding how one value changes when another one does. We can call this the **sensitivity** of the function. For example, how sensitive is a company's profit to its advertising budget? How sensitive is a car's stopping distance to its initial speed? When the independent variable is time, this sensitivity is often called the **rate of change**.\n",
        "\n",
        "In this series of notebooks, we will explore a powerful technique for analyzing this sensitivity: the **method of finite differences**. By looking at the differences between data points, we can uncover the hidden mathematical functions that govern them.\n",
        "\n",
        "To begin, we must first understand the relationship between two key concepts:\n",
        "\n",
        "- **Independent Variable:** The input to our function; the thing we are changing. On a plot, this is our **x-axis**.\n",
        "- **Dependent Variable:** The output of our function; the thing that changes *as a result*. On a plot, this is our **y-axis**.\n",
        "\n",
        "In this first notebook, we will explore this relationship by modeling a falling object. Our **independent variable** will be `time`, and our **dependent variable** will be the `position` of the object. We will define functions (rules) that connect them, generate data, and plot it to see the patterns."
      ]
    },
    {
      "cell_type": "markdown",
      "id": "real-world-sensitivity",
      "metadata": {},
      "source": [
        "### 💡 Real-World Sensitivity\n",
        "\n",
        "The idea of \"sensitivity\" or \"rate of change\" is all around us:\n",
        "\n",
        "-   **In Physics:** When we talk about the **velocity** of an object, we are talking about the sensitivity of its `position` to changes in `time`. When we talk about **acceleration**, we are talking about the sensitivity of its `velocity` to changes in `time`. This is what we'll model in this notebook!\n",
        "\n",
        "-   **In Finance:** An investor might want to know the sensitivity of a stock's price to changes in interest rates. A business owner wants to know the sensitivity of their profit to changes in their advertising budget.\n",
        "\n",
        "-   **In Data Analysis:** A data scientist might analyze the sensitivity of website traffic to the time of day or the sensitivity of user engagement to the placement of a button on a screen.\n",
        "\n",
        "In all these cases, understanding the rate of change is the first step toward making predictions and better decisions. The **Method of Differences** is our first tool for analyzing these rates of change directly from data."
      ]
    },
    {
      "cell_type": "markdown",
      "id": "deeper-look-variables",
      "metadata": {},
      "source": [
        "### 💡 Independent vs. Dependent: A Story of Cause and Effect\n",
        "\n",
        "Let's think like a scientist for a moment. When a scientist sets up an experiment, they want to see how one thing affects another.\n",
        "\n",
        "- The **independent variable** is the one thing the scientist *chooses to change*.\n",
        "- The **dependent variable** is what the scientist *observes or measures* to see the effect.\n",
        "\n",
        "Think of it as a cause-and-effect relationship. The change in the independent variable (the cause) should hopefully cause a change in the dependent variable (the effect).\n",
        "\n",
        "Here are a couple of examples:\n",
        "\n",
        "-   **Falling Ball Experiment:** Let's look at two ways to design an experiment with a falling ball, which will help us see the relationship between `time` and `position` (or `height`, which is just a vertical position!).\n",
        "    1.  **Position vs. Time:** You set up a camera that can record the ball's exact `position` at specific moments in `time` after you drop it. In this case, you are finding the `position` for a given `time`.\n",
        "        -   `time` is the **independent variable** (you choose when to measure).\n",
        "        -   `position` is the **dependent variable** (you observe where the ball is).\n",
        "    2.  **Time vs. Position:** You decide to measure the `time` it takes for the ball to travel between two chosen `positions`. For example, you drop the ball from several different starting heights (the first `position`) and measure how long it takes to hit the floor (the second `position`).\n",
        "        -   The change in `position` (the height) is the **independent variable** (you choose it).\n",
        "        -   The `time` it takes to travel that distance is the **dependent variable** (you observe it).\n",
        "    This highlights a key idea: there's nothing special about `time` or `position` that makes one of them always independent. It all comes down to how you design your experiment—what you choose to control versus what you choose to observe.\n",
        "\n",
        "-   **Plant Growth Experiment:** Suppose you want to see how sunlight affects plant growth. You could place plants in different windows, each receiving a different amount of daily sunlight.\n",
        "    -   The `amount of sunlight` is the **independent variable**.\n",
        "    -   The `growth of the plant` is the **dependent variable**.\n",
        "\n",
        "Sometimes, experiments can have more than one independent variable! For example, you could test different amounts of sunlight *and* different amounts of water. For our notebooks, we'll keep it simple and stick to one independent and one dependent variable. Getting a feel for these terms is a key step in learning to think like a programmer and a scientist!"
      ]
    },
    {
      "cell_type": "markdown",
      "id": "discussion-question-plotting",
      "metadata": {},
      "source": [
        "### 🤔 Discussion Question\n",
        "\n",
        "Think about the two \"Falling Ball Experiment\" designs we just discussed. If you were to plot the results from each experiment:\n",
        "\n",
        "1.  What would the x-axis and y-axis be for the **\"Position vs. Time\"** experiment?\n",
        "2.  What about for the **\"Time vs. Position\"** experiment?\n",
        "3.  Would you plot them as a line, or just as individual points? Why might you choose one over the other?\n",
        "\n",
        "<details><summary>Click for a hint</summary>\n",
        "\n",
        "Remember what we said earlier: the **independent variable** goes on the x-axis (the horizontal one) and the **dependent variable** goes on the y-axis (the vertical one).\n",
        "\n",
        "</details>"
      ]
    },
    {
      "cell_type": "markdown",
      "id": "representing-rules",
      "metadata": {},
      "source": [
        "## 🐍 New Concept: Representing Rules in Python\n",
        "\n",
        "We can represent rules in Python using a `def` statement to create a function. A function is a reusable block of code that performs a specific task. Here, we'll create functions where the input parameter is our independent variable (`time`) and the `return` value is our dependent variable (`position`)."
      ]
    },
    {
      "cell_type": "code",
      "execution_count": null,
      "id": "model-definitions",
      "metadata": {},
      "outputs": [],
      "source": [
        "def linear_model(time):\n",
        "    \"\"\"A simple model where the dependent variable (position) changes at a constant rate.\"\"\"\n",
        "    speed = 20 # meters per second\n",
        "    return speed * time\n",
        "\n",
        "def quadratic_model(time):\n",
        "    \"\"\"A more realistic model for a falling object with acceleration.\"\"\"\n",
        "    # The formula is d = 0.5 * g * t^2. We'll approximate g (gravity) as 9.8 m/s^2.\n",
        "    gravity = 9.8\n",
        "    return 0.5 * gravity * (time ** 2)"
      ]
    },
    {
      "cell_type": "markdown",
      "id": "connecting-concepts",
      "metadata": {},
      "source": [
        "### 💡 Connecting Code to Concepts: Variables and Functions\n",
        "\n",
        "Let's pause for a moment and connect what we've just written to the concepts we introduced earlier.\n",
        "\n",
        "In mathematics, you might write a function as `p(t) = 20 * t`, where `t` is **time** and `p` is **position**. In this relationship:\n",
        "- `t` is the **independent variable** (the input).\n",
        "- `p` is the **dependent variable** (the output, which *depends* on `t`).\n",
        "\n",
        "Our Python code is a direct translation of this idea:\n",
        "\n",
        "```python\n",
        "def linear_model(time):\n",
        "    #...\n",
        "    return speed * time\n",
        "```\n",
        "\n",
        "- The function's **parameters** (in this case, `t` \"time\") is the **independent variable**. It is the input we provide to the function.\n",
        "- The function's **return value** is the **dependent variable**. It's the output our function calculates based on the inputs.\n",
        "\n",
        "Thinking this way helps you translate back and forth between the language of mathematics and the language of code."
      ]
    },
    {
      "cell_type": "markdown",
      "id": "functions-as-args-intro",
      "metadata": {},
      "source": [
        "## 🐍 New Concept: Functions as Arguments\n",
        "\n",
        "So far, we've passed data like numbers, strings, and lists into our functions. But Python has a powerful feature where you can treat functions themselves as data. This means you can **pass a function as an argument to another function**.\n",
        "\n",
        "This is a big idea! It lets us write flexible, reusable 'helper' functions that can perform an action on *any* function you give them. Let's create a helper called `get_function_values` that takes any model function and a list of 'x' values (the **domain**) and generates the corresponding list of 'y' values (the **codomain**)."
      ]
    },
    {
      "cell_type": "code",
      "execution_count": null,
      "id": "get-function-values-def",
      "metadata": {},
      "outputs": [],
      "source": [
        "def get_function_values(func, domain):\n",
        "    \"\"\"Generates a sequence of values from a function and a domain.\n",
        "\n",
        "    Args:\n",
        "        func: The function to generate values from. It must take one number as an argument.\n",
        "        domain: A list of numbers (the \"x-values\") to pass to the function.\n",
        "\n",
        "    Returns:\n",
        "        A list of y-values (the \"codomain\") generated by calling the function for each x in the domain.\n",
        "    \"\"\"\n",
        "    codomain = []\n",
        "    for x in domain:\n",
        "        codomain.append(func(x))\n",
        "    return codomain"
      ]
    },
    {
      "cell_type": "code",
      "execution_count": null,
      "id": "get-function-values-examples",
      "metadata": {},
      "outputs": [],
      "source": [
        "# Let's define a few simple functions to test our new helper\n",
        "\n",
        "def identity(x):\n",
        "    return x\n",
        "\n",
        "def double(x):\n",
        "    return 2 * x\n",
        "\n",
        "def square(x):\n",
        "    return x * x\n",
        "\n",
        "# Now, let's define a domain to test with\n",
        "sample_domain = [0, 1, 2, 3, 4, 5]\n",
        "\n",
        "# And now see what get_function_values does with them\n",
        "print(f\"Our sample domain is: {sample_domain}\")\n",
        "print(\"--------------------\")\n",
        "\n",
        "print(\"The identity function over the domain:\")\n",
        "print(get_function_values(identity, sample_domain))\n",
        "print(\"--------------------\")\n",
        "\n",
        "print(\"The double function over the domain:\")\n",
        "print(get_function_values(double, sample_domain))\n",
        "print(\"--------------------\")\n",
        "\n",
        "print(\"The square function over the domain:\")\n",
        "print(get_function_values(square, sample_domain))"
      ]
    },
    {
      "cell_type": "markdown",
      "id": "check-your-understanding-args",
      "metadata": {},
      "source": [
        "### 🤔 Check Your Understanding\n",
        "\n",
        "In the code `get_function_values(quadratic_model, my_domain)`, what is `quadratic_model`?\n",
        "\n",
        "- a) A variable holding a list of numbers.\n",
        "- b) A function being passed as an argument.\n",
        "- c) A string with the name of the model.\n",
        "\n",
        "<details><summary>Click for the answer</summary>\n",
        "\n",
        "The answer is **b) A function being passed as an argument**. We are passing the actual `quadratic_model` function itself into `get_function_values` so that it can be called inside that helper function.\n",
        "\n",
        "</details>"
      ]
    },
    {
      "cell_type": "markdown",
      "id": "mini-challenge-triple",
      "metadata": {},
      "source": [
        "### 🎯 Mini-Challenge: Triple the Fun\n",
        "\n",
        "Now it's your turn! \n",
        "1. Write a simple function called `triple` that takes a number `x` and returns `x * 3`.\n",
        "2. Create a `domain` list of numbers from 0 to 10.\n",
        "3. Use your `get_function_values` helper to get the `codomain` (the list of results) for your `triple` function over that domain.\n",
        "4. Print the resulting list."
      ]
    },
    {
      "cell_type": "code",
      "execution_count": null,
      "id": "mini-challenge-triple-starter",
      "metadata": {},
      "outputs": [],
      "source": [
        "# 1. Define your function here\n",
        "def triple(x):\n",
        "    # YOUR CODE HERE\n",
        "    return 0\n",
        "\n",
        "# 2. Create the domain\n",
        "my_domain = [] # YOUR CODE HERE\n",
        "\n",
        "# 3. Use get_function_values to generate the sequence\n",
        "tripled_values = [] # YOUR CODE HERE\n",
        "\n",
        "# 4. Print the results\n",
        "print(f\"The domain is: {my_domain}\")\n",
        "print(f\"The tripled values are: {tripled_values}\")"
      ]
    },
    {
      "cell_type": "markdown",
      "id": "mini-challenge-triple-solution",
      "metadata": {},
      "source": [
        "<details>\n",
        "<summary>Click to see a possible solution</summary>\n",
        "\n",
        "```python\n",
        "def triple(x):\n",
        "    return x * 3\n",
        "\n",
        "my_domain = list(range(11))\n",
        "\n",
        "tripled_values = get_function_values(triple, my_domain)\n",
        "\n",
        "print(f\"The domain is: {my_domain}\")\n",
        "print(f\"The tripled values are: {tripled_values}\")\n",
        "# Expected output:\n",
        "# The domain is: [0, 1, 2, 3, 4, 5, 6, 7, 8, 9, 10]\n",
        "# The tripled values are: [0, 3, 6, 9, 12, 15, 18, 21, 24, 27, 30]\n",
        "```\n",
        "</details>"
      ]
    },
    {
      "cell_type": "markdown",
      "id": "importing-libraries-intro",
      "metadata": {},
      "source": [
        "## 🐍 New Concept: Importing Libraries\n",
        "\n",
        "So far, we've written all of our own code. But one of the most powerful features of programming is the ability to **reuse code that other people have already written**. Think of it like a giant public library. Instead of having to write instructions for how to draw a plot from scratch (which is very complicated!), we can just 'check out' a book on plotting and use its tools.\n",
        "\n",
        "In Python, we do this with the `import` keyword. When you see `import matplotlib.pyplot as plt`, you're telling Python:\n",
        "\n",
        "1.  \"I want to use some really awesome code from the `matplotlib` library, specifically the `pyplot` part of it.\"\n",
        "2.  \"This name is a bit long to type over and over, so from now on, I'll refer to it using the nickname `plt`.\"\n",
        "\n",
        "This idea of reusing code is fundamental to the **\"economics\" of programming**. That sounds complicated, but it's based on a few simple ideas that make programming such a powerful tool:\n",
        "\n",
        "*   **Reusability (Build with High-Quality Bricks):** Once someone has solved a hard problem (like \"how to draw a graph\"), they can package their code into a library. When you use a popular library, you're getting code that has been **tested by thousands of people**. This makes your own code more reliable because you're building on a solid, proven foundation.\n",
        "\n",
        "*   **Scalability (Do it a Million Times):** Once you write an instruction, a computer can repeat it millions of times for very little extra cost. Imagine calculating the area of one triangle by hand versus a million. For a computer, the effort is almost the same.\n",
        "\n",
        "*   **Shareability (A Global Maintenance Team):** Many libraries (like `matplotlib`) are \"open-source,\" which means they are built and shared for free by a worldwide community. When you use them, you get a global team of experts who **fix problems and add new features**. If a bug is found, it's often fixed by someone else before you even knew it was there!\n",
        "\n",
        "When you `import` a library, you are taking advantage of all three of these powerful ideas at once!"
      ]
    },
    {
      "cell_type": "markdown",
      "id": "matplotlib-intro",
      "metadata": {},
      "source": [
        "### Visualizing with Matplotlib\n",
        "\n",
        "Now that we've imported our plotting library, let's use it! The `plt` nickname gives us access to all of its functions.\n",
        "\n",
        "When we use `plt.plot(xs, ys)`, we are asking the library to plot our domain (`xs`) against our codomain (`ys`). In our case, this means plotting `time_points` vs. `linear_positions` and `quadratic_positions`. This visualization will give us an immediate, intuitive understanding of the different sensitivities of these two models."
      ]
    },
    {
      "cell_type": "code",
      "execution_count": null,
      "id": "plotting-code",
      "metadata": {},
      "outputs": [],
      "source": [
        "import matplotlib.pyplot as plt\n",
        "\n",
        "# 1. Define the domain (our independent variable)\n",
        "time_points = list(range(11)) # 0 to 10 seconds\n",
        "\n",
        "# 2. Generate the codomains (our dependent variables) using the helper\n",
        "linear_positions = get_function_values(linear_model, time_points)\n",
        "quadratic_positions = get_function_values(quadratic_model, time_points)\n",
        "\n",
        "# 3. Print the results to see the data\n",
        "print(f'Time points (xs): {time_points}')\n",
        "print(f'Linear positions (ys): {linear_positions}')\n",
        "print(f'Quadratic positions (ys): {quadratic_positions}')\n",
        "\n",
        "# 4. Plot the results\n",
        "plt.figure(figsize=(10, 6))\n",
        "\n",
        "# Plot the linear model data\n",
        "plt.plot(time_points, linear_positions, label='Linear Model (constant speed)', marker='o')\n",
        "\n",
        "# Plot the quadratic model data\n",
        "plt.plot(time_points, quadratic_positions, label='Quadratic Model (acceleration)', marker='x')\n",
        "\n",
        "# Add labels and a title\n",
        "plt.xlabel('Time (seconds) - (Domain / xs)')\n",
        "plt.ylabel('Position (meters) - (Codomain / ys)')\n",
        "plt.title('Position vs. Time for Different Models')\n",
        "plt.legend()\n",
        "plt.grid(True)\n",
        "\n",
        "# Show the plot\n",
        "plt.show()"
      ]
    },
    {
      "cell_type": "markdown",
      "metadata": {},
      "source": [
        "A key skill for any programmer is learning to read the documentation for a library. It's like learning how to use a dictionary or an encyclopedia. No one memorizes everything! Let's look at the documentation for `plt.plot()`.\n",
        "\n"
      ]
    },
    {
      "cell_type": "markdown",
      "metadata": {},
      "source": [
        "### 🔗 External Resources:\n",
        "   - **Documentation for `plt.plot()`:** [https://matplotlib.org/stable/api/_as_gen/matplotlib.pyplot.plot.html](\n",
        "      https://matplotlib.org/stable/api/_as_gen/matplotlib.pyplot.plot.html)   You may not understand everything in the documentation, but this will give you a flavor of what documentation looks like.\n",
        "   - **Matplotlib Gallery:** [https://matplotlib.org/stable/gallery/index.html](https://matplotlib.org/stable/gallery/index.html)  `Matplotlib` also publishes a gallery of plots other people have made.  If you see something you like, you can click on it to see the code that was used to generate the plot."
      ]
    },
    {
      "cell_type": "markdown",
      "id": "matplotlib-interpolation",
      "metadata": {},
      "source": [
        "### 🤔 A Closer Look at the Plot\n",
        "\n",
        "Look at the blue line for the `Linear Model`. It's perfectly straight. Now look at the orange line for the `Quadratic Model`. It looks a bit jagged, like a series of straight lines connected together. \n",
        "\n",
        "That's exactly what's happening! When you give `plt.plot()` a set of points, it connects them with straight lines. For a linear function, this is perfect, because the real relationship is a straight line. But for a quadratic function, the real relationship is a smooth curve. Our plot is just an *approximation* of the real curve because we only gave it a few points to work with."
      ]
    },
    {
      "cell_type": "markdown",
      "id": "numpy-linspace-intro",
      "metadata": {},
      "source": [
        "### 🚀 Pro-Tip: Getting a Smoother Curve\n",
        "\n",
        "To get a better approximation of the true curve, we need to give the plot more points to connect. Instead of just calculating the position at whole numbers like 0, 1, 2, ..., 10, we could calculate it at 0.0, 0.1, 0.2, and so on. \n",
        "\n",
        "Doing this by hand would be tedious. Luckily, another powerful library called `numpy` (short for Numerical Python) can help. We'll import it with the nickname `np`. The function `np.linspace(start, stop, num)` is perfect for this. It creates a specific `num` of evenly spaced points between a `start` and `stop` value. Let's use it to create 200 points between 0 and 10."
      ]
    },
    {
      "cell_type": "markdown",
      "metadata": {},
      "source": [
        "   ### 🔗 External Resources:\n",
        "   - **Documentation for `np.linspace()`:** [https://numpy.org/doc/stable/reference/generated/numpy.linspace.html](\n",
        "     https://numpy.org/doc/stable/reference/generated/numpy.linspace.html)"
      ]
    },
    {
      "cell_type": "code",
      "execution_count": null,
      "id": "smooth-plot-code",
      "metadata": {},
      "outputs": [],
      "source": [
        "import numpy as np\n",
        "\n",
        "# 1. Create a dense domain with many points\n",
        "smooth_time_points = np.linspace(0, 10, 200)\n",
        "\n",
        "# 2. Generate the codomain for the quadratic model\n",
        "smooth_quadratic_positions = get_function_values(quadratic_model, smooth_time_points)\n",
        "\n",
        "# 3. Plot the results\n",
        "plt.figure(figsize=(10, 6))\n",
        "\n",
        "# Plot the smooth curve\n",
        "plt.plot(smooth_time_points, smooth_quadratic_positions, label='Quadratic Model (Smooth Curve)')\n",
        "\n",
        "# Plot the original integer points as dots\n",
        "plt.plot(time_points, quadratic_positions, 'o', label='Original Integer Points')\n",
        "\n",
        "# Add labels and a title\n",
        "plt.xlabel('Time (seconds)')\n",
        "plt.ylabel('Position (meters)')\n",
        "plt.title('Smooth vs. Jagged Plot of Quadratic Model')\n",
        "plt.legend()\n",
        "plt.grid(True)\n",
        "\n",
        "# Show the plot\n",
        "plt.show()"
      ]
    },
    {
      "cell_type": "markdown",
      "id": "discussion-question-linearity",
      "metadata": {},
      "source": [
        "Notice how the new orange line is a perfect, smooth curve. It's a much more accurate picture of the quadratic model. \n",
        "\n",
        "### 🤔 Discussion Question\n",
        "\n",
        "We went to this extra trouble for the quadratic (degree 2) model. Why don't we have this \"jagged\" plot problem with the linear (degree 1) or a constant (degree 0) model? What's special about them?"
      ]
    },
    {
      "cell_type": "markdown",
      "id": "challenge-triangle-description",
      "metadata": {},
      "source": [
        "### 🎯 Mini-Challenge: Area of an Equilateral Triangle\n",
        "\n",
        "This challenge combines everything we've learned: functions and plotting. Your goal is to plot the area of an equilateral triangle as its side length increases.\n",
        "\n",
        "The area of an equilateral triangle is given by the formula:\n",
        "$$Area = \\frac{\\sqrt{3}}{4} \\times side^2$$"
      ]
    },
    {
      "cell_type": "markdown",
      "id": "challenge-triangle-hints",
      "metadata": {},
      "source": [
        "<details>\n",
        "<summary>Hint: How do I calculate the square root?</summary>\n",
        "\n",
        "There are two great ways to calculate a square root!\n",
        "\n",
        "1.  You can `import math` at the top of your code cell and then use `math.sqrt()` to find the square root of a number. For example, `math.sqrt(9)` is `3.0`.\n",
        "2.  Alternatively, you can raise a number to the power of `0.5`. For example, `9 ** 0.5` is also `3.0`.\n",
        "\n",
        "Both methods work perfectly, so you can use whichever one you prefer!\n",
        "</details>\n",
        "<details>\n",
        "<summary>Hint: How should I structure the code?</summary>\n",
        "\n",
        "It's best to break the problem down into the same steps we took in the lesson:\n",
        "1.  Write a function that takes a `side` and returns the `area`.\n",
        "2.  Create a list of `side_lengths` from 1 to 10 to be your **domain**.\n",
        "3.  Use our `get_function_values` helper to create a list of `areas` (the **codomain**).\n",
        "4.  Use `plt.plot()` to plot the `side_lengths` vs. the `areas`.\n",
        "</details>"
      ]
    },
    {
      "cell_type": "code",
      "execution_count": null,
      "id": "challenge-triangle-starter",
      "metadata": {},
      "outputs": [],
      "source": [
        "import math\n",
        "import matplotlib.pyplot as plt\n",
        "\n",
        "# 1. Define the function that calculates the area of the triangle\n",
        "def triangle_area(side):\n",
        "    # YOUR CODE HERE\n",
        "    # Implement the formula: (sqrt(3)/4) * side^2\n",
        "    return 0\n",
        "\n",
        "# 2. Create a list of side lengths from 1 to 10 to be your domain\n",
        "side_lengths_domain = list(range(1, 11))\n",
        "\n",
        "# 3. Use get_function_values to get the codomain (the areas)\n",
        "areas_codomain = [] # YOUR CODE HERE\n",
        "\n",
        "print(f'Domain (Side lengths): {side_lengths_domain}')\n",
        "print(f'Codomain (Areas): {areas_codomain}')\n",
        "\n",
        "# 4. Plot the domain vs. the codomain\n",
        "# YOUR CODE HERE\n",
        "\n",
        "# Display the plot\n",
        "plt.show()"
      ]
    },
    {
      "cell_type": "markdown",
      "id": "challenge-triangle-solution",
      "metadata": {},
      "source": [
        "<details>\n",
        "<summary>Click to see a possible solution</summary>\n",
        "\n",
        "```python\n",
        "import math\n",
        "import matplotlib.pyplot as plt\n",
        "\n",
        "# 1. Define the function that calculates the area of the triangle\n",
        "def triangle_area(side):\n",
        "    \"\"\"Calculates the area of an equilateral triangle given its side length.\"\"\"\n",
        "    return ((3**0.5) / 4) * (side ** 2)\n",
        "\n",
        "# 2. Create a list of side lengths from 1 to 10\n",
        "side_lengths = list(range(1, 11))\n",
        "\n",
        "# 3. Use get_function_values to calculate the area for each side length\n",
        "areas = get_function_values(triangle_area, side_lengths)\n",
        "\n",
        "# 4. Plot the side lengths vs. the areas\n",
        "plt.figure(figsize=(10, 6))\n",
        "plt.plot(side_lengths, areas, marker='o', color='green')\n",
        "plt.title('Area of an Equilateral Triangle vs. Side Length')\n",
        "plt.xlabel('Side Length')\n",
        "plt.ylabel('Area')\n",
        "plt.grid(True)\n",
        "plt.show()\n",
        "```\n",
        "\n",
        "</details>"
      ]
    },
    {
      "cell_type": "markdown",
      "id": "footer-summary",
      "metadata": {},
      "source": [
        "## 🎉 Well Done!\n",
        "\n",
        "In this notebook, we took our first steps into the world of mathematical modeling and data visualization. We saw how a simple rule, expressed as a Python function, can generate a sequence of data. By plotting that data, we were able to instantly see the fundamental difference between linear and quadratic growth. As you worked through the material, you may have noticed how turning a mathematical formula into a function and then creating a plot felt like a powerful way to explore an idea. Is it easier to understand the difference between `2*x` and `x**2` by looking at the formulas or by looking at their graphs? Thinking about how you best understand concepts is a key part of learning.\n",
        "\n",
        "### Key Takeaways\n",
        "- **Functions as Rules**: Python functions are a perfect way to represent mathematical formulas and rules.\n",
        "- **Functions as Arguments**: A powerful feature that lets us write flexible, reusable helper functions.\n",
        "\n",
        "- **Matplotlib for Plotting**: A few simple commands from the `matplotlib` library are all it takes to turn lists of data into an informative plot.\n",
        "- **Visualizing Models**: Plots help us understand the nature of our data and models immediately. The curve of the quadratic model looks much more like the path of an accelerating object than the straight line of the linear model."
      ]
    },
    {
      "cell_type": "markdown",
      "id": "footer-next-steps",
      "metadata": {},
      "source": [
        "### Next Up: Notebook 12.b: Finding Linear Patterns 🚀\n",
        "\n",
        "We've seen how to go from a function to a plot. But what if we have the data and want to find the function? In our next notebook, [Notebook 12.b: Finding Linear Patterns](https://colab.research.google.com/github/sguy/programming-and-problem-solving/blob/main/notebooks/12.b-finding-linear-patterns.ipynb), we'll become data detectives and learn a powerful method to uncover the linear rule hidden in a sequence of numbers."
      ]
    },
    {
      "cell_type": "markdown",
      "id": "footer-toc-link",
      "metadata": {},
      "source": [
        "---\n",
        "[Return to Table of Contents](https://colab.research.google.com/github/sguy/programming-and-problem-solving/blob/main/notebooks/table-of-contents.ipynb)"
      ]
    }
  ],
  "metadata": {
    "kernelspec": {
      "display_name": "Python 3",
      "language": "python",
      "name": "python3"
    },
    "language_info": {
      "name": "python",
      "version": "3.9.1"
    }
  },
  "nbformat": 4,
  "nbformat_minor": 2
}
