{
 "cells": [
  {
   "cell_type": "markdown",
   "id": "notebook-b-intro",
   "metadata": {},
   "source": [
    "# Python Fundamentals: Variables, Data Types, and More! 🚀\n",
    "\n",
    "Welcome to the second part of our Python adventure! In the previous notebook,\n",
    "you got familiar with Jupyter Notebooks and how to use Markdown and Code\n",
    "cells.\n",
    "\n",
    "Now, we're going to dive into the Python programming language itself. We'll\n",
    "cover some of the most fundamental building blocks:\n",
    "*   **Variables:** How to store and label information.\n",
    "*   **Comments:** Writing notes in your code.\n",
    "*   **Data Types:** The different kinds of information Python can work with.\n",
    "*   **Understanding Execution:** What those numbers next to code cells mean.\n",
    "\n",
    "**Estimated Time:** 60-75 minutes\n",
    "\n",
    "Let's get started!"
   ]
  },
  {
   "cell_type": "markdown",
   "id": "ec8fc8db",
   "metadata": {},
   "source": [
    "## Your First Steps in Python! 🐍\n",
    "\n",
    "Alright, let's start learning Python! Python is a popular programming language\n",
    "known for being relatively easy to read and write. It's used for everything\n",
    "from websites to games to science!\n",
    "\n",
    "Don't worry if you've never programmed before. We'll start with the basics."
   ]
  },
  {
   "cell_type": "markdown",
   "id": "python-comments-explanation",
   "metadata": {},
   "source": [
    "## Leaving Notes: Comments in Python 📝\n",
    "\n",
    "Sometimes, you want to write notes in your code that the computer should\n",
    "ignore. These are called **comments**.\n",
    "\n",
    "\n",
    "In Python, anything on a line that starts with a hash symbol (`#`) is a\n",
    "comment. Python will completely ignore it when running the code."
   ]
  },
  {
   "cell_type": "code",
   "execution_count": null,
   "id": "9131897a",
   "metadata": {},
   "outputs": [],
   "source": [
    "# This is a Python comment. It won't affect the program.\n",
    "# print(\"This line is commented out, so it won't print.\")"
   ]
  },
  {
   "cell_type": "markdown",
   "id": "f3281047",
   "metadata": {},
   "source": [
    "\n",
    "**Why use comments?**\n",
    "*   **Explain your code:** Make it easier for yourself (and others!) to\n",
    "    understand what a piece of code is doing, especially if it's complex or\n",
    "    you're looking back at it after a long time.\n",
    "*   **Temporarily disable code:** If you want to stop a line of code from\n",
    "    running without deleting it, you can \"comment it out.\""
   ]
  },
  {
   "cell_type": "markdown",
   "id": "python-vs-markdown-hash",
   "metadata": {},
   "source": [
    "### ⚠️ Heads Up! `#` in Python vs. `#` in Markdown\n",
    "\n",
    "You've just seen that the hash symbol (`#`) is used for comments in Python **Code cells**.\n",
    "\n",
    "It's important to remember that in **Markdown cells** (like this one, used for text and explanations), the hash symbol (`#`) has a different job: it's used to create headings! For example, `# My Big Heading` or `## My Smaller Heading`.\n",
    "\n",
    "So, the same symbol (`#`) does different things depending on whether you're typing in a Code cell (for Python) or a Text/Markdown cell (for notes and formatting). It's a small detail, but helpful to keep in mind as you switch between writing code and writing explanations!"
   ]
  },
  {
   "cell_type": "markdown",
   "id": "mini-challenge-comments",
   "metadata": {},
   "source": [
    "### 🎯 Mini-Challenge: Add Your Own Comment!\n",
    "\n",
    "1.  Add a new **Code cell** below this one.\n",
    "2.  In the new code cell, write a comment that says something like:\n",
    "    `# This is my first Python comment!`\n",
    "3.  On the next line, try printing your name: `print(\"Your Name Here\")`\n",
    "4.  Run the cell. You should only see your name printed, not the comment!"
   ]
  },
  {
   "cell_type": "markdown",
   "id": "90023aa5",
   "metadata": {},
   "source": [
    "## What is a Variable? 📦\n",
    "\n",
    "In programming, a **variable** is like a container or a labeled box where you\n",
    "can store information. You give the box a name (the variable name), and you\n",
    "can put stuff inside it (the value).\n",
    "\n",
    "<img src=\"images/variable-boxes.png\" width=400/>\n",
    "\n",
    "For example, you could have a variable called `playerName` and store the name\n",
    "\"Sparky\" in it. Or a variable called `score` and store the number `100`."
   ]
  },
  {
   "cell_type": "code",
   "execution_count": null,
   "id": "74431371",
   "metadata": {},
   "outputs": [],
   "source": [
    "# Let's create a variable called 'message' and store some text in it.\n",
    "message = \"Hello, future programmer!\"\n",
    "\n",
    "# Now, let's see what's inside our 'message' box.\n",
    "# The 'print()' function displays things on the screen.\n",
    "print(message)"
   ]
  },
  {
   "cell_type": "markdown",
   "id": "important-note-assignment-operator",
   "metadata": {},
   "source": [
    "### ⚠️ Heads Up! The Assignment Operator (`=`)\n",
    "\n",
    "In Python (and many other programming languages), the single equals sign (`=`)\n",
    "is called the **assignment operator**.\n",
    "\n",
    "It's crucial to understand that **`=` does NOT mean \"equals\" in the same way\n",
    "it does in mathematics.**\n",
    "*   In math, `x = 5` means that `x` and `5` are the same value.\n",
    "*   In Python, `x = 5` means \"**`x` is assigned the value `5`**\" or \"store the\n",
    "    value `5` in the variable named `x`.\"\n",
    "\n",
    "Think of it as an arrow pointing from right to left: the value on the right is\n",
    "put into the variable on the left. We'll see later how Python checks if two\n",
    "things are actually equal (it uses `==`, two equals signs!). For now, just\n",
    "remember: a single `=` means \"assign this value.\""
   ]
  },
  {
   "cell_type": "markdown",
   "id": "pro-tip-variable-naming",
   "metadata": {},
   "source": [
    "### 🚀 Pro-Tip: Naming Your Variables Wisely\n",
    "\n",
    "Choosing good names for your variables makes your code much easier to read and\n",
    "understand. Here are some rules and best practices for naming variables in\n",
    "Python:\n",
    "\n",
    "**The Rules (You *must* follow these):**\n",
    "*   Variable names can only contain letters (a-z, A-Z), numbers (0-9), and\n",
    "    the underscore character (`_`).\n",
    "*   They cannot start with a number. (e.g., `1stPlace` is not allowed, but\n",
    "    `firstPlace` or `place1` is fine).\n",
    "*   Variable names are case-sensitive. This means `myVariable`, `MyVariable`,\n",
    "    and `myvariable` are all different variables.\n",
    "*   You cannot use Python's reserved keywords as variable names (e.g., you\n",
    "    can't name a variable `print`, `if`, `for`, `while`, etc., because these\n",
    "    words have special meanings in Python).\n",
    "\n",
    "**Best Practices (Good ideas to follow):**\n",
    "*   **Be Descriptive:** Choose names that clearly indicate what the variable is\n",
    "    storing. `userName` is better than `u` or `x`.\n",
    "*   **Use `snake_case` for Multi-Word Names:** This is the most common\n",
    "    convention in Python. Separate words with underscores, and use all\n",
    "    lowercase letters. For example: `player_score`, `item_list`, `first_name`.\n",
    "*   **Be Consistent:** Stick to one naming style throughout your project.\n",
    "*   **Avoid Single-Letter Names (Usually):** While `i`, `j`, `k` are sometimes\n",
    "    used for simple loop counters, and `x`, `y`, `z` for coordinates,\n",
    "    generally prefer more descriptive names.\n",
    "\n",
    "Good variable names are like good labels – they help you (and others) know\n",
    "what's inside without having to guess!"
   ]
  },
  {
   "cell_type": "markdown",
   "id": "mini-challenge-variables",
   "metadata": {},
   "source": [
    "### 🎯 Mini-Challenge: Your Own Variable!\n",
    "\n",
    "1.  Add a new **Code cell** below.\n",
    "2.  Create a variable to store your favorite color. Remember to choose a good\n",
    "    variable name (e.g., `favorite_number`).\n",
    "3.  Assign your favorite number to this\n",
    "    variable.\n",
    "4.  On the next line, use the `print()` function to display the value stored in your variable.\n",
    "5.  Run the cell to see your favorite number printed!"
   ]
  },
  {
   "cell_type": "markdown",
   "id": "43653741",
   "metadata": {},
   "source": [
    "## Basic Data Types in Python 💾\n",
    "\n",
    "Variables can hold different *types* of data. Here are some of the most\n",
    "common ones in Python:"
   ]
  },
  {
   "cell_type": "markdown",
   "id": "e8e250d3",
   "metadata": {},
   "source": [
    "### Integer (`int`)\n",
    "These are whole numbers (no decimal points).\n",
    "Examples: `7`, `-3`, `0`, `1000`"
   ]
  },
  {
   "cell_type": "code",
   "execution_count": null,
   "id": "2ef8e386",
   "metadata": {},
   "outputs": [],
   "source": [
    "my_age = 14\n",
    "number_of_apples = 5\n",
    "print(my_age)\n",
    "print(number_of_apples)"
   ]
  },
  {
   "cell_type": "markdown",
   "id": "mini-challenge-numbers",
   "metadata": {},
   "source": [
    "### 🎯 Mini-Challenge: Number Fun!\n",
    "\n",
    "1.  In a new Code cell below:\n",
    "2.  Create a variable called `num_books_read` and assign it an integer value\n",
    "    representing how many books you've read this year (make one up if you\n",
    "    need to!).\n",
    "3.  Create another variable called `num_pages_per_book` and assign it an\n",
    "    average number of pages per book (this can be a float, like `250.5`, or\n",
    "    an integer).\n",
    "4.  Create a third variable called `total_pages_read` and assign it the\n",
    "    result of multiplying `num_books_read` by `num_pages_per_book`.\n",
    "5.  Print out the value of `total_pages_read`.\n",
    "6.  Try using an underscore in a large number for practice, e.g.,\n",
    "    `world_population = 8_000_000_000`, and print it."
   ]
  },
  {
   "cell_type": "markdown",
   "id": "7786af07",
   "metadata": {},
   "source": [
    "### Float (`float`)\n",
    "These are numbers with decimal points.\n",
    "Examples: `3.14`, `-0.5`, `99.99`"
   ]
  },
  {
   "cell_type": "code",
   "execution_count": null,
   "id": "a004940c",
   "metadata": {},
   "outputs": [],
   "source": [
    "price_of_soda = 1.75\n",
    "pi_value = 3.14159\n",
    "print(price_of_soda)\n",
    "print(pi_value)"
   ]
  },
  {
   "cell_type": "markdown",
   "id": "5cf704ca",
   "metadata": {},
   "source": [
    "### String (`str`)\n",
    "These are sequences of characters, basically text. You usually put strings\n",
    "inside single quotes (`'...'`) or double quotes (`\"...\"`).\n",
    "Examples: `'Hello'`, `\"Python is fun!\"`, `'123'` (this is text, not a number!)"
   ]
  },
  {
   "cell_type": "markdown",
   "id": "heads-up-string-vs-number",
   "metadata": {},
   "source": [
    "### ⚠️ Heads Up! Text `'123'` vs. Number `123`\n",
    "\n",
    "You might have noticed the example `'123'` in the string section. This is an important distinction!\n",
    "\n",
    "*   When you write `123` (without quotes), Python understands this as the **number** one hundred twenty-three. You can do math with it (e.g., `123 + 1` would be `124`).\n",
    "*   When you write `'123'` (with quotes), Python sees this as a **string** of text characters: the character '1', followed by the character '2', followed by the character '3'. You can't directly do math with it in the same way (e.g., `'123' + 1` would cause an error because Python doesn't know how to add a number to a piece of text like that).\n",
    "\n",
    "Think of it like this: the number `123` is a quantity, while the string `'123'` is like writing those digits down on a piece of paper. They look similar, but Python treats them very differently!"
   ]
  },
  {
   "cell_type": "code",
   "execution_count": null,
   "id": "2663af38",
   "metadata": {},
   "outputs": [],
   "source": [
    "my_name = \"Alex\"\n",
    "favorite_food = \"pizza\"\n",
    "print(my_name)\n",
    "print(favorite_food)"
   ]
  },
  {
   "cell_type": "markdown",
   "id": "pro-tip-f-strings",
   "metadata": {},
   "source": [
    "#### 🚀 Pro-Tip: Supercharging Strings with f-strings (Variable Interpolation)!\n",
    "\n",
    "Python has a really cool and easy way to put the values of variables directly\n",
    "inside your strings. This is called an **f-string** (formatted string\n",
    "literal), and it uses a technique called **variable interpolation**.\n",
    "\n",
    "**How it works:**\n",
    "1.  You start the string with the letter `f` right *before* the opening quote\n",
    "    (e.g., `f\"...\"` or `f'...'`).\n",
    "2.  Inside the string, wherever you want to insert the value of a variable,\n",
    "    you put the variable name inside curly braces `{}`.\n",
    "\n",
    "**Example:**\n",
    "Let's say you have a variable `player_name = \"Sparky\"` and `player_age = 10`.\n",
    "\n",
    "Instead of writing:\n",
    "```python\n",
    "# print(\"Player: \" + player_name + \", Age: \" + str(player_age)) # A bit clunky!\n",
    "```\n",
    "You can use an f-string:\n",
    "```python\n",
    "greeting = f\"Hello, {player_name}! You are {player_age} years old.\"\n",
    "print(greeting) # Output: Hello, Sparky! You are 10 years old.\n",
    "```\n",
    "Much cleaner, right? F-strings are very popular because they make creating\n",
    "dynamic text much more readable. Try creating a new code cell and\n",
    "experimenting with f-strings using the `my_name` and `my_age` variables from\n",
    "earlier!"
   ]
  },
  {
   "cell_type": "markdown",
   "id": "mini-challenge-fstrings",
   "metadata": {},
   "source": [
    "### 🎯 Mini-Challenge: f-string Power!\n",
    "\n",
    "1.  In a new Code cell:\n",
    "2.  Create a variable for your name (e.g., `my_name = \"YourName\"`).\n",
    "3.  Create a variable for your favorite hobby (e.g., `my_hobby = \"reading\"`).\n",
    "4.  Use an f-string to create a sentence that says something like: \"My name is\n",
    "    [YourName] and I love [your hobby].\"\n",
    "5.  Print the resulting sentence."
   ]
  },
  {
   "cell_type": "markdown",
   "id": "3bca44bd",
   "metadata": {},
   "source": [
    "### Boolean (`bool`)\n",
    "These can only have two values: `True` or `False`. They are super important\n",
    "for making decisions in your code.\n",
    "*(Notice the capital 'T' and 'F'!)*"
   ]
  },
  {
   "cell_type": "code",
   "execution_count": null,
   "id": "3f7ae339",
   "metadata": {},
   "outputs": [],
   "source": [
    "is_raining = False\n",
    "is_sunny = True\n",
    "print(is_raining)\n",
    "print(is_sunny)"
   ]
  },
  {
   "cell_type": "markdown",
   "id": "check-your-understanding-datatypes-fstrings",
   "metadata": {},
   "source": [
    "### ✅ Check Your Understanding!\n",
    "\n",
    "Let's see if you've got the hang of variables, data types, and f-strings!\n",
    "\n",
    "**Question 1:** Which of the following is **NOT** a valid Python variable name according to the rules and best practices we discussed?\n",
    "<ol type=\"A\">\n",
    "   <li>`user_age`</li>\n",
    "   <li>`2ndPlace`</li>\n",
    "   <li>`totalScore`</li>\n",
    "   <li>`_internal_counter`</li>\n",
    "</ol>\n",
    "\n",
    "<details>\n",
    "  <summary>Click to see the answer for Question 1</summary>\n",
    "  **Answer:** B) `2ndPlace` - Variable names cannot start with a number.\n",
    "</details>\n",
    "\n",
    "--- \n",
    "\n",
    "**Question 2:** If you have the following code:\n",
    "```python\n",
    "item_name = \"apple\"\n",
    "item_price = 0.75\n",
    "print(f\"One {item_name} costs ${item_price}.\")\n",
    "```\n",
    "What would be printed to the screen?\n",
    "<details>\n",
    "  <summary>Click to see the answer for Question 2</summary>\n",
    "  **Answer:** `One apple costs $0.75.`\n",
    "</details>"
   ]
  },
  {
   "cell_type": "markdown",
   "id": "pro-tip-syntax-highlighting",
   "metadata": {},
   "source": [
    "## 🚀 Pro-Tip: Understanding Syntax Highlighting\n",
    "\n",
    "Have you noticed how different parts of the Python code in the cells above have\n",
    "different colors? This is called **syntax highlighting**, and it's a super\n",
    "helpful feature of most code editors, including the one in Jupyter Notebooks\n",
    "(and Google Colab)!\n",
    "\n",
    "**What is it?**\n",
    "Syntax highlighting automatically colors different parts of your code—like\n",
    "variable names, numbers, text (strings), comments, and special Python\n",
    "keywords—based on what they are.\n",
    "\n",
    "**How does it help?**\n",
    "*   **Readability:** It makes code much easier to read and scan. Your eyes can\n",
    "    quickly pick out different elements.\n",
    "*   **Spotting Errors:** Sometimes, if you type something incorrectly (like\n",
    "    misspell a keyword or forget a quote for a string), the color might look\n",
    "    different than you expect, giving you an early clue that something is wrong.\n",
    "*   **Understanding Structure:** It helps you visually distinguish between\n",
    "    different components of the Python language.\n",
    "\n",
    "**Look Back and Notice:**\n",
    "Scroll back up to some of the code cells we've worked with. Pay attention to the colors:\n",
    "*   How are **variable names** (like `message`, `my_age`, `my_name`,\n",
    "    `number_of_apples`) colored?\n",
    "*   What about **literal values** like numbers (`14`, `1.75`) and text (strings\n",
    "    like `\"Hello, future programmer!\"` or `\"pizza\"`)?\n",
    "*   How does a **function call** like `print()` look different from a variable?\n",
    "*   Notice the distinct color for **comments** (lines starting with `#`).\n",
    "\n",
    "Getting used to these visual cues will make reading and writing Python code\n",
    "much more intuitive!"
   ]
  },
  {
   "cell_type": "markdown",
   "id": "execution-count-explanation",
   "metadata": {},
   "source": [
    "## Understanding Code Cell Execution 🔢\n",
    "\n",
    "When you have a **code cell**, you'll notice something like `In [ ]:` (or\n",
    "`[ ]:` in some interfaces) to its left. This is the **execution prompt**,\n",
    "and it tells you about the status of that code cell:\n",
    "\n",
    "*   `In [ ]:` (or just `[ ]:`): The empty square brackets mean this code cell\n",
    "    **has not been run yet** in the current session (since the notebook was\n",
    "    opened or the kernel was last restarted).\n",
    "*   `In [*]:` (or `[*]:`): If you see an asterisk inside the brackets, it means\n",
    "    the cell **is currently running**. For very quick operations, you might not\n",
    "    even see this, but for code that takes a few seconds or more, the asterisk\n",
    "    will show.\n",
    "*   `In [1]:`, `In [2]:`, etc. (or `[1]:`, `[2]:`): Once a cell has finished\n",
    "    running, the brackets will be filled with a **number**. This number indicates\n",
    "    the **order** in which the code cells were run. `In [1]:` was the first code\n",
    "    cell run, `In [2]:` was the second, and so on.\n",
    "\n",
    "**Why does the order matter?**\n",
    "\n",
    "Python code in a notebook often runs in a sequence. If you define a variable\n",
    "in one cell (say, `In [1]:`), you can then use that variable in a later cell\n",
    "(say, `In [2]:`). If you try to run the cell that *uses* the variable *before*\n",
    "the cell that *defines* it (or if the defining cell hasn't been run at all),\n",
    "you'll likely get an error because the variable won't exist yet!\n",
    "\n",
    "These numbers help you keep track of what's been run and in what order. This is\n",
    "very helpful for understanding the flow of your notebook and for debugging if\n",
    "things don't work as expected. If you run cells out of order, or re-run cells,\n",
    "the numbers will update to reflect the most recent execution sequence."
   ]
  },
  {
   "cell_type": "markdown",
   "id": "execution-count-example-intro",
   "metadata": {},
   "source": [
    "Try running the code cell below. Notice how the `In [ ]:` (or `[ ]:`) to its\n",
    "left changes. It might briefly show `In [*]:` (or `[*]:`) if the code takes a\n",
    "moment, and then it will show a number like `In [1]:` (or just `[1]`). If\n",
    "you've run other cells already, the number will be higher. If you run this\n",
    "cell again, the number will update to be the latest execution count."
   ]
  },
  {
   "cell_type": "code",
   "execution_count": null,
   "id": "execution-count-example-code",
   "metadata": {},
   "outputs": [],
   "source": [
    "# This is a simple code cell for demonstration.\n",
    "example_value = 10 + 5\n",
    "print(f\"The example value is: {example_value}\")\n",
    "# Now, look at the execution number to the left of this cell!"
   ]
  },
  {
   "cell_type": "markdown",
   "id": "final-challenge-intro",
   "metadata": {},
   "source": [
    "## 🎯 Final Challenge: Meet and Greet!\n",
    "\n",
    "Time to put several concepts together! In this challenge, you'll define\n",
    "variables for yourself and a friend, and then print a message combining this\n",
    "information.\n",
    "\n",
    "**Your Task:**\n",
    "\n",
    "1.  Create variables for:\n",
    "    *   Your name (e.g., `my_name`)\n",
    "    *   Your age (e.g., `my_age`)\n",
    "    *   Your friend's name (e.g., `friend_name`)\n",
    "    *   Your friend's age (e.g., `friend_age`)\n",
    "2.  Calculate the sum of your ages and store it in a new variable (e.g., `total_age`).\n",
    "3.  Using an f-string, print a message that looks like this (replace the bracketed parts with your variable values):\n",
    "    `Hello - my name is [Your Name], my friend's name is [Friend's Name], and\n",
    "    the sum of our ages is [Total Age].`\n",
    "\n",
    "Use the code cell below to complete the challenge. I've added some comments to\n",
    "guide you!"
   ]
  },
  {
   "cell_type": "code",
   "execution_count": null,
   "id": "final-challenge-code",
   "metadata": {},
   "outputs": [],
   "source": [
    "# 1. Define your variables here:\n",
    "# YOUR CODE HERE\n",
    "# my_name = ...\n",
    "# my_age = ...\n",
    "# friend_name = ...\n",
    "# friend_age = ...\n",
    "\n",
    "# 2. Calculate the sum of your ages:\n",
    "# YOUR CODE HERE\n",
    "# total_age = ...\n",
    "\n",
    "# 3. Create and print your f-string message:\n",
    "# YOUR CODE HERE\n",
    "# print(f\"...\")"
   ]
  },
  {
   "cell_type": "markdown",
   "id": "notebook-b-summary-and-next-steps",
   "metadata": {},
   "source": [
    "## 🎉 Part 2 Wrap-up & What's Next! 🎉\n",
    "\n",
    "Fantastic work! You've now taken your first real steps into Python\n",
    "programming. In this notebook, you've learned about:\n",
    "\n",
    "*   **Comments:** How to write notes in your code for yourself and others.\n",
    "*   **Variables:** What they are, how to assign values to them using `=`, and\n",
    "    best practices for naming them.\n",
    "*   **Basic Data Types:** You've been introduced to `integers`, `floats`,\n",
    "    `strings`, and `booleans` – the fundamental kinds of information Python\n",
    "    works with.\n",
    "*   **f-strings:** A powerful way to format strings and include variable values within them.\n",
    "*   **Syntax Highlighting & Code Cell Execution:** Understanding how your code\n",
    "    editor helps you and how Jupyter Notebooks run your code.\n",
    "\n",
    "You're building a great toolkit of Python knowledge! Remember to practice by\n",
    "re-running cells, trying out the mini-challenges, and experimenting with your\n",
    "own ideas.\n",
    "\n",
    "### Next Up: `intro-to-python-01-c.ipynb` 🚀\n",
    "\n",
    "In our next notebook, `intro-to-python-01-c.ipynb`, we'll continue our Python journey by exploring:\n",
    "*   **Basic Math Operations:** Performing calculations with numbers.\n",
    "*   **Working with Strings:** More ways to manipulate and combine text.\n",
    "*   **Getting User Input:** How to make your programs interactive by asking the\n",
    "    user for information.\n",
    "*   And more fun with Python!\n",
    "\n",
    "Keep up the excellent effort, and get ready for more coding adventures!"
   ]
  }
 ],
 "metadata": {
  "kernelspec": {
   "display_name": "Python 3",
   "language": "python",
   "name": "python3"
  },
  "language_info": {
   "codemirror_mode": {
    "name": "ipython",
    "version": 3
   },
   "file_extension": ".py",
   "mimetype": "text/x-python",
   "name": "python",
   "nbconvert_exporter": "python",
   "pygments_lexer": "ipython3",
   "version": "3.11.2"
  }
 },
 "nbformat": 4,
 "nbformat_minor": 5
}
