{
 "cells": [
  {
   "cell_type": "markdown",
   "id": "notebook-b-intro",
   "metadata": {},
   "source": [
    "# Python Fundamentals: Variables, Data Types, and More! 🚀\n",
    "\n",
    "Welcome to the second part of our Python adventure! In the previous notebook,\n",
    "you got familiar with Jupyter Notebooks and how to use Markdown and Code\n",
    "cells.\n",
    "\n",
    "Now, we're going to dive into the Python programming language itself. We'll\n",
    "cover some of the most fundamental building blocks:\n",
    "*   **Variables:** How to store and label information.\n",
    "*   **Comments:** Writing notes in your code.\n",
    "*   **Data Types:** The different kinds of information Python can work with.\n",
    "*   **Syntax Highlighting:** How visual cues in your editor help you understand code.\n",
    "*   **Understanding Errors:** What to do when things go wrong and how to read error messages.\n",
    "\n",
    "**Estimated Time:** 85-100 minutes\n",
    "\n",
    "Let's get started!"
   ]
  },
  {
   "cell_type": "markdown",
   "id": "what-is-programming-intro",
   "metadata": {},
   "source": [
    "## 🤔 What is Programming, Anyway?\n",
    "\n",
    "Before we jump into writing Python code, let's quickly talk about what **programming** actually means.\n",
    "\n",
    "Think of it like this: **Programming is like giving a set of instructions to a computer so it can perform a task or solve a problem.**\n",
    "\n",
    "Imagine you're explaining to a friend how to make a peanut butter and jelly sandwich. You'd give them a sequence of steps:\n",
    "1. Get two slices of bread.\n",
    "2. Spread peanut butter on one slice.\n",
    "3. Spread jelly on the other slice.\n",
    "4. Put the two slices together.\n",
    "\n",
    "Programming is very similar! You write instructions (called **code**) in a special language that the computer understands (like **Python**). The computer then follows these instructions precisely to achieve a goal.\n",
    "\n",
    "**Why do we program?**\n",
    "*   To automate tasks (let the computer do repetitive work).\n",
    "*   To create cool things like games, websites, and apps.\n",
    "*   To analyze information and discover new insights (like in science or business).\n",
    "*   To solve complex problems that would be too hard or take too long for a human to do alone.\n",
    "\n",
    "In these notebooks, you'll be learning how to write these instructions using Python. It's a creative and powerful skill! Now, let's get started with some of Python's basic building blocks."
   ]
  },
  {
   "cell_type": "markdown",
   "id": "ec8fc8db",
   "metadata": {},
   "source": [
    "## Your First Steps in Python! 🐍\n",
    "\n",
    "Alright, let's start learning Python! Python is a popular programming language\n",
    "known for being relatively easy to read and write. It's used for everything\n",
    "from websites to games to science!\n",
    "\n",
    "Don't worry if you've never programmed before. We'll start with the basics."
   ]
  },
  {
   "cell_type": "markdown",
   "id": "python-comments-explanation",
   "metadata": {},
   "source": [
    "## Leaving Notes: Comments in Python 📝\n",
    "\n",
    "Sometimes, you want to write notes in your code that the computer should\n",
    "ignore. These are called **comments**.\n",
    "\n",
    "\n",
    "In Python, anything on a line that starts with a hash symbol (`#`) is a\n",
    "comment. Python will completely ignore it when running the code."
   ]
  },
  {
   "cell_type": "code",
   "execution_count": null,
   "id": "9131897a",
   "metadata": {},
   "outputs": [],
   "source": [
    "# This is a Python comment. It won't affect the program.\n",
    "# print(\"This line is commented out, so it won't print.\")"
   ]
  },
  {
   "cell_type": "markdown",
   "id": "f3281047",
   "metadata": {},
   "source": [
    "\n",
    "**Why use comments?**\n",
    "*   **Explain your code:** Make it easier for yourself (and others!) to\n",
    "    understand what a piece of code is doing, especially if it's complex or\n",
    "    you're looking back at it after a long time.\n",
    "*   **Temporarily disable code:** If you want to stop a line of code from\n",
    "    running without deleting it, you can \"comment it out.\""
   ]
  },
  {
   "cell_type": "markdown",
   "id": "python-vs-markdown-hash",
   "metadata": {},
   "source": [
    "### ⚠️ Heads Up! `#` in Python vs. `#` in Markdown\n",
    "\n",
    "You've just seen that the hash symbol (`#`) is used for comments in Python **Code cells**.\n",
    "\n",
    "It's important to remember that in **Markdown cells** (like this one, used for text and explanations), the hash symbol (`#`) has a different job: it's used to create headings! For example, `# My Big Heading` or `## My Smaller Heading`.\n",
    "\n",
    "So, the same symbol (`#`) does different things depending on whether you're typing in a Code cell (for Python) or a Text/Markdown cell (for notes and formatting). It's a small detail, but helpful to keep in mind as you switch between writing code and writing explanations!"
   ]
  },
  {
   "cell_type": "markdown",
   "id": "mini-challenge-comments",
   "metadata": {},
   "source": [
    "### 🎯 Mini-Challenge: Add Your Own Comment!\n",
    "\n",
    "1.  Add a new **Code cell** below this one.\n",
    "2.  In the new code cell, write a comment that says something like:\n",
    "    `# This is my first Python comment!`\n",
    "3.  On the next line, try printing your name: `print(\"Your Name Here\")`\n",
    "4.  Run the cell. You should only see your name printed, not the comment!"
   ]
  },
  {
   "cell_type": "markdown",
   "id": "90023aa5",
   "metadata": {},
   "source": [
    "## What is a Variable? 📦\n",
    "\n",
    "In programming, a **variable** is like a container or a labeled box where you\n",
    "can store information. You give the box a name (the variable name), and you\n",
    "can put stuff inside it (the value).\n",
    "\n",
    "<img src=\"https://raw.githubusercontent.com/sguy/programming-and-problem-solving/main/notebooks/images/variable-boxes.png\" width=400/>\n",
    "\n",
    "For example, you could have a variable called `playerName` and store the name\n",
    "\"Sparky\" in it. Or a variable called `score` and store the number `100`."
   ]
  },
  {
   "cell_type": "code",
   "execution_count": null,
   "id": "74431371",
   "metadata": {},
   "outputs": [],
   "source": [
    "# Let's create a variable called 'message' and store some text in it.\n",
    "message = \"Hello, future programmer!\"\n",
    "\n",
    "# Now, let's see what's inside our 'message' box.\n",
    "# The 'print()' function displays things on the screen.\n",
    "print(message)"
   ]
  },
  {
   "cell_type": "markdown",
   "id": "important-note-assignment-operator",
   "metadata": {},
   "source": [
    "### ⚠️ Heads Up! The Assignment Operator (`=`)\n",
    "\n",
    "In Python (and many other programming languages), the single equals sign (`=`)\n",
    "is called the **assignment operator**.\n",
    "\n",
    "It's crucial to understand that **`=` does NOT mean \"equals\" in the same way\n",
    "it does in mathematics.**\n",
    "*   In math, `x = 5` means that `x` and `5` are the same value.\n",
    "*   In Python, `x = 5` means \"**`x` is assigned the value `5`**\" or \"store the\n",
    "    value `5` in the variable named `x`.\"\n",
    "\n",
    "Think of it as an arrow pointing from right to left: the value on the right is\n",
    "put into the variable on the left. We'll see later how Python checks if two\n",
    "things are actually equal (it uses `==`, two equals signs!). For now, just\n",
    "remember: a single `=` means \"assign this value.\""
   ]
  },
  {
   "cell_type": "markdown",
   "id": "pro-tip-variable-naming",
   "metadata": {},
   "source": [
    "### 🚀 Pro-Tip: Naming Your Variables Wisely\n",
    "\n",
    "Choosing good names for your variables makes your code much easier to read and\n",
    "understand. Here are some rules and best practices for naming variables in\n",
    "Python:\n",
    "\n",
    "**The Rules (You *must* follow these):**\n",
    "*   Variable names can only contain letters (a-z, A-Z), numbers (0-9), and\n",
    "    the underscore character (`_`).\n",
    "*   They cannot start with a number. (e.g., `1stPlace` is not allowed, but\n",
    "    `firstPlace` or `place1` is fine).\n",
    "*   Variable names are case-sensitive. This means `myVariable`, `MyVariable`,\n",
    "    and `myvariable` are all different variables.\n",
    "*   You cannot use Python's reserved keywords as variable names (e.g., you\n",
    "    can't name a variable `print`, `if`, `for`, `while`, etc., because these\n",
    "    words have special meanings in Python).\n",
    "\n",
    "**Best Practices (Good ideas to follow):**\n",
    "*   **Be Descriptive:** Choose names that clearly indicate what the variable is\n",
    "    storing. `userName` is better than `u` or `x`.\n",
    "*   **Use `snake_case` for Multi-Word Names:** This is the most common\n",
    "    convention in Python. Separate words with underscores, and use all\n",
    "    lowercase letters. For example: `player_score`, `item_list`, `first_name`.\n",
    "*   **Be Consistent:** Stick to one naming style throughout your project.\n",
    "*   **Avoid Single-Letter Names (Usually):** While `i`, `j`, `k` are sometimes\n",
    "    used for simple loop counters, and `x`, `y`, `z` for coordinates,\n",
    "    generally prefer more descriptive names.\n",
    "\n",
    "Good variable names are like good labels – they help you (and others) know\n",
    "what's inside without having to guess!"
   ]
  },
  {
   "cell_type": "markdown",
   "id": "mini-challenge-variables",
   "metadata": {},
   "source": [
    "### 🎯 Mini-Challenge: Your Own Variable!\n",
    "\n",
    "1.  Add a new **Code cell** below.\n",
    "2.  Create a variable to store your favorite color. Remember to choose a good\n",
    "    variable name (e.g., `favorite_number`).\n",
    "3.  Assign your favorite number to this\n",
    "    variable.\n",
    "4.  On the next line, use the `print()` function to display the value stored in your variable.\n",
    "5.  Run the cell to see your favorite number printed!"
   ]
  },
  {
   "cell_type": "markdown",
   "id": "43653741",
   "metadata": {},
   "source": [
    "## Basic Data Types in Python 💾\n",
    "\n",
    "Variables can hold different *types* of data. For this first look, we'll focus on two main types: **Numbers** and **Strings (text)**. Python has other important types too, which we'll explore in later notebooks.\n",
    "\n",
    "Let's explore!"
   ]
  },
  {
   "cell_type": "markdown",
   "id": "numbers-section-intro",
   "metadata": {},
   "source": [
    "### Numbers (Integers and Floats)\n",
    "\n",
    "Python is great at working with numbers! There are two main kinds of numbers we'll encounter frequently:\n",
    "\n",
    "*   **Integers (`int`):** These are whole numbers (no decimal points).\n",
    "    *   Examples: `7`, `-3`, `0`, `1000`\n",
    "*   **Floating-Point Numbers (`float`):** These are numbers with decimal points.\n",
    "    *   Examples: `3.14`, `-0.5`, `99.99`\n",
    "\n",
    "For now, you can think of them both as just \"numbers.\" Python usually figures out which kind it is automatically."
   ]
  },
  {
   "cell_type": "code",
   "execution_count": null,
   "id": "numbers-examples-code",
   "metadata": {},
   "outputs": [],
   "source": [
    "# Examples of Integers\n",
    "my_age = 14\n",
    "number_of_apples = 5\n",
    "print(\"My age is:\", my_age)\n",
    "print(\"Number of apples:\", number_of_apples)\n",
    "\n",
    "# Examples of Floats\n",
    "price_of_soda = 1.75\n",
    "pi_value = 3.14159\n",
    "temperature = -2.5 # Floats can be negative too!\n",
    "print(\"Price of soda:\", price_of_soda)\n",
    "print(\"Value of Pi:\", pi_value)\n",
    "print(\"Temperature:\", temperature)\n"
   ]
  },
  {
   "cell_type": "markdown",
   "id": "mini-challenge-numbers",
   "metadata": {},
   "source": [
    "### 🎯 Mini-Challenge: Number Fun!\n",
    "\n",
    "1.  In a new Code cell below:\n",
    "2.  Create a variable called `num_books_read` and assign it an integer value\n",
    "    representing how many books you've read this year (make one up if you\n",
    "    need to!).\n",
    "3.  Create another variable called `num_pages_per_book` and assign it an\n",
    "    average number of pages per book (this can be a float, like `250.5`, or\n",
    "    an integer).\n",
    "4.  Create a third variable called `total_pages_read` and assign it the\n",
    "    result of multiplying `num_books_read` by `num_pages_per_book`.\n",
    "5.  Print out the value of `total_pages_read`.\n"
   ]
  },
  {
   "cell_type": "markdown",
   "id": "5cf704ca",
   "metadata": {},
   "source": [
    "### String (`str`)\n",
    "These are sequences of characters, basically text. You usually put strings\n",
    "inside single quotes (`'...'`) or double quotes (`\"...\"`).\n",
    "Examples: `'Hello'`, `\"Python is fun!\"`, `'123'` (this is text, not a number!)"
   ]
  },
  {
   "cell_type": "markdown",
   "id": "heads-up-string-vs-number",
   "metadata": {},
   "source": [
    "### ⚠️ Heads Up! Text `'123'` vs. Number `123`\n",
    "\n",
    "You might have noticed the example `'123'` in the string section. This is an important distinction!\n",
    "\n",
    "*   When you write `123` (without quotes), Python understands this as the **number** one hundred twenty-three. You can do math with it (e.g., `123 + 1` would be `124`).\n",
    "*   When you write `'123'` (with quotes), Python sees this as a **string** of text characters: the character '1', followed by the character '2', followed by the character '3'. You can't directly do math with it in the same way (e.g., `'123' + 1` would cause an error because Python doesn't know how to add a number to a piece of text like that).\n",
    "\n",
    "Think of it like this: the number `123` is a quantity, while the string `'123'` is like writing those digits down on a piece of paper. They look similar, but Python treats them very differently!"
   ]
  },
  {
   "cell_type": "code",
   "execution_count": null,
   "id": "2663af38",
   "metadata": {},
   "outputs": [],
   "source": [
    "my_name = \"Alex\"\n",
    "favorite_food = \"pizza\"\n",
    "print(my_name)\n",
    "print(favorite_food)"
   ]
  },
  {
   "cell_type": "markdown",
   "id": "check-your-understanding-datatypes",
   "metadata": {},
   "source": [
    "### ✅ Check Your Understanding!\n",
    "\n",
    "Let's see if you've got the hang of variables and data types!\n",
    "\n",
    "**Question 1:** Which of the following is **NOT** a valid Python variable name according to the rules and best practices we discussed?\n",
    "<ol type=\"A\">\n",
    "   <li>`user_age`</li>\n",
    "   <li>`2ndPlace`</li>\n",
    "   <li>`totalScore`</li>\n",
    "   <li>`_internal_counter`</li>\n",
    "</ol>\n",
    "\n",
    "<details>\n",
    "  <summary>Click to see the answer for Question 1</summary>\n",
    "  **Answer:** B) `2ndPlace` - Variable names cannot start with a number.\n",
    "</details>"
   ]
  },
  {
   "cell_type": "markdown",
   "id": "pro-tip-syntax-highlighting",
   "metadata": {},
   "source": [
    "## 🚀 Pro-Tip: Understanding Syntax Highlighting\n",
    "\n",
    "Have you noticed how different parts of the Python code in the cells above have\n",
    "different colors? This is called **syntax highlighting**, and it's a super\n",
    "helpful feature of most code editors, including the one in Jupyter Notebooks\n",
    "(and Google Colab)!\n",
    "\n",
    "**What is it?**\n",
    "Syntax highlighting automatically colors different parts of your code—like\n",
    "variable names, numbers, text (strings), comments, and special Python\n",
    "keywords—based on what they are.\n",
    "\n",
    "**How does it help?**\n",
    "*   **Readability:** It makes code much easier to read and scan. Your eyes can\n",
    "    quickly pick out different elements.\n",
    "*   **Spotting Errors:** Sometimes, if you type something incorrectly (like\n",
    "    misspell a keyword or forget a quote for a string), the color might look\n",
    "    different than you expect, giving you an early clue that something is wrong.\n",
    "*   **Understanding Structure:** It helps you visually distinguish between\n",
    "    different components of the Python language.\n",
    "\n",
    "**Look Back and Notice:**\n",
    "Scroll back up to some of the code cells we've worked with. Pay attention to the colors:\n",
    "*   How are **variable names** (like `message`, `my_age`, `my_name`,\n",
    "    `number_of_apples`) colored?\n",
    "*   What about **literal values** like numbers (`14`, `1.75`) and text (strings\n",
    "    like `\"Hello, future programmer!\"` or `\"pizza\"`)?\n",
    "*   How does a **function call** like `print()` look different from a variable?\n",
    "*   Notice the distinct color for **comments** (lines starting with `#`).\n",
    "\n",
    "Getting used to these visual cues will make reading and writing Python code\n",
    "much more intuitive!"
   ]
  },
  {
   "cell_type": "markdown",
   "id": "error-handling-intro",
   "metadata": {},
   "source": [
    "## 🤔 What to Do When Things Go Wrong: Understanding Errors\n",
    "\n",
    "Even the most experienced programmers make mistakes! When your Python code has a problem that prevents it from running correctly, Python will stop and show you an **error message**. These messages can look intimidating at first, but they are actually your best friends for figuring out what went wrong.\n",
    "\n",
    "In programming, these issues are often called **bugs**, and the process of finding and fixing them is called **debugging**. Learning to read and understand error messages is a crucial skill.\n",
    "\n",
    "Don't worry, errors are a normal part of learning and programming. Let's look at how to make sense of them!"
   ]
  },
  {
   "cell_type": "markdown",
   "id": "error-traceback-explanation",
   "metadata": {},
   "source": [
    "### Reading the \"Traceback\"\n",
    "\n",
    "When an error occurs, Python prints a **traceback**. This shows the sequence of calls that led to the error, but for now, the most important parts are usually at the **bottom**:\n",
    "\n",
    "1.  **The Arrow (`---->`) and Line Number:** Python will often point to the exact line in your code cell where it encountered the problem.\n",
    "2.  **The Type of Error:** This tells you the general category of the error (e.g., `SyntaxError`, `NameError`, `TypeError`, `IndentationError`).\n",
    "3.  **The Error Description:** A brief explanation of what Python thinks is wrong.\n",
    "\n",
    "Let's look at a couple of common examples."
   ]
  },
  {
   "cell_type": "markdown",
   "id": "error-example1-unclosed-string-intro",
   "metadata": {},
   "source": [
    "### Example 1: The Mysterious Unclosed String (`SyntaxError`)\n",
    "\n",
    "One common mistake, especially when you're starting, is forgetting to close a string with a matching quote.\n",
    "\n",
    "**Syntax Highlighting Clue:**\n",
    "Remember how strings get a special color? If you forget to close a string, you might notice that a lot more of your code than you intended suddenly turns into the string color! This is a great visual hint from the syntax highlighter.\n",
    "Sometimes, the editor might even put a **red squiggly line** under the part it thinks is problematic, even before you run the cell.\n",
    "Let's see what happens. Try running the cell below:"
   ]
  },
  {
   "cell_type": "code",
   "execution_count": null,
   "id": "error-example1-unclosed-string-broken-code",
   "metadata": {},
   "outputs": [],
   "source": [
    "# This line has an unclosed string\n",
    "my_greeting = \"Hello, Pythonista!\n",
    "print(my_greeting)"
   ]
  },
  {
   "cell_type": "markdown",
   "id": "error-example1-unclosed-string-explanation",
   "metadata": {},
   "source": [
    "You should see an error! It will likely look something like this (the exact wording might vary slightly):\n",
    "\n",
    "```\n",
    "  File \"<ipython-input-X-XXXXXXXXXXXX>\", line 2\n",
    "    my_greeting = \"Hello, Pythonista!\n",
    "                                      ^\n",
    "SyntaxError: EOL while scanning string literal\n",
    "```\n",
    "\n",
    "Or, depending on the environment, it might complain about the `print` line because the string above it was never properly finished.\n",
    "\n",
    "**Let's break down this `SyntaxError`:**\n",
    "*   `SyntaxError`: This tells us Python found something wrong with the grammar or structure of our code.\n",
    "*   `EOL while scanning string literal`: \"EOL\" means \"End Of Line\". Python was reading a string (a \"string literal\") and hit the end of the line before it found the closing quote.\n",
    "*   The arrow `^` tries to point to where the problem is. Here, it's at the end of the unfinished string.\n",
    "\n",
    "**The Fix:**\n",
    "To fix this, we simply need to add the closing double quote (`\"`) at the end of our string.\n",
    "\n",
    "Try this corrected version in a new code cell or by editing the one above:"
   ]
  },
  {
   "cell_type": "code",
   "execution_count": null,
   "id": "error-example1-unclosed-string-fixed-code",
   "metadata": {},
   "outputs": [],
   "source": [
    "# This line has a corrected, closed string\n",
    "my_greeting = \"Hello, Pythonista!\"\n",
    "print(my_greeting)"
   ]
  },
  {
   "cell_type": "markdown",
   "id": "error-example2-indentation-intro",
   "metadata": {},
   "source": [
    "### Example 2: The Sneaky Whitespace (`IndentationError`)\n",
    "\n",
    "Python uses indentation (the spaces at the beginning of a line) to define blocks of code. Unlike many other languages, this is not just for readability; it's a strict rule! If you add extra spaces where they don't belong, Python will complain.\n",
    "\n",
    "**Syntax Highlighting Clue:**\n",
    "Syntax highlighting might *not* always catch this one before you run the code, as a line with leading spaces might still look like valid Python elements. This makes the error message even more important.\n",
    "However, some more advanced editors or linters integrated into Jupyter might show a **red squiggly line** or a warning for unexpected indentation.\n",
    "Try running the cell below, which has an unnecessary space before `user_name`:"
   ]
  },
  {
   "cell_type": "code",
   "execution_count": null,
   "id": "error-example2-indentation-broken-code",
   "metadata": {},
   "outputs": [],
   "source": [
    "# This line has an unexpected indent\n",
    " user_name = \"Ada\"\n",
    "print(user_name)"
   ]
  },
  {
   "cell_type": "markdown",
   "id": "error-example2-indentation-explanation",
   "metadata": {},
   "source": [
    "This time, you'll likely see an `IndentationError`:\n",
    "\n",
    "```\n",
    "  File \"<ipython-input-X-XXXXXXXXXXXX>\", line 2\n",
    "    user_name = \"Ada\"\n",
    "    ^\n",
    "IndentationError: unexpected indent\n",
    "```\n",
    "\n",
    "**Let's break down this `IndentationError`:**\n",
    "*   `IndentationError`: This clearly tells us the problem is with how the code is indented.\n",
    "*   `unexpected indent`: Python found spaces at the beginning of the line where it didn't expect any.\n",
    "*   The arrow `^` points to the start of the line with the faulty indentation.\n",
    "\n",
    "**The Fix:**\n",
    "The fix is simple: remove the leading space(s) from the line `user_name = \"Ada\"`. In Python, lines of code at the main level of your script or cell should not start with a space or tab unless they are part of a specific structure (like loops or functions, which we'll learn about later).\n",
    "\n",
    "Corrected code:"
   ]
  },
  {
   "cell_type": "code",
   "execution_count": null,
   "id": "error-example2-indentation-fixed-code",
   "metadata": {},
   "outputs": [],
   "source": [
    "# This line has the corrected indentation\n",
    "user_name = \"Ada\"\n",
    "print(user_name)"
   ]
  },
  {
   "cell_type": "markdown",
   "id": "error-handling-tips",
   "metadata": {},
   "source": [
    "### General Tips for Handling Errors:\n",
    "\n",
    "1.  **Don't Panic!** Everyone sees error messages. They are helpful guides.\n",
    "2.  **Read the Whole Message:** Start from the bottom (the error type and description) and work your way up if needed.\n",
    "3.  **Check the Line Number:** The traceback usually points you to the problematic line.\n",
    "4.  **Look for Typos:** Small mistakes like misspelled variable names, missing commas, parentheses, or quotes are very common. Syntax highlighting can sometimes help you spot these if a color looks \"wrong,\" or if you see a **red squiggly line** under a piece of code.\n",
    "5.  **Google It:** Copy the last line of the error message (e.g., `SyntaxError: EOL while scanning string literal`) and paste it into a search engine. You'll often find explanations and solutions from others who've had the same problem!\n",
    "6.  **Simplify:** If you wrote a lot of code and then got an error, try commenting out recent changes or running smaller parts of your code to isolate where the problem is.\n",
    "7.  **Experiment:** Try making small changes and re-running the code. This is a great way to learn.\n",
    "\n",
    "Becoming comfortable with errors is a big step in becoming a confident programmer!"
   ]
  },
  {
   "cell_type": "markdown",
   "id": "notebook-02-summary-and-next-steps",
   "metadata": {},
   "source": [
    "## 🎉 Part 2 Wrap-up & What's Next! 🎉\n",
    "\n",
    "Fantastic work! You've now taken your first real steps into Python\n",
    "programming. In this notebook, you've learned about:\n",
    "\n",
    "*   **What Programming Is:** Understanding the basic concept of giving instructions to a computer.\n",
    "*   **Comments:** How to write notes in your code for yourself and others.\n",
    "*   **Variables:** What they are, how to assign values to them using `=`, and\n",
    "    best practices for naming them.\n",
    "*   **Basic Data Types:** You've focused on `Numbers` (which include integers and floats) and `Strings` (text) – some of the fundamental kinds of information Python works with.\n",
    "*   **Syntax Highlighting & Code Cell Execution:** Understanding how your code\n",
    "    editor helps you and how Jupyter Notebooks run your code.\n",
    "\n",
    "You're building a great toolkit of Python knowledge! Remember to practice by\n",
    "re-running cells, trying out the mini-challenges, and experimenting with your\n",
    "own ideas.\n",
    "\n",
    "### Next Up: `03-shapes-and-calculations.ipynb` 🚀\n",
    "\n",
    "In our next notebook, `03-shapes-and-calculations.ipynb`, we'll continue our Python journey by exploring how to:\n",
    "*   **Basic Math Operations:** Performing calculations with numbers.\n",
    "*   **Getting User Input:** How to make your programs interactive by asking the\n",
    "    user for information.\n",
    "*   **Introducing Functions:** Writing your own reusable blocks of code.\n",
    "\n",
    "Keep up the excellent effort, and get ready for more coding adventures!"
   ]
  }
 ],
 "metadata": {
  "kernelspec": {
   "display_name": "paps-venv",
   "language": "python",
   "name": "python3"
  },
  "language_info": {
   "codemirror_mode": {
    "name": "ipython",
    "version": 3
   },
   "file_extension": ".py",
   "mimetype": "text/x-python",
   "name": "python",
   "nbconvert_exporter": "python",
   "pygments_lexer": "ipython3",
   "version": "3.10.17"
  }
 },
 "nbformat": 4,
 "nbformat_minor": 5
}
