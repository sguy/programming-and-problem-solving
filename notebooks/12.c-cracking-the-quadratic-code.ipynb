{
  "cells": [
    {
      "cell_type": "markdown",
      "id": "header-title",
      "metadata": {},
      "source": [
        "# Notebook 12.c: Cracking the Quadratic Code"
      ]
    },
    {
      "cell_type": "markdown",
      "id": "header-quote",
      "metadata": {},
      "source": [
        "> The important thing is not to stop questioning. Curiosity has its own reason for existence.\n",
        ">\n",
        "> — [Albert Einstein](https://en.wikipedia.org/wiki/Albert_Einstein)"
      ]
    },
    {
      "cell_type": "markdown",
      "id": "header-learning-objectives",
      "metadata": {},
      "source": [
        "## 🎯 Learning Objectives\n",
        "\n",
        "By the end of this notebook, you will be able to:\n",
        "- Understand that first differences are not constant for quadratic sequences.\n",
        "- Apply the \"Method of Second Differences\" to identify quadratic patterns.\n",
        "- Relate constant second differences to constant acceleration.\n",
        "- Discover the quadratic function from a sequence of numbers."
      ]
    },
    {
      "cell_type": "markdown",
      "id": "header-prerequisites",
      "metadata": {},
      "source": [
        "## 📚 Prerequisites\n",
        "\n",
        "This notebook builds on concepts from the previous lesson. Before you begin, make sure you are comfortable with:\n",
        "- Concepts from [Notebook 12.b: Finding Linear Patterns](https://colab.research.google.com/github/sguy/programming-and-problem-solving/blob/main/notebooks/12.b-finding-linear-patterns.ipynb), including the Method of First Differences and determining linear equations."
      ]
    },
    {
      "cell_type": "markdown",
      "id": "header-time-and-toc",
      "metadata": {},
      "source": [
        "*Estimated Time: 45 minutes*\n",
        "\n",
        "---\n",
        "\n",
        "[Return to Table of Contents](https://colab.research.google.com/github/sguy/programming-and-problem-solving/blob/main/notebooks/table-of-contents.ipynb)"
      ]
    },
    {
      "cell_type": "markdown",
      "id": "intro-falling-object",
      "metadata": {},
      "source": [
        "## Introduction: The Mystery of the Falling Object\n",
        "\n",
        "In the real world, things don't always follow simple linear patterns. Imagine dropping a ball from a tall building. If we measure its distance fallen over time, we might get data like this:\n",
        "\n",
        "| Time (seconds) | Distance Fallen (meters) |\n",
        "|:---------------|:-------------------------|\n",
        "| 0              | 0                        |\n",
        "| 1              | 5                        |\n",
        "| 2              | 20                       |\n",
        "| 3              | 45                       |\n",
        "| 4              | 80                       |\n",
        "| 5              | 125                      |\n",
        "\n",
        "Our goal in this notebook is to become scientific detectives and figure out the mathematical rule, or \"physical law,\" that describes how this object falls. This is a common task in science and engineering: observing data and then finding the underlying pattern."
      ]
    },
    {
      "cell_type": "code",
      "execution_count": null,
      "id": "falling-object-data",
      "metadata": {},
      "outputs": [],
      "source": [
        "times = [0, 1, 2, 3, 4, 5]\n",
        "distances = [0, 5, 20, 45, 80, 125]"
      ]
    },
    {
      "cell_type": "markdown",
      "id": "first-differences-falling-object",
      "metadata": {},
      "source": [
        "## First Differences: Not So Constant Anymore\n",
        "\n",
        "Let's apply the \"Method of First Differences\" that we learned in the previous notebook to our falling object data. First, we'll need our `calculate_differences` function."
      ]
    },
    {
      "cell_type": "code",
      "execution_count": null,
      "id": "43a28292",
      "metadata": {},
      "outputs": [],
      "source": [
        "def calculate_differences(sequence):\n",
        "    differences = []\n",
        "    for i in range(len(sequence) - 1):\n",
        "        diff = sequence[i+1] - sequence[i]\n",
        "        differences.append(diff)\n",
        "    return differences"
      ]
    },
    {
      "cell_type": "markdown",
      "id": "03d5ae6d",
      "metadata": {},
      "source": [
        "Now, let's calculate the first differences for our `distances` data:"
      ]
    },
    {
      "cell_type": "code",
      "execution_count": null,
      "id": "2f3a7d41",
      "metadata": {},
      "outputs": [],
      "source": [
        "first_differences = calculate_differences(distances)\n",
        "print(\"Distances: \" + str(distances))\n",
        "print(\"First Differences: \" + str(first_differences))"
      ]
    },
    {
      "cell_type": "markdown",
      "id": "1503a74a",
      "metadata": {},
      "source": [
        "\n",
        "Notice that the first differences are **not constant**. This tells us that the relationship between time and distance fallen is **not linear**. Instead, the differences themselves are increasing, suggesting a different kind of pattern."
      ]
    },
    {
      "cell_type": "markdown",
      "id": "second-differences-intro",
      "metadata": {},
      "source": [
        "## 🐍 New Concept: The Method of Second Differences\n",
        "\n",
        "Since the first differences weren't constant, let's try taking the differences of the differences! This is called the **Method of Second Differences**.\n",
        "\n",
        "Think of it this way: the first differences represent the **change in position** (which is speed). If the speed itself is changing, then we have **acceleration** (the change in speed). The second differences will show us if the acceleration is constant.\n",
        "\n",
        "Let's calculate the second differences using our `calculate_differences` function again, but this time on the `first_differences` list:"
      ]
    },
    {
      "cell_type": "code",
      "execution_count": null,
      "id": "676ffd9b",
      "metadata": {},
      "outputs": [],
      "source": [
        "second_differences = calculate_differences(first_differences)\n",
        "print(\"First Differences: \" + str(first_differences))\n",
        "print(\"Second Differences: \" + str(second_differences))"
      ]
    },
    {
      "cell_type": "markdown",
      "id": "3c727fbd",
      "metadata": {},
      "source": [
        "\n",
        "\n",
        "Aha! The second differences **are constant**! This is our big clue. Just as a constant first difference indicates a linear relationship, a **constant second difference indicates a quadratic relationship**."
      ]
    },
    {
      "cell_type": "markdown",
      "id": "deriving-quadratic-function",
      "metadata": {},
      "source": [
        "## 🐍 New Concept: Deriving the Quadratic Function from Differences\n",
        "\n",
        "When we have a constant second difference, we know our sequence can be described by a quadratic function of the form:\n",
        "\n",
        "$$T(n) = a \cdot n^2 + b \cdot n + c$$\n",
        "\n",
        "where `n` is the term number and $T(n)$ is the value of the sequence at that term.\n",
        "\n",
        "To find the coefficients `a`, `b`, and `c`, we can use a single, reliable method based on the values at `n=0`.\n",
        "\n",
        "### The `n=0` Formulas\n",
        "\n",
        "Let's look at a general sequence to see where the formulas come from:\n",
        "\n",
        "| n | Sequence Value:<br>$T(n) = a \cdot n^2 + b \cdot n + c$ | First Difference: <br>$d_1(n) = T(n) - T(n-1)$ | Second Difference: <br>$d_2(n) = d_1(n) - d_1(n-1)$ |\n",
        "|---|---|---|---|
",
        "| 0 | $T(0) = c$ | | |\n",
        "| 1 | $T(1) = a+b+c$ | $d_1(1) = T(1)-T(0)$ <br> $ d_1(1) = $(a + b + c) - c$ <br>  d_1(1) = $a+b$ | |\n",
        "| 2 | $T(2) = 4a+2b+c$ | $T(2)-T(1)$ <br> $3a+b$ | $d_1(2)-d_1(1)$ <br> $2a$ |\n",
        "| 3 | $T(3) = 9a+3b+c$ | $T(3)-T(2)$ <br> $5a+b$ | $d_1(3)-d_1(2)$ <br> $2a$ |\n",
        "\n",
        "This table gives us a simple, consistent set of formulas:\n",
        "\n",
        "1.  $$2a = d_2(0) \implies a = \frac{d_2(0)}{2}$$ \n",
        "2.  $$d_1(0) = a + b \implies b = d_1(0) - a$$ \n",
        "3.  $$c = T(0)$$
",
        "\n",
        "These formulas are much easier to remember and use than having separate rules for different starting points.\n",
        "\n",
        "### The Extrapolation Method: Finding the `n=0` Values\n",
        "\n",
        "But what if our data doesn't start at `n=0`? We can **extrapolate**—work backward from the data we have to find the values for $T(0)$, $d_1(0)$, and $d_2(0)$. We will see an example of this shortly.\n",
        "\n",
        "First, let's use our new formulas on the falling object data, which conveniently starts at `n=0`.\n",
        "\n",
        "**Falling Object Data:** (`n=0, 1, 2, ...`)\n",
        "`distances` ($T(n)$) `= [0, 5, 20, 45, 80, 125]`\n",
        "`first_differences` ($d_1$) `= [5, 15, 25, 35, 45]`\n",
        "`second_differences` ($d_2$) `= [10, 10, 10, 10]`\n",
        "\n",
        "Here, $T(0) = 0$, $d_1(0) = 5$, and $d_2(0) = 10$. We can directly apply the formulas:\n",
        "\n",
        "1.  **Find `a`:**\n",
        "    `a = d_2(0) / 2 = 10 / 2 = 5`\n",
        "\n",
        "2.  **Find `b`:**\n",
        "    `b = d_1(0) - a = 5 - 5 = 0`\n",
        "\n",
        "3.  **Find `c`:**\n",
        "    `c = T(0) = 0`\n",
        "\n",
        "So, the quadratic function is $T(n) = 5 \cdot n^2 + 0 \cdot n + 0$, or simply $T(n) = 5 \cdot n^2$. This matches the physical law for free fall (ignoring air resistance) where distance = 0.5 * g * t^2, and g (acceleration due to gravity) is approximately 9.8 m/s^2, so 0.5 * 9.8 = 4.9, which is close to our 5.\n",
        "\n",
        "Now, let's confirm this with our code."
      ]
    },
    {
      "cell_type": "code",
      "execution_count": null,
      "id": "falling-object-quadratic-derivation",
      "metadata": {},
      "outputs": [],
      "source": [
        "# The data starts at n=0, so we can use the values directly.\n",
        "d2_0 = second_differences[0]\n",
        "d1_0 = first_differences[0]\n",
        "T_0 = distances[0] # T(0) is the first term of the sequence\n",
        "\n",
        "# Apply the n=0 formulas\n",
        "a_fall = d2_0 / 2\n",
        "b_fall = d1_0 - a_fall\n",
        "c_fall = T_0\n",
        "\n",
        "print(\"For the falling object data:\")\n",
        "print(\"a = \" + str(a_fall))\n",
        "print(\"b = \" + str(b_fall))\n",
        "print(\"c = \" + str(c_fall))\n",
        "print(f\"Quadratic Function: T(n) = {a_fall}*n^2 + {b_fall}*n + {c_fall}\")\n",
        "\n",
        "# Let's test with n=3: 5.0 * (3**2) + 0.0 * 3 + 0.0 = 5.0 * 9 = 45.0 (Matches distances[3])"
      ]
    },
    {
      "cell_type": "markdown",
      "id": "non-zero-b-example-intro",
      "metadata": {},
      "source": [
        "## Example: A Quadratic with a Non-Zero 'b'\n",
        "\n",
        "Let's consider another sequence where the `b` coefficient is not zero. This often happens when there's an initial velocity or a linear component to the growth.\n",
        "\n",
        "Consider the sequence: `[2, 6, 12, 20, 30]`"
      ]
    },
    {
      "cell_type": "code",
      "execution_count": null,
      "id": "non-zero-b-example-data",
      "metadata": {},
      "outputs": [],
      "source": [
        "non_zero_b_sequence = [2, 6, 12, 20, 30]\n",
        "\n",
        "first_diff_non_zero_b = calculate_differences(non_zero_b_sequence)\n",
        "second_diff_non_zero_b = calculate_differences(first_diff_non_zero_b)\n",
        "\n",
        "print(\"Original Sequence: \" + str(non_zero_b_sequence))\n",
        "print(\"First Differences: \" + str(first_diff_non_zero_b))\n",
        "print(\"Second Differences: \" + str(second_diff_non_zero_b))"
      ]
    },
    {
      "cell_type": "markdown",
      "id": "non-zero-b-example-derivation",
      "metadata": {},
      "source": [
        "The second differences are constant (2), which confirms it's a quadratic sequence. However, the data starts at `n=1`. Let's use the extrapolation method to find the values for `n=0`.\n",
        "\n",
        "**Data:**\n",
        "`non_zero_b_sequence` ($T(n)$) = `[2, 6, 12, 20, 30]` for `n=1, 2, 3, 4, 5`\n",
        "`first_diff_non_zero_b` ($d_1(n)$) = `[4, 6, 8, 10]` for `n=1, 2, 3, 4`\n",
        "`second_diff_non_zero_b` ($d_2(n)$) = `[2, 2, 2]` for `n=1, 2, 3`\n",
        "\n",
        "1.  **Find $d_2(0)$:**\n",
        "    The second difference is constant, so $d_2(0) = 2$.\n",
        "\n",
        "2.  **Find $d_1(0)$:**\n",
        "    We know $d_1(1) = d_1(0) + d_2(0)$. Rearranging gives $d_1(0) = d_1(1) - d_2(0)$.\n",
        "    The first term of our calculated first differences is $d_1(1) = 4$. The constant second difference is $d_2(0) = 2$.\n",
        "    `d_1(0) = 4 - 2 = 2`.\n",
        "\n",
        "3.  **Find $T(0)$:**\n",
        "    We know $T(1) = T(0) + d_1(0)$. Rearranging gives $T(0) = T(1) - d_1(0)$.\n",
        "    The first term of our sequence is $T(1) = 2$. We just found $d_1(0) = 2$.\n",
        "    `T(0) = 2 - 2 = 0`.\n",
        "\n",
        "Now we have our `n=0` values: $T(0) = 0$, $d_1(0) = 2$, $d_2(0) = 2$. We can use the simple formulas:\n",
        "\n",
        "1.  **Find `a`:** `a = d_2(0) / 2 = 2 / 2 = 1`\n",
        "2.  **Find `b`:** `b = d_1(0) - a = 2 - 1 = 1`\n",
        "3.  **Find `c`:** `c = T(0) = 0`\n",
        "\n",
        "So, the quadratic function for this sequence is $T(n) = 1 \cdot n^2 + 1 \cdot n + 0$, or simply $T(n) = n^2 + n$.\n",
        "\n",
        "Let's confirm this with our code."
      ]
    },
    {
      "cell_type": "code",
      "execution_count": null,
      "id": "non-zero-b-quadratic-derivation",
      "metadata": {},
      "outputs": [],
      "source": [
        "# This sequence starts at n=1, so we must extrapolate to find the n=0 values.\n",
        "\n",
        "# 1. Get the first known values for the sequences.\n",
        "d2_1 = second_diff_non_zero_b[0] # This is the constant second difference, so d2_0 = d2_1\n",
        "d1_1 = first_diff_non_zero_b[0]\n",
        "T_1 = non_zero_b_sequence[0]\n",
        "\n",
        "# 2. Extrapolate backward to find the n=0 values.\n",
        "d2_0 = d2_1\n",
        "d1_0 = d1_1 - d2_0\n",
        "T_0 = T_1 - d1_0\n",
        "\n",
        "# 3. Apply the n=0 formulas.\n",
        "a_non_zero_b = d2_0 / 2\n",
        "b_non_zero_b = d1_0 - a_non_zero_b\n",
        "c_non_zero_b = T_0\n",
        "\n",
        "print(\"For the non-zero b example data (starting at n=1):\")\n",
        "print(f\"Extrapolated n=0 values: T(0)={T_0}, d_1(0)={d1_0}, d_2(0)={d2_0}\")\n",
        "print(\"a = \" + str(a_non_zero_b))\n",
        "print(\"b = \" + str(b_non_zero_b))\n",
        "print(\"c = \" + str(c_non_zero_b))\n",
        "print(f\"Quadratic Function: T(n) = {a_non_zero_b}*n^2 + {b_non_zero_b}*n + {c_non_zero_b}\")"
      ]
    },
    {
      "cell_type": "markdown",
      "id": "challenge-handshake-problem-desc",
      "metadata": {},
      "source": [
        "### 🎯 Mini-Challenge: The Handshake Problem\n",
        "\n",
        "Imagine a group of people in a room. If everyone shakes hands with everyone else exactly once, how many handshakes occur? This is a classic problem that leads to a quadratic pattern.\n",
        "\n",
        "Here's some data:\n",
        "\n",
        "| Number of People | Number of Handshakes |\n",
        "|:-----------------|:---------------------|\n",
        "| 1                | 0                    |\n",
        "| 2                | 1                    |\n",
        "| 3                | 3                    |\n",
        "| 4                | 6                    |\n",
        "| 5                | 10                   |\n",
        "| 6                | 15                   |\n",
        "\n",
        "Your task is to:\n",
        "1. Calculate the first differences of the \"Number of Handshakes\" sequence.\n",
        "2. Calculate the second differences of the \"Number of Handshakes\" sequence.\n",
        "3. Based on the constant second difference, determine the quadratic function that describes the number of handshakes for `n` people. (Hint: A quadratic function has the form $a \cdot n^2 + b \cdot n + c$).\n",
        "4. Print the first and second differences, and state the quadratic function you found."
      ]
    },
    {
      "cell_type": "code",
      "execution_count": null,
      "id": "challenge-handshake-problem-code",
      "metadata": {},
      "outputs": [],
      "source": [
        "handshake_data = [0, 1, 3, 6, 10, 15]\n",
        "\n",
        "# YOUR CODE HERE\n",
        "pass\n",
        "\n",
        "# Expected output:\n",
        "# First Differences: [1, 2, 3, 4, 5]\n",
        "# Second Differences: [1, 1, 1, 1]\n",
        "# Quadratic Function: T(n) = 0.5*n^2 + -0.5*n + 0.0"
      ]
    },
    {
      "cell_type": "markdown",
      "id": "challenge-handshake-problem-solution",
      "metadata": {},
      "source": [
        "<details>\n",
        "  <summary>Click to see a possible solution</summary>\n",
        "\n",
        "```python\n",
        "handshake_data = [0, 1, 3, 6, 10, 15] # Corresponds to n = 1, 2, 3, 4, 5, 6 people\n",
        "\n",
        "# 1. Calculate first and second differences\n",
        "first_diff_handshake = calculate_differences(handshake_data)\n",
        "second_diff_handshake = calculate_differences(first_diff_handshake)\n",
        "\n",
        "# 2. The data starts at n=1. Extrapolate to find the n=0 values.\n",
        "d2_0 = second_diff_handshake[0] # Constant difference\n",
        "d1_1 = first_diff_handshake[0]\n",
        "T_1 = handshake_data[0]\n",
        "\n",
        "d1_0 = d1_1 - d2_0\n",
        "T_0 = T_1 - d1_0\n",
        "\n",
        "# 3. Determine the quadratic function using the n=0 formulas\n",
        "a = d2_0 / 2\n",
        "b = d1_0 - a\n",
        "c = T_0\n",
        "\n",
        "# 4. Print the results\n",
        "print(\"First Differences: \" + str(first_diff_handshake))\n",
        "# Expected output: First Differences: [1, 2, 3, 4, 5]\n",
        "print(\"Second Differences: \" + str(second_diff_handshake))\n",
        "# Expected output: Second Differences: [1, 1, 1, 1]\n",
        "print(f\"Quadratic Function: T(n) = {a}*n^2 + {b}*n + {c}\")\n",
        "# Expected output: Quadratic Function: T(n) = 0.5*n^2 + -0.5*n + 0.0\n",
        "```\n",
        "</details>"
      ]
    },
    {
      "cell_type": "markdown",
      "id": "summary-and-next-steps",
      "metadata": {},
      "source": [
        "## Summary and Next Steps\n",
        "\n",
        "In this notebook, you leveled up your detective skills! You discovered that when first differences aren't constant, looking at **second differences** can reveal a deeper pattern. A constant second difference is the hallmark of a **quadratic relationship**, like the distance a falling object travels over time or the number of handshakes in a group.\n",
        "\n",
        "You learned to:\n",
        "- Identify quadratic sequences by their constant second differences.\n",
        "- Understand the connection between second differences and **acceleration**.\n",
        "- Deduce the quadratic function ($T(n) = a \cdot n^2 + b \cdot n + c$) from a sequence of numbers.\n",
        "\n",
        "### Next Up: Notebook 12.d: The Big Picture: From Differences to Rates of Change 🚀\n",
        "\n",
        "In our final notebook of this series, [Notebook 12.d: The Big Picture: From Differences to Rates of Change](https://colab.research.google.com/github/sguy/programming-and-problem-solving/blob/main/notebooks/12.d-the-big-picture.ipynb), we'll bring together everything we've learned about differences, functions, and plots to explore the powerful concept of rates of change and how they connect to calculus!\n",
        "\n",
        "[Return to Table of Contents](https://colab.research.google.com/github/sguy/programming-and-problem-solving/blob/main/notebooks/table-of-contents.ipynb)"
      ]
    }
  ],
  "metadata": {
    "kernelspec": {
      "display_name": "Python 3",
      "language": "python",
      "name": "python3"
    },
    "language_info": {
      "codemirror_mode": {
        "name": "ipython",
        "version": 3
      },
      "file_extension": ".py",
      "mimetype": "text/x-python",
      "name": "python",
      "nbconvert_exporter": "python",
      "pygments_lexer": "ipython3",
      "version": "3.11.2"
    }
  },
  "nbformat": 4,
  "nbformat_minor": 5
}