{
  "cells": [
    {
      "cell_type": "markdown",
      "id": "header-title",
      "metadata": {},
      "source": [
        "# Notebook 12.c: Cracking the Quadratic Code"
      ]
    },
    {
      "cell_type": "markdown",
      "id": "header-quote",
      "metadata": {},
      "source": [
        "> The important thing is not to stop questioning. Curiosity has its own reason for existence.\n",
        ">\n",
        "> — [Albert Einstein](https://en.wikipedia.org/wiki/Albert_Einstein)"
      ]
    },
    {
      "cell_type": "markdown",
      "id": "header-learning-objectives",
      "metadata": {},
      "source": [
        "## 🎯 Learning Objectives\n",
        "\n",
        "By the end of this notebook, you will be able to:\n",
        "- Identify a quadratic pattern by observing a non-constant first difference.\n",
        "- Apply the Method of Second Differences to confirm a quadratic relationship.\n",
        "- Interpret first and second differences as average velocity and average acceleration."
      ]
    },
    {
      "cell_type": "markdown",
      "id": "header-prerequisites",
      "metadata": {},
      "source": [
        "## 📚 Prerequisites\n",
        "\n",
        "This notebook builds on concepts from the previous lesson. Before you begin, make sure you are comfortable with:\n",
        "- Concepts from [Notebook 12.b: Finding Linear Patterns](https://colab.research.google.com/github/sguy/programming-and-problem-solving/blob/main/notebooks/12.b-finding-linear-patterns.ipynb), including the Method of First Differences and our new `calculate_differences` function."
      ]
    },
    {
      "cell_type": "markdown",
      "id": "header-time-and-toc",
      "metadata": {},
      "source": [
        "*Estimated Time: 25 minutes*\n",
        "\n",
        "---\n",
        "\n",
        "[Return to Table of Contents](https://colab.research.google.com/github/sguy/programming-and-problem-solving/blob/main/notebooks/table-of-contents.ipynb)"
      ]
    },
    {
      "cell_type": "markdown",
      "id": "intro-falling-object",
      "metadata": {},
      "source": [
        "## Introduction: The Mystery of the Falling Object\n",
        "\n",
        "In the last notebook, we saw that a constant first difference (a constant rate of change) pointed to a linear pattern. But what happens when the rate of change isn't constant? \n",
        "\n",
        "Let's investigate data from a falling object, with `time` as our independent variable and `distance` as our dependent variable."
      ]
    },
    {
      "cell_type": "code",
      "id": "falling-object-data",
      "metadata": {},
      "execution_count": null,
      "outputs": [],
      "source": [
        "times = [0, 1, 2, 3, 4, 5]\n",
        "distances = [0, 5, 20, 45, 80, 125]"
      ]
    },
    {
      "cell_type": "markdown",
      "id": "first-differences-falling-object",
      "metadata": {},
      "source": [
        "## First Differences: A Non-Constant Rate of Change\n",
        "\n",
        "Let's apply the Method of First Differences to see how the sensitivity of position to time (the rate of change) behaves."
      ]
    },
    {
      "cell_type": "code",
      "id": "43a28292",
      "metadata": {},
      "execution_count": null,
      "outputs": [],
      "source": [
        "from math import nan\n",
        "\n",
        "def calculate_differences(sequence, num_pads=1):\n",
        "    \"\"\"Calculates the difference between consecutive elements in a list.\n",
        "    \n",
        "    Returns a new list of the same length, padded with `nan` at the beginning.\n",
        "    \"\"\"\n",
        "    differences = []\n",
        "    # Start from the second element to calculate the first difference\n",
        "    for i in range(1, len(sequence)): \n",
        "        # Check if either value is nan before subtracting\n",
        "        if sequence[i] is not nan and sequence[i-1] is not nan:\n",
        "            diff = sequence[i] - sequence[i-1]\n",
        "            differences.append(diff)\n",
        "        else:\n",
        "            # If we can't calculate a difference, that spot is also nan\n",
        "            differences.append(nan)\n",
        "            \n",
        "    return [nan] * num_pads + differences\n",
        "\n",
        "d1 = calculate_differences(distances)\n",
        "print(f\"Distances T(n): {distances}\")\n",
        "print(f\"First Differences d1(n): {d1}\")"
      ]
    },
    {
      "cell_type": "markdown",
      "id": "1503a74a",
      "metadata": {},
      "source": [
        "As we can see, the first differences are **not constant**. This tells us the relationship is **not linear**.\n",
        "\n",
        "The first difference represents the change in position over a change in time, which is the **average velocity**. Since the values `[5, 15, 25, 35, 45]` are increasing, it means the object's average velocity is increasing—it's accelerating!"
      ]
    },
    {
      "cell_type": "markdown",
      "id": "second-differences-intro",
      "metadata": {},
      "source": [
        "## 🐍 New Concept: The Method of Second Differences\n",
        "\n",
        "Since the rate of change itself is changing, let's analyze the *rate of change of the rate of change*. We can do this by taking the difference *of the differences*. This is called the **Method of Second Differences**.\n",
        "\n",
        "If the first difference is average velocity, then the second difference represents the change in velocity over time, which is **average acceleration**."
      ]
    },
    {
      "cell_type": "code",
      "id": "676ffd9b",
      "metadata": {},
      "execution_count": null,
      "outputs": [],
      "source": [
        "d2 = calculate_differences(d1, num_pads=2)\n",
        "print(f\"First Differences d1(n):  {d1}\")\n",
        "print(f\"Second Differences d2(n): {d2}\")"
      ]
    },
    {
      "cell_type": "markdown",
      "id": "3c727fbd",
      "metadata": {},
      "source": [
        "Aha! The second differences **are constant**. This is our big clue.\n",
        "\n",
        "> If the second difference is constant (and not zero), the original sequence was generated by a **quadratic function (a polynomial of degree 2)**.\n",
        "\n",
        "Just as a constant first difference indicates a linear relationship (constant average velocity), a constant second difference indicates a quadratic relationship (constant average acceleration)."
      ]
    },
    {
      "cell_type": "markdown",
      "id": "challenge-is-quadratic",
      "metadata": {},
      "source": [
        "### 🎯 Mini-Challenge: Is it Quadratic?\n",
        "\n",
        "Your goal is to write a function `is_quadratic(data)` that takes a list of numbers and returns `True` if the sequence is quadratic and `False` otherwise. Remember the rules we've learned!\n",
        "\n",
        "- A sequence is **not** quadratic if its first differences are constant.\n",
        "- A sequence **is** quadratic if its second differences are constant (and not all zero)."
      ]
    },
    {
      "cell_type": "code",
      "id": "is-quadratic-code",
      "metadata": {},
      "execution_count": null,
      "outputs": [],
      "source": [
        "def is_constant(sequence):\n",
        "    \"\"\"Helper function to check if all non-nan elements in a list are the same.\"\"\"\n",
        "    # Filter out nan values first\n",
        "    valid_values = [item for item in sequence if item is not nan]\n",
        "    if not valid_values:\n",
        "        return True\n",
        "    first_item = valid_values[0]\n",
        "    for item in valid_values:\n",
        "        if item != first_item:\n",
        "            return False\n",
        "    return True\n",
        "\n",
        "def is_quadratic(data):\n",
        "    # A sequence must have at least 4 points to determine if it's quadratic\n",
        "    if len(data) < 4:\n",
        "        return False\n",
        "\n",
        "    d1 = calculate_differences(data, num_pads=1)\n",
        "    # If the first difference is constant, it's linear or constant, not quadratic.\n",
        "    if is_constant(d1):\n",
        "        return False\n",
        "\n",
        "    d2 = calculate_differences(d1, num_pads=2)\n",
        "    # It's quadratic if the second difference is constant and not zero.\n",
        "    valid_d2 = [item for item in d2 if item is not nan]\n",
        "    return is_constant(d2) and valid_d2 and valid_d2[0] != 0\n",
        "\n",
        "# Test cases\n",
        "linear_seq = [3, 6, 9, 12]\n",
        "quadratic_seq = [0, 5, 20, 45, 80]\n",
        "cubic_seq = [0, 1, 8, 27, 64]\n",
        "constant_seq = [5, 5, 5, 5]\n",
        "\n",
        "print(f\"Is {linear_seq} quadratic? {is_quadratic(linear_seq)}\")\n",
        "print(f\"Is {quadratic_seq} quadratic? {is_quadratic(quadratic_seq)}\")\n",
        "print(f\"Is {cubic_seq} quadratic? {is_quadratic(cubic_seq)}\")\n",
        "print(f\"Is {constant_seq} quadratic? {is_quadratic(constant_seq)}\")\n",
        "\n",
        "assert not is_quadratic(linear_seq)\n",
        "assert is_quadratic(quadratic_seq)\n",
        "assert not is_quadratic(cubic_seq)\n",
        "assert not is_quadratic(constant_seq)\n",
        "print('\nSuccess!')"
      ]
    },
    {
      "cell_type": "markdown",
      "id": "summary-and-next-steps",
      "metadata": {},
      "source": [
        "## Summary and Next Steps\n",
        "\n",
        "In this notebook, you discovered that when the first difference isn't constant, looking at the **second difference** can reveal a deeper pattern. A constant second difference is the hallmark of a **quadratic relationship**.\n",
        "\n",
        "### Key Takeaways:\n",
        "- The first difference, $d_1(n)$, measures the **average velocity** (rate of change).\n",
        "- The second difference, $d_2(n)$, measures the **average acceleration** (the rate of change of the rate of change).\n",
        "- If the first difference is not constant, but the second difference is, the sequence is quadratic.\n",
        "\n",
        "### Next Up: Notebook 12.d: The Method of Differences 🚀\n",
        "\n",
        "We've seen that we can *identify* linear and quadratic sequences, but how do we use this information to find the exact formula that generates them? In our next notebook, [Notebook 12.d: The Method of Differences](), we'll learn a systematic way to derive the coefficients of these functions."
      ]
    }
  ],
  "metadata": {
    "kernelspec": {
      "display_name": "Python 3",
      "language": "python",
      "name": "python3"
    },
    "language_info": {
      "codemirror_mode": {
        "name": "ipython",
        "version": 3
      },
      "file_extension": ".py",
      "mimetype": "text/x-python",
      "name": "python",
      "nbconvert_exporter": "python",
      "pygments_lexer": "ipython3",
      "version": "3.11.2"
    }
  },
  "nbformat": 4,
  "nbformat_minor": 5
}