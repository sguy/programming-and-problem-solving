{
  "cells": [
    {
      "cell_type": "markdown",
      "id": "header-title",
      "metadata": {},
      "source": [
        "# 12.c: Cracking the Quadratic Code"
      ]
    },
    {
      "cell_type": "markdown",
      "id": "header-quote",
      "metadata": {},
      "source": [
        "> The important thing is not to stop questioning. Curiosity has its own reason for existence.\n",
        ">\n",
        "> — [Albert Einstein](https://en.wikipedia.org/wiki/Albert_Einstein)"
      ]
    },
    {
      "cell_type": "markdown",
      "id": "header-learning-objectives",
      "metadata": {},
      "source": [
        "## 🎯 Learning Objectives\n",
        "\n",
        "By the end of this notebook, you will be able to:\n",
        "- Identify a quadratic pattern by observing a non-constant first difference.\n",
        "- Apply the Method of Second Differences to confirm a quadratic relationship.\n",
        "- Interpret first and second differences as average velocity and average acceleration."
      ]
    },
    {
      "cell_type": "markdown",
      "id": "header-prerequisites",
      "metadata": {},
      "source": [
        "## 📚 Prerequisites\n",
        "\n",
        "This notebook builds on concepts from the previous lesson. Before you begin, make sure you are comfortable with:\n",
        "- Concepts from [Notebook 12.b: Finding Linear Patterns](https://colab.research.google.com/github/sguy/programming-and-problem-solving/blob/main/notebooks/12.b-finding-linear-patterns.ipynb), including the Method of First Differences and our `calculate_differences` function."
      ]
    },
    {
      "cell_type": "markdown",
      "id": "header-time-and-toc",
      "metadata": {},
      "source": [
        "*Estimated Time: 30 minutes*\n",
        "\n",
        "---\n",
        "\n",
        "[Return to Table of Contents](https://colab.research.google.com/github/sguy/programming-and-problem-solving/blob/main/notebooks/table-of-contents.ipynb)"
      ]
    },
    {
      "cell_type": "markdown",
      "id": "intro-new-mystery",
      "metadata": {},
      "source": [
        "## Introduction: A New Mystery\n",
        "\n",
        "In our last investigation, we found that a **constant first difference** was the tell-tale sign of a linear pattern. It was a clear clue that the underlying rule was a polynomial of degree 1.\n",
        "\n",
        "But what happens when our first clue comes up empty? What if the first difference is *not* constant? Does that mean there's no pattern, or is it just a sign of a different kind of pattern?\n",
        "\n",
        "Let's become data detectives again and investigate a new set of data from a falling object. This time, we'll see what happens when we have to dig a little deeper to find the truth."
      ]
    },
    {
      "cell_type": "markdown",
      "id": "setup-section",
      "metadata": {},
      "source": [
        "## 🛠️ Setup: Our Detective Kit\n",
        "\n",
        "Just like last time, we'll need our standard kit of helper functions and libraries to help us with the investigation."
      ]
    },
    {
      "cell_type": "code",
      "execution_count": null,
      "id": "helper-functions-cell",
      "metadata": {},
      "outputs": [],
      "source": [
        "import numpy as np\n",
        "import matplotlib.pyplot as plt\n",
        "\n",
        "# A helper to calculate the differences between items in a list.\n",
        "def calculate_differences(sequence):\n",
        "    if not sequence or len(sequence) < 2:\n",
        "        return [np.nan] * len(sequence)\n",
        "\n",
        "    differences = [np.nan]\n",
        "    for i in range(1, len(sequence)):\n",
        "        # Check if either value is nan before appending\n",
        "        if np.isnan(sequence[i]) or np.isnan(sequence[i-1]):\n",
        "            differences.append(np.nan)\n",
        "        else:\n",
        "            differences.append(sequence[i] - sequence[i-1])\n",
        "    return differences"
      ]
    },
    {
      "cell_type": "markdown",
      "id": "presenting-the-data",
      "metadata": {},
      "source": [
        "### The Data\n",
        "\n",
        "Let's continue our investigation from the previous notebook. We have the data for our thrown ball, where `times` is our independent variable and `heights` is our dependent variable."
      ]
    },
    {
      "cell_type": "code",
      "execution_count": null,
      "id": "falling-object-data",
      "metadata": {},
      "outputs": [],
      "source": [
        "times = [0, 1, 2, 3, 4, 5] # seconds\n",
        "heights = [10, 55, 90, 115, 130, 135] # meters"
      ]
    },
    {
      "cell_type": "markdown",
      "id": "first-differences-falling-object",
      "metadata": {},
      "source": [
        "## First Differences: A Non-Constant Clue\n",
        "\n",
        "In the last notebook, we saw that taking the first difference of the height data gives us the average velocity. Let's apply the Method of First Differences to our `heights` data and confirm what we expect."
      ]
    },
    {
      "cell_type": "code",
      "execution_count": null,
      "id": "calculate-d1",
      "metadata": {},
      "outputs": [],
      "source": [
        "d1_heights = calculate_differences(heights)\n",
        "\n",
        "print(f\"Times:    {times}\")\n",
        "print(f\"Heights:  {heights}\")\n",
        "print(f\"d1 (Avg. Velocity): {d1_heights}\")"
      ]
    },
    {
      "cell_type": "markdown",
      "id": "interpret-d1",
      "metadata": {},
      "source": [
        "The first difference, `d1`, is `[nan, 45.0, 35.0, 25.0, 15.0, 5.0]`. This is clearly **not constant**, which confirms what we learned in the last notebook: the relationship between `time` and `height` is **not linear**.\n",
        "\n",
        "In the context of our thrown ball, the first difference of height over time represents the object's **average velocity** during each time interval. Since the values are decreasing, it means the ball is slowing down as it flies upward. Let's visualize this to make it even clearer."
      ]
    },
    {
      "cell_type": "code",
      "execution_count": null,
      "id": "plot-d1",
      "metadata": {},
      "outputs": [],
      "source": [
        "fig, (ax1, ax2) = plt.subplots(2, 1, figsize=(8, 6), sharex=True)\n",
        "fig.suptitle('Analysis of a Thrown Ball', fontsize=16)\n",
        "\n",
        "# Plot Original Sequence\n",
        "ax1.plot(times, heights, 'o-')\n",
        "ax1.set_title(\"Original Sequence (Height)\")\n",
        "ax1.set_ylabel(\"Height (m)\")\n",
        "ax1.grid(True)\n",
        "\n",
        "# Plot First Difference\n",
        "ax2.plot(times, d1_heights, 'o-', color='r')\n",
        "ax2.set_title(\"First Difference (Average Velocity)\")\n",
        "ax2.set_ylabel(\"Velocity (m/s)\")\n",
        "ax2.set_xlabel(\"Time (s)\")\n",
        "ax2.grid(True)\n",
        "\n",
        "plt.show()"
      ]
    },
    {
      "cell_type": "markdown",
      "id": "second-differences-intro",
      "metadata": {},
      "source": [
        "## 🐍 New Concept: The Method of Second Differences\n",
        "\n",
        "Since the rate of change (the velocity) is itself changing, let's analyze the *rate of change of the rate of change*. We can do this by taking the difference *of the differences*. This is called the **Method of Second Differences**.\n",
        "\n",
        "If the first difference is average velocity, then the second difference represents the change in velocity over time, which is **average acceleration**."
      ]
    },
    {
      "cell_type": "code",
      "execution_count": null,
      "id": "676ffd9b",
      "metadata": {},
      "outputs": [],
      "source": [
        "d2_heights = calculate_differences(d1_heights)\n",
        "\n",
        "print(f\"d1 (Avg. Velocity): {d1_heights}\")\n",
        "print(f\"d2 (Avg. Accel.):    {d2_heights}\")"
      ]
    },
    {
      "cell_type": "markdown",
      "id": "3c727fbd",
      "metadata": {},
      "source": [
        "Aha! The second differences **are constant** (`-10.0`). This is our big clue.\n",
        "\n",
        "> If the second difference is constant (and not zero), the original sequence was generated by a **quadratic function (a polynomial of degree 2)**.\n",
        "\n",
        "Just as a constant first difference indicates a linear relationship (constant average velocity), a constant second difference indicates a quadratic relationship (constant average acceleration). In our case, this constant acceleration is gravity!"
      ]
    },
    {
      "cell_type": "markdown",
      "id": "check-your-understanding",
      "metadata": {},
      "source": [
        "### ✅ Check Your Understanding\n",
        "\n",
        "1. You analyze the height of a rocket launching vertically. You find that its first difference ($d_1$, average velocity) is not constant, but its second difference ($d_2$, average acceleration) is a constant positive number. What can you conclude?\n",
        "\n",
        "    * a) The rocket is moving at a constant velocity.\n",
        "    * b) The rocket is not moving.\n",
        "    * c) The rocket is accelerating at a constant rate.\n",
        "    * d) The rocket's acceleration is increasing.\n",
        "\n",
        "<details><summary>Click for the answer</summary>\n",
        "\n",
        "The answer is **c) The rocket is accelerating at a constant rate.**\n",
        "\n",
        "</details>\n",
        "\n",
        "2. In our \"thrown ball\" example, the second difference was a constant *negative* number. This tells us that the ball's velocity is constantly ___________ over time.\n",
        "\n",
        "<details><summary>Click for the answer</summary>\n",
        "\n",
        "The answer is **decreasing**. Gravity is pulling it down, causing it to slow down on the way up and speed up in the negative (downward) direction on the way down.\n",
        "\n",
        "</details>\n",
        "\n",
        "3. If you analyze a sequence generated by a cubic (degree 3) polynomial, how many times would you need to take the differences to find a constant, non-zero sequence?\n",
        "\n",
        "    * a) 1\n",
        "    * b) 2\n",
        "    * c) 3\n",
        "    * d) 4\n",
        "\n",
        "<details><summary>Click for the answer</summary>\n",
        "\n",
        "The answer is **c) 3**. The Principle of Degree Reduction tells us that we reduce the polynomial's degree by one each time we take a difference. To get from degree 3 to a constant (degree 0), we need to take the difference 3 times.\n",
        "\n",
        "</details>"
      ]
    },
    {
      "cell_type": "markdown",
      "id": "challenge-2-prompt",
      "metadata": {},
      "source": [
        "### 🎯 Mini-Challenge: The Video Game Upgrade\n",
        "\n",
        "In a video game, you upgrade your resource collector. The total amount of 'space ore' you've gathered is recorded each hour: `ore_collected = [100, 120, 150, 190, 240]`.\n",
        "\n",
        "**Your Goal:**\n",
        "1. Calculate the first and second differences of the `ore_collected` data.\n",
        "2. Based on the differences, determine if the collection pattern is linear, quadratic, or something else.\n",
        "3. Interpret what the first and second differences mean in the context of the game.\n",
        "4. Create a plot showing the original `ore_collected` sequence and its first difference (`d1`) on two separate subplots."
      ]
    },
    {
      "cell_type": "code",
      "execution_count": null,
      "id": "challenge-2-starter",
      "metadata": {},
      "outputs": [],
      "source": [
        "ore_collected = [100, 120, 150, 190, 240]\n",
        "hours = list(range(len(ore_collected)))\n",
        "\n",
        "# 1. Calculate d1 and d2\n",
        "d1_ore = [] # YOUR CODE HERE\n",
        "d2_ore = [] # YOUR CODE HERE\n",
        "\n",
        "print(f\"Hours: {hours}\")\n",
        "print(f\"Ore Collected: {ore_collected}\")\n",
        "print(f\"d1 (Avg. Rate): {d1_ore}\")\n",
        "print(f\"d2 (Rate Change): {d2_ore}\")\n",
        "\n",
        "# 2. & 3. Print your conclusions about the pattern and the meaning of the differences\n",
        "# YOUR CODE HERE\n",
        "\n",
        "# 4. Create the plot\n",
        "fig, (ax1, ax2) = plt.subplots(2, 1, figsize=(8, 6), sharex=True)\n",
        "fig.suptitle('Analysis of Ore Collection Rate', fontsize=16)\n",
        "\n",
        "# YOUR CODE HERE to plot the data on ax1 and ax2\n",
        "\n",
        "plt.show()"
      ]
    },
    {
      "cell_type": "markdown",
      "id": "challenge-2-solution",
      "metadata": {},
      "source": [
        "<details>\n",
        "<summary>Click to see a possible solution</summary>\n",
        "\n",
        "```python\n",
        "ore_collected = [100, 120, 150, 190, 240]\n",
        "hours = list(range(len(ore_collected)))\n",
        "\n",
        "# 1. Calculate d1 and d2\n",
        "d1_ore = calculate_differences(ore_collected)\n",
        "d2_ore = calculate_differences(d1_ore)\n",
        "\n",
        "print(f\"Hours: {hours}\")\n",
        "print(f\"Ore Collected: {ore_collected}\")\n",
        "print(f\"d1 (Avg. Rate): {d1_ore}\")\n",
        "print(f\"d2 (Rate Change): {d2_ore}\")\n",
        "\n",
        "# 2. & 3. Print your conclusions\n",
        "print('The second difference is a constant 10, so the pattern is quadratic.')\n",
        "print('The first difference (average rate) is increasing, showing the collector is getting faster.')\n",
        "print('The second difference (rate of change) means the collection rate improves by 10 ore/hour every hour.')\n",
        "\n",
        "# 4. Create the plot\n",
        "fig, (ax1, ax2) = plt.subplots(2, 1, figsize=(8, 6), sharex=True)\n",
        "fig.suptitle('Analysis of Ore Collection Rate', fontsize=16)\n",
        "\n",
        "ax1.plot(hours, ore_collected, 'o-', label='Total Ore')\n",
        "ax1.set_title('Total Ore Collected Over Time')\n",
        "ax1.set_ylabel('Ore Units')\n",
        "ax1.grid(True)\n",
        "\n",
        "ax2.plot(hours, d1_ore, 'o-', color='r', label='Collection Rate')\n",
        "ax2.set_title('Average Collection Rate (First Difference)')\n",
        "ax2.set_ylabel('Ore per Hour')\n",
        "ax2.set_xlabel('Hour')\n",
        "ax2.grid(True)\n",
        "\n",
        "plt.show()\n",
        "```\n",
        "\n",
        "</details>"
      ]
    },
    {
      "cell_type": "markdown",
      "id": "challenge-3-prompt",
      "metadata": {},
      "source": [
        "### 🎯 Mini-Challenge: The Braking Car\n",
        "\n",
        "A car is applying its brakes. The data provided is not the total distance, but the **distance traveled in each second** (its average velocity): `distance_per_second = [25, 20, 15, 10, 5, 0]`.\n",
        "\n",
        "**Your Goal:**\n",
        "1. You are given the velocity data directly. Calculate the first difference of this data to find the acceleration.\n",
        "2. Is the acceleration constant? What does the value mean?\n",
        "3. Create a plot showing the `distance_per_second` (velocity) and its first difference (acceleration) on two separate subplots."
      ]
    },
    {
      "cell_type": "code",
      "execution_count": null,
      "id": "challenge-3-starter",
      "metadata": {},
      "outputs": [],
      "source": [
        "distance_per_second = [25, 20, 15, 10, 5, 0]\n",
        "time = list(range(len(distance_per_second)))\n",
        "\n",
        "# 1. Calculate the first difference of the velocity data\n",
        "acceleration = [] # YOUR CODE HERE\n",
        "\n",
        "print(f\"Time: {time}\")\n",
        "print(f\"Velocity (m/s): {distance_per_per_second}\")\n",
        "print(f\"Acceleration (m/s²): {acceleration}\")\n",
        "\n",
        "# 2. Print your conclusion\n",
        "# YOUR CODE HERE\n",
        "\n",
        "# 3. Create the plot\n",
        "fig, (ax1, ax2) = plt.subplots(2, 1, figsize=(8, 6), sharex=True)\n",
        "fig.suptitle('Analysis of a Braking Car', fontsize=16)\n",
        "\n",
        "# YOUR CODE HERE to plot the data on ax1 and ax2\n",
        "\n",
        "plt.show()"
      ]
    },
    {
      "cell_type": "markdown",
      "id": "challenge-3-solution",
      "metadata": {},
      "source": [
        "<details>\n",
        "<summary>Click to see a possible solution</summary>\n",
        "\n",
        "```python\n",
        "distance_per_second = [25, 20, 15, 10, 5, 0]\n",
        "time = list(range(len(distance_per_second)))\n",
        "\n",
        "# 1. Calculate the first difference of the velocity data\n",
        "acceleration = calculate_differences(distance_per_second)\n",
        "\n",
        "print(f\"Time: {time}\")\n",
        "print(f\"Velocity (m/s): {distance_per_second}\")\n",
        "print(f\"Acceleration (m/s²): {acceleration}\")\n",
        "\n",
        "# 2. Print your conclusion\n",
        "print('Yes, the acceleration is constant at -5 m/s².')\n",
        "\n",
        "# 3. Create the plot\n",
        "fig, (ax1, ax2) = plt.subplots(2, 1, figsize=(8, 6), sharex=True)\n",
        "fig.suptitle('Analysis of a Braking Car', fontsize=16)\n",
        "\n",
        "ax1.plot(time, distance_per_second, 'o-', label='Velocity')\n",
        "ax1.set_title('Average Velocity Over Time')\n",
        "ax1.set_ylabel('Velocity (m/s)')\n",
        "ax1.grid(True)\n",
        "\n",
        "ax2.plot(time, acceleration, 'o-', color='r', label='Acceleration')\n",
        "ax2.set_title('Average Acceleration (First Difference of Velocity)')\n",
        "ax2.set_ylabel('Acceleration (m/s²)')\n",
        "ax2.set_xlabel('Time (s)')\n",
        "ax2.grid(True)\n",
        "\n",
        "plt.show()\n",
        "```\n",
        "\n",
        "</details>"
      ]
    },
    {
      "cell_type": "markdown",
      "id": "summary-and-next-steps",
      "metadata": {},
      "source": [
        "## Summary and Next Steps\n",
        "\n",
        "In this notebook, you discovered that when the first difference isn't constant, looking at the **second difference** can reveal a deeper pattern. A constant second difference is the hallmark of a **quadratic relationship**.\n",
        "\n",
        "### Key Takeaways:\n",
        "- The first difference, $d_1(n)$, measures the **average velocity** (rate of change).\n",
        "- The second difference, $d_2(n)$, measures the **average acceleration** (the rate of change of the rate of change).\n",
        "- If the first difference is not constant, but the second difference is, the sequence is quadratic.\n",
        "\n",
        "### Next Up: Notebook 12.d: The Method of Differences 🚀\n",
        "\n",
        "We've seen that we can *identify* linear and quadratic sequences, but how do we use this information to find the exact formula that generates them? In our next notebook, [Notebook 12.d: The Method of Differences](), we'll learn a systematic way to derive the coefficients of these functions."
      ]
    }
  ],
  "metadata": {
    "kernelspec": {
      "display_name": "Python 3",
      "language": "python",
      "name": "python3"
    },
    "language_info": {
      "codemirror_mode": {
        "name": "ipython",
        "version": 3
      },
      "file_extension": ".py",
      "mimetype": "text/x-python",
      "name": "python",
      "nbconvert_exporter": "python",
      "pygments_lexer": "ipython3",
      "version": "3.11.2"
    }
  },
  "nbformat": 4,
  "nbformat_minor": 5
}
