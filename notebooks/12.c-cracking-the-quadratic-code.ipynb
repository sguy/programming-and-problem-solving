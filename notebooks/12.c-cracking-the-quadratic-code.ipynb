{
  "cells": [
    {
      "cell_type": "markdown",
      "id": "header-title",
      "metadata": {},
      "source": [
        "# 12.c: Cracking the Quadratic Code"
      ]
    },
    {
      "cell_type": "markdown",
      "id": "header-quote",
      "metadata": {},
      "source": [
        "> The important thing is not to stop questioning. Curiosity has its own reason for existence.\n",
        ">\n",
        "> — [Albert Einstein](https://en.wikipedia.org/wiki/Albert_Einstein)"
      ]
    },
    {
      "cell_type": "markdown",
      "id": "header-learning-objectives",
      "metadata": {},
      "source": [
        "## 🎯 Learning Objectives\n",
        "\n",
        "By the end of this notebook, you will be able to:\n",
        "- Identify a quadratic pattern by observing a non-constant first difference.\n",
        "- Apply the Method of Second Differences to confirm a quadratic relationship.\n",
        "- Interpret first and second differences as average velocity and average acceleration."
      ]
    },
    {
      "cell_type": "markdown",
      "id": "header-prerequisites",
      "metadata": {},
      "source": [
        "## 📚 Prerequisites\n",
        "\n",
        "This notebook builds on concepts from the previous lesson. Before you begin, make sure you are comfortable with:\n",
        "- Concepts from [Notebook 12.b: Finding Linear Patterns](https://colab.research.google.com/github/sguy/programming-and-problem-solving/blob/main/notebooks/12.b-finding-linear-patterns.ipynb), including the Method of First Differences and our `calculate_differences` function."
      ]
    },
    {
      "cell_type": "markdown",
      "id": "header-time-and-toc",
      "metadata": {},
      "source": [
        "*Estimated Time: 30 minutes*\n",
        "\n",
        "---\n",
        "\n",
        "[Return to Table of Contents](https://colab.research.google.com/github/sguy/programming-and-problem-solving/blob/main/notebooks/table-of-contents.ipynb)"
      ]
    },
    {
      "cell_type": "markdown",
      "id": "intro-new-mystery",
      "metadata": {},
      "source": [
        "## Introduction: A New Mystery\n",
        "\n",
        "In our last investigation, we found that a **constant first difference** was the tell-tale sign of a linear pattern. It was a clear clue that the underlying rule was a polynomial of degree 1.\n",
        "\n",
        "But what happens when our first clue comes up empty? What if the first difference is *not* constant? Does that mean there's no pattern, or is it just a sign of a different kind of pattern?\n",
        "\n",
        "Let's become data detectives again and investigate a new set of data from a falling object. This time, we'll see what happens when we have to dig a little deeper to find the truth."
      ]
    },
    {
      "cell_type": "markdown",
      "id": "setup-section",
      "metadata": {},
      "source": [
        "## 🛠️ Setup: Our Detective Kit\n",
        "\n",
        "Just like last time, we'll need our standard kit of helper functions and libraries to help us with the investigation."
      ]
    },
    {
      "cell_type": "code",
      "id": "helper-functions-cell",
      "metadata": {},
      "execution_count": null,
      "outputs": [],
      "source": [
        "import numpy as np\n",
        "import matplotlib.pyplot as plt\n",
        "\n",
        "def get_function_values(func, domain):\n",
        "    codomain = []\n",
        "    for x in domain:\n",
        "        codomain.append(func(x))\n",
        "    return codomain\n",
        "\n",
        "def calculate_differences(sequence):\n",
        "    if not sequence or len(sequence) < 2:\n",
        "        return [np.nan] * len(sequence)\n",
        "\n",
        "    differences = [np.nan]\n",
        "    for i in range(1, len(sequence)):\n",
        "        differences.append(sequence[i] - sequence[i-1])\n",
        "    return differences"
      ]
    },
    {
      "cell_type": "markdown",
      "id": "presenting-the-data",
      "metadata": {},
      "source": [
        "### The Data\n",
        "\n",
        "Here is the data for our new case. `times` is our independent variable (x-axis) and `distances` is our dependent variable (y-axis)."
      ]
    },
    {
      "cell_type": "code",
      "id": "falling-object-data",
      "metadata": {},
      "execution_count": null,
      "outputs": [],
      "source": [
        "times = [0, 1, 2, 3, 4, 5]\n",
        "distances = [0, 5, 20, 45, 80, 125]"
      ]
    },
    {
      "cell_type": "markdown",
      "id": "first-differences-falling-object",
      "metadata": {},
      "source": [
        "## First Differences: A Non-Constant Clue\n",
        "\n",
        "Let's apply the Method of First Differences to our `distances` data. What will this tell us?"
      ]
    },
    {
      "cell_type": "code",
      "id": "calculate-d1",
      "metadata": {},
      "execution_count": null,
      "outputs": [],
      "source": [
        "d1_distances = calculate_differences(distances)\n",
        "\n",
        "print(f\"Times:     {times}\")\n",
        "print(f\"Distances: {distances}\")\n",
        "print(f\"d1:        {d1_distances}\")"
      ]
    },
    {
      "cell_type": "markdown",
      "id": "interpret-d1",
      "metadata": {},
      "source": [
        "The first difference, `d1`, is `[nan, 5, 15, 25, 35, 45]`. This is clearly **not constant**, which is our first major clue: the relationship between `time` and `distance` is **not linear**.\n",
        "\n",
        "In the context of a falling object, the first difference of distance over time represents the object's **average velocity** during each time interval. Since the values are increasing, it means the object is speeding up—it's accelerating! Let's visualize this to make it even clearer."
      ]
    },
    {
      "cell_type": "code",
      "id": "plot-d1",
      "metadata": {},
      "execution_count": null,
      "outputs": [],
      "source": [
        "fig, (ax1, ax2) = plt.subplots(2, 1, figsize=(8, 6), sharex=True)\n",
        "fig.suptitle('Analysis of a Falling Object', fontsize=16)\n",
        "\n",
        "# Plot Original Sequence\n",
        "ax1.plot(times, distances, 'o-')\n",
        "ax1.set_title(\"Original Sequence (Distances)\")\n",
        "ax1.set_ylabel(\"Distance (m)\")\n",
        "ax1.grid(True)\n",
        "\n",
        "# Plot First Difference\n",
        "ax2.plot(times, d1_distances, 'o-', color='r')\n",
        "ax2.set_title(\"First Difference (Average Velocity)\")\n",
        "ax2.set_ylabel(\"Velocity (m/s)\")\n",
        "ax2.set_xlabel(\"Time (s)\")\n",
        "ax2.grid(True)\n",
        "\n",
        "plt.show()"
      ]
    },
    {
      "cell_type": "markdown",
      "id": "second-differences-intro",
      "metadata": {},
      "source": [
        "## 🐍 New Concept: The Method of Second Differences\n",
        "\n",
        "Since the rate of change itself is changing, let's analyze the *rate of change of the rate of change*. We can do this by taking the difference *of the differences*. This is called the **Method of Second Differences**.\n",
        "\n",
        "If the first difference is average velocity, then the second difference represents the change in velocity over time, which is **average acceleration**."
      ]
    },
    {
      "cell_type": "code",
      "id": "676ffd9b",
      "metadata": {},
      "execution_count": null,
      "outputs": [],
      "source": [
        "d2_distances = calculate_differences(d1_distances)\n",
        "\n",
        "print(f\"d1: {d1_distances}\")\n",
        "print(f\"d2: {d2_distances}\")"
      ]
    },
    {
      "cell_type": "markdown",
      "id": "3c727fbd",
      "metadata": {},
      "source": [
        "Aha! The second differences **are constant**. This is our big clue.\n",
        "\n",
        "> If the second difference is constant (and not zero), the original sequence was generated by a **quadratic function (a polynomial of degree 2)**.\n",
        "\n",
        "Just as a constant first difference indicates a linear relationship (constant average velocity), a constant second difference indicates a quadratic relationship (constant average acceleration)."
      ]
    },
    {
      "cell_type": "markdown",
      "id": "challenge-is-quadratic-desc",
      "metadata": {},
      "source": [
        "### 🎯 Mini-Challenge: The Quadratic Detective\n",
        "\n",
        "Your goal is to write a function `is_quadratic(data)` that takes a list of numbers and returns `True` if the sequence is quadratic and `False` otherwise. We have provided the `is_constant` helper function for you. Remember the rules for a quadratic sequence!\n",
        "\n",
        "- The first difference is **not** constant.\n",
        "- The second difference **is** constant and **not** zero."
      ]
    },
    {
      "cell_type": "markdown",
      "id": "challenge-is-quadratic-hints",
      "metadata": {},
      "source": [
        "<details>\n",
        "<summary>Hint: Where to start?</summary>\n",
        "\n",
        "A sequence needs at least 4 points to have a meaningful second difference. Your function should probably handle shorter lists first by returning `False`.\n",
        "\n",
        "</details>\n",
        "<details>\n",
        "<summary>Hint: What are the steps?</summary>\n",
        "\n",
        "1.  Calculate the first difference (`d1`).\n",
        "2.  Check if `d1` is constant using the provided helper. If it is, the sequence can't be quadratic, so you should `return False`.\n",
        "3.  If `d1` is *not* constant, then calculate the second difference (`d2`).\n",
        "4.  Check if `d2` is constant and not zero.\n",
        "\n",
        "</details>\n",
        "<details>\n",
        "<summary>Hint: How to check if the second difference is zero?</summary>\n",
        "\n",
        "After you confirm the second difference is constant, you need to get one of its valid (non-nan) values and check if it's zero. You can create a list of valid values like this: `valid_d2 = [item for item in d2 if not np.isnan(item)]`. Then you can check the first item in that list, `valid_d2[0]`.\n",
        "\n",
        "</details>"
      ]
    },
    {
      "cell_type": "code",
      "id": "challenge-is-quadratic-starter",
      "metadata": {},
      "execution_count": null,
      "outputs": [],
      "source": [
        "# We need to use numpy to check for nan values\n",
        "import numpy as np\n",
        "\n",
        "def is_constant(sequence):\n",
        "    \"\"\"Helper function to check if all non-nan elements in a list are the same.\"\"\"\n",
        "    valid_values = []\n",
        "    for item in sequence:\n",
        "        if not np.isnan(item):\n",
        "            valid_values.append(item)\n",
        "\n",
        "    if len(valid_values) < 2:\n",
        "        return True # A sequence with 0 or 1 valid items is constant\n",
        "    first_item = valid_values[0]\n",
        "    for item in valid_values[1:]:\n",
        "        if item != first_item:\n",
        "            return False\n",
        "    return True\n",
        "\n",
        "def is_quadratic(data):\n",
        "    # YOUR CODE HERE\n",
        "    return False # Placeholder\n",
        "\n",
        "# Test cases\n",
        "linear_seq = [3, 6, 9, 12]\n",
        "quadratic_seq = [0, 5, 20, 45, 80]\n",
        "cubic_seq = [0, 1, 8, 27, 64]\n",
        "constant_seq = [5, 5, 5, 5]\n",
        "\n",
        "print(f\"Is {linear_seq} quadratic? {is_quadratic(linear_seq)}\")\n",
        "print(f\"Is {quadratic_seq} quadratic? {is_quadratic(quadratic_seq)}\")\n",
        "print(f\"Is {cubic_seq} quadratic? {is_quadratic(cubic_seq)}\")\n",
        "print(f\"Is {constant_seq} quadratic? {is_quadratic(constant_seq)}\")"
      ]
    },
    {
      "cell_type": "markdown",
      "id": "challenge-is-quadratic-solution",
      "metadata": {},
      "source": [
        "<details>\n",
        "<summary>Click to see a possible solution</summary>\n",
        "\n",
        "```python\n",
        "def is_quadratic(data):\n",
        "    # A sequence must have at least 4 points to determine if it's quadratic\n",
        "    if len(data) < 4:\n",
        "        return False\n",
        "\n",
        "    d1 = calculate_differences(data)\n",
        "    # If the first difference is constant, it's linear or constant, not quadratic.\n",
        "    if is_constant(d1):\n",
        "        return False\n",
        "\n",
        "    d2 = calculate_differences(d1)\n",
        "    \n",
        "    # It's quadratic if the second difference is constant and not zero.\n",
        "    valid_d2 = []\n",
        "    for item in d2:\n",
        "        if not np.isnan(item):\n",
        "            valid_d2.append(item)\n",
        "    \n",
        "    # Check if the second difference is constant and not zero\n",
        "    return is_constant(d2) and valid_d2 and valid_d2[0] != 0\n",
        "\n",
        "# Rerunning the test cases with the solution\n",
        "print(f\"Is {linear_seq} quadratic? {is_quadratic(linear_seq)}\")\n",
        "print(f\"Is {quadratic_seq} quadratic? {is_quadratic(quadratic_seq)}\")\n",
        "print(f\"Is {cubic_seq} quadratic? {is_quadratic(cubic_seq)}\")\n",
        "print(f\"Is {constant_seq} quadratic? {is_quadratic(constant_seq)}\")\n",
        "\n",
        "# Expected output:\n",
        "# Is [3, 6, 9, 12] quadratic? False\n",
        "# Is [0, 5, 20, 45, 80] quadratic? True\n",
        "# Is [0, 1, 8, 27, 64] quadratic? False\n",
        "# Is [5, 5, 5, 5] quadratic? False\n",
        "```\n",
        "\n",
        "</details>"
      ]
    },
    {
      "cell_type": "markdown",
      "id": "summary-and-next-steps",
      "metadata": {},
      "source": [
        "## Summary and Next Steps\n",
        "\n",
        "In this notebook, you discovered that when the first difference isn't constant, looking at the **second difference** can reveal a deeper pattern. A constant second difference is the hallmark of a **quadratic relationship**.\n",
        "\n",
        "### Key Takeaways:\n",
        "- The first difference, $d_1(n)$, measures the **average velocity** (rate of change).\n",
        "- The second difference, $d_2(n)$, measures the **average acceleration** (the rate of change of the rate of change).\n",
        "- If the first difference is not constant, but the second difference is, the sequence is quadratic.\n",
        "\n",
        "### Next Up: Notebook 12.d: The Method of Differences 🚀\n",
        "\n",
        "We've seen that we can *identify* linear and quadratic sequences, but how do we use this information to find the exact formula that generates them? In our next notebook, [Notebook 12.d: The Method of Differences](), we'll learn a systematic way to derive the coefficients of these functions."
      ]
    }
  ],
  "metadata": {
    "kernelspec": {
      "display_name": "Python 3",
      "language": "python",
      "name": "python3"
    },
    "language_info": {
      "codemirror_mode": {
        "name": "ipython",
        "version": 3
      },
      "file_extension": ".py",
      "mimetype": "text/x-python",
      "name": "python",
      "nbconvert_exporter": "python",
      "pygments_lexer": "ipython3",
      "version": "3.11.2"
    }
  },
  "nbformat": 4,
  "nbformat_minor": 5
}