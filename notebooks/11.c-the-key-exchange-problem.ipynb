{
 "cells": [
  {
   "cell_type": "markdown",
   "id": "0",
   "metadata": {},
   "source": [
    "# Notebook 11.c: The Key Exchange Problem & One-Way Functions"
   ]
  },
  {
   "cell_type": "markdown",
   "id": "1",
   "metadata": {},
   "source": [
    "> \"It is a capital mistake to theorize before one has data.\" — [Arthur Conan Doyle](https://en.wikipedia.org/wiki/Arthur_Conan_Doyle)\n",
    "\n",
    "Welcome back, agent! In our last notebook, we built our first encryption pipeline using the Caesar cipher. We learned how to convert letters to numbers, shift them, and convert them back. But what's its biggest weakness?\n",
    "\n",
    "The secret **key**! If you want to send a secret message, you first have to agree on a secret key. And if someone is listening, how can you share that key securely? This is known as the **Key Exchange Problem**, and solving it transformed modern cryptography."
   ]
  },
  {
   "cell_type": "markdown",
   "id": "2",
   "metadata": {},
   "source": [
    "*Estimated Time: 45-60 minutes*\n",
    "\n",
    "---\n",
    "\n",
    "[Return to Table of Contents](https://colab.research.google.com/github/sguy/programming-and-problem-solving/blob/main/notebooks/table-of-contents.ipynb)"
   ]
  },
  {
   "cell_type": "markdown",
   "id": "3",
   "metadata": {},
   "source": [
    "### Learning Objectives:\n",
    "\n",
    "*   Understand the fundamental Key Exchange Problem.\n",
    "*   Grasp the concept of a **one-way function**.\n",
    "*   Use Python to implement prime factorization as a one-way function.\n",
    "*   Learn to use **tuples** to represent structured data."
   ]
  },
  {
   "cell_type": "markdown",
   "id": "4",
   "metadata": {},
   "source": [
    "### Prerequisites/Review:\n",
    "*   Concepts from [Notebook 11.b: The Caesar Cipher](https://colab.research.google.com/github/sguy/programming-and-problem-solving/blob/main/notebooks/11.b-the-caesar-cipher.ipynb), especially the idea of a secret key.\n",
    "*   Basic Python functions, loops, and conditional statements."
   ]
  },
  {
   "cell_type": "markdown",
   "id": "5",
   "metadata": {},
   "source": [
    "## 🐍 New Concept: The Key Exchange Problem\n",
    "\n",
    "Imagine you and a friend want to communicate using a Caesar cipher, but you have no way to secretly tell each other the shift key. Any message you use to establish the key could be intercepted by an eavesdropper, Eve.\n",
    "\n",
    "This is the core of the Key Exchange Problem: how can two parties agree on a secret key over an insecure channel, where an adversary is listening to everything they say?\n",
    "\n",
    "The ingenious solution lies in something called a **one-way function**."
   ]
  },
  {
   "cell_type": "markdown",
   "id": "6",
   "metadata": {},
   "source": [
    "## 🐍 New Concept: One-Way Functions\n",
    "\n",
    "A **one-way function** is a mathematical operation that is very easy to perform in one direction, but extremely difficult (or practically impossible) to reverse. Think of it like this:\n",
    "\n",
    "**Multiplying two large prime numbers is easy. Finding the original two prime numbers when given only their product is hard (for very large numbers).**\n",
    "\n",
    "Let's illustrate this with an example:\n",
    "*   If I tell you to multiply 13 by 17, you can quickly tell me the answer is 221.\n",
    "*   If I tell you the number is 221 and ask you to find the two prime numbers that multiply to get it, it takes a bit more thought. You might try dividing by small primes (2, 3, 5, 7...). Eventually, you'd find 13 and 17.\n",
    "\n",
    "Now imagine if the number was hundreds of digits long. Multiplying two such numbers is still relatively fast for a computer. But factoring a number that large would take even the fastest supercomputers trillions of years! This difference in difficulty is the magic behind many modern encryption systems."
   ]
  },
  {
   "cell_type": "markdown",
   "id": "7",
   "metadata": {},
   "source": [
    "## 🐍 New Concept: Tuples for Structured Data\n",
    "\n",
    "So far, we've used lists `[]` to store collections of data. Lists are great because they are **mutable**, meaning you can change them after they're created (add, remove, or modify elements). However, sometimes we need a collection of data that should *not* change.\n",
    "\n",
    "A **tuple** is an ordered, immutable collection of items. Think of them as 'read-only' lists. They are defined using parentheses `()` instead of square brackets `[]`.\n",
    "\n",
    "Tuples are often used to group related pieces of data together, especially when you know the number and type of items won't change.\n",
    "\n"
   ]
  },
  {
   "cell_type": "code",
   "execution_count": null,
   "id": "8",
   "metadata": {},
   "outputs": [],
   "source": [
    "# Creating tuples\n",
    "coordinates = (10, 20)          # A tuple of two numbers\n",
    "person = (\"Alice\", 30, \"Engineer\") # A tuple of mixed data types\n",
    "single_item_tuple = (5,)      # Note the comma! (5) would just be the number 5\n",
    "\n",
    "# Accessing elements (just like lists)\n",
    "print(coordinates[0])  # Output: 10\n",
    "print(person[1])       # Output: 30\n",
    "\n",
    "# Tuples are immutable - this would cause an error!\n",
    "try:\n",
    "    coordinates[0] = 15\n",
    "except TypeError as e:\n",
    "    print(f\"Error trying to modify tuple: {e}\")"
   ]
  },
  {
   "cell_type": "markdown",
   "id": "9",
   "metadata": {},
   "source": [
    "\n",
    "Tuples are handy when you want to ensure data integrity or when a function needs to return multiple values that logically belong together."
   ]
  },
  {
   "cell_type": "markdown",
   "id": "10",
   "metadata": {},
   "source": [
    "## 🎯 Mini-Challenge: Advanced Prime Factorization\n",
    "\n",
    "Let's build a function that takes an integer and gives us back its prime factorization in a structured way. This structured format will be useful for later concepts.\n",
    "\n",
    "We want our function `get_prime_factorization(n)` to return a **list of tuples**, where each tuple contains `(prime_factor, count)`.\n",
    "\n",
    "_Example: `get_prime_factorization(56)` should return `[(2, 3), (7, 1)]` (because $56 = 2^3 \\times 7^1$)._"
   ]
  },
  {
   "cell_type": "markdown",
   "id": "11",
   "metadata": {},
   "source": [
    "<details><summary>Hint: How to approach this?</summary>\n",
    "You'll need to divide `n` by each prime number starting from 2, counting how many times each prime divides into it. Remember to handle cases where `n` itself is a prime number greater than 1 at the end.\n",
    "</details>\n",
    "\n",
    "<details><summary>Hint: Using Tuples</summary>\n",
    "When you find a prime factor and its count, you can store it as a tuple `(prime, count)`. Then, `append()` this tuple to your results list.\n",
    "</details>"
   ]
  },
  {
   "cell_type": "code",
   "execution_count": null,
   "id": "12",
   "metadata": {},
   "outputs": [],
   "source": [
    "def get_prime_factorization(n):\n",
    "    factors = []\n",
    "    d = 2\n",
    "    temp_n = n\n",
    "    while d * d <= temp_n:\n",
    "        if temp_n % d == 0:\n",
    "            count = 0\n",
    "            while temp_n % d == 0:\n",
    "                count += 1\n",
    "                temp_n //= d\n",
    "            factors.append((d, count))\n",
    "        d += 1\n",
    "    if temp_n > 1:\n",
    "        factors.append((temp_n, 1))\n",
    "    return factors\n",
    "\n",
    "# --- Test your function --- \n",
    "print(f\"Prime factorization of 56: {get_prime_factorization(56)}\") # Expected: [(2, 3), (7, 1)]\n",
    "print(f\"Prime factorization of 81: {get_prime_factorization(81)}\") # Expected: [(3, 4)]\n",
    "print(f\"Prime factorization of 17: {get_prime_factorization(17)}\") # Expected: [(17, 1)]"
   ]
  },
  {
   "cell_type": "markdown",
   "id": "13",
   "metadata": {},
   "source": [
    "<details><summary>Click to see a possible solution</summary>\n",
    "\n",
    "```python\n",
    "def get_prime_factorization(n):\n",
    "    factors = []\n",
    "    d = 2\n",
    "    temp_n = n\n",
    "    while d * d <= temp_n:\n",
    "        if temp_n % d == 0:\n",
    "            count = 0\n",
    "            while temp_n % d == 0:\n",
    "                count += 1\n",
    "                temp_n //= d\n",
    "            factors.append((d, count))\n",
    "        d += 1\n",
    "    if temp_n > 1:\n",
    "        factors.append((temp_n, 1))\n",
    "    return factors\n",
    "\n",
    "# --- Test your function --- \n",
    "print(f\"Prime factorization of 56: {get_prime_factorization(56)}\")\n",
    "print(f\"Prime factorization of 81: {get_prime_factorization(81)}\")\n",
    "print(f\"Prime factorization of 17: {get_prime_factorization(17)}\")\n",
    "```\n",
    "</details>"
   ]
  },
  {
   "cell_type": "markdown",
   "id": "14",
   "metadata": {},
   "source": [
    "## 🎉 Well Done!\n",
    "\n",
    "You've tackled the fundamental challenge of key exchange and implemented a core cryptographic building block: the one-way function of prime factorization. Understanding this concept is crucial for grasping how modern secure communication works.\n",
    "\n",
    "### Key Takeaways\n",
    "*   The **Key Exchange Problem** is how to securely share a secret key over an insecure channel.\n",
    "*   **One-way functions** are easy to compute in one direction but extremely difficult to reverse, forming the basis of key exchange.\n",
    "*   **Prime factorization** is a practical example of a one-way function in cryptography.\n",
    "*   **Tuples** are useful Python data structures for storing immutable, structured data like `(prime, count)` pairs.\n",
    "\n",
    "### 🤔 Reflection Question\n",
    "Can you think of any other real-world processes that are easy to do in one direction but hard to reverse? (Hint: Think about cooking!)\n",
    "\n",
    "### Next Up: Optional Practice or Public-Key Cryptography 🔑\n",
    "\n",
    "You have two options for your next step:\n",
    "\n",
    "1.  **Optional Practice:** If you'd like more practice with factorization, including calculating GCF and LCM and solving fun math puzzles, head to [Notebook 11.d: Practice with Factoring](https://colab.research.google.com/github/sguy/programming-and-problem-solving/blob/main/notebooks/11.d-factoring-practice.ipynb).\n",
    "2.  **Next Concept:** To immediately dive into how one-way functions solve the Key Exchange Problem in practice, continue to [Notebook 11.e: Public-Key Cryptography in the Real World](https://colab.research.google.com/github/sguy/programming-and-problem-solving/blob/main/notebooks/11.e-public-key-in-practice.ipynb)."
   ]
  },
  {
   "cell_type": "markdown",
   "id": "15",
   "metadata": {},
   "source": [
    "[Return to Table of Contents](https://colab.research.google.com/github/sguy/programming-and-problem-solving/blob/main/notebooks/table-of-contents.ipynb)"
   ]
  }
 ],
 "metadata": {
  "kernelspec": {
   "display_name": "Python 3",
   "language": "python",
   "name": "python3"
  },
  "language_info": {
   "codemirror_mode": {
    "name": "ipython",
    "version": 3
   },
   "file_extension": ".py",
   "mimetype": "text/x-python",
   "name": "python",
   "nbconvert_exporter": "python",
   "pygments_lexer": "ipython3",
   "version": "3.11.2"
  }
 },
 "nbformat": 4,
 "nbformat_minor": 5
}
