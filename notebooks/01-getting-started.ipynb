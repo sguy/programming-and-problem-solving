{
 "cells": [
  {
   "cell_type": "markdown",
   "id": "0",
   "metadata": {},
   "source": [
    "# Welcome to the World of Coding 🚀\n",
    "\n",
    "> \"The Analytical Engine weaves algebraical patterns just as the Jacquard-loom weaves flowers and leaves.\" — [Ada Lovelace](https://en.wikipedia.org/wiki/Ada_Lovelace)\n",
    "\n",
    "Hey there, future coder. Get ready to dive into the super cool world of Jupyter Notebooks and Python. It might seem like a lot at first, but we'll take it step-by-step. Think of this as your first adventure into making computers do awesome things.\n"
   ]
  },
  {
   "cell_type": "markdown",
   "id": "1",
   "metadata": {},
   "source": [
    "## Learning Objectives\n",
    "\n",
    "By the end of this notebook, you will be able to:\n",
    "* Understand what Jupyter Notebooks (and Google Colab) are.\n",
    "* Create and edit Text cells for notes and Code cells for Python.\n",
    "* Run Code cells and see their output.\n",
    "\n",
    "**Estimated Time:** 45-60 minutes"
   ]
  },
  {
   "cell_type": "markdown",
   "id": "2",
   "metadata": {},
   "source": [
    "## 1. What are Jupyter Notebooks Anyway?\n",
    "\n",
    "You are already familiar with keeping a notebook to keep track of notes in class or experiments in a lab.  It's a great habit to keep track of what you are thinking, things you have tried, and observations you have made.   Notebooks can contain text, pictures, plots, or anything else you can think of that fits on paper. \n",
    "\n",
    "<img src=\"https://raw.githubusercontent.com/sguy/programming-and-problem-solving/refs/heads/main/notebooks/images/lab-notebook.png\" width=\"600\">"
   ]
  },
  {
   "cell_type": "markdown",
   "id": "3",
   "metadata": {},
   "source": [
    "\n",
    "\n",
    "Imagine a magical notebook where you can write notes, explanations, and even run live computer code, all in one place! That's what a Jupyter Notebook is.\n",
    "\n",
    "**Key Ideas:**\n",
    "*   **Interactive:** You can write code and see the results immediately.\n",
    "*   **Cells:** Notebooks are made of \"cells.\" \n",
    "    *   **Text cells** (like this one!) are for text, headings, images, and explaining things.\n",
    "    *   **Code cells** are where you write and run your Python code.\n",
    "*   **Storytelling with Code:** They're great for learning, experimenting, and showing others how your code works."
   ]
  },
  {
   "cell_type": "markdown",
   "id": "4",
   "metadata": {},
   "source": [
    "### Text for Humans, Code for Computers\n",
    "\n",
    "Think of the two cell types as having different jobs for different audiences:\n",
    "\n",
    "*   **Text cells are for humans.** You write in them to provide context and create a narrative flow for your notebook. They explain the **\"What\"** and the **\"Why\"** of your work. Writing in a Text cell should feel similar to using a word processor or writing an email.\n",
    "\n",
    "*   **Code cells are for the computer.** You write Python code in them to conduct experiments, analyze data, and perform calculations. They explain the **\"How\"**.\n",
    "\n",
    "In this course, you will mostly be focused on learning to write **Code cells**. However, it's also a great habit to practice writing clear **Text cells** to explain your thinking. This notebook (and all the notebooks in this course) serves as an example of this power. Just as Ada Lovelace envisioned weaving patterns with her machine, we will weave together text and code to tell a complete story."
   ]
  },
  {
   "cell_type": "markdown",
   "id": "5",
   "metadata": {},
   "source": [
    "### 💡 Tip: We're Using Google Colab!\n",
    "\n",
    "Throughout these lessons, we'll be running our Jupyter Notebooks on a fantastic free platform called **Google Colaboratory**, or **Colab** for short. Colab lets us use Jupyter Notebooks right in our web browser without needing to install any software on our computers.\n",
    "\n",
    "Think of a **Jupyter Notebook** as a specific *file type*, like a `.docx` file for a document or a `.jpg` for an image. **Google Colab** is the *application* we use to open and edit these notebook files, just like you would use Microsoft Word to edit a document or Photoshop to edit an image.\n",
    "\n",
    "For the most part, you don't need to worry too much about the distinction. Just know that when we talk about running code or using features, it's happening within the Colab environment. Sometimes, our instructions or screenshots might specifically mention \"Colab\" – this is just referring to the platform we're using to work with our Jupyter Notebooks."
   ]
  },
  {
   "cell_type": "markdown",
   "id": "6",
   "metadata": {},
   "source": [
    "## 2. Working with Cells: The Basics\n",
    "\n",
    "Before we dive deep into text formatting and Python code separately, let's cover some fundamental operations that apply to working with cells in general."
   ]
  },
  {
   "cell_type": "markdown",
   "id": "7",
   "metadata": {},
   "source": [
    "### Adding and Deleting Cells\n",
    "\n",
    "Jupyter Notebooks are designed for exploration. You'll often want to add new cells to try out new code snippets or write down more notes.\n",
    "\n",
    "**How to Add a New Cell:**\n",
    "\n",
    "When you hover your mouse just below a cell, buttons for `+ Code` and `+ Text` will appear. This is the easiest way to add a new cell for either Python code or for your notes.\n",
    "\n",
    "<table bgcolor=\"blue\" cellpadding=\"3\" style=\"display:inline-block\">\n",
    "  <tr>\n",
    "    <td>\n",
    "      <img src=\"https://raw.githubusercontent.com/sguy/programming-and-problem-solving/refs/heads/main/notebooks/images/colab-add-new-cell-buttons.gif\" alt=\"Animation showing the plus code and plus text buttons appearing between cells in Colab.\">\n",
    "    </td>\n",
    "  </tr>\n",
    "</table>\n",
    "\n",
    "**How to Delete a Cell:**\n",
    "\n",
    "You can always delete cells you don't want. Click on a cell to select it, and then click the delete button (trash can icon) that appears on the right side of the cell.\n",
    "\n",
    "<table bgcolor=\"blue\" cellpadding=\"3\" style=\"display:inline-block; vertical-align: middle;\">\n",
    "  <tr>\n",
    "    <td>\n",
    "      <img src=\"https://raw.githubusercontent.com/sguy/programming-and-problem-solving/refs/heads/main/notebooks/images/colab-delete-button.png\" alt=\"Colab delete button\" height=\"60\">\n",
    "    </td>\n",
    "  </tr>\n",
    "</table>"
   ]
  },
  {
   "cell_type": "markdown",
   "id": "8",
   "metadata": {},
   "source": [
    "## 3. Mastering Text Cells\n",
    "\n",
    "Text cells are where you'll write your explanations, notes, and structure your notebook with headings and lists."
   ]
  },
  {
   "cell_type": "markdown",
   "id": "9",
   "metadata": {},
   "source": [
    "### Understanding Text Cells\n",
    "\n",
    "You're reading this in a **Text cell** right now! These cells are for writing formatted text. It's how you create rich text descriptions, headings, lists, and more to explain your code.\n",
    "\n",
    "**Why use Text cells for formatting?**\n",
    "*   **Easy to Read, Easy to Write:** The syntax is designed to be as readable as possible, even in its raw form.\n",
    "*   **Focus on Content:** You can focus on writing your explanations without worrying too much about complex formatting codes.\n",
    "*   **Structure Your Notebook:** Use headings to organize your thoughts and code, lists to itemize points, and bold/italics to emphasize text."
   ]
  },
  {
   "cell_type": "markdown",
   "id": "10",
   "metadata": {},
   "source": [
    "**Editing a Text Cell:**\n",
    "\n",
    "To edit a Text cell (like this one, or the ones above):\n",
    "1.  **Double-click** on the cell. This will put it into \"edit mode.\"\n",
    "2.  Colab will show a split view: the raw text on the left and a live preview on the right.\n",
    "3.  Make your changes in the left-hand pane (the raw text editor).\n",
    "4.  To finalize the changes and see only the formatted text, press the `Esc` key. This exits \"edit mode\".\n",
    "\n",
    "Go ahead, try double-clicking this cell to see its raw source text, make some changes, then press `Esc`."
   ]
  },
  {
   "cell_type": "markdown",
   "id": "11",
   "metadata": {},
   "source": [
    "### 🚀 Pro-Tip: Peek at the Source\n",
    "\n",
    "Remember, you can **double-click on *any* Text cell** in this notebook (or any other Jupyter Notebook) to see its underlying \"source code.\" This is a fantastic way to learn:\n",
    "*   How specific formatting (like bold, italics, lists, or headings) was achieved.\n",
    "*   How images or links were embedded.\n",
    "*   How more complex layouts are structured.\n",
    "\n",
    "If you see some formatting you like in this notebook or others, don't hesitate to double-click the cell to see how it's done. Then you can try it yourself in your own Text cells."
   ]
  },
  {
   "cell_type": "markdown",
   "id": "12",
   "metadata": {},
   "source": [
    "### 🎯 Mini-Challenge: Your First Text Cell\n",
    "\n",
    "Let's put this into practice.\n",
    "1.  **Add a new Text cell** below this one. You can do this by hovering your mouse below this cell until `+ Code` and `+ Text` buttons appear, then click **`+ Text`**. \n",
    "2.  In your new Text cell, try to create a **bulleted list** of three of your favorite fruits. Double-click the cell to enter edit mode if you're not already there.\n",
    "    *   Hint: To make a bullet point, you can start a line with an asterisk (`*`).\n",
    "3.  **Exit 'edit mode'** by pressing `Esc`\n",
    "\n",
    "For example, it might look something like this in edit mode:\n",
    "```text\n",
    "* Apple\n",
    "* Banana\n",
    "* Cherry\n",
    "```"
   ]
  },
  {
   "cell_type": "markdown",
   "id": "13",
   "metadata": {},
   "source": [
    "### 💡 Tip: Using the Table of Contents\n",
    "\n",
    "As your notebooks get longer, it can be helpful to quickly jump between sections. Google Colab has a handy **Table of Contents** feature that acts like an outline for your notebook.\n",
    "\n",
    "*   **How it works:** Colab automatically generates this outline based on the Text headings (lines starting with `#`, `##`, `###`, etc.) you use in your Text cells.\n",
    "*   **How to access it:** Look for an icon on the left sidebar that often looks like a list or a series of horizontal lines (it might be labeled \"Table of contents\" if you hover over it). Clicking this will open a panel showing all your headings.\n",
    "*   **Benefits:** You can click on any heading in the Table of Contents to immediately navigate to that part of your notebook. This is super useful for organizing your work and finding information quickly.\n",
    "\n",
    "Try using headings in your Text cells (like the `## 1. What are Jupyter Notebooks Anyway?` heading earlier) and then open the Table of Contents to see how it works.\n",
    "\n",
    "<table bgcolor=\"blue\" cellpadding=\"3\" style=\"display:inline-block\">\n",
    "  <tr>\n",
    "    <td>\n",
    "      <table>\n",
    "        <tr>\n",
    "          <td style=\"padding: 20px;\"><img src=\"https://raw.githubusercontent.com/sguy/programming-and-problem-solving/refs/heads/main/notebooks/images/toc-menu.png\" alt=\"Google Colab sidebar showing the Table of Contents icon highlighted.\" width=\"300\"></td>\n",
    "          <td style=\"padding: 20px;\"><img src=\"https://raw.githubusercontent.com/sguy/programming-and-problem-solving/refs/heads/main/notebooks/images/toc.png\" alt=\"The Table of Contents panel in Google Colab, showing a clickable outline of the notebook's sections.\" width=\"300\"></td>\n",
    "        </tr>\n",
    "      </table>\n",
    "    </td>\n",
    "  </tr>\n",
    "</table>"
   ]
  },
  {
   "cell_type": "markdown",
   "id": "14",
   "metadata": {},
   "source": [
    "### 🎯 Mini-Challenge: Second Text (Headings)\n",
    "\n",
    "Let's practice making some headings of different sizes together with bullet points.\n",
    "\n",
    "1. **Add a new Text cell** below this one (like you did before).\n",
    "2. In your new Text cell, create the following:\n",
    "   * A top-level heading (largest) called `FOOD`\n",
    "   * Underneath `FOOD`, create a second-level heading (smaller) called `Fruits`\n",
    "   * Under `Fruits`, make a bulleted list of three of your favorite fruits.\n",
    "   * Next, create another second-level heading called `Snacks`\n",
    "   * Under `Snacks`, make a bulleted list of three of your favorite snacks.\n",
    "\n",
    "3. **Exit 'Edit Mode' by pressing `Esc`** to see it formatted with the headings and bullet points.\n",
    "\n",
    "It should look similar to this in edit mode:\n",
    "```text\n",
    "# FOOD\n",
    "## Fruits\n",
    "* Apple\n",
    "* Banana\n",
    "```"
   ]
  },
  {
   "cell_type": "markdown",
   "id": "15",
   "metadata": {},
   "source": [
    "## 🐍 New Concept: Code Cells & Their Output\n",
    "\n",
    "Alright, now for the really exciting part: **Code Cells**. This is where you'll write and run your Python code. When you run a code cell, the computer executes the code and shows an output below it. There are two simple rules that determine what gets displayed:\n",
    "\n",
    "1.  **By default, Jupyter displays the value of the *last line* in a cell.** \n",
    "2.  **You can explicitly tell Python to display something using the `print()` function.** \n",
    "\n",
    "**A quick note:** Don't worry if you don't understand the Python code itself in the examples below (like `1 + 2` or `print(...)`). The main goal right now is to see *how* code cells work and produce output. We will cover all the details of the Python code in our next lesson!\n",
    "\n",
    "Let's look at a few examples to see these rules in action. Remember to run each cell to see what happens."
   ]
  },
  {
   "cell_type": "markdown",
   "id": "16",
   "metadata": {},
   "source": [
    "To run a **code cell**, click on it and then press the run button (<img src=\"https://raw.githubusercontent.com/sguy/programming-and-problem-solving/refs/heads/main/notebooks/images/colab-run-button.png\" alt=\"Colab run button\" height=\"20\" style=\"vertical-align: middle;\">) that appears to the left.\n",
    "\n",
    "<table bgcolor=\"blue\" cellpadding=\"3\" style=\"display:inline-block\">\n",
    "  <tr>\n",
    "    <td>\n",
    "      <img src=\"https://raw.githubusercontent.com/sguy/programming-and-problem-solving/refs/heads/main/notebooks/images/colab-running-a-code-cell.gif\" alt=\"Animation showing a user clicking the run button on a Colab code cell and the output appearing below.\">\n",
    "    </td>\n",
    "  </tr>\n",
    "</table>"
   ]
  },
  {
   "cell_type": "markdown",
   "id": "17",
   "metadata": {},
   "source": [
    "### Rule 1: Displaying the Last Line's Value\n",
    "\n",
    "Let's see Rule 1 in action. The cell below contains a simple calculation. Since it's the only line, its result is the value of the *last line*, and Jupyter will display it.\n",
    "\n",
    "Run the code cell below using the run button (<img src=\"https://raw.githubusercontent.com/sguy/programming-and-problem-solving/refs/heads/main/notebooks/images/colab-run-button.png\" alt=\"Colab run button\" style=\"vertical-align: middle; height: 20px;\">) to see what happens."
   ]
  },
  {
   "cell_type": "code",
   "execution_count": null,
   "id": "18",
   "metadata": {},
   "outputs": [],
   "source": [
    "1 + 2"
   ]
  },
  {
   "cell_type": "markdown",
   "id": "19",
   "metadata": {},
   "source": [
    "Now, what if there are multiple lines? The cell below has two calculations. According to Rule 1, only the value of the *last line* (`30 + 40`) will be displayed. The result of the first line is calculated but ignored for display purposes.\n",
    "\n",
    "Run the cell below to see this for yourself."
   ]
  },
  {
   "cell_type": "code",
   "execution_count": null,
   "id": "20",
   "metadata": {},
   "outputs": [],
   "source": [
    "# This line is evaluated, but its output is not displayed\n",
    "10 + 20\n",
    "\n",
    "# This is the last line, so its value is displayed\n",
    "30 + 40"
   ]
  },
  {
   "cell_type": "markdown",
   "id": "21",
   "metadata": {},
   "source": [
    "### Rule 2: Explicitly Printing Output\n",
    "\n",
    "Now for Rule 2. If we want to see the results from *every* line, we can use the `print()` function. This explicitly tells Python to show the output for that line, no matter where it is in the cell.\n",
    "\n",
    "Go ahead and run the cell below to see how `print()` works."
   ]
  },
  {
   "cell_type": "code",
   "execution_count": null,
   "id": "22",
   "metadata": {},
   "outputs": [],
   "source": [
    "print(10 + 20)\n",
    "print(30 + 40)"
   ]
  },
  {
   "cell_type": "markdown",
   "id": "23",
   "metadata": {},
   "source": [
    "### Combining The Rules\n",
    "\n",
    "Finally, let's see what happens when we mix them. The cell below has `print()` statements and then a final calculation on the last line. The `print()` functions run, displaying their output. Then, Jupyter follows Rule 1 and also displays the value of the very last line.\n",
    "\n",
    "Run the cell to see both rules working together."
   ]
  },
  {
   "cell_type": "code",
   "execution_count": null,
   "id": "24",
   "metadata": {},
   "outputs": [],
   "source": [
    "print(\"The result of the first calculation is:\")\n",
    "print(10 + 20)\n",
    "\n",
    "# Now for the last line, which is displayed automatically\n",
    "30 + 40"
   ]
  },
  {
   "cell_type": "markdown",
   "id": "25",
   "metadata": {},
   "source": [
    "### 🚀 Pro-Tip: Predict Before You Run\n",
    "\n",
    "As you go through this notebook (and any coding you do), try to get into the habit of **guessing what the output will be *before* you run a code cell.** \n",
    "\n",
    "*   Read the code carefully.\n",
    "*   Think about what each line is telling the computer to do.\n",
    "*   Make a mental (or even written!) note of what you expect to see.\n",
    "\n",
    "This little habit will supercharge your learning. If your guess is right, it builds confidence. If it's different, it's a great chance to figure out *why* and learn something new. Don't worry about being wrong – that's part of the process."
   ]
  },
  {
   "cell_type": "markdown",
   "id": "26",
   "metadata": {},
   "source": [
    "### 💡 Tip: Experiment Fearlessly!\n",
    "\n",
    "This notebook is your playground for code. The absolute best way to learn is to try things out.\n",
    "\n",
    "*   **Don't be afraid to experiment:** Add a new code cell whenever you have a question. What happens if I try `100 / 0`? What if I `print(\"Hello)` without the closing parenthesis? Go for it!\n",
    "*   **You can't easily break it:** The worst that usually happens is you'll get an error message. Think of error messages not as failures, but as the computer giving you a helpful clue.\n",
    "*   **It's okay to make mistakes:** Every programmer, from beginner to expert, makes mistakes and sees errors every day. It's a normal part of the process.\n",
    "*   **Clean up:** If your notebook gets messy, you can always delete cells you don't need anymore.\n",
    "\n",
    "So whenever you're curious, add a new code cell and start experimenting."
   ]
  },
  {
   "cell_type": "markdown",
   "id": "27",
   "metadata": {},
   "source": [
    "### 🎯 Mini-Challenge: Experiment with Code Cells\n",
    "\n",
    "Now it's your turn to play around with a code cell. This is the best way to get comfortable.\n",
    "\n",
    "Below is a code cell with a few examples we've seen. Your challenge is to experiment with it:\n",
    "\n",
    "*   **Run it as is:** First, just run the cell to see the initial output.\n",
    "*   **Modify the code:** Change the numbers in the arithmetic. Change the text inside the `print()` function.\n",
    "*   **Add more code:** Add a new `print()` statement on a new line.\n",
    "*   **Experiment with the last line:** What happens if the last line is a calculation like `100 - 50` instead of a `print()` statement?\n",
    "\n",
    "There's no single right answer here. The goal is to see what happens when you change things and run the code again.\n",
    "\n",
    "Remember, to run the code cell below, click on it and press the run button (<img src=\"https://raw.githubusercontent.com/sguy/programming-and-problem-solving/refs/heads/main/notebooks/images/colab-run-button.png\" alt=\"Colab run button\" style=\"vertical-align: middle; height: 20px;\">) to the left."
   ]
  },
  {
   "cell_type": "code",
   "execution_count": null,
   "id": "28",
   "metadata": {},
   "outputs": [],
   "source": [
    "# Feel free to experiment in this cell!\n",
    "# Change the values, add new lines, and see what happens.\n",
    "\n",
    "print(\"Hello, experiments!\")\n",
    "print(10 * 5)\n",
    "\n",
    "# What happens if you add a calculation on the last line?\n",
    "# Try uncommenting the line below (remove the #) or adding your own.\n",
    "# 50 + 50"
   ]
  },
  {
   "cell_type": "markdown",
   "id": "29",
   "metadata": {},
   "source": [
    "### 🎯 Mini-Challenge: Printing on Multiple Lines\n",
    "\n",
    "The code cell below has three lines of calculations. Based on what you've learned, what do you predict will be displayed when you run it? \n",
    "\n",
    "After you run it, your challenge is to **modify the code so that the result of *each* calculation is printed to the output.** You should see `3`, `5`, and `7` all appear below the cell.\n",
    "\n",
    "Remember, to run the code cell below, click on it and press the run button (<img src=\"https://raw.githubusercontent.com/sguy/programming-and-problem-solving/refs/heads/main/notebooks/images/colab-run-button.png\" alt=\"Colab run button\" style=\"vertical-align: middle; height: 20px;\">) to the left."
   ]
  },
  {
   "cell_type": "markdown",
   "id": "30",
   "metadata": {},
   "source": [
    "<details>\n",
    "  <summary>Click for Hint #1</summary>\n",
    "\n",
    "  Remember the `print()` function we used earlier? It's the key to showing output from any line, not just the last one.\n",
    "</details>\n",
    "\n",
    "<details>\n",
    "  <summary>Click for Hint #2</summary>\n",
    "\n",
    "  You need to wrap each calculation in its own `print()` function. For example, the first line would become `print(1 + 2)`.\n",
    "</details>"
   ]
  },
  {
   "cell_type": "code",
   "execution_count": null,
   "id": "31",
   "metadata": {},
   "outputs": [],
   "source": [
    "# This code currently only shows the result of the last line.\n",
    "# Modify it to print the result of all three calculations.\n",
    "\n",
    "# YOUR CODE HERE\n",
    "1 + 2\n",
    "2 + 3\n",
    "3 + 4"
   ]
  },
  {
   "cell_type": "markdown",
   "id": "32",
   "metadata": {},
   "source": [
    "<details>\n",
    "  <summary>Click to see a possible solution</summary>\n",
    "\n",
    "  ```python\n",
    "  # We can use the print() function on each line\n",
    "  # to make sure each result is displayed.\n",
    "  print(1 + 2)\n",
    "  # Expected output: 3\n",
    "  print(2 + 3)\n",
    "  # Expected output: 5\n",
    "  print(3 + 4)\n",
    "  # Expected output: 7\n",
    "  ```\n",
    "</details>"
   ]
  },
  {
   "cell_type": "markdown",
   "id": "33",
   "metadata": {},
   "source": [
    "## 5. 💡 Saving Your Notebook to Google Drive\n",
    "\n",
    "Once you start working on a notebook, especially if you've opened a shared one (like this one!) or want to keep your own copy with your changes, you'll want to save it to your own Google Drive.\n",
    "\n",
    "**How to Save:**\n",
    "\n",
    "1.  **Go to `File` in the menu bar** at the top-left of the Colab interface.\n",
    "2.  You'll see a few save options:\n",
    "    *   **`Save a copy in Drive`**: This is usually what you want. It creates a new copy of the current notebook in your Google Drive. Jupyter will often automatically put it in a folder called \"Colab Notebooks\" in the main part of your Drive.\n",
    "    *   `Save`: If you've already saved a copy to your Drive, or if you created a new notebook directly in Colab, this will save the current changes to that file in your Drive.\n",
    "\n",
    "**Working with Notebooks from Google Drive:**\n",
    "\n",
    "*   **Saving Your Changes:** Once a notebook is in your Google Drive, any changes you make and `Save` (or that Jupyter auto-saves) will be updated in your Drive version. You own this copy.\n",
    "*   **Opening from Drive:** You can open your `.ipynb` (Jupyter Notebook) files directly from Google Drive! Just find the file in your Drive, right-click on it (or double-click), and choose `Open with > Google Colaboratory`.\n",
    "\n",
    "This way, all your hard work and experiments are safely stored in your own space and easy to find."
   ]
  },
  {
   "cell_type": "markdown",
   "id": "34",
   "metadata": {},
   "source": [
    "### 💡 Colab Tip: AI Assistant\n",
    "\n",
    "By default, Google Colab includes an AI coding assistant. While these tools can be very powerful, when you're just starting to learn Python, it is more helpful to figure things out on your own or with the direct guidance of your learning materials.\n",
    "\n",
    "Focus on understanding the basics first, and then you can explore how AI assistants can help you be more productive later on!\n",
    "\n",
    "To adjust or turn off the AI assistant, go to the `Tools` menu, then select `Settings`. In the `Settings` dialog, selcet the `AI Assistance` settings. Uncheck the relevant boxes to disable or reduce these features.\n",
    "\n",
    "<table bgcolor=\"blue\" cellpadding=\"3\" style=\"display:inline-block\">\n",
    "  <tr>\n",
    "    <td>\n",
    "      <table>\n",
    "        <tr>\n",
    "          <td style=\"padding: 20px;\"><img src=\"https://raw.githubusercontent.com/sguy/programming-and-problem-solving/refs/heads/main/notebooks/images/turn-off-AI-menu.png\" alt=\"Google Colab Tools menu with Settings option highlighted.\" width=\"300\"></td>\n",
    "          <td style=\"padding: 20px;\"><img src=\"https://raw.githubusercontent.com/sguy/programming-and-problem-solving/refs/heads/main/notebooks/images/turn-off-AI.png\" alt=\"Google Colab AI Assistance settings dialog with checkboxes to disable features.\" width=\"400\"></td>\n",
    "        </tr>\n",
    "      </table>\n",
    "    </td>\n",
    "  </tr>\n",
    "</table>"
   ]
  },
  {
   "cell_type": "markdown",
   "id": "35",
   "metadata": {},
   "source": [
    "### 🤔 Discussion Question:\n",
    "\n",
    "Think back on what you've tried in this notebook. What was the most surprising thing you learned? Was there anything that you found tricky or confusing at first? There are no right or wrong answers here—thinking about how you learn is a skill in itself!"
   ]
  },
  {
   "cell_type": "markdown",
   "id": "36",
   "metadata": {},
   "source": [
    "## 6. 🎉 Well Done! A Quick Recap 🎉\n",
    "\n",
    "Great job making it through our first notebook! You've learned a lot already:\n",
    "\n",
    "*   **What Jupyter Notebooks are:** Your interactive coding and note-taking environment.\n",
    "*   **Google Colab:** Understanding that we're using this platform for our Jupyter Notebooks, how to save your work, and manage features like the AI assistant.\n",
    "*   **Text Cells:** How to write and format text, create lists and headings, edit these cells, and render them to see the formatted output.\n",
    "*   **Code Cells:** How to run Python code and see its output (either from the last line's value or from `print()` statements).\n",
    "*   **Adding and Deleting Cells:** How to create new Text or Code cells and remove unwanted ones.\n",
    "*   **Key Learning Habits:** The importance of \"Predicting Before You Run\" and \"Peeking at the Source\" to learn.\n",
    "*   **Navigating Notebooks:** Using the Table of Contents to easily move through your work.\n",
    "\n",
    "You're building a solid foundation. Remember, the best way to learn is by doing, so don't hesitate to go back, re-run cells, change things, and experiment!\n",
    "\n",
    "In the next notebook, `02-first-steps-with-python.ipynb`, we'll start diving deeper into Python itself, learning about variables, data types, and more. Keep up the great work. 🚀"
   ]
  }
 ],
 "metadata": {
  "kernelspec": {
   "display_name": "Python 3 (ipykernel)",
   "language": "python",
   "name": "python3"
  },
  "language_info": {
   "codemirror_mode": {
    "name": "ipython",
    "version": 3
   },
   "file_extension": ".py",
   "mimetype": "text/x-python",
   "name": "python",
   "nbconvert_exporter": "python",
   "pygments_lexer": "ipython3",
   "version": "3.10.17"
  }
 },
 "nbformat": 4,
 "nbformat_minor": 5
}
