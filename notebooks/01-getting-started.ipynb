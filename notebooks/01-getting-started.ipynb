{
 "cells": [
  {
   "cell_type": "markdown",
   "id": "d93c9d95",
   "metadata": {},
   "source": [
    "# Welcome to the World of Coding! 🚀\n",
    "\n",
    "Hey there, future coder! Get ready to dive into the super cool world of Jupyter Notebooks and Python. It might seem like a lot at first, but we'll take it step-by-step. Think of this as your first adventure into making computers do awesome things!"
   ]
  },
  {
   "cell_type": "markdown",
   "id": "notebook-a-learning-objectives",
   "metadata": {},
   "source": [
    "**What you'll learn in this notebook:**\n",
    "*   Understand what Jupyter Notebooks (and Google Colab) are.\n",
    "*   How to create and edit Markdown cells for text and Code cells for Python.\n",
    "*   How to run Code cells and see their output.\n",
    "\n",
    "**Estimated Time:** 60-75 minutes"
   ]
  },
  {
   "cell_type": "markdown",
   "id": "e3a3a988",
   "metadata": {},
   "source": [
    "## 1. What are Jupyter Notebooks Anyway?\n",
    "\n",
    "You are already familiar with keeping a notebooks to keep track of notes in class or experiments in a lab.  It's a great habit to keep track of what you are thinking, things you have tried, and observations you have made.   Notebooks can contain text, pictures, plots, or anything else you can think of that fits on paper. \n",
    "\n",
    "<img src=\"images/lab-notebook.png\" width=\"600\">"
   ]
  },
  {
   "cell_type": "markdown",
   "id": "72878d12",
   "metadata": {},
   "source": [
    "\n",
    "\n",
    "Imagine a magical notebook where you can write notes, explanations, and even run live computer code, all in one place! That's kind of what a Jupyter Notebook is.\n",
    "\n",
    "**Key Ideas:**\n",
    "*   **Interactive:** You can write code and see the results immediately.\n",
    "*   **Cells:** Notebooks are made of \"cells.\" \n",
    "    *   **Markdown cells** (like this one!) are for text, headings, images, and explaining things.\n",
    "    *   **Code cells** are where you write and run your Python code.\n",
    "*   **Storytelling with Code:** They're great for learning, experimenting, and showing others how your code works."
   ]
  },
  {
   "cell_type": "markdown",
   "id": "colab-platform-tip",
   "metadata": {},
   "source": [
    "### 💡 Tip: We're Using Google Colab!\n",
    "\n",
    "Throughout these lessons, we'll be running our Jupyter Notebooks on a fantastic free platform called **Google Colaboratory**, or **Colab** for short. Colab lets us use Jupyter Notebooks right in our web browser without needing to install any software on our computers.\n",
    "\n",
    "Think of Jupyter Notebooks as the *type* of document we're using (like a Word document or a Google Doc), and Google Colab as the *application* we're using to create and run them (like Microsoft Word or Google Docs).\n",
    "\n",
    "For the most part, you don't need to worry too much about the distinction. Just know that when we talk about running code or using features, it's happening within the Colab environment. Sometimes, our instructions or screenshots might specifically mention \"Colab\" – this is just referring to the platform we're using to work with our Jupyter Notebooks."
   ]
  },
  {
   "cell_type": "markdown",
   "id": "section-working-with-cells",
   "metadata": {},
   "source": [
    "## 2. Working with Cells: The Basics\n",
    "\n",
    "Before we dive deep into Markdown and Python code separately, let's cover some fundamental operations that apply to working with cells in general."
   ]
  },
  {
   "cell_type": "markdown",
   "id": "add-experiment-cells",
   "metadata": {},
   "source": [
    "### Adding More Cells & Experimenting!\n",
    "\n",
    "Jupyter Notebooks are designed for exploration! You'll often want to add new cells to try out new code snippets or write down more notes.\n",
    "\n",
    "**How to Add a New Cell:**\n",
    "\n",
    "*   **Using the `+ Code` and `+ Text` buttons:** When you hover your mouse above or below an existing cell, buttons for `+ Code` (to add a Python code cell) and `+ Text` (to add a Markdown cell) will appear. You can also find these at the top of the Colab interface, under the menu bar.\n",
    "*   **Using the Menu:** You can also go to the `Insert` menu at the top and choose `Code cell` or `Text cell`.\n",
    "\n",
    "In a notebook, you typically decide whether you want a code cell or a text (Markdown) cell *when you add it*.\n",
    "*   If you want to write Python code, add a **Code cell**.\n",
    "*   If you want to write formatted text, notes, or headings (like this explanation!), add a **Text cell**.\n",
    "\n",
    "**Don't Be Afraid to Experiment!**\n",
    "\n",
    "This is your playground! \n",
    "*   **Try things out:** Add new cells, type in some code (even if you're just guessing!), and run it to see what happens.\n",
    "*   **You can't easily break it:** The worst that usually happens is you might get an error message (which is a learning opportunity!) or your notebook might look a bit messy.\n",
    "*   **It's okay to make mistakes:** That's how we learn!\n",
    "*   **Clean up:** You can always delete cells you don't want. Select the cell, and then click the **trash can icon** that appears on the right side of the cell. Alternatively, you can go to `Edit > Delete selected cells`.\n",
    "\n",
    "So go ahead, add a new cell below this one and try typing something!"
   ]
  },
  {
   "cell_type": "markdown",
   "id": "section-markdown-cells",
   "metadata": {},
   "source": [
    "## 3. Mastering Markdown Cells 📝\n",
    "\n",
    "Markdown cells are where you'll write your explanations, notes, and structure your notebook with headings and lists."
   ]
  },
  {
   "cell_type": "markdown",
   "id": "markdown-basics-intro",
   "metadata": {},
   "source": [
    "### Understanding Markdown Cells\n",
    "\n",
    "You're reading this in a **Markdown cell** right now! Markdown is a simple way to write formatted text. It's used all over the internet (like on Reddit, GitHub, and many forums) and, of course, in Jupyter Notebooks to create rich text descriptions, headings, lists, and more.\n",
    "\n",
    "**Why use Markdown?**\n",
    "*   **Easy to Read, Easy to Write:** The syntax is designed to be as readable as possible, even in its raw form.\n",
    "*   **Focus on Content:** You can focus on writing your explanations without worrying too much about complex formatting codes.\n",
    "*   **Structure Your Notebook:** Use headings to organize your thoughts and code, lists to itemize points, and bold/italics to emphasize text."
   ]
  },
  {
   "cell_type": "markdown",
   "id": "editing-markdown-cells",
   "metadata": {},
   "source": [
    "**Editing a Markdown Cell:**\n",
    "\n",
    "To edit a Markdown cell in Google Colab (like this one, or the ones above):\n",
    "1.  **Double-click** on the cell. This will put it into \"edit mode.\"\n",
    "2.  Colab will typically show a split view: the raw Markdown text on the left and a live preview on the right.\n",
    "3.  Make your changes in the left-hand pane (the raw Markdown editor).\n",
    "4.  To finalize the changes and see only the formatted text (this is often called \"running\" the Markdown cell), you can either click out of the cell, press `Shift + Enter` (which renders the cell and moves to the next one), or press `Ctrl + Enter` (which renders the cell and keeps it selected).\n",
    "\n",
    "Go ahead, try double-clicking this cell to see its Markdown source, then run it again!"
   ]
  },
  {
   "cell_type": "markdown",
   "id": "rendering-markdown-cells",
   "metadata": {},
   "source": [
    "**Rendering Markdown Cells (Making them look pretty!):**\n",
    "\n",
    "After you've typed or edited your Markdown in a Text cell:\n",
    "*   To see your formatted text, you need to **render** it (this is also often called \"running\" the cell).\n",
    "*   **Keyboard Shortcut:** The easiest way is to press `Shift + Enter` (which renders the current cell and moves to the next one) or `Ctrl + Enter` (which renders the current cell and stays on it).\n",
    "*   **Clicking Away:** You can also simply click outside the Markdown cell's editing area to render it.\n",
    "\n",
    "This turns your raw Markdown (like `# My Heading`) into the nicely formatted output (like a big heading)."
   ]
  },
  {
   "cell_type": "markdown",
   "id": "pro-tip-peek-markdown-source",
   "metadata": {},
   "source": [
    "### 🚀 Pro Tip: Peek at the Source!\n",
    "\n",
    "Remember, you can **double-click on *any* Markdown cell** in this notebook (or any other Jupyter Notebook) to see its underlying \"source code.\" This is a fantastic way to learn:\n",
    "*   How specific formatting (like bold, italics, lists, or headings) was achieved.\n",
    "*   How images or links were embedded.\n",
    "*   How more complex layouts are structured.\n",
    "\n",
    "If you see some formatting you like in this notebook or others, don't hesitate to double-click the cell to see how it's done! Then you can try it yourself in your own Markdown cells."
   ]
  },
  {
   "cell_type": "markdown",
   "id": "7c07480c",
   "metadata": {},
   "source": [
    "### 🎯 Mini-Challenge: Your First Markdown!\n",
    "\n",
    "Let's put this into practice!\n",
    "1.  **Add a new Text cell** below this one. You can do this by hovering your mouse below this cell until `+ Code` and `+ Text` buttons appear, then click **`+ Text`**. Alternatively, you can go to `Insert` in the top menu and select `Text cell`.\n",
    "2.  This new cell is already a Markdown cell!\n",
    "3.  In your new Markdown cell, try to create a **bulleted list** of three of your favorite fruits. Double-click the cell to enter edit mode if you're not already there.\n",
    "    *   Hint: To make a bullet point, you can start a line with an asterisk (`*`) or a hyphen (`-`) followed by a space.\n",
    "4.  **Run your Markdown cell** (e.g., by pressing `Shift + Enter`) to see it formatted nicely! This will render your Markdown text.\n",
    "\n",
    "For example, it might look something like this in edit mode:\n",
    "```markdown\n",
    "* Apple\n",
    "* Banana\n",
    "* Cherry\n",
    "```"
   ]
  },
  {
   "cell_type": "markdown",
   "id": "colab-outline-view-tip",
   "metadata": {},
   "source": [
    "### 💡 Tip: Using the Table of Contents\n",
    "\n",
    "As your notebooks get longer, it can be helpful to quickly jump between sections. Google Colab has a handy **Table of Contents** feature that acts like an outline for your notebook.\n",
    "\n",
    "*   **How it works:** Colab automatically generates this outline based on the Markdown headings (lines starting with `#`, `##`, `###`, etc.) you use in your Text cells.\n",
    "*   **How to access it:** Look for an icon on the left sidebar that often looks like a list or a series of horizontal lines (it might be labeled \"Table of contents\" if you hover over it). Clicking this will open a panel showing all your headings.\n",
    "*   **Benefits:** You can click on any heading in the Table of Contents to immediately navigate to that part of your notebook. This is super useful for organizing your work and finding information quickly!\n",
    "\n",
    "Try using headings in your Markdown cells (like the `## 1. What are Jupyter Notebooks Anyway?` heading earlier) and then open the Table of Contents to see how it works!\n",
    "\n",
    "<img src=\"images/toc-menu.png\" width=\"300\">\n",
    "<p>\n",
    "<img src=\"images/toc.png\" width=\"300\">\n"
   ]
  },
  {
   "cell_type": "markdown",
   "id": "markdown-challenge-headings",
   "metadata": {},
   "source": [
    "### 🎯 Mini-Challenge: Second Markdown! (Headings)\n",
    "\n",
    "Let's practice making some headings of different sizes together with bullet points.\n",
    "\n",
    "1. **Add a new Text cell** below this one (like you did before).\n",
    "2. In your new Markdown cell, create the following:\n",
    "   * A top-level heading (largest) called `FOOD`\n",
    "   * Underneath `FOOD`, create a second-level heading (smaller) called `Fruits`\n",
    "   * Under `Fruits`, make a bulleted list of three of your favorite fruits.\n",
    "   * Next, create another second-level heading called `Snacks`\n",
    "   * Under `Snacks`, make a bulleted list of three of your favorite snacks.\n",
    "\n",
    "3. **Run your Markdown cell** to see it formatted with the headings and bullet points!\n",
    "\n",
    "It should look similar to this in edit mode:\n",
    "```markdown\n",
    "# FOOD\n",
    "## Fruits\n",
    "* Apple\n",
    "* Banana\n",
    "```"
   ]
  },
  {
   "cell_type": "markdown",
   "id": "section-code-cells",
   "metadata": {},
   "source": [
    "## 4. 🐍 Exploring Python with Code Cells\n",
    "\n",
    "Code cells are where the magic of Python happens! You'll write instructions for the computer and see it execute them."
   ]
  },
  {
   "cell_type": "markdown",
   "id": "code-cells-intro",
   "metadata": {},
   "source": [
    "### Diving into Code Cells\n",
    "\n",
    "Alright, now for the really exciting part: **Code Cells**! This is where you'll write and run your Python code.\n",
    "\n",
    "When you run a code cell, the Python interpreter executes the code within it. The output of the code cell, if any, will appear directly below it. There are two main ways output is generated:\n",
    "\n",
    "1.  **The value of the last expression:** If the very last line of your code cell is a piece of data or an expression that results in a value (like a number, some text, or a calculation), Jupyter Notebooks will automatically display that value as the cell's output.\n",
    "2.  **Using the `print()` function:** You can explicitly tell Python to display something using the built-in `print()` function. Anything you pass to `print()` will be shown as output.\n",
    "\n",
    "Let's look at a few examples. Remember to run each cell to see what happens!"
   ]
  },
  {
   "cell_type": "markdown",
   "id": "example-code-cell-intro",
   "metadata": {},
   "source": [
    "To run a **code cell**, you have a couple of options:\n",
    "* Click on it and hover to the left to show the play icon (▶️) and click it\n",
    "* Press `Shift + Enter` on your keyboard"
   ]
  },
  {
   "cell_type": "code",
   "execution_count": null,
   "id": "code-cell-example-arithmetic",
   "metadata": {},
   "outputs": [],
   "source": [
    "1 + 2"
   ]
  },
  {
   "cell_type": "markdown",
   "id": "code-cell-output-last-value-arithmetic",
   "metadata": {},
   "source": [
    "See that `3` below the cell? Because `1 + 2` was the last (and only) line in the code cell, and it evaluates to `3`, Jupyter displayed it."
   ]
  },
  {
   "cell_type": "code",
   "execution_count": null,
   "id": "code-cell-example-string",
   "metadata": {},
   "outputs": [],
   "source": [
    "\"My name is Python\""
   ]
  },
  {
   "cell_type": "markdown",
   "id": "code-cell-output-last-value-string",
   "metadata": {},
   "source": [
    "Similarly, the text \"My name is Python\" appeared as output because it was the last (and only) item in the cell."
   ]
  },
  {
   "cell_type": "code",
   "execution_count": null,
   "id": "code-cell-example-print",
   "metadata": {},
   "outputs": [],
   "source": [
    "print(\"Hello world!\")\n",
    "print(10 * 5)"
   ]
  },
  {
   "cell_type": "markdown",
   "id": "code-cell-output-print",
   "metadata": {},
   "source": [
    "In this case, we used the `print()` function. Notice two things:\n",
    "*   Both \"Hello world!\" and the result of `10 * 5` (which is `50`) were printed. The `print()` function explicitly tells Python to show output.\n",
    "*   If a cell has `print()` statements, the \"last expression\" rule doesn't apply in the same way for automatically displaying an additional value unless that last expression itself is not part of a `print()` statement and is the very last thing."
   ]
  },
  {
   "cell_type": "markdown",
   "id": "predict-output-tip",
   "metadata": {},
   "source": [
    "### 🚀 Pro Tip: Predict Before You Run!\n",
    "\n",
    "As you go through this notebook (and any coding you do!), try to get into the habit of **guessing what the output will be *before* you run a code cell.** \n",
    "\n",
    "*   Read the code carefully.\n",
    "*   Think about what each line is telling the computer to do.\n",
    "*   Make a mental (or even written!) note of what you expect to see.\n",
    "\n",
    "This little habit will supercharge your learning! If your guess is right, it builds confidence. If it's different, it's a great chance to figure out *why* and learn something new. Don't worry about being wrong – that's part of the process!"
   ]
  },
  {
   "cell_type": "markdown",
   "id": "code-cells-encourage-interaction",
   "metadata": {},
   "source": [
    "### 🎯 Mini-Challenge: Experiment with Code Cells!\n",
    "\n",
    "Now it's your turn to play around with the code cells we've seen. This is the best way to get comfortable!\n",
    "\n",
    "*   Try running each of the code cells above.\n",
    "*   **Modify and Re-run:** Go back to the code cell examples above. Change the numbers in the arithmetic example (e.g., `100 - 50`). Change the text in the string example. Run them again to see your new results.\n",
    "*   **Add More Code:** Add another `print()` statement to the third example (the one that already uses `print()`). What happens when you run it?\n",
    "*   What if you have a calculation *after* a `print()` statement in the same cell, like this?\n",
    "    ```python\n",
    "    print(\"Calculating...\")\n",
    "    25 / 5\n",
    "    ```\n",
    "    Try adding a new code cell and typing that in. What's the output?\n",
    "\n",
    "Remember, there's no right or wrong answer here – the goal is to explore and observe!"
   ]
  },
  {
   "cell_type": "markdown",
 "id": "mini-challenge-multiple-lines",
   "metadata": {},
   "source": [
    "### 🎯 Mini-Challenge: Multiple Lines of Code\n",
    "\n",
    "Let's try another quick experiment. Add a new **Code cell** below this one.\n",
    "\n",
    "1. In the new code cell, type the following lines:\n",
    "   ```python\n",
    "   1 + 2\n",
    "   2 + 3\n",
    "   3 + 4\n",
    "   ```\n",
    "2. **Think before you run!** Based on what you've learned about how code cells show output, what do you predict will be displayed when you run this cell?\n",
    "3. Now, run the cell. Was your prediction correct?\n",
    "4. **Challenge Question:** How could you change the code in that cell if you wanted to see the result of *each* line (i.e., see 3, 5, and 7 all printed out)?\n",
    "\n",
    "   *Hint: Remember the `print()` function! How did we use it earlier to show multiple pieces of output from a single cell?*\n",
    "\n",
    "Try to modify the code cell to make it print all three results. This is a great way to practice!"
   ]
  },
  {
   "cell_type": "markdown",
   "id": "save-to-google-drive",
   "metadata": {},
   "source": [
    "## 5. 💡 Saving Your Notebook to Google Drive\n",
    "\n",
    "Once you start working on a notebook, especially if you've opened a shared one (like this one!) or want to keep your own copy with your changes, you'll want to save it to your own Google Drive.\n",
    "\n",
    "**How to Save:**\n",
    "\n",
    "1.  **Go to `File` in the menu bar** at the top-left of the Colab interface.\n",
    "2.  You'll see a few save options:\n",
    "    *   **`Save a copy in Drive`**: This is usually what you want! It creates a new copy of the current notebook in your Google Drive. Jupyter will often automatically put it in a folder called \"Colab Notebooks\" in the main part of your Drive.\n",
    "    *   `Save`: If you've already saved a copy to your Drive, or if you created a new notebook directly in Colab, this will save the current changes to that file in your Drive.\n",
    "\n",
    "**Working with Notebooks from Google Drive:**\n",
    "\n",
    "*   **Saving Your Changes:** Once a notebook is in your Google Drive, any changes you make and `Save` (or that Jupyter auto-saves) will be updated in your Drive version. You own this copy!\n",
    "*   **Opening from Drive:** You can open your `.ipynb` (Jupyter Notebook) files directly from Google Drive! Just find the file in your Drive, right-click on it (or double-click), and choose `Open with > Google Colaboratory`.\n",
    "\n",
    "This way, all your hard work and experiments are safely stored in your own space and easy to find!"
   ]
  },
  {
   "cell_type": "markdown",
   "id": "turn-off-ai",
   "metadata": {},
   "source": [
    "### 💡 Colab Tip: AI Assistant\n",
    "\n",
    "By default Google Colab includes an AI coding assistant. While these tools can be very powerful, when you're just starting to learn Python, it is more helpful to figure things out on your own or with the direct guidance of your learning materials.\n",
    "\n",
    "Focus on understanding the basics first, and then you can explore how AI assistants can help you be more productive later on!\n",
    "\n",
    "To adjust or turn off the AI assistant, go to the `Tools` menu, then select `Settings`. In the `Settings` dialog, look for a section like `AI` or `Gemini` (the name might vary), or check under the `Editor` settings for AI-powered code completion. Uncheck the relevant boxes to disable or reduce these features.\n",
    "\n",
    "<img src=\"images/turn-off-AI-menu.png\" width=\"300\">\n",
    "<p>\n",
    "<img src=\"images/turn-off-AI.png\" width=\"400\">"
   ]
  },
  {
   "cell_type": "markdown",
   "id": "part-a-summary",
   "metadata": {},
   "source": [
    "## 6. 🎉 Part 1 Wrap-up! 🎉\n",
    "\n",
    "Great job making it through the first part of our Python adventure! You've learned a lot already:\n",
    "\n",
    "*   **What Jupyter Notebooks are:** Your interactive coding and note-taking environment.\n",
    "*   **Google Colab:** Understanding that we're using this platform for our Jupyter Notebooks, how to save your work, and manage features like the AI assistant.\n",
    "*   **Markdown Cells:** How to write and format text, create lists and headings, edit these cells, and render them to see the formatted output.\n",
    "*   **Code Cells:** How to run Python code and see its output (either from the last line's value or from `print()` statements).\n",
    "*   **Adding and Deleting Cells:** How to create new Markdown or Code cells and remove unwanted ones.\n",
    "*   **Key Learning Habits:** The importance of \"Predicting Before You Run\" and \"Peeking at Markdown Source\" to learn.\n",
    "*   **Navigating Notebooks:** Using the Table of Contents to easily move through your work.\n",
    "\n",
    "You're building a solid foundation. Remember, the best way to learn is by doing, so don't hesitate to go back, re-run cells, change things, and experiment!\n",
    "\n",
    "In the next notebook, `intro-to-python-01-b.ipynb`, we'll start diving deeper into Python itself, learning about variables, data types, and more. Keep up the great work! 🚀"
   ]
  }
 ],
 "metadata": {
  "kernelspec": {
   "display_name": "Python 3 (ipykernel)",
   "language": "python",
   "name": "python3"
  },
  "language_info": {
   "codemirror_mode": {
    "name": "ipython",
    "version": 3
   },
   "file_extension": ".py",
   "mimetype": "text/x-python",
   "name": "python",
   "nbconvert_exporter": "python",
   "pygments_lexer": "ipython3",
   "version": "3.10.17"
  }
 },
 "nbformat": 4,
 "nbformat_minor": 5
}
