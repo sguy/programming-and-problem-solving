{
 "cells": [
  {
   "cell_type": "markdown",
   "id": "0",
   "metadata": {},
   "source": [
    "# Notebook 7: Organizing with Lists 📋\n",
    "\n",
    "Welcome to our seventh Python notebook! In the last lesson, you learned how to give your programs decision-making power with `if`, `elif`, and `else`. That's a huge step!\n",
    "\n",
    "Now, we'll tackle another fundamental part of programming: how to store and manage **collections of items** using a powerful tool called a **list**.\n",
    "\n",
    "**Learning Objectives:**\n",
    "*   Create empty lists and lists with initial items.\n",
    "*   Add items to a list using the `.append()` method.\n",
    "*   Understand the concept of a **method** as a function that belongs to an object.\n",
    "*   Get the number of items in a list using the `len()` function.\n",
    "\n",
    "**Estimated Time:** 25-35 minutes\n",
    "\n",
    "**Prerequisites/Review:**\n",
    "*   Variables and Data Types (Notebook 2)\n",
    "*   Getting User Input with `input()` (Notebook 4)\n",
    "\n",
    "Let's learn how to get organized!"
   ]
  },
  {
   "cell_type": "markdown",
   "id": "1",
   "metadata": {},
   "source": [
    "## 🐍 Organizing Information: Introduction to Lists\n",
    "\n",
    "So far, our variables have stored one piece of information at a time (one number, one string, one Boolean).\n",
    "But what if you want to store *multiple* pieces of information together? For example:\n",
    "*   A list of your favorite foods.\n",
    "*   The names of students in a class.\n",
    "*   A to-do list for the day.\n",
    "\n",
    "Python has a very handy data type for this called a **list**. A list is an ordered collection of items. You can put almost anything in a list: numbers, strings, Booleans, and even other lists!\n",
    "\n",
    "### Creating Lists\n",
    "You create a list by putting items inside square brackets `[]`, separated by commas."
   ]
  },
  {
   "cell_type": "code",
   "execution_count": null,
   "id": "2",
   "metadata": {},
   "outputs": [],
   "source": [
    "# An empty list\n",
    "empty_list = []\n",
    "print(\"This is an empty list:\", empty_list)\n",
    "\n",
    "# A list of numbers\n",
    "scores = [90, 85, 92, 78, 100]\n",
    "print(\"A list of scores:\", scores)\n",
    "\n",
    "# A list of strings (names)\n",
    "friends = [\"Alice\", \"Bob\", \"Charlie\"]\n",
    "print(\"A list of friends:\", friends)\n",
    "\n",
    "# A list with mixed data types (though usually you'll keep types consistent)\n",
    "mixed_stuff = [\"Python\", 3.14, True, 42]\n",
    "print(\"A mixed list:\", mixed_stuff)"
   ]
  },
  {
   "cell_type": "markdown",
   "id": "3",
   "metadata": {},
   "source": [
    "### 🐍 Python Tool: New Syntax Alert - Using Methods with `.`\n",
    "\n",
    "You're about to see a new way to use functions with certain types of data, like lists. \n",
    "\n",
    "Some values in Python (we call them **objects**) come with their own set of built-in tools. These tools are functions that specifically belong to that object, and we call them **methods**.\n",
    "\n",
    "To use a method, you type the variable name, then a dot `.`, then the method name, followed by parentheses `()` (which might contain arguments, just like regular functions).\n",
    "\n",
    "**Example:** `my_list.append(\"new_item\")`\n",
    "\n",
    "Here, `my_list` is the object (our list), and `append()` is a method that belongs to lists. It adds a new item to that specific list.\n",
    "\n",
    "We'll learn much more about objects and methods later in your programming journey. For now, just recognize this `variable.method()` pattern when you see it with lists."
   ]
  },
  {
   "cell_type": "markdown",
   "id": "4",
   "metadata": {},
   "source": [
    "### Adding Items to a List: `.append()`\n",
    "\n",
    "Often, you'll start with an empty list or a list with a few items, and then you'll want to add more items to it. The most common way to add an item to the *end* of a list is using the `.append()` method."
   ]
  },
  {
   "cell_type": "code",
   "execution_count": null,
   "id": "5",
   "metadata": {},
   "outputs": [],
   "source": [
    "groceries = [\"milk\", \"eggs\"]\n",
    "print(\"Initial grocery list:\", groceries)\n",
    "\n",
    "# Let's add bread\n",
    "groceries.append(\"bread\")\n",
    "print(\"After adding bread:\", groceries)\n",
    "\n",
    "# And some cheese\n",
    "groceries.append(\"cheese\")\n",
    "print(\"After adding cheese:\", groceries)"
   ]
  },
  {
   "cell_type": "markdown",
   "id": "6",
   "metadata": {},
   "source": [
    "### Finding the Length of a List: `len()`\n",
    "\n",
    "To find out how many items are in a list, you can use the built-in `len()` function (just like you might have used it for strings, if you've encountered that!)."
   ]
  },
  {
   "cell_type": "code",
   "execution_count": null,
   "id": "7",
   "metadata": {},
   "outputs": [],
   "source": [
    "tasks = [\"Wake up\", \"Eat breakfast\", \"Learn Python\", \"Go to bed\"]\n",
    "number_of_tasks = len(tasks)\n",
    "print(\"I have\", number_of_tasks, \"tasks today.\")\n",
    "\n",
    "empty_shopping_cart = []\n",
    "items_in_cart = len(empty_shopping_cart)\n",
    "print(\"Items in empty cart:\", items_in_cart)"
   ]
  },
  {
   "cell_type": "markdown",
   "id": "8",
   "metadata": {},
   "source": [
    "### 🎯 Mini-Challenge: My Favorite Things\n",
    "\n",
    "Let's create a list of your favorite things!\n",
    "\n",
    "1.  Create an empty list called `favorite_things`.\n",
    "2.  Use `input()` to ask the user for three of their favorite things. Ask for them one at a time.\n",
    "3.  For each thing the user enters, use the `.append()` method to add it to your `favorite_things` list.\n",
    "4.  After adding all three, print the entire `favorite_things` list.\n",
    "5.  Then, print a message saying how many favorite things are in the list, using `len()`."
   ]
  },
  {
   "cell_type": "code",
   "execution_count": null,
   "id": "9",
   "metadata": {},
   "outputs": [],
   "source": [
    "# 1. Create an empty list\n",
    "favorite_things = []\n",
    "\n",
    "# 2. & 3. Ask for three favorite things and append them\n",
    "thing1 = input(\"What's one of your favorite things? \")\n",
    "favorite_things.append(thing1)\n",
    "\n",
    "thing2 = input(\"What's another favorite thing? \")\n",
    "favorite_things.append(thing2)\n",
    "\n",
    "thing3 = input(\"And one more favorite thing? \")\n",
    "favorite_things.append(thing3)\n",
    "\n",
    "# 4. Print the list\n",
    "print(\"Here are your favorite things:\", favorite_things)\n",
    "\n",
    "# 5. Print the number of items\n",
    "count_of_favorites = len(favorite_things)\n",
    "print(\"You have\", count_of_favorites, \"favorite things in your list!\")"
   ]
  },
  {
   "cell_type": "markdown",
   "id": "10",
   "metadata": {},
   "source": [
    "## 🎉 Part 7 Wrap-up & What's Next! 🎉\n",
    "\n",
    "Excellent work! You've learned how to manage collections of data, which is a fundamental skill in programming.\n",
    "\n",
    "**Here's a recap of what you learned:**\n",
    "*   **Lists** (`[]`) are used to store ordered collections of items.\n",
    "*   You can add items to the end of a list using the `.append()` **method**.\n",
    "*   You can find out how many items are in a list using the `len()` function.\n",
    "\n",
    "**Key Takeaways:**\n",
    "*   Lists are incredibly versatile for organizing and managing multiple pieces of data.\n",
    "*   Combining conditionals (from Notebook 6) and lists opens up a huge range of possibilities for what your programs can do.\n",
    "\n",
    "### Next Up: Notebook 8: The Caesar Cipher 🕵️‍♀️\n",
    "\n",
    "In our next notebook, we'll dive into a fun and classic coding problem: implementing the Caesar Cipher! This will be a great way to apply your new knowledge of both decisions and lists, and to start working more with text (strings) and loops. Get ready to encode and decode secret messages!\n"
   ]
  }
 ],
 "metadata": {
  "kernelspec": {
   "display_name": "paps-venv",
   "language": "python",
   "name": "python3"
  },
  "language_info": {
   "codemirror_mode": {
    "name": "ipython",
    "version": 3
   },
   "file_extension": ".py",
   "mimetype": "text/x-python",
   "name": "python",
   "nbconvert_exporter": "python",
   "pygments_lexer": "ipython3",
   "version": "3.10.12"
  }
 },
 "nbformat": 4,
 "nbformat_minor": 5
}
