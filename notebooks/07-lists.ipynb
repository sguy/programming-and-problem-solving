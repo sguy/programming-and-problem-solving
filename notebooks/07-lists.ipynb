{
 "cells": [
  {
   "cell_type": "markdown",
   "id": "0",
   "metadata": {},
   "source": [
    "# Notebook 7: Organizing with Lists 📋\n",
    "> \"For every minute spent organizing, an hour is earned.\" - *Benjamin Franklin*\n",
    "\n",
    "Welcome to our seventh Python notebook! In the last lesson, you learned how to give your programs decision-making power with `if`, `elif`, and `else`. That's a huge step!\n",
    "\n",
    "Now, we'll tackle another fundamental part of programming: how to store and manage **collections of items** using a powerful tool called a **list**.\n",
    "\n",
    "**Learning Objectives:**\n",
    "*   Create empty lists and lists with initial items.\n",
    "*   Add items to a list using the `.append()` method.\n",
    "*   Access items in a list using **indexing** (e.g., `my_list[0]`).\n",
    "*   Understand the concept of a **method** as a function that belongs to an object.\n",
    "*   Get the number of items in a list using the `len()` function.\n",
    "\n",
    "**Estimated Time:** 30-40 minutes\n",
    "\n",
    "**Prerequisites/Review:**\n",
    "*   Variables and Data Types (Notebook 2)\n",
    "*   Getting User Input with `input()` (Notebook 4)\n",
    "\n",
    "Let's learn how to get organized!"
   ]
  },
  {
   "cell_type": "markdown",
   "id": "1",
   "metadata": {},
   "source": [
    "## 🐍 New Concept: Introduction to Lists\n",
    "\n",
    "So far, our variables have stored one piece of information at a time (one number, one string, one Boolean).\n",
    "But what if you want to store *multiple* pieces of information together? For example:\n",
    "*   A list of your favorite foods.\n",
    "*   The names of students in a class.\n",
    "*   A to-do list for the day.\n",
    "\n",
    "Python has a very handy data type for this called a **list**. A list is an ordered collection of items. You can put almost anything in a list: numbers, strings, Booleans, and even other lists!\n",
    "\n",
    "### Creating Lists\n",
    "You create a list by putting items inside square brackets `[]`, separated by commas."
   ]
  },
  {
   "cell_type": "markdown",
   "id": "2",
   "metadata": {},
   "source": [
    "### 💡 Tip: Revisiting Our \"Box\" Analogy\n",
    "\n",
    "Remember in Notebook 3 when we said a variable is like a **box**? You give the box a **label** (the variable name) and you can store one **thing** inside it (like a number, a string, or a boolean).\n",
    "\n",
    "This is great for single items, but what if you have a *group* of similar items, like a shopping list? You could try making a variable for each one:\n",
    "\n",
    "```python\n",
    "item1 = \"grapes\"\n",
    "item2 = \"apples\"\n",
    "item3 = \"oranges\"\n",
    "```\n",
    "\n",
    "This works, but it gets a little clumsy. What if you add a fourth item? You have to think of a new variable name (`item4`). And there's no easy way to treat all these items as a single \"shopping list\".\n",
    "\n",
    "This is where **lists** come to the rescue!\n",
    "\n",
    "You can think of a list as a special container that holds several \"boxes\" in a specific order.\n",
    "*   The entire container can be put into a variable box, giving your whole list a single label (e.g., `shopping_list`).\n",
    "*   The \"boxes\" *inside* the list don't get custom labels. Instead, they have pre-assigned numbers called **indexes**: `0`, `1`, `2`, and so on.\n",
    "\n",
    "This is the best of both worlds! It connects all your items together under one name and keeps them in a specific order. A list is just another \"thing\" you can store in a variable."
   ]
  },
  {
   "cell_type": "code",
   "execution_count": null,
   "id": "3",
   "metadata": {},
   "outputs": [],
   "source": [
    "# An empty list\n",
    "empty_list = []\n",
    "print(\"This is an empty list:\", empty_list)\n",
    "\n",
    "# A list of numbers (integers)\n",
    "scores = [90, 85, 92, 78, 100]\n",
    "print(\"A list of scores:\", scores) # Expected output: A list of scores: [90, 85, 92, 78, 100]\n",
    "\n",
    "# A list of strings (names)\n",
    "friends = [\"Alice\", \"Bob\", \"Charlie\"]\n",
    "print(\"A list of friends:\", friends) # Expected output: A list of friends: ['Alice', 'Bob', 'Charlie']\n",
    "\n",
    "# A list with mixed data types (though usually you'll keep types consistent)\n",
    "mixed_stuff = [\"Python\", 3.14, True, 42]\n",
    "print(\"A mixed list:\", mixed_stuff) # Expected output: A mixed list: ['Python', 3.14, True, 42]"
   ]
  },
  {
   "cell_type": "markdown",
   "id": "4",
   "metadata": {},
   "source": [
    "## 🐍 New Concept: Accessing Items in a List (Indexing)\n",
    "\n",
    "Since lists are ordered, each item has a specific position, called an **index**. We can access any item in the list directly if we know its index.\n",
    "\n",
    "### ⚠️ Heads Up!\n",
    "In Python (and many other programming languages), indexing starts at **0**, not 1. This is a very common source of confusion for beginners, so pay close attention!\n",
    "\n",
    "*   The **first** item is at index `0`.\n",
    "*   The **second** item is at index `1`.\n",
    "*   The **third** item is at index `2`.\n",
    "*   ...and so on.\n",
    "\n",
    "To get an item, you use the list's variable name followed by the index in square brackets `[]`."
   ]
  },
  {
   "cell_type": "code",
   "execution_count": null,
   "id": "5",
   "metadata": {},
   "outputs": [],
   "source": [
    "friends = [\"Alice\", \"Bob\", \"Charlie\", \"Diana\"]\n",
    "\n",
    "# Get the first friend (at index 0)\n",
    "first_friend = friends[0]\n",
    "print(\"The first friend is:\", first_friend) # Expected output: The first friend is: Alice\n",
    "\n",
    "# Get the third friend (at index 2)\n",
    "third_friend = friends[2]\n",
    "print(\"The third friend is:\", third_friend) # Expected output: The third friend is: Charlie"
   ]
  },
  {
   "cell_type": "markdown",
   "id": "6",
   "metadata": {},
   "source": [
    "### ✅ Check Your Understanding\n",
    "\n",
    "Given the list `colors = [\"red\", \"green\", \"blue\", \"yellow\"]`, what code would you write to print the third color, `\"blue\"`?\n",
    "\n",
    "<details>\n",
    "  <summary>Click to see the answer</summary>\n",
    "\n",
    "  You would use index `2` to get the third item.\n",
    "\n",
    "  ```python\n",
    "  print(colors[2])\n",
    "  ```\n",
    "</details>"
   ]
  },
  {
   "cell_type": "markdown",
   "id": "7",
   "metadata": {},
   "source": [
    "### Finding the Length of a List: `len()`\n",
    "\n",
    "To find out how many items are in a list, you can use the built-in `len()` function (just like you might have used it for strings, if you've encountered that!)."
   ]
  },
  {
   "cell_type": "code",
   "execution_count": null,
   "id": "8",
   "metadata": {},
   "outputs": [],
   "source": [
    "tasks = [\"Wake up\", \"Eat breakfast\", \"Learn Python\", \"Go to bed\"]\n",
    "number_of_tasks = len(tasks)\n",
    "print(\"I have\", number_of_tasks, \"tasks today.\") # Expected output: I have 4 tasks today.\n",
    "\n",
    "empty_shopping_cart = []\n",
    "items_in_cart = len(empty_shopping_cart)\n",
    "print(\"Items in empty cart:\", items_in_cart) # Expected output: Items in empty cart: 0"
   ]
  },
  {
   "cell_type": "markdown",
   "id": "9",
   "metadata": {},
   "source": [
    "## 🐍 New Concept: Modifying Lists\n",
    "\n",
    "What makes lists truly powerful is that they are *mutable*, which is a fancy word meaning they can be changed after they are created. You can add items, remove items, or change items that are already in the list.\n",
    "\n",
    "The most common way to add a new item to the *end* of a list is with `.append()`."
   ]
  },
  {
   "cell_type": "code",
   "execution_count": null,
   "id": "10",
   "metadata": {},
   "outputs": [],
   "source": [
    "groceries = [\"milk\", \"eggs\"]\n",
    "print(\"Initial grocery list:\", groceries) # Expected output: Initial grocery list: ['milk', 'eggs']\n",
    "\n",
    "# Let's add bread\n",
    "groceries.append(\"bread\")\n",
    "print(\"After adding bread:\", groceries) # Expected output: After adding bread: ['milk', 'eggs', 'bread']\n",
    "\n",
    "# And some cheese\n",
    "groceries.append(\"cheese\")\n",
    "print(\"After adding cheese:\", groceries) # Expected output: After adding cheese: ['milk', 'eggs', 'bread', 'cheese']"
   ]
  },
  {
   "cell_type": "markdown",
   "id": "11",
   "metadata": {},
   "source": [
    "### 💡 Tip: What's that dot for? (Methods)\n",
    "\n",
    "You probably noticed the new syntax: `groceries.append(\"bread\")`.\n",
    "\n",
    "This is our first look at a **method**. A method is like a function that *belongs* to a specific object or data type. Lists have their own special set of methods, and `.append()` is one of them.\n",
    "\n",
    "You call a method by using the variable name, a dot (`.`), the method's name, and parentheses `()`.\n",
    "\n",
    "**Pattern:** `variable.method(arguments)`\n",
    "\n",
    "You'll see this pattern a lot in Python! For now, just remember that `.append()` is the tool you use to add items to a list."
   ]
  },
  {
   "cell_type": "markdown",
   "id": "12",
   "metadata": {},
   "source": [
    "### ✅ Check Your Understanding\n",
    "\n",
    "If you start with `my_list = [10, 20]` and then run the code `my_list.append(30)`, what will `len(my_list)` return?\n",
    "\n",
    "<details>\n",
    "  <summary>Click to see the answer</summary>\n",
    "\n",
    "  It will return `3`.\n",
    "\n",
    "  The list starts with 2 items. The `.append(30)` method adds a third item to the list, so its new length is 3.\n",
    "\n",
    "</details>"
   ]
  },
  {
   "cell_type": "markdown",
   "id": "13",
   "metadata": {},
   "source": [
    "### 🎯 Mini-Challenge: Score Keeper\n",
    "\n",
    "Let's make a simple program to track scores in a game. This challenge will combine lists with the `int()` function you learned about in a previous lesson.\n",
    "\n",
    "**Your task is to:**\n",
    "*   Create a list named `scores` that already contains a few integer scores (e.g., `88`, `92`, `75`).\n",
    "*   Print the `scores` list to show the starting scores.\n",
    "*   Ask the user to enter a new score using `input()`.\n",
    "*   **Convert the user's input into an integer** and then `.append()` it to the `scores` list.\n",
    "*   Finally, print the updated `scores` list."
   ]
  },
  {
   "cell_type": "markdown",
   "id": "14",
   "metadata": {},
   "source": [
    "<details>\n",
    "  <summary>Click for a hint</summary>\n",
    "  Remember that `input()` always gives you a string. You'll need to convert it to a number before you can add it to your list of scores. What function can you use for that?\n",
    "</details>\n",
    "<details>\n",
    "  <summary>Click for another hint</summary>\n",
    "  The sequence is: create list -> `print` -> get `input` -> convert with `int()` -> `.append()` the converted number -> `print` again.\n",
    "</details>"
   ]
  },
  {
   "cell_type": "code",
   "execution_count": null,
   "id": "15",
   "metadata": {},
   "outputs": [],
   "source": [
    "# YOUR CODE HERE"
   ]
  },
  {
   "cell_type": "markdown",
   "id": "16",
   "metadata": {},
   "source": [
    "<details>\n",
    "  <summary>Click here to see a possible solution</summary>\n",
    "\n",
    "```python\n",
    "# 1. Create a list with some starting scores\n",
    "scores = [88, 92, 75]\n",
    "print(\"Initial scores:\", scores) # Expected output: Initial scores: [88, 92, 75]\n",
    "\n",
    "# 2. Ask the user for a new score\n",
    "new_score_str = input(\"Enter the new score: \") # Sample interaction: Enter the new score: 100\n",
    "\n",
    "# 3. Convert the input string to an integer\n",
    "new_score_int = int(new_score_str)\n",
    "\n",
    "# 4. Append the new integer score to the list\n",
    "scores.append(new_score_int)\n",
    "\n",
    "# 5. Print the updated list\n",
    "print(\"Updated scores:\", scores) # Expected output: Updated scores: [88, 92, 75, 100]\n",
    "```\n",
    "\n",
    "  ### 🤔 Discussion Question\n",
    "\n",
    "  What would happen if the user entered `one hundred` instead of `100` when the program asked for a score? Why?\n",
    "\n",
    "  <details>\n",
    "    <summary>Click to see the answer</summary>\n",
    "    The program would crash with a `ValueError`. The `int()` function can only convert strings that look like integers (e.g., `\"100\"`). It doesn't know how to convert words like `\"one hundred\"` into numbers.\n",
    "  </details>\n",
    "</details>"
   ]
  },
  {
   "cell_type": "markdown",
   "id": "17",
   "metadata": {},
   "source": [
    "### 🎯 Mini-Challenge: Guest List\n",
    "\n",
    "This challenge will test your ability to create a list, add to it, and access a specific item by its index.\n",
    "\n",
    "**Your task is to:**\n",
    "*   Create a list named `guests` with a few names already in it (e.g., `\"Zoe\"`, `\"Leo\"`).\n",
    "*   Ask the user to enter the name of a new guest to invite.\n",
    "*   Use `.append()` to add the new guest to the end of the list.\n",
    "*   Print a special welcome message to the *first* person on the list (remember index `0`!).\n",
    "*   Finally, print the complete, updated guest list."
   ]
  },
  {
   "cell_type": "markdown",
   "id": "18",
   "metadata": {},
   "source": [
    "<details>\n",
    "  <summary>Click for a hint</summary>\n",
    "  To get the first item from a list called `my_list`, you would use `my_list[0]`.\n",
    "</details>\n",
    "<details>\n",
    "  <summary>Click for another hint</summary>\n",
    "  The sequence is: create list -> get `input` -> `.append()` the input -> `print` the welcome message using an index -> `print` the final list.\n",
    "</details>"
   ]
  },
  {
   "cell_type": "code",
   "execution_count": null,
   "id": "19",
   "metadata": {},
   "outputs": [],
   "source": [
    "# YOUR CODE HERE"
   ]
  },
  {
   "cell_type": "markdown",
   "id": "20",
   "metadata": {},
   "source": [
    "<details>\n",
    "  <summary>Click here to see a possible solution</summary>\n",
    "\n",
    "```python\n",
    "# 1. Create a list with some starting guests\n",
    "guests = [\"Zoe\", \"Leo\", \"Mia\"]\n",
    "\n",
    "# 2. Ask the user for a new guest and append them\n",
    "new_guest = input(\"Who should we add to the guest list? \") # Sample interaction: Who should we add to the guest list? Sam\n",
    "guests.append(new_guest)\n",
    "\n",
    "# 3. Welcome the first guest using indexing\n",
    "print(\"Welcome,\", guests[0] + \"! We're so glad you're here.\") # Expected output: Welcome, Zoe! We're so glad you're here.\n",
    "\n",
    "# 4. Print the final list\n",
    "print(\"Final guest list:\", guests) # Expected output: Final guest list: ['Zoe', 'Leo', 'Mia', 'Sam']\n",
    "```\n",
    "\n",
    "</details>"
   ]
  },
  {
   "cell_type": "markdown",
   "id": "21",
   "metadata": {},
   "source": [
    "### 🎯 Mini-Challenge: Build a List from Scratch\n",
    "\n",
    "In the last two challenges, you started with a list that already had items. Now, let's practice building one from scratch!\n",
    "\n",
    "**Your task is to:**\n",
    "*   Create an **empty list** called `favorite_things`.\n",
    "*   Ask the user for three of their favorite things, one at a time. Use `.append()` to add each one to the list.\n",
    "*   After adding all three, print the entire `favorite_things` list to show the result.\n",
    "*   Finally, use the `len()` function to print a message telling the user how many items are in their list (e.g., \"You have 3 favorite things in your list!\")."
   ]
  },
  {
   "cell_type": "markdown",
   "id": "22",
   "metadata": {},
   "source": [
    "<details>\n",
    "  <summary>Click for a hint</summary>\n",
    "  Start by creating an empty list: `my_list = []`.\n",
    "</details>\n",
    "<details>\n",
    "  <summary>Click for another hint</summary>\n",
    "  Remember to use a variable to store the result of `input()`, then `.append()` that variable to your list.\n",
    "</details>"
   ]
  },
  {
   "cell_type": "code",
   "execution_count": null,
   "id": "23",
   "metadata": {},
   "outputs": [],
   "source": [
    "# YOUR CODE HERE"
   ]
  },
  {
   "cell_type": "markdown",
   "id": "24",
   "metadata": {},
   "source": [
    "<details>\n",
    "  <summary>Click here to see a possible solution</summary>\n",
    "\n",
    "```python\n",
    "# 1. Create an empty list\n",
    "favorite_things = []\n",
    "\n",
    "# 2. Ask for three favorite things and append them\n",
    "thing1 = input(\"What's one of your favorite things? \") # Sample interaction: What's one of your favorite things? Reading\n",
    "favorite_things.append(thing1)\n",
    "\n",
    "thing2 = input(\"What's another favorite thing? \") # Sample interaction: What's another favorite thing? Hiking\n",
    "favorite_things.append(thing2)\n",
    "\n",
    "thing3 = input(\"And one more favorite thing? \") # Sample interaction: And one more favorite thing? Pizza\n",
    "favorite_things.append(thing3)\n",
    "\n",
    "# 3. Print the list\n",
    "print(\"Here are your favorite things:\", favorite_things) # Expected output: Here are your favorite things: ['Reading', 'Hiking', 'Pizza']\n",
    "\n",
    "# 4. Print the number of items\n",
    "count_of_favorites = len(favorite_things)\n",
    "print(\"You have\", count_of_favorites, \"favorite things in your list!\") # Expected output: You have 3 favorite things in your list!\n",
    "```\n",
    "\n",
    "  ### 🚀 Pro-Tip: Avoiding Repetitive Code\n",
    "\n",
    "  Did you notice we wrote the `input()` and `.append()` lines three times? It works, but it's a bit repetitive. What if we wanted to ask for 10 things?\n",
    "\n",
    "  This is a perfect example of where **loops** come in handy. In the next notebook, you'll learn how to use a `for` loop to repeat these steps as many times as you want with just a few lines of code!\n",
    "</details>"
   ]
  },
  {
   "cell_type": "markdown",
   "id": "25",
   "metadata": {},
   "source": [
    "### 🎯 Mini-Challenge: Simple Shopping Cart\n",
    "\n",
    "Let's put everything you've learned together to create a mini-program that simulates a shopping cart.\n",
    "\n",
    "**Your task is to:**\n",
    "*   Create a list named `shopping_cart` and add two or three initial items (e.g., `\"apples\"`, `\"milk\"`).\n",
    "*   Ask the user to add one more item to the cart using `input()`.\n",
    "*   Use `.append()` to add the user's item to the list.\n",
    "*   Print a message that says \"The first item in your cart is: [first item]\". Use indexing to get the first item.\n",
    "*   Print a final message that says \"You have a total of [number] items in your cart.\" Use `len()` to get the total number of items."
   ]
  },
  {
   "cell_type": "markdown",
   "id": "26",
   "metadata": {},
   "source": [
    "<details>\n",
    "  <summary>Click for a hint</summary>\n",
    "  Remember that the first item is at index `0`.\n",
    "</details>\n",
    "<details>\n",
    "  <summary>Click for another hint</summary>\n",
    "  You will need to use `shopping_cart[0]` to get the first item and `len(shopping_cart)` to get the total count.\n",
    "</details>"
   ]
  },
  {
   "cell_type": "code",
   "execution_count": null,
   "id": "27",
   "metadata": {},
   "outputs": [],
   "source": [
    "# YOUR CODE HERE"
   ]
  },
  {
   "cell_type": "markdown",
   "id": "28",
   "metadata": {},
   "source": [
    "<details>\n",
    "  <summary>Click here to see a possible solution</summary>\n",
    "\n",
    "```python\n",
    "# 1. Create a list with some starting items\n",
    "shopping_cart = [\"apples\", \"milk\", \"cereal\"]\n",
    "\n",
    "# 2. Ask the user for a new item and append it\n",
    "new_item = input(\"What would you like to add to your cart? \") # Sample interaction: What would you like to add to your cart? bananas\n",
    "shopping_cart.append(new_item)\n",
    "\n",
    "# 3. Print the first item using indexing\n",
    "print(\"The first item in your cart is:\", shopping_cart[0]) # Expected output: The first item in your cart is: apples\n",
    "\n",
    "# 4. Print the total number of items using len()\n",
    "total_items = len(shopping_cart)\n",
    "print(\"You have a total of\", total_items, \"items in your cart.\") # Expected output: You have a total of 4 items in your cart.\n",
    "\n",
    "# Bonus: Print the final cart to see the result\n",
    "print(\"Final cart:\", shopping_cart) # Expected output: Final cart: ['apples', 'milk', 'cereal', 'bananas']\n",
    "```\n",
    "\n",
    "</details>"
   ]
  },
  {
   "cell_type": "markdown",
   "id": "29",
   "metadata": {},
   "source": [
    "## 🎉 Part 7 Wrap-up & What's Next! 🎉\n",
    "\n",
    "Excellent work! You've learned how to manage collections of data, which is a fundamental skill in programming.\n",
    "\n",
    "**Here's a recap of what you learned:**\n",
    "*   **Lists** (`[]`) are used to store ordered collections of items.\n",
    "*   You can access items by their position using **indexing**, like `my_list[0]` for the first item.\n",
    "*   You can add items to the end of a list using the `.append()` **method**.\n",
    "*   You can find out how many items are in a list using the `len()` function.\n",
    "\n",
    "**Key Takeaways:**\n",
    "*   Lists are incredibly versatile for organizing and managing multiple pieces of data.\n",
    "*   Combining indexing, `.append()`, and `len()` gives you the core tools to start working with lists.\n",
    "\n",
    "### Next Up: Notebook 8: Mastering Loops 🔁\n",
    "\n",
    "In our next notebook, we'll learn one of the most powerful concepts in programming: **loops**. We'll see how to use `for` loops to repeat actions and to easily work with every item in our lists. Get ready to make your code much more powerful and efficient!\n"
   ]
  }
 ],
 "metadata": {
  "kernelspec": {
   "display_name": "paps-venv",
   "language": "python",
   "name": "python3"
  },
  "language_info": {
   "codemirror_mode": {
    "name": "ipython",
    "version": 3
   },
   "file_extension": ".py",
   "mimetype": "text/x-python",
   "name": "python",
   "nbconvert_exporter": "python",
   "pygments_lexer": "ipython3",
   "version": "3.10.12"
  }
 },
 "nbformat": 4,
 "nbformat_minor": 5
}
