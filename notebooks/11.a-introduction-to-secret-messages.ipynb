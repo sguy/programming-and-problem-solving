{
 "cells": [
  {
   "cell_type": "markdown",
   "id": "0",
   "metadata": {},
   "source": [
    "# Notebook 11.a: An Introduction to Secret Messages"
   ]
  },
  {
   "cell_type": "markdown",
   "id": "1",
   "metadata": {},
   "source": [
    "> \"There is no security on this earth; there is only opportunity.\" — [Douglas MacArthur](https://en.wikipedia.org/wiki/Douglas_MacArthur)\n",
    "\n",
    "Welcome to the world of cryptography! In this series of notebooks, we're going to unravel the secrets of secret messages. We'll explore how computers keep information safe and learn how to write our own simple encryption programs."
   ]
  },
  {
   "cell_type": "markdown",
   "id": "2",
   "metadata": {},
   "source": [
    "*Estimated Time: 30-45 minutes*\n",
    "\n",
    "---\n",
    "\n",
    "[Return to Table of Contents](https://colab.research.google.com/github/sguy/programming-and-problem-solving/blob/main/notebooks/table-of-contents.ipynb)"
   ]
  },
  {
   "cell_type": "markdown",
   "id": "3",
   "metadata": {},
   "source": [
    "### Learning Objectives:\n",
    "\n",
    "*   Understand the difference between plaintext and ciphertext.\n",
    "*   Learn the distinction between encoding and encrypting.\n",
    "*   Use Python to implement a simple encoding and decoding scheme."
   ]
  },
  {
   "cell_type": "markdown",
   "id": "4",
   "metadata": {},
   "source": [
    "## 🐍 New Concept: Plaintext and Ciphertext\n",
    "\n",
    "At its core, cryptography is about transforming messages. We start with two basic definitions:\n",
    "\n",
    "*   **Plaintext:** The original, readable message. (e.g., `\"Hello, world!\"`)\n",
    "*   **Ciphertext:** The transformed, unreadable message. (e.g., `\"Khoor, zruog!\"`)"
   ]
  },
  {
   "cell_type": "markdown",
   "id": "5",
   "metadata": {},
   "source": [
    "## 🐍 New Concept: Encoding vs. Encrypting\n",
    "\n",
    "How do we get from plaintext to ciphertext? There are two main ways to transform data, and it's important to understand their different goals.\n",
    "\n",
    "![A diagram showing the difference between encoding and encrypting](https://raw.githubusercontent.com/sguy/programming-and-problem-solving/main/notebooks/images/encode_vs_encrypt.svg)"
   ]
  },
  {
   "cell_type": "markdown",
   "id": "6",
   "metadata": {},
   "source": [
    "### Encoding & Decoding\n",
    "**Goal:** To change a message's format for a public purpose.\n",
    "- **Encode:** The process of transforming data from one format to another.\n",
    "- **Decode:** The process of converting encoded data back to its original format.\n",
    "\n",
    "The program or device that performs this is called a **codec** (a portmanteau of **co**der/**dec**oder). The method is public and well-known.\n",
    "\n",
    "**Why?** To enhance the message. You might encode data to:\n",
    "*   **Make it smaller:** This is what happens when you create a `.zip` file or a `.jpeg` image. This is called **compression**.\n",
    "*   **Make it universally readable:** Computers fundamentally only understand numbers. **ASCII** and **Unicode** are codecs that map characters to numbers so they can be stored and processed.\n",
    "*   **Make it more resilient:** A QR code encodes website data into a format that a camera can read, even if part of the code is damaged.\n",
    "\n",
    "The key idea is that anyone can decode the message if they know which codec was used. There is no secret. For this reason, encoded data is still considered **plaintext**."
   ]
  },
  {
   "cell_type": "markdown",
   "id": "7",
   "metadata": {},
   "source": [
    "### Encrypting & Decrypting\n",
    "**Goal:** To hide a message's content for a private purpose.\n",
    "- **Encrypt:** The process of transforming plaintext into ciphertext using a secret **key**.\n",
    "- **Decrypt:** The process of converting ciphertext back into plaintext using the same secret key.\n",
    "\n",
    "**Why?** To control who can read the message. Only people you give the key to can decrypt the ciphertext back into readable plaintext."
   ]
  },
  {
   "cell_type": "markdown",
   "id": "8",
   "metadata": {},
   "source": [
    "### ⚠️ A Quick Note on \"Codes\"\n",
    "\n",
    "In everyday language, you'll often hear about \"secret codes\" or \"code breakers.\" While this is common, in the world of cryptography, we use our terms more precisely. Usually, when people say \"code,\" they are actually referring to an **encryption** system. We will stick to the precise terms *encoding* and *encrypting* in this series to be clear about our goals."
   ]
  },
  {
   "cell_type": "markdown",
   "id": "9",
   "metadata": {},
   "source": [
    "### ✅ Check Your Understanding"
   ]
  },
  {
   "cell_type": "markdown",
   "id": "10",
   "metadata": {},
   "source": [
    "1. You compress a folder of photos into a `.zip` file to email it. Is this an example of encoding or encrypting?\n",
    "\n",
    "<details><summary>Answer</summary>\n",
    "\n",
    "**Encoding**. The goal is to make the file smaller (compression), not to hide its content. The `.zip` format is a public standard, so no secret key is involved. \n",
    "\n",
    "</details>\n",
    "\n",
    "2. You use a password to lock a document. Is the locked document plaintext or ciphertext?\n",
    "\n",
    "<details><summary>Answer</summary>\n",
    "\n",
    "**Ciphertext**. The document has been transformed into an unreadable state. It can only be converted back to readable plaintext by using the secret key (your password).\n",
    "\n",
    "</details>"
   ]
  },
  {
   "cell_type": "markdown",
   "id": "11",
   "metadata": {},
   "source": [
    "### 🎯 Mini-Challenge: The ASCII Codec"
   ]
  },
  {
   "cell_type": "markdown",
   "id": "12",
   "metadata": {},
   "source": [
    "One of the most common codecs in the world is ASCII (American Standard Code for Information Interchange). It's a system that maps characters to numbers. Python gives us two built-in functions to work with it:\n",
    "\n",
    "*   `ord(character)`: Takes a character and returns its ASCII number.\n",
    "*   `chr(number)`: Takes a number and returns its corresponding ASCII character.\n",
    "\n",
    "Let's use these to build our own encoder and decoder.\n",
    "\n",
    "**💡 Tip:** Remember that Python lets you treat a string like a list of characters. You can loop through it directly to handle one character at a time!\n",
    "```python\n",
    "for char in \"HELLO\":\n",
    "    print(char)\n",
    "```\n",
    "\n",
    "<details>\n",
    "<summary>Hint: How to start `encode_to_ascii`?</summary>\n",
    "\n",
    "1. Create an empty list to store your numbers.\n",
    "2. Use a `for` loop to iterate through each character in the input `message`.\n",
    "3. Inside the loop, call `ord()` on the character and `append()` the result to your list.\n",
    "4. After the loop, `return` the list.\n",
    "\n",
    "</details>\n",
    "\n",
    "<details>\n",
    "<summary>Hint: How to start `decode_from_ascii`?</summary>\n",
    "\n",
    "1. Create an empty string `\"\"` to build your result.\n",
    "2. Use a `for` loop to iterate through each number in the input `numbers` list.\n",
    "3. Inside the loop, call `chr()` on the number and add the resulting character to your result string using `+`.\n",
    "4. After the loop, `return` the result string.\n",
    "\n",
    "</details>"
   ]
  },
  {
   "cell_type": "code",
   "execution_count": null,
   "id": "13",
   "metadata": {},
   "outputs": [],
   "source": [
    "def encode_to_ascii(message):\n",
    "    # YOUR CODE HERE: Create an empty list to hold the numbers.\n",
    "    # Loop through each character in the message.\n",
    "    # Inside the loop, use ord() to get the number for the character.\n",
    "    # Append the number to your list.\n",
    "    # Finally, return the list of numbers.\n",
    "    pass\n",
    "\n",
    "def decode_from_ascii(numbers):\n",
    "    # YOUR CODE HERE: Create an empty string to build your message.\n",
    "    # Loop through each number in the list.\n",
    "    # Inside the loop, use chr() to get the character for the number.\n",
    "    # Add the character to your message string.\n",
    "    # Finally, return the message string.\n",
    "    pass\n",
    "\n",
    "# --- Test your functions --- \n",
    "my_message = \"Hello, world!\"\n",
    "encoded_message = encode_to_ascii(my_message)\n",
    "print(f\"Original message: {my_message}\")\n",
    "print(f\"Encoded (ASCII): {encoded_message}\")\n",
    "\n",
    "decoded_message = decode_from_ascii(encoded_message)\n",
    "print(f\"Decoded message: {decoded_message}\")"
   ]
  },
  {
   "cell_type": "markdown",
   "id": "14",
   "metadata": {},
   "source": [
    "<details>\n",
    "<summary>Click to see a possible solution</summary>\n",
    "\n",
    "```python\n",
    "def encode_to_ascii(message):\n",
    "    ascii_numbers = []\n",
    "    for char in message:\n",
    "        ascii_numbers.append(ord(char))\n",
    "    return ascii_numbers\n",
    "\n",
    "def decode_from_ascii(numbers):\n",
    "    message = \"\"\n",
    "    for num in numbers:\n",
    "        message += chr(num)\n",
    "    return message\n",
    "\n",
    "# --- Test your functions --- \n",
    "my_message = \"Hello, world!\"\n",
    "encoded_message = encode_to_ascii(my_message)\n",
    "print(f\"Original message: {my_message}\")\n",
    "print(f\"Encoded (ASCII): {encoded_message}\")\n",
    "\n",
    "decoded_message = decode_from_ascii(encoded_message)\n",
    "print(f\"Decoded message: {decoded_message}\")\n",
    "```\n",
    "</details>"
   ]
  },
  {
   "cell_type": "markdown",
   "id": "15",
   "metadata": {},
   "source": [
    "## 🎉 Well Done!\n",
    "\n",
    "You've successfully navigated the foundational concepts of cryptography! You now have a clear understanding of the difference between encoding and encrypting, and you've built your first Python codec.\n",
    "\n",
    "### Key Takeaways\n",
    "*   **Plaintext** is the original, readable message; **Ciphertext** is the transformed, unreadable message.\n",
    "*   **Encoding** changes a message's format for public purposes (e.g., compression, universal readability), and the encoded data is still considered plaintext.\n",
    "*   **Encrypting** hides a message's content for private purposes, requiring a secret key to decrypt.\n",
    "*   Python's `ord()` and `chr()` functions are essential tools for converting between characters and their numerical representations, forming the basis of many codecs.\n",
    "*   Breaking down complex problems into smaller, manageable functions (like `encode_to_ascii` and `decode_from_ascii`) is a powerful programming strategy.\n",
    "\n",
    "### 🤔 Reflection Question\n",
    "Can you think of a real-world scenario where you might want to encode a message but *not* encrypt it? What about a scenario where you would definitely need to encrypt it?\n",
    "\n",
    "### Next Up: The Caesar Cipher 📜\n",
    "\n",
    "In our next notebook, [Notebook 11.b: The Caesar Cipher](https://colab.research.google.com/github/sguy/programming-and-problem-solving/blob/main/notebooks/11.b-the-caesar-cipher.ipynb), we will take the next step and build our first **encryption** program: the Caesar Cipher, applying the concepts you've learned here.\n",
    "\n",
    "[Return to Table of Contents](https://colab.research.google.com/github/sguy/programming-and-problem-solving/blob/main/notebooks/table-of-contents.ipynb)"
   ]
  }
 ],
 "metadata": {
  "language_info": {
   "name": "python"
  }
 },
 "nbformat": 4,
 "nbformat_minor": 5
}
