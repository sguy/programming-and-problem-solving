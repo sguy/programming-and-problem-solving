{
  "cells": [
    {
      "cell_type": "markdown",
      "id": "header-title",
      "metadata": {},
      "source": [
        "# Notebook 12.e: A Glimpse of Calculus"
      ]
    },
    {
      "cell_type": "markdown",
      "id": "header-quote",
      "metadata": {},
      "source": [
        "> The limit of a function is a fundamental concept in calculus and analysis concerning the behavior of that function near a particular input.\n",
        ">\n",
        "> — Wikipedia\n"
      ]
    },
    {
      "cell_type": "markdown",
      "id": "header-learning-objectives",
      "metadata": {},
      "source": [
        "## 🎯 Learning Objectives\n",
        "\n",
        "By the end of this notebook, you will be able to:\n",
        "- Interpret the first difference as the average rate of change (or average sensitivity).\n",
        "- Visualize the average rate of change as the slope of a secant line.\n",
        "- Build an intuition for the limit by visualizing how the secant line approaches the tangent line as the interval shrinks."
      ]
    },
    {
      "cell_type": "markdown",
      "id": "header-prerequisites",
      "metadata": {},
      "source": [
        "## 📚 Prerequisites\n",
        "\n",
        "This notebook builds on concepts from all the previous lessons in the 12.x series."
      ]
    },
    {
      "cell_type": "markdown",
      "id": "header-time-and-toc",
      "metadata": {},
      "source": [
        "*Estimated Time: 40 minutes*\n",
        "\n",
        "---\n",
        "\n",
        "[Return to Table of Contents](https://colab.research.google.com/github/sguy/programming-and-problem-solving/blob/main/notebooks/table-of-contents.ipynb)"
      ]
    },
    {
      "cell_type": "markdown",
      "id": "intro",
      "metadata": {},
      "source": [
        "## Introduction: From Average to Instantaneous\n",
        "\n",
        "Throughout this series, we've used the **method of differences** to find the polynomial rule behind a sequence. We saw that for a linear function, the first difference is constant, and for a quadratic, the second difference is constant.\n",
        "\n",
        "But what do these differences actually *mean*? The first difference, $d_1(n) = y_n - y_{n-1}$, is the change in the function's value over a specific interval. This is the **average rate of change** between two points. When we plot a function, this is simply the **slope of the line connecting those two points**.\n",
        "\n",
        "This connecting line is called a **secant line**.\n",
        "\n",
        "This is useful, but it doesn't tell us how the function is changing at a *single instant*. How fast is the object falling *right at* `t=2` seconds, not between `t=2` and `t=3`? \n",
        "\n",
        "To answer that, we need to shrink the interval. In this notebook, we'll explore what happens as we make the interval between our two points smaller and smaller. This will give us our first glimpse into the fundamental idea of calculus: finding the **instantaneous rate of change**."
      ]
    },
    {
      "cell_type": "markdown",
      "id": "challenge-secant-line",
      "metadata": {},
      "source": [
        "### 🎯 Mini-Challenge: Visualizing the Limit\n",
        "\n",
        "Our goal is to see what happens to the average rate of change as our interval gets smaller and smaller. We will do this by plotting **secant lines** on a curve. A secant line is a straight line that connects two points on a curve.\n",
        "\n",
        "Your challenge is to complete the `plot_secant_line(f, x, h)` function. It should:\n",
        "1. Take a function `f`, a point `x`, and an interval `h`.\n",
        "2. Calculate the two points on the curve: `(x, f(x))` and `(x+h, f(x+h))`.\n",
        "3. Plot the original function `f` over a range (e.g., from 0 to 10).\n",
        "4. Plot the two points on the curve.\n",
        "5. Draw a straight line (the secant line) between the two points.\n",
        "6. Calculate and display the slope of the secant line (the average rate of change)."
      ]
    },
    {
      "cell_type": "markdown",
      "id": "challenge-hints",
      "metadata": {},
      "source": [
        "<details>\n",
        "  <summary>Hint: How to plot the main curve</summary>\n",
        "  You'll need a range of x-values to plot the function smoothly. `np.linspace(0, 10, 100)` is a great way to get 100 evenly spaced points between 0 and 10.\n",
        "</details>\n",
        "\n",
        "<details>\n",
        "  <summary>Hint: How to draw the secant line</summary>\n",
        "  The `plt.plot()` function can draw a line between two points if you give it the x-coordinates and y-coordinates as lists. For example: `plt.plot([x1, x2], [y1, y2], 'r-o')`. The `'r-o'` part styles the line to be red, with circles at the data points.\n",
        "</details>\n",
        "\n",
        "<details>\n",
        "  <summary>Hint: Calculating the slope</summary>\n",
        "  Remember the classic slope formula: `slope = (y2 - y1) / (x2 - x1)`. In our case, `x1` is `x`, `y1` is `f(x)`, `x2` is `x+h`, and `y2` is `f(x+h)`. The denominator `x2 - x1` will simplify to just `h`!\n",
        "</details>"
      ]
    },
    {
      "cell_type": "code",
      "id": "secant-line-code",
      "metadata": {},
      "execution_count": null,
      "outputs": [],
      "source": [
        "import numpy as np\n",
        "import matplotlib.pyplot as plt\n",
        "\n",
        "def quadratic_function(x):\n",
        "    return 0.5 * x**2 + 2*x\n",
        "\n",
        "def plot_secant_line(f, x, h):\n",
        "    # YOUR CODE HERE\n",
        "    pass\n",
        "\n",
        "# Use a loop to visualize the secant line as h gets smaller\n",
        "for h_value in [2, 1, 0.5, 0.1, 0.01]:\n",
        "    plot_secant_line(quadratic_function, x=2, h=h_value)"
      ]
    },
    {
      "cell_type": "markdown",
      "id": "challenge-solution",
      "metadata": {},
      "source": [
        "<details>\n",
        "<summary>Click to see a possible solution</summary>\n",
        "\n",
        "```python\n",
        "import numpy as np\n",
        "import matplotlib.pyplot as plt\n",
        "\n",
        "def quadratic_function(x):\n",
        "    return 0.5 * x**2 + 2*x\n",
        "\n",
        "def plot_secant_line(f, x, h):\n",
        "    # 1. Define the points\n",
        "    x1 = x\n",
        "    y1 = f(x1)\n",
        "    x2 = x + h\n",
        "    y2 = f(x2)\n",
        "\n",
        "    # 2. Calculate the slope (average rate of change)\n",
        "    slope = (y2 - y1) / (x2 - x1)\n",
        "\n",
        "    # 3. Set up the plot\n",
        "    plt.figure(figsize=(8, 6))\n",
        "    \n",
        "    # 4. Plot the original function\n",
        "    x_vals = np.linspace(0, 10, 100)\n",
        "    y_vals = f(x_vals)\n",
        "    plt.plot(x_vals, y_vals, label='f(x)')\n",
        "\n",
        "    # 5. Plot the secant line\n",
        "    plt.plot([x1, x2], [y1, y2], 'r-o', label=f'Secant line for h={h}')\n",
        "\n",
        "    # 6. Add labels and title\n",
        "    plt.title(f'Average Rate of Change (Slope) = {slope:.4f}')\n",
        "    plt.xlabel('x')\n",
        "    plt.ylabel('f(x)')\n",
        "    plt.legend()\n",
        "    plt.grid(True)\n",
        "    plt.show()\n",
        "\n",
        "# Use a loop to visualize the secant line as h gets smaller\n",
        "for h_value in [2, 1, 0.5, 0.1, 0.01]:\n",
        "    plot_secant_line(quadratic_function, x=2, h=h_value)\n",
        "\n",
        "```\n",
        "</details>"
      ]
    },
    {
      "cell_type": "markdown",
      "id": "visualizing-limit-analysis",
      "metadata": {},
      "source": [
        "### Analyzing the Limit Visualization\n",
        "\n",
        "Look at the plots your code generated. As the interval `h` gets smaller, the red secant line pivots, getting closer and closer to the curve at `x=2`. The calculated slope is also converging on a single number.\n",
        "\n",
        "This limiting line that the secant lines are approaching is called the **tangent line**. It is the line that perfectly touches the curve at that single point. Its slope represents the true **instantaneous rate of change** (also called the **derivative**), which is the core idea of differential calculus."
      ]
    },
    {
      "cell_type": "markdown",
      "id": "pro-tip-extrapolation",
      "metadata": {},
      "source": [
        "### 🚀 Pro-Tip: Extrapolation and Error\n",
        "\n",
        "One of the most powerful uses of the instantaneous slope (the derivative) is to make **linear extrapolations**. If you are sitting at a point `x` and you know the function's value `f(x)` and its slope `s`, you can predict the value at a nearby point `x2`:\n",
        "\n",
        "$$ f_{predicted}(x_2) = f(x) + (x_2 - x) \\cdot s$$\n",
        "\n",
        "This is like saying, \"The new value is the old value, plus the rate of change times the distance traveled.\" But how good is this prediction? The error is the difference between the real value and our prediction: `Error = abs(f(x2) - f_predicted(x2))`.\n",
        "\n",
        "Let's explore this."
      ]
    },
    {
      "cell_type": "markdown",
      "id": "challenge-1-prompt",
      "metadata": {},
      "source": [
        "### 🎯 Mini-Challenge: The Quality of the Slope\n",
        "\n",
        "First, let's see how the quality of our slope estimate at `x=2` affects our prediction for the value at `x2=3`.\n",
        "\n",
        "**Your Goal:** Plot the extrapolation error at `x2=3` as a function of the `h` used to calculate the slope at `x=2`.\n",
        "\n",
        "**Steps:**\n",
        "1. Define the function `f(x) = 3*x**2 - 4*x - 0.5`.\n",
        "2. Define a `slope_estimate(f, x, h)` function. Use the symmetric difference formula: `(f(x + h/2) - f(x - h/2)) / h`.\n",
        "3. Define an `extrapolation_error(f, x, h, x2)` function that calculates `abs(real - estimate)` as described above.\n",
        "4. Create a list of `h_values` to test. `np.linspace(0.001, 1.0, 50)` will give a good range.\n",
        "5. Loop through `h_values`, call `extrapolation_error` for each `h` (with `x=2` and `x2=3`), and store the results.\n",
        "6. Create a standard plot of `error` vs. `h`."
      ]
    },
    {
      "cell_type": "code",
      "id": "challenge-1-code",
      "metadata": {},
      "execution_count": null,
      "outputs": [],
      "source": [
        "# YOUR CODE HERE"
      ]
    },
    {
      "cell_type": "markdown",
      "id": "challenge-1-solution",
      "metadata": {},
      "source": [
        "<details>\n",
        "<summary>Click to see a possible solution</summary>\n",
        "\n",
        "```python\n",
        "def f(x):\n",
        "    return 3*x**2 - 4*x - 0.5\n",
        "\n",
        "def slope_estimate(f, x, h):\n",
        "    return (f(x + h/2) - f(x - h/2)) / h\n",
        "\n",
        "def extrapolation_error(f, x, h, x2):\n",
        "    real_value = f(x2)\n",
        "    slope = slope_estimate(f, x, h)\n",
        "    estimated_value = f(x) + (x2 - x) * slope\n",
        "    return abs(real_value - estimated_value)\n",
        "\n",
        "h_values = np.linspace(0.001, 1.0, 50)\n",
        "error_values = []\n",
        "\n",
        "for h in h_values:\n",
        "    err = extrapolation_error(f, 2, h, 3)\n",
        "    error_values.append(err)\n",
        "\n",
        "plt.figure(figsize=(8,6))\n",
        "plt.plot(h_values, error_values, 'b-o')\n",
        "plt.title('Extrapolation Error vs. h')\n",
        "plt.xlabel('h (used to estimate slope)')\n",
        "plt.ylabel('Error in predicting f(3)')\n",
        "plt.grid(True)\n",
        "plt.show()\n",
        "```\n",
        "\n",
        "</details>"
      ]
    },
    {
      "cell_type": "markdown",
      "id": "challenge-1-analysis",
      "metadata": {},
      "source": [
        "### Analyzing the First Plot\n",
        "\n",
        "Notice how the error (on the y-axis) drops faster and faster as `h` (on the x-axis) gets closer to zero. This isn't a straight line; the relationship is a curve. This visually confirms that using a smaller `h` gives us a much more accurate slope estimate, which in turn makes our extrapolation more reliable."
      ]
    },
    {
      "cell_type": "markdown",
      "id": "challenge-2-prompt",
      "metadata": {},
      "source": [
        "### 🎯 Mini-Challenge: The Quality of the Extrapolation\n",
        "\n",
        "Now let's flip the experiment. We'll use a *good* slope estimate (by fixing `h` to a small value) and see how the extrapolation error changes as we try to predict points further and further away.\n",
        "\n",
        "**Your Goal:** Plot the extrapolation error as a function of the target point `x2`.\n",
        "\n",
        "**Steps:**\n",
        "1. Use the same functions as before.\n",
        "2. Fix your `h` to a small number, like `h = 0.00001`.\n",
        "3. Create a list of `x2_values` to test. `np.linspace(-2, 6, 40)` will give a good range around `x=2`.\n",
        "4. Loop through `x2_values`, call `extrapolation_error` for each `x2` (with `x=2` and your fixed `h`), and store the errors.\n",
        "5. Create a normal plot of `error` vs. `x2`."
      ]
    },
    {
      "cell_type": "code",
      "id": "challenge-2-code",
      "metadata": {},
      "execution_count": null,
      "outputs": [],
      "source": [
        "# YOUR CODE HERE"
      ]
    },
    {
      "cell_type": "markdown",
      "id": "challenge-2-solution",
      "metadata": {},
      "source": [
        "<details>\n",
        "<summary>Click to see a possible solution</summary>\n",
        "\n",
        "```python\n",
        "h_fixed = 0.00001\n",
        "x2_values = np.linspace(-2, 6, 40)\n",
        "error_values_2 = []\n",
        "\n",
        "for x2 in x2_values:\n",
        "    err = extrapolation_error(f, 2, h_fixed, x2)\n",
        "    error_values_2.append(err)\n",
        "\n",
        "plt.figure(figsize=(8,6))\n",
        "plt.plot(x2_values, error_values_2, 'r-o')\n",
        "plt.title('Extrapolation Error vs. Distance')\n",
        "plt.xlabel('x2 (target point)')\n",
        "plt.ylabel('Error of Linear Extrapolation from x=2')\n",
        "plt.grid(True)\n",
        "plt.show()\n",
        "```\n",
        "\n",
        "</details>"
      ]
    },
    {
      "cell_type": "markdown",
      "id": "challenge-2-analysis",
      "metadata": {},
      "source": [
        "### Analyzing the Second Plot\n",
        "\n",
        "This result is just as important! The plot shows that the error is zero at `x=2` (as you'd expect) and grows bigger the further we move away from `x=2`. The shape of the error is parabolic, which again tells us something deep about the nature of the approximation.\n",
        "\n",
        "This is what we mean by a **local** approximation. Our slope estimate is fantastic for predicting values very close to `x=2`, but its quality gets worse and worse the further we extrapolate. This gives you a powerful intuition for both the utility and the limitations of the derivative."
      ]
    },
    {
      "cell_type": "markdown",
      "id": "further-exploration",
      "metadata": {},
      "source": [
        "### 🤔 Discussion & Further Exploration\n",
        "\n",
        "Here are a few questions to think about. Try to answer them by reasoning, and then feel free to write some code in new cells to test your hypotheses!\n",
        "\n",
        "1. **Minimums and Maximums:** What do you think the slope (the instantaneous rate of change) would be right at the point where a function has a minimum or maximum value? (Hint: Think about what the tangent line would look like at the very bottom of a parabola).\n",
        "2. **Twisty vs. Flat:** We made our estimates at `x=2`. What if you chose a different point to estimate the slope? Look at the graph of `f(x) = 3*x**2 - 4*x - 0.5`. Where do you think the linear approximation would be most accurate? Where would it be least accurate? In other words, is it easier to make a good prediction on the flatter parts of the curve or the 'twistier' parts?\n",
        "3. **Higher-Order Polynomials:** What if you were making estimates for a cubic function like `g(x) = x**3 - 2*x**2 + x - 1`? What would you need to change in the code? How do you think the error plots would change?"
      ]
    },
    {
      "cell_type": "markdown",
      "id": "series-summary",
      "metadata": {},
      "source": [
        "## 🎉 You've Reached the End!\n",
        "\n",
        "Congratulations on completing the 12.x series on Functions, Sequences, and Plots!\n",
        "\n",
        "You have journeyed from plotting simple functions to analyzing complex sequences and, finally, to peeking at the core concepts of calculus. You have powerful new tools—both mathematical and computational—to find patterns in the world around you.\n",
        "\n",
        "Keep experimenting, stay curious, and happy coding!"
      ]
    },
    {
      "cell_type": "markdown",
      "id": "final-toc-link",
      "metadata": {},
      "source": [
        "---\n",
        "\n",
        "[Return to Table of Contents](https://colab.research.google.com/github/sguy/programming-and-problem-solving/blob/main/notebooks/table-of-contents.ipynb)"
      ]
    }
  ],
  "metadata": {
    "kernelspec": {
      "display_name": "Python 3",
      "language": "python",
      "name": "python3"
    },
    "language_info": {
      "codemirror_mode": {
        "name": "ipython",
        "version": 3
      },
      "file_extension": ".py",
      "mimetype": "text/x-python",
      "name": "python",
      "nbconvert_exporter": "python",
      "pygments_lexer": "ipython3",
      "version": "3.11.2"
    }
  },
  "nbformat": 4,
  "nbformat_minor": 5
}