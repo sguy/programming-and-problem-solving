{
  "cells": [
    {
      "cell_type": "markdown",
      "id": "header-title",
      "metadata": {},
      "source": [
        "# Notebook 12.e: A Glimpse of Calculus"
      ]
    },
    {
      "cell_type": "markdown",
      "id": "header-quote",
      "metadata": {},
      "source": [
        "> The limit of a function is a fundamental concept in calculus and analysis concerning the behavior of that function near a particular input.\n",
        ">\n",
        "> — Wikipedia\n"
      ]
    },
    {
      "cell_type": "markdown",
      "id": "header-learning-objectives",
      "metadata": {},
      "source": [
        "## 🎯 Learning Objectives\n",
        "\n",
        "By the end of this notebook, you will be able to:\n",
        "- Interpret the first difference as the average rate of change (or average sensitivity).\n",
        "- Visualize the average rate of change as the slope of a secant line.\n",
        "- Build an intuition for the limit by visualizing how the secant line approaches the tangent line as the interval shrinks."
      ]
    },
    {
      "cell_type": "markdown",
      "id": "header-prerequisites",
      "metadata": {},
      "source": [
        "## 📚 Prerequisites\n",
        "\n",
        "This notebook builds on concepts from all the previous lessons in the 12.x series."
      ]
    },
    {
      "cell_type": "markdown",
      "id": "header-time-and-toc",
      "metadata": {},
      "source": [
        "*Estimated Time: 40 minutes*\n",
        "\n",
        "---\n",
        "\n",
        "[Return to Table of Contents](https://colab.research.google.com/github/sguy/programming-and-problem-solving/blob/main/notebooks/table-of-contents.ipynb)"
      ]
    },
    {
      "cell_type": "markdown",
      "id": "intro",
      "metadata": {},
      "source": [
        "## Introduction: How to Measure Speed?\n",
        "\n",
        "How would you measure the speed of a fastball? \n",
        "\n",
        "**Attempt 1: The Low-Tech Way**\n",
        "You could start a timer when the pitcher releases the ball and stop it when the catcher catches it. The distance is about 60 feet. If it took 0.4 seconds, you could calculate: `Speed = 60 feet / 0.4 s = 150 feet/sec` (about 102 mph). But is that the speed of the pitch? Not really. The ball starts fast and slows down due to air resistance. What you measured was the *average* speed over the entire path.\n",
        "\n",
        "**Attempt 2: A Better Way**\n",
        "To get a better estimate of the peak speed, you could set up two laser gates just one foot apart right in front of the pitcher. You measure the tiny time it takes to travel between the gates. This is a much better measurement of the ball's speed as it leaves the pitcher's hand. You have found the average speed over a much smaller interval.\n",
        "\n",
        "**Attempt 3: The High-Tech Way**\n",
        "A radar gun does something even better. It uses the Doppler effect to measure the speed over an incredibly tiny interval of time, giving a very, very good approximation of the instantaneous speed. But even this is still an average! It's just an average over a microscopic interval. In the real world, every measurement of a changing value is an average.\n",
        "\n",
        "**The Calculus Way**\n",
        "This is exactly what we have been doing! The slope of the **secant line** between two points is the **average rate of change** over that interval. To get closer to the true *instantaneous* rate of change—a theoretical, perfect value—we need to make the interval between our measurement points smaller and smaller. In this notebook, we'll see what happens as we shrink our time interval `h` to zero, giving us our first real glimpse of the concept of the **limit**."
      ]
    },
    {
      "cell_type": "markdown",
      "id": "challenge-secant-line",
      "metadata": {},
      "source": [
        "### 🎯 Mini-Challenge: Visualizing the Limit\n",
        "\n",
        "The same principle of shrinking the measurement interval applies to our through-line example. Let's go back to our ball thrown straight up from a bridge and find its instantaneous velocity at exactly `t=2` seconds. We will do this by plotting secant lines on the `height_model` curve and shrinking the interval `h`.\n",
        "\n",
        "Your challenge is to complete the `plot_secant_line(t, h)` function. It should:\n",
        "1. Use our `height_model` function from notebook 12.a.\n",
        "2. Calculate the two points on the curve: `(t, height_model(t))` and `(t+h, height_model(t+h))`.\n",
        "3. Plot the smooth `height_model` function over a range (e.g., from 0 to 10 seconds).\n",
        "4. Plot the two points on the curve.\n",
        "5. Draw a straight line (the secant line) between the two points.\n",
        "6. Calculate and display the slope of the secant line (the average velocity)."
      ]
    },
    {
      "cell_type": "markdown",
      "id": "challenge-hints",
      "metadata": {},
      "source": [
        "<details>\n",
        "<summary>Hint: How to plot the main curve</summary>\n",
        "\n",
        "You'll need a range of time values to plot the function smoothly. `np.linspace(0, 10, 200)` is a great way to get 200 evenly spaced points between 0 and 10.\n",
        "</details>\n",
        "<details>\n",
        "<summary>Hint: Calculating the slope</summary>\n",
        "\n",
        "Remember the slope formula: `slope = (y2 - y1) / (x2 - x1)`. In our case, this is `(height2 - height1) / ((t+h) - t)`, which simplifies to `(height2 - height1) / h`.\n",
        "</details>"
      ]
    },
    {
      "cell_type": "code",
      "execution_count": null,
      "id": "secant-line-code",
      "metadata": {},
      "outputs": [],
      "source": [
        "import numpy as np\n",
        "import matplotlib.pyplot as plt\n",
        "\n",
        "def height_model(time):\n",
        "    \"\"\"Calculates the height of our ball at a given time.\"\"\"\n",
        "    initial_height = 10\n",
        "    initial_velocity = 50\n",
        "    gravity = 10\n",
        "    return initial_height + (initial_velocity * time) - (0.5 * gravity * time**2)\n",
        "\n",
        "def plot_secant_line(t, h):\n",
        "    # YOUR CODE HERE\n",
        "    pass\n",
        "\n",
        "# Use a loop to visualize the secant line as h gets smaller\n",
        "# Let's find the instantaneous velocity at t=2 seconds\n",
        "for h_value in [3, 2, 1, 0.5, 0.1, 0.01]:\n",
        "    plot_secant_line(t=2, h=h_value)"
      ]
    },
    {
      "cell_type": "markdown",
      "id": "challenge-solution",
      "metadata": {},
      "source": [
        "<details>\n",
        "<summary>Click to see a possible solution</summary>\n",
        "\n",
        "```python\n",
        "def plot_secant_line(t, h):\n",
        "    # 1. Define the points\n",
        "    t1 = t\n",
        "    h1 = height_model(t1)\n",
        "    t2 = t + h\n",
        "    h2 = height_model(t2)\n",
        "\n",
        "    # 2. Calculate the slope (average velocity)\n",
        "    avg_velocity = (h2 - h1) / (t2 - t1)\n",
        "\n",
        "    # 3. Set up the plot\n",
        "    plt.figure(figsize=(10, 6))\n",
        "    \n",
        "    # 4. Plot the original function\n",
        "    time_vals = np.linspace(0, 10, 200)\n",
        "    height_vals = height_model(time_vals)\n",
        "    plt.plot(time_vals, height_vals, label='Ball Trajectory')\n",
        "\n",
        "    # 5. Plot the secant line\n",
        "    plt.plot([t1, t2], [h1, h2], 'r-o', label=f'Secant line for h={h}')\n",
        "\n",
        "    # 6. Add labels and title\n",
        "    plt.title(f'Average Velocity from t={t} to t={t+h} is {avg_velocity:.2f} m/s')\n",
        "    plt.xlabel('Time (seconds)')\n",
        "    plt.ylabel('Height (meters)')\n",
        "    plt.legend()\n",
        "    plt.grid(True)\n",
        "    plt.show()\n",
        "\n",
        "# Use a loop to visualize the secant line as h gets smaller\n",
        "for h_value in [3, 2, 1, 0.5, 0.1, 0.01]:\n",
        "    plot_secant_line(t=2, h=h_value)\n",
        "\n",
        "```\n",
        "</details>"
      ]
    },
    {
      "cell_type": "markdown",
      "id": "check-your-understanding",
      "metadata": {},
      "source": [
        "### ✅ Check Your Understanding\n",
        "\n",
        "1. The slope of a **secant line** represents the ______ rate of change, while the slope of a **tangent line** represents the ______ rate of change.\n",
        "<details><summary>Click for the answer</summary>\n",
        "\n",
        "Answer: *average*, *instantaneous*\n",
        "\n",
        "</details>\n",
        "\n",
        "2. As the interval `h` gets smaller and smaller, the slope of the secant line gets closer and closer to the slope of the...?\n",
        "\n",
        "    * a) x-axis\n",
        "    * b) tangent line\n",
        "    * c) y-axis\n",
        "    * d) secant line itself\n",
        "\n",
        "<details><summary>Click for the answer</summary>\n",
        "\n",
        "Answer: **b) tangent line**\n",
        "\n",
        "</details>\n",
        "\n",
        "3. If you use the secant method on a function and find that the slopes are converging on the number `-15.0`, what does that number represent?\n",
        "\n",
        "    * a) The minimum height of the object.\n",
        "    * b) The total time the object was in the air.\n",
        "    * c) The instantaneous rate of change at that point.\n",
        "    * d) The average height of the object.\n",
        "\n",
        "<details><summary>Click for the answer</summary>\n",
        "\n",
        "Answer: **c) The instantaneous rate of change at that point.**\n",
        "\n",
        "</details>"
      ]
    },
    {
      "cell_type": "markdown",
      "id": "challenge-peak-prompt",
      "metadata": {},
      "source": [
        "### 🎯 Mini-Challenge: Finding the Peak\n",
        "\n",
        "From our plots, it looks like the ball reaches its peak height at `t=5` seconds. At that single instant, the ball stops moving up and is about to start moving down. What is its velocity right at that moment?\n",
        "\n",
        "**Part 1: Build Intuition**\n",
        "First, let's get a feel for the data. Calculate the *average* velocity for each second of the ball's flight from t=0 to t=9. Then, create a plot of these average velocities vs. time. You should see a line that starts positive and ends negative, suggesting it must cross zero somewhere in the middle!\n",
        "\n",
        "**Part 2: Find the Instantaneous Velocity**\n",
        "Now, use the `plot_secant_line` function with `t=5` and a very small `h` (like `0.001`) to find the precise instantaneous velocity at the peak."
      ]
    },
    {
      "cell_type": "code",
      "execution_count": null,
      "id": "challenge-peak-starter",
      "metadata": {},
      "outputs": [],
      "source": [
        "# Part 1: Plot the average velocities\n",
        "# Hint: you can use the calculate_differences function from notebook 12.b!\n",
        "time_intervals = list(range(11))\n",
        "height_data = get_function_values(height_model, time_intervals) # We need a helper from 12.a!\n",
        "\n",
        "# You may need to copy the calculate_differences and get_function_values functions into this cell to use them\n",
        "# YOUR CODE HERE\n",
        "\n",
        "# Part 2: Find the instantaneous velocity at t=5\n",
        "# YOUR CODE HERE"
      ]
    },
    {
      "cell_type": "markdown",
      "id": "challenge-peak-solution",
      "metadata": {},
      "source": [
        "<details>\n",
        "<summary>Click to see a possible solution</summary>\n",
        "\n",
        "```python\n",
        "# Helper functions copied from previous notebooks\n",
        "def get_function_values(func, domain):\n",
        "    codomain = []\n",
        "    for x in domain:\n",
        "        codomain.append(func(x))\n",
        "    return codomain\n",
        "\n",
        "def calculate_differences(sequence):\n",
        "    if not sequence or len(sequence) < 2:\n",
        "        return [np.nan] * len(sequence)\n",
        "    differences = [np.nan]\n",
        "    for i in range(1, len(sequence)):\n",
        "        if np.isnan(sequence[i]) or np.isnan(sequence[i-1]):\n",
        "            differences.append(np.nan)\n",
        "        else:\n",
        "            differences.append(sequence[i] - sequence[i-1])\n",
        "    return differences\n",
        "\n",
        "# Part 1: Plot the average velocities\n",
        "time_intervals = list(range(11))\n",
        "height_data = get_function_values(height_model, time_intervals)\n",
        "avg_velocities = calculate_differences(height_data)\n",
        "\n",
        "plt.figure(figsize=(10, 6))\n",
        "plt.plot(time_intervals, avg_velocities, 'o-')\n",
        "plt.title('Average Velocity of the Ball vs. Time')\n",
        "plt.xlabel('Time Interval (ending at t)')\n",
        "plt.ylabel('Average Velocity (m/s)')\n",
        "plt.grid(True)\n",
        "plt.axhline(0, color='black', linewidth=0.5) # Draw a line at y=0\n",
        "plt.show()\n",
        "\n",
        "# Part 2: Find the instantaneous velocity at t=5\n",
        "print('\n",
        "Finding the instantaneous velocity at the peak (t=5):')\n",
        "plot_secant_line(t=5, h=0.001)\n",
        "```\n",
        "\n",
        "</details>"
      ]
    },
    {
      "cell_type": "markdown",
      "id": "further-exploration",
      "metadata": {},
      "source": [
        "### 🤔 Discussion & Further Exploration\n",
        "\n",
        "Here are a few questions to think about. Try to answer them by reasoning, and then feel free to write some code in new cells to test your hypotheses!\n",
        "\n",
        "1. **Minimums vs. Maximums:** In the last challenge, you found that the instantaneous velocity was zero at the function's maximum point. How do you think finding the location of a function's *minimum* value would be similar or different?\n",
        "2. **Twisty vs. Flat:** In our `height_model`, the rate of change (velocity) is itself changing at a constant rate (acceleration). What would the secant line plots look like for a function with a constant rate of change, like our `calculate_bill` function from notebook 12.b? Would the secant line's slope ever change?\n",
        "3. **Higher-Order Polynomials:** What if you were analyzing a cubic function like `g(t) = t**3 - 2*t**2 + t - 1`? Do you think this method of finding the instantaneous rate of change would still work?"
      ]
    },
    {
      "cell_type": "markdown",
      "id": "series-summary",
      "metadata": {},
      "source": [
        "## 🎉 You've Reached the End!\n",
        "\n",
        "Congratulations on completing the 12.x series on Functions, Sequences, and Plots!\n",
        "\n",
        "You have journeyed from plotting simple functions to analyzing complex sequences and, finally, to peeking at the core concepts of calculus. You have powerful new tools—both mathematical and computational—to find patterns in the world around you.\n",
        "\n",
        "Throughout this series, we have taught you a **numerical approach** to understanding limits and derivatives. This should give you a strong intuition for what these concepts are and how they can be practically useful. Often in the real world, we don't have a perfect equation—we only have data points from an experiment or a simulation. In those cases, the numerical methods you've just practiced are exactly how we find answers.\n",
        "\n",
        "If you continue on your mathematical journey into a formal calculus class, you will learn the **analytical solutions** and formalisms that allow you to solve these problems with algebra instead of with a computer. We hope this series has given you a solid foundation and the curiosity to keep exploring!\n",
        "\n",
        "Keep experimenting, stay curious, and happy coding!"
      ]
    },
    {
      "cell_type": "markdown",
      "id": "final-toc-link",
      "metadata": {},
      "source": [
        "---\n",
        "\n",
        "[Return to Table of Contents](https://colab.research.google.com/github/sguy/programming-and-problem-solving/blob/main/notebooks/table-of-contents.ipynb)"
      ]
    }
  ],
  "metadata": {
    "kernelspec": {
      "display_name": "Python 3",
      "language": "python",
      "name": "python3"
    },
    "language_info": {
      "codemirror_mode": {
        "name": "ipython",
        "version": 3
      },
      "file_extension": ".py",
      "mimetype": "text/x-python",
      "name": "python",
      "nbconvert_exporter": "python",
      "pygments_lexer": "ipython3",
      "version": "3.11.2"
    }
  },
  "nbformat": 4,
  "nbformat_minor": 5
}
