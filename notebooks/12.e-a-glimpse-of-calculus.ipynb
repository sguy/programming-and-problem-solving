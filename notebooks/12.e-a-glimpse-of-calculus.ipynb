{
  "cells": [
    {
      "cell_type": "markdown",
      "id": "header-title",
      "metadata": {},
      "source": [
        "# Notebook 12.e: A Glimpse of Calculus"
      ]
    },
    {
      "cell_type": "markdown",
      "id": "header-quote",
      "metadata": {},
      "source": [
        "> The limit of a function is a fundamental concept in calculus and analysis concerning the behavior of that function near a particular input.
",
        ">
",
        "> — Wikipedia"
      ]
    },
    {
      "cell_type": "markdown",
      "id": "header-learning-objectives",
      "metadata": {},
      "source": [
        "## 🎯 Learning Objectives\n",
        "\n",
        "By the end of this notebook, you will be able to:\n",
        "- Interpret the first difference as the average rate of change (or average sensitivity).\n",
        "- Visualize the average rate of change as the slope of a secant line.\n",
        "- Build an intuition for the limit by visualizing how the secant line approaches the tangent line as the interval shrinks."
      ]
    },
    {
      "cell_type": "markdown",
      "id": "header-prerequisites",
      "metadata": {},
      "source": [
        "## 📚 Prerequisites\n",
        "\n",
        "This notebook builds on concepts from all the previous lessons in the 12.x series."
      ]
    },
    {
      "cell_type": "markdown",
      "id": "header-time-and-toc",
      "metadata": {},
      "source": [
        "*Estimated Time: 40 minutes*\n",
        "\n",
        "---\n",
        "\n",
        "[Return to Table of Contents](https://colab.research.google.com/github/sguy/programming-and-problem-solving/blob/main/notebooks/table-of-contents.ipynb)"
      ]
    },
    {
      "cell_type": "markdown",
      "id": "intro",
      "metadata": {},
      "source": [
        "## Introduction: The Meaning of Differences\n",
        "\n",
        "Throughout this series, we have used the **method of differences** to analyze sequences. We learned that these differences tell us the degree of the polynomial behind the data, and they help us find the exact formula.\n",
        "\n",
        "But what do they actually *mean*? \n",
        "\n",
        "In this final notebook of the series, we will explore the deeper meaning of these differences. We will see how they represent the **sensitivity** or **rate of change** of a function, and how this simple idea forms the absolute foundation of calculus."
      ]
    },
    {
      "cell_type": "markdown",
      "id": "challenge-secant-line",
      "metadata": {},
      "source": [
        "### 🐍 Python Challenge: Visualizing the Limit\n",
        "\n",
        "Our goal is to see what happens to the average rate of change as our interval gets smaller and smaller. We will do this by plotting **secant lines** on a curve. A secant line is a straight line that connects two points on a curve.\n",
        "\n",
        "Your challenge is to complete the `plot_secant_line(f, x, h)` function. It should:\n",
        "1. Take a function `f`, a point `x`, and an interval `h`.\n",
        "2. Calculate the two points on the curve: `(x, f(x))` and `(x+h, f(x+h))`.\n",
        "3. Plot the original function `f` over a range (e.g., from 0 to 10).\n",
        "4. Plot the two points on the curve.\n",
        "5. Draw a straight line (the secant line) between the two points.\n",
        "6. Calculate and display the slope of the secant line (the average rate of change)."
      ]
    },
    {
      "cell_type": "code",
      "id": "secant-line-code",
      "metadata": {},
      "execution_count": null,
      "outputs": [],
      "source": [
        "import numpy as np\n",
        "import matplotlib.pyplot as plt\n",
        "\n",
        "def quadratic_function(x):\n",
        "    return 0.5 * x**2 + 2*x\n",
        "\n",
        "def plot_secant_line(f, x, h):\n",
        "    # YOUR CODE HERE\n",
        "    pass\n",
        "\n",
        "# Use a loop to visualize the secant line as h gets smaller\n",
        "for h_value in [3, 2, 1, 0.5, 0.1]:\n",
        "    plot_secant_line(quadratic_function, x=2, h=h_value)"
      ]
    }
  ],
  "metadata": {
    "kernelspec": {
      "display_name": "Python 3",
      "language": "python",
      "name": "python3"
    },
    "language_info": {
      "codemirror_mode": {
        "name": "ipython",
        "version": 3
      },
      "file_extension": ".py",
      "mimetype": "text/x-python",
      "name": "python",
      "nbconvert_exporter": "python",
      "pygments_lexer": "ipython3",
      "version": "3.11.2"
    }
  },
  "nbformat": 4,
  "nbformat_minor": 5
}