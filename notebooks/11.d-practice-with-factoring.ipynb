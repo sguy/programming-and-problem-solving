{
 "cells": [
  {
   "cell_type": "markdown",
   "id": "0",
   "metadata": {},
   "source": [
    "# Notebook 11.d: Practice with Factoring\n",
    "\n",
    "> \"That, if a number be the least that is measured by prime numbers, it will not be measured by any other prime number except those originally measuring it.\" — [Euclid](https://en.wikipedia.org/wiki/Euclid)\n",
    "\n",
    "### Summary\n",
    "\n",
    "In this notebook, we'll get more practice with prime factorization and see how it can be used to solve common problems in number theory, like finding the Greatest Common Factor (GCF) and Least Common Multiple (LCM) of two numbers.\n",
    "\n",
    "### Learning Objectives\n",
    "\n",
    "By the end of this notebook, you will be able to:\n",
    "\n",
    "*   Write a function to reverse the prime factorization process.\n",
    "*   Explain the relationship between GCF/LCM and the intersection/union of prime factors.\n",
    "*   Implement functions to calculate the GCF and LCM of two numbers using their prime factorizations.\n",
    "\n",
    "### Prerequisites\n",
    "\n",
    "*   [Notebook 11.c: The Key Exchange Problem & One-Way Functions](https://colab.research.google.com/github/sguy/programming-and-problem-solving/blob/main/notebooks/11.c-the-key-exchange-problem.ipynb), especially the `get_prime_factorization` function and the use of tuples.\n",
    "\n",
    "**Estimated time to complete:** 30-45 minutes\n",
    "\n",
    "[Return to Table of Contents](https://colab.research.google.com/github/sguy/programming-and-problem-solving/blob/main/notebooks/table-of-contents.ipynb)"
   ]
  },
  {
   "cell_type": "markdown",
   "id": "1",
   "metadata": {},
   "source": [
    "### Starting Point: The `get_prime_factorization` function\n",
    "To get started, here is the `get_prime_factorization` function from the previous lesson. We will use it as a starting point for the challenges in this notebook."
   ]
  },
  {
   "cell_type": "code",
   "execution_count": null,
   "id": "2",
   "metadata": {},
   "outputs": [],
   "source": [
    "def get_prime_factorization(n):\n",
    "    factors = []\n",
    "    d = 2\n",
    "    while d * d <= n:\n",
    "        while (n % d) == 0:\n",
    "            factors.append(d)\n",
    "            n //= d\n",
    "        d += 1\n",
    "    if n > 1:\n",
    "       factors.append(n)\n",
    "\n",
    "    # Count the occurrences of each prime factor\n",
    "    prime_factorization = []\n",
    "    for p in sorted(list(set(factors))):\n",
    "        prime_factorization.append( (p, factors.count(p)) )\n",
    "        \n",
    "    return prime_factorization"
   ]
  },
  {
   "cell_type": "markdown",
   "id": "3",
   "metadata": {},
   "source": [
    "## 🐍 New Concept: Tuple Destructuring\n",
    "\n",
    "In Python, you'll often encounter situations where you have a tuple (or a list) and you want to assign its individual elements to separate variables. This is called **tuple destructuring** (or unpacking), and it's a very \"pythonic\" way to write clean and readable code.\n",
    "\n",
    "For example, if you have a tuple `point = (10, 20)` representing (x, y) coordinates, you can assign `x = point[0]` and `y = point[1]`. But with destructuring, you can do it in one line:\n"
   ]
  },
  {
   "cell_type": "code",
   "execution_count": null,
   "metadata": {},
   "outputs": [],
   "source": [
    "point = (10, 20)\n",
    "x, y = point  # x will be 10, y will be 20\n",
    "print(f\"x: {x}, y: {y}\")\n",
    "\n",
    "# This also works in loops!\n",
    "factors = [(2, 3), (5, 1)]\n",
    "for prime, count in factors:\n",
    "    print(f\"Prime: {prime}, Count: {count}\")"
   ]
  },
  {
   "cell_type": "markdown",
   "metadata": {},
   "source": [
    "\n",
    "You'll see this pattern a lot in Python, especially when working with functions that return multiple values or iterating over lists of tuples, like our prime factorizations!"
   ]
  },
  {
   "cell_type": "markdown",
   "id": "6",
   "metadata": {},
   "source": [
    "### 🎯 Mini-Challenge 1: From Factors to Number\n",
    "Write a function `factors_to_number(factors)` that takes a list of `(prime, count)` tuples and returns the number it represents. This is the reverse of the `get_prime_factorization` function."
   ]
  },
  {
   "cell_type": "markdown",
   "id": "7",
   "metadata": {},
   "source": [
    "<details>\n",
    "  <summary>Hint: How do you calculate a number from its prime factors?</summary>\n",
    "  You need to multiply each prime factor by itself `count` times, and then multiply all the results together. For example, if you have `(2, 3)`, that represents `2 * 2 * 2 = 8`. If you have `[(2, 3), (5, 1)]`, that represents `(2*2*2) * 5 = 40`. Remember to use **tuple destructuring** when iterating through your factors list!\n",
    "</details>"
   ]
  },
  {
   "cell_type": "code",
   "execution_count": null,
   "id": "8",
   "metadata": {},
   "outputs": [],
   "source": [
    "# YOUR CODE HERE\n",
    "def factors_to_number(factors):\n",
    "    number = 1\n",
    "    for prime, count in factors:\n",
    "        number *= prime ** count\n",
    "    return number"
   ]
  },
  {
   "cell_type": "markdown",
   "id": "9",
   "metadata": {},
   "source": [
    "<details>\n",
    "  <summary>Click to see a possible solution</summary>\n",
    "\n",
    "```python\n",
    "def factors_to_number(factors):\n",
    "    number = 1\n",
    "    for prime, count in factors:\n",
    "        number *= prime ** count\n",
    "    return number\n",
    "\n",
    "# Test it out\n",
    "factors = get_prime_factorization(120)\n",
    "print(factors) # Expected output: [(2, 3), (3, 1), (5, 1)]\n",
    "print(factors_to_number(factors)) # Expected output: 120\n",
    "```\n",
    "</details>"
   ]
  },
  {
   "cell_type": "markdown",
   "id": "10",
   "metadata": {},
   "source": [
    "### GCF and LCM as `intersection` and `union`\n",
    "The **Greatest Common Factor (GCF)** of two numbers is the largest number that divides both of them.\n",
    "The **Least Common Multiple (LCM)** of a two numbers is the smallest number that is a multiple of both of them.\n",
    "\n",
    "When we have the prime factorization of two numbers, we can think of the GCF as the `intersection` of their prime factors and the LCM as the `union` of their prime factors.\n",
    "\n",
    "For example, consider the numbers 12 and 18:\n",
    "- The prime factorization of 12 is `[(2, 2), (3, 1)]`\n",
    "- The prime factorization of 18 is `[(2, 1), (3, 2)]`\n",
    "\n",
    "The `intersection` of these two sets of factors would be the common prime factors raised to the minimum power.  In this case, `[(2, 1), (3, 1)]`, which is `2 * 3 = 6`.  So the GCF of 12 and 18 is 6.\n",
    "\n",
    "![GCF Venn Diagram](https://raw.githubusercontent.com/sguy/programming-and-problem-solving/refs/heads/main/notebooks/images/gcf-venn-diagram.svg)\n",
    "\n",
    "The `union` of these two sets of factors would be all the prime factors from both numbers raised to the maximum power.  In this case, `[(2, 2), (3, 2)]`, which is `4 * 9 = 36`.  So the LCM of 12 and 18 is 36.\n",
    "\n",
    "![LCM Venn Diagram](https://raw.githubusercontent.com/sguy/programming-and-problem-solving/refs/heads/main/notebooks/images/lcm-venn-diagram.svg)"
   ]
  },
  {
   "cell_type": "markdown",
   "id": "11",
   "metadata": {},
   "source": [
    "## 🐍 New Concept: `min()` and `max()` Functions\n",
    "\n",
    "Python provides built-in functions `min()` and `max()` that are very useful for finding the smallest or largest item in a collection, or between several arguments.\n",
    "\n",
    "```python\n",
    "# Finding the minimum of several numbers\n",
    "smallest = min(10, 5, 20) # smallest will be 5\n",
    "print(f\"Smallest: {smallest}\")\n",
    "\n",
    "# Finding the maximum of several numbers\n",
    "largest = max(10, 5, 20) # largest will be 20\n",
    "print(f\"Largest: {largest}\")\n",
    "\n",
    "# Finding the minimum in a list\n",
    "numbers = [4, 1, 8, 3]\n",
    "min_in_list = min(numbers) # min_in_list will be 1\n",
    "print(f\"Min in list: {min_in_list}\")\n",
    "```\n",
    "\n",
    "These functions will be very helpful when you're trying to determine the minimum or maximum count for prime factors when calculating GCF and LCM."
   ]
  },
  {
   "cell_type": "markdown",
   "id": "12",
   "metadata": {},
   "source": [
    "### 🎯 Mini-Challenge 2: `intersect_factors` (with `union_factors` example)\n",
    "\n",
    "We'll provide you with the `union_factors(factors1, factors2)` function as an example. Your task is to implement the `intersect_factors(factors1, factors2)` function. Both functions take two lists of `(prime, count)` tuples and return a new list of `(prime, count)` tuples representing the union and intersection of the two sets of factors, respectively.\n",
    "\n",
    "Here's the `union_factors` function to help you get started:\n",
    "\n",
    "![Union Factors Algorithm](https://raw.githubusercontent.com/sguy/programming-and-problem-solving/refs/heads/main/notebooks/images/union-factors-algorithm.svg)"
   ]
  },
  {
   "cell_type": "code",
   "execution_count": null,
   "metadata": {},
   "outputs": [],
   "source": [
    "def union_factors(a_factors, b_factors):\n",
    "    a_done, b_done = (False, False) # Corrected initialization\n",
    "    a_idx, b_idx = (0, 0)\n",
    "\n",
    "    a_max_idx = len(a_factors) - 1\n",
    "    b_max_idx = len(b_factors) - 1\n",
    "\n",
    "    output_factors = []\n",
    "\n",
    "    while True:\n",
    "        a_done = a_idx >= len(a_factors)\n",
    "        b_done = b_idx >= len(b_factors)\n",
    "\n",
    "        if a_done and b_done:\n",
    "            # If we have looked at all of the elements in each list, quit\n",
    "            break\n",
    "        elif a_done:\n",
    "            b_factor, b_cnt = b_factors[b_idx] \n",
    "            # If we don't have something from the a_factors for this step, just use the p^0 value\n",
    "            a_factor, a_cnt = b_factor, 0\n",
    "        elif b_done:\n",
    "            a_factor, a_cnt = a_factors[a_idx] \n",
    "            # If we don't have something from the b_factors for this step, just use the p^0 value\n",
    "            b_factor, b_cnt = a_factor, 0\n",
    "        else:\n",
    "            a_factor, a_cnt = a_factors[a_idx] \n",
    "            b_factor, b_cnt = b_factors[b_idx] \n",
    "\n",
    "        #########################################################################\n",
    "        # Next, we have to decide which factor to use and how to update our *_idx variables\n",
    "        #########################################################################\n",
    "        if a_factor > b_factor:\n",
    "            factor = b_factor\n",
    "            a_cnt = 0\n",
    "            # we are using the factor from `b_factors`, so we need to advance our index in the `b_factors` list.\n",
    "            b_idx += 1\n",
    "\n",
    "        elif b_factor > a_factor:\n",
    "            factor = a_factor\n",
    "            b_cnt = 0\n",
    "            # we are using the factor from `a_factors`, so we need to advance our index in the `a_factors` list.\n",
    "            a_idx += 1\n",
    "\n",
    "        else:\n",
    "            factor = a_factor # a_factor and b_factor are the same in this case\n",
    "            a_idx += 1\n",
    "            b_idx += 1\n",
    "\n",
    "        cnt = max(a_cnt, b_cnt)\n",
    "        output_factors.append((factor, cnt)) # Corrected append\n",
    "\n",
    "    return output_factors"
   ]
  },
  {
   "cell_type": "code",
   "execution_count": null,
   "metadata": {},
   "outputs": [],
   "source": [
    "factors36 = get_prime_factorization(36)\n",
    "factors40 = get_prime_factorization(40)\n",
    "\n",
    "union = union_factors(factors36, factors40)\n",
    "print(f\"Union (LCM factors) of 36 and 40: {union}\") # Expected: [(2, 3), (3, 2), (5, 1)]\n",
    "print(f\"LCM of 36 and 40: {factors_to_number(union)}\") # Expected: 360\n",
    "\n"
   ]
  },
  {
   "cell_type": "markdown",
   "metadata": {},
   "source": [
    "\n",
    "Now, implement `intersect_factors` below!\n",
    "\n",
    "![Intersection Factors Algorithm](https://raw.githubusercontent.com/sguy/programming-and-problem-solving/refs/heads/main/notebooks/images/intersect-factors-algorithm.svg)"
   ]
  },
  {
   "cell_type": "markdown",
   "id": "16",
   "metadata": {},
   "source": [
    "<details>\n",
    "  <summary>Hint: How do you implement `intersect_factors`?</summary>\n",
    "  You can use a similar two-pointer approach as shown in `union_factors`. Remember that for the intersection, you only include primes that are common to both lists, and you take the `min` of their counts.\n",
    "</details>"
   ]
  },
  {
   "cell_type": "code",
   "execution_count": null,
   "id": "17",
   "metadata": {},
   "outputs": [],
   "source": [
    "# YOUR CODE HERE"
   ]
  },
  {
   "cell_type": "markdown",
   "id": "18",
   "metadata": {},
   "source": [
    "<details>\n",
    "  <summary>Click to see a possible solution</summary>\n",
    "\n",
    "```python\n",
    "# The union_factors function is provided as an example in the challenge description.\n",
    "# Here's the solution for intersect_factors:\n",
    "\n",
    "def intersect_factors(a_factors, b_factors):\n",
    "     a_done, b_done = (False, False) # Corrected initialization\n",
    "     a_idx, b_idx = (0, 0)\n",
    " \n",
    "     output_factors = []\n",
    " \n",
    "     while true: \n",
    "         a_done = a_idx >= len(a_factors)\n",
    "         b_done = b_idx >= len(b_factors)\n",
    "\n",
    "         # If we have looked at all of the elements in each list, quit\n",
    "         if a_done and b_done:\n",
    "             break\n",
    "\n",
    "         (a_factor, a_cnt) = a_factors[a_idx]\n",
    "         (b_factor, b_cnt) = b_factors[b_idx]\n",
    "         a_step, b_step = (0, 0)\n",
    " \n",
    "         if a_done or (a_factor > b_factor):\n",
    "             # If we don't have something from the a_factors for this step, just use the p^0 value\n",
    "             a_factor, a_cnt = (b_factor, 0)\n",
    "             a_step = 0\n",
    " \n",
    "         if b_done or (b_factor > a_factor):\n",
    "             # If we don't have something from the b_factors for this step, just use the p^0 value\n",
    "             b_factor, b_cnt = (a_factor, 0)\n",
    "             b_step = 0\n",
    " \n",
    "         # At this point, a_factor == b_factor, so we can arbitrarily pick one of them.   \n",
    "         # We'll relabel it to `factor` to make it clear that it doesn't matter which one we use\n",
    "         factor = a_factor  \n",
    " \n",
    "         cnt = min(a_cnt, b_cnt)\n",
    " \n",
    "         output_factors.append((factor, cnt)) # Corrected append\n",
    " \n",
    "         # We want to move our indexes to the next slot in the list.  We've adjusted the *_step\n",
    "         # variables above so that we are only advancing in the list(s) where the `factor` exists\n",
    "         a_idx += a_step\n",
    "         b_idx += b_step\n",
    " \n",
    "     return output_factors\n",
    "\n",
    "# Test it out (assuming union_factors is defined as in the challenge description)\n",
    "factors36 = get_prime_factorization(36)\n",
    "factors40 = get_prime_factorization(40)\n",
    "\n",
    "intersection = intersect_factors(factors36, factors40)\n",
    "print(f\"Intersection (GCF factors) of 36 and 40: {intersection}\") # Expected: [(2, 2)]\n",
    "print(f\"GCF of 36 and 40: {factors_to_number(intersection)}\") # Expected: 4\n",
    "\n",
    "# You can also test union_factors if you copy it here or run the cell above\n",
    "# union = union_factors(factors36, factors40)\n",
    "# print(f\"Union (LCM factors) of 36 and 40: {union}\") # Expected: [(2, 3), (3, 2), (5, 1)]\n",
    "# print(f\"LCM of 36 and 40: {factors_to_number(union)}\") # Expected: 360\n",
    "```\n",
    "</details>"
   ]
  },
  {
   "cell_type": "markdown",
   "id": "19",
   "metadata": {},
   "source": [
    "### 💡 Tip: Inverse Functions and Composition\n",
    "\n",
    "Notice how `get_prime_factorization` breaks a number down into its prime components, and `factors_to_number` builds a number back up from those components. These two functions are **inverse functions** of each other! If you apply one, and then the other, you get back to where you started.\n",
    "\n",
    "This concept of inverse functions is powerful. It allows us to break down a problem (like finding GCF or LCM) into smaller, more manageable steps:\n",
    "1.  **Decompose:** Use `get_prime_factorization` to break the numbers into their fundamental building blocks.\n",
    "2.  **Operate:** Use `intersect_factors` or `union_factors` on these building blocks.\n",
    "3.  **Recompose:** Use `factors_to_number` to turn the resulting prime factors back into a single number.\n",
    "\n",
    "This modular approach makes our code easier to write, understand, and debug!"
   ]
  },
  {
   "cell_type": "markdown",
   "id": "20",
   "metadata": {},
   "source": [
    "### 🎯 Mini-Challenge 3: `gcf` and `lcm`\n",
    "Now, use the functions you've written to implement `gcf(a, b)` and `lcm(a, b)`. These functions should take two integers, `a` and `b`, and return their GCF and LCM, respectively.  You will need to use `get_prime_factorization`, `union_factors`, `intersect_factors`, and `factors_to_number` to implement them."
   ]
  },
  {
   "cell_type": "code",
   "execution_count": null,
   "id": "21",
   "metadata": {},
   "outputs": [],
   "source": [
    "# YOUR CODE HERE"
   ]
  },
  {
   "cell_type": "markdown",
   "id": "22",
   "metadata": {},
   "source": [
    "<details>\n",
    "  <summary>Click to see a possible solution</summary>\n",
    "\n",
    "```python\n",
    "def gcf(a, b):\n",
    "    factors_a = get_prime_factorization(a)\n",
    "    factors_b = get_prime_factorization(b)\n",
    "    gcf_factors = intersect_factors(factors_a, factors_b)\n",
    "    return factors_to_number(gcf_factors)\n",
    "\n",
    "def lcm(a, b):\n",
    "    factors_a = get_prime_factorization(a)\n",
    "    factors_b = get_prime_factorization(b)\n",
    "    lcm_factors = union_factors(factors_a, factors_b)\n",
    "    return factors_to_number(lcm_factors)\n",
    "\n",
    "# Test it out\n",
    "print(f\"GCF of 54 and 24 is: {gcf(54, 24)}\") # Expected: 6\n",
    "print(f\"LCM of 54 and 24 is: {lcm(54, 24)}\") # Expected: 216\n",
    "```\n",
    "</details>"
   ]
  },
  {
   "cell_type": "markdown",
   "id": "23",
   "metadata": {},
   "source": [
    "### 🤔 Discussion Question: Similarities and Differences in GCF and LCM\n",
    "\n",
    "You've now implemented both `gcf` and `lcm` functions using the same set of helper functions (`get_prime_factorization`, `union_factors`, `intersect_factors`, and `factors_to_number`).\n",
    "\n",
    "What similarities and differences do you observe in the overall design and implementation of `gcf` and `lcm`? How did the mathematical concepts of intersection and union guide your design choices for these functions?\n",
    "\n",
    "![GCF vs. LCM Comparison](https://raw.githubusercontent.com/sguy/programming-and-problem-solving/refs/heads/main/notebooks/images/gcf-lcm-comparison.svg)"
   ]
  },
  {
   "cell_type": "markdown",
   "id": "24",
   "metadata": {},
   "source": [
    "### Summary\n",
    "\n",
    "In this notebook, we saw how breaking a complex problem down into smaller, more manageable functions can make the problem much easier to solve. We built a set of tools (`get_prime_factorization`, `factors_to_number`, `intersect_factors`, `union_factors`) that we could then combine to create our final `gcf` and `lcm` functions.\n",
    "\n",
    "As you were building these functions, did you find it helpful to test each one as you wrote it? This process of breaking down problems and testing the small pieces is a fundamental skill in programming.\n",
    "\n",
    "### Key Takeaways\n",
    "\n",
    "*   The GCF of two numbers corresponds to the *intersection* of their prime factorizations.\n",
    "*   The LCM of two numbers corresponds to the *union* of their prime factorizations.\n",
    "*   Complex problems can often be solved by composing simpler functions together.\n",
    "\n",
    "### Next Up: Notebook 11.e: Public-Key Cryptography in the Real World\n",
    "\n",
    "In our next notebook, [Notebook 11.e: Public-Key Cryptography in the Real World](https://colab.research.google.com/github/sguy/programming-and-problem-solving/blob/main/notebooks/11.e-public-key-cryptography-in-the-real-world.ipynb), we'll see how these concepts of number theory are used to secure communication on the internet.\n",
    "\n",
    "[Return to Table of Contents](https://colab.research.google.com/github/sguy/programming-and-problem-solving/blob/main/notebooks/table-of-contents.ipynb)"
   ]
  }
 ],
 "metadata": {
  "kernelspec": {
   "display_name": "paps-venv (3.11.2)",
   "language": "python",
   "name": "python3"
  },
  "language_info": {
   "codemirror_mode": {
    "name": "ipython",
    "version": 3
   },
   "file_extension": ".py",
   "mimetype": "text/x-python",
   "name": "python",
   "nbconvert_exporter": "python",
   "pygments_lexer": "ipython3",
   "version": "3.11.2"
  }
 },
 "nbformat": 4,
 "nbformat_minor": 4
}
