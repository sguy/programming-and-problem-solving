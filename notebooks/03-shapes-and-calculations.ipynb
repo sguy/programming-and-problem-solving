{
 "cells": [
  {
   "cell_type": "markdown",
   "id": "notebook-c-intro",
   "metadata": {},
   "source": [
    "# Calculating Shapes: Perimeter, Area, and Volume! 📐\n",
    "\n",
    "Welcome to our third Python notebook! So far, you've learned about Jupyter Notebooks, basic Python syntax like `print()`, how to store information in **variables**, and the different **data types** like numbers and strings. You've also seen how to understand and fix simple errors.\n",
    "\n",
    "In this notebook, we're going to use these skills to solve some practical problems: calculating properties of shapes! We'll cover:\n",
    "\n",
    "*   Using basic math operations in Python.\n",
    "*   Making your programs interactive by getting **input from the user**.\n",
    "*   Writing your own reusable blocks of code called **functions**.\n",
    "\n",
    "**Learning Objectives:**\n",
    "*   Perform basic arithmetic calculations in Python.\n",
    "*   Use the `input()` function to get data from a user.\n",
    "*   Understand the importance of converting input data to the correct type (e.g., string to number).\n",
    "*   Define and use simple Python functions with parameters and return values.\n",
    "\n",
    "**Estimated Time:** 50-70 minutes\n",
    "\n",
    "**Prerequisites/Review:**\n",
    "*   Comfortable with variables (e.g., `my_age = 14`).\n",
    "*   Using the `print()` function (e.g., `print(\"Hello\")`).\n",
    "*   Basic understanding of numbers (integers, floats) and strings.\n",
    "\n",
    "Let's get calculating!"
   ]
  },
  {
   "cell_type": "markdown",
   "id": "why-calculate-shapes",
   "metadata": {},
   "source": [
    "## 🤔 Why Calculate Shape Properties?\n",
    "\n",
    "Why bother calculating things like perimeter, area, or volume? It turns out these calculations are super useful in many real-world situations:\n",
    "\n",
    "*   **Building & Construction:** How much fencing do you need for a yard (perimeter)? How much carpet for a room (area)? How much concrete for a foundation (volume)?\n",
    "*   **Art & Design:** How much paint to cover a canvas (area)? How much clay to make a sculpture (volume)?\n",
    "*   **Science & Engineering:** Calculating the surface area of a wing or the volume of a chemical solution.\n",
    "*   **Everyday Life:** Figuring out if a piece of furniture will fit in a room, or how much wrapping paper you need for a gift.\n",
    "\n",
    "Python can help us do these calculations quickly and accurately!"
   ]
  },
  {
   "cell_type": "markdown",
   "id": "python-math-refresher",
   "metadata": {},
   "source": [
    "## 🐍 Python's Math Powers: Basic Arithmetic\n",
    "\n",
    "Python is not just for text; it's also a powerful calculator! To perform mathematical calculations, we use special symbols called **arithmetic operators**. Here are the most common ones you'll use:\n",
    "\n",
    "*   `+` for addition\n",
    "*   `-` for subtraction\n",
    "*   `*` for multiplication\n",
    "*   `/` for division\n",
    "\n",
    "Let's start by using these to calculate some shape properties with numbers we define directly in our code."
   ]
  },
  {
   "cell_type": "markdown",
   "id": "hardcoded-calculations-intro",
   "metadata": {},
   "source": [
    "### First Calculations: Using Pre-defined (Hardcoded) Values\n",
    "\n",
    "\"Hardcoded\" means we're writing the numbers directly into our program. This is a good starting point to understand the formulas."
   ]
  },
  {
   "cell_type": "code",
   "execution_count": null,
   "id": "square-area-hardcoded",
   "metadata": {},
   "outputs": [],
   "source": [
    "# Let's calculate the area of a square\n",
    "# Formula: area = side * side\n",
    "\n",
    "side_length = 5  # units (e.g., cm, inches)\n",
    "area_of_square = side_length * side_length\n",
    "\n",
    "print(\"The side length of the square is:\", side_length)\n",
    "print(\"The area of the square is:\", area_of_square)"
   ]
  },
  {
   "cell_type": "code",
   "execution_count": null,
   "id": "rectangle-perimeter-hardcoded",
   "metadata": {},
   "outputs": [],
   "source": [
    "# Now, let's calculate the perimeter of a rectangle\n",
    "# Formula: perimeter = 2 * (length + width)\n",
    "\n",
    "rect_length = 7\n",
    "rect_width = 3\n",
    "perimeter_of_rectangle = 2 * (rect_length + rect_width)\n",
    "\n",
    "print(\"The length of the rectangle is:\", rect_length)\n",
    "print(\"The width of the rectangle is:\", rect_width)\n",
    "print(\"The perimeter of the rectangle is:\", perimeter_of_rectangle)"
   ]
  },
  {
   "cell_type": "markdown",
   "id": "mini-challenge-hardcoded-volume",
   "metadata": {},
   "source": [
    "### 🎯 Mini-Challenge: Volume of a Cube\n",
    "\n",
    "1.  In the code cell below, calculate the volume of a cube.\n",
    "2.  The formula for the volume of a cube is: `volume = side * side * side`.\n",
    "3.  Choose a `side_length` for your cube (e.g., `4`).\n",
    "4.  Store the result in a variable called `volume_of_cube`.\n",
    "5.  Print the `side_length` and the calculated `volume_of_cube`."
   ]
  },
  {
   "cell_type": "code",
   "execution_count": null,
   "id": "cube-volume-challenge-hardcoded",
   "metadata": {},
   "outputs": [],
   "source": [
    "# YOUR CODE HERE\n",
    "# 1. Define a variable for the side_length of a cube and give it a value (e.g., 4)\n",
    "# cube_side = ...\n",
    "\n",
    "# 2. Calculate the volume using the formula: side * side * side\n",
    "# volume_of_cube = ...\n",
    "\n",
    "# 3. Print the side_length of the cube\n",
    "# print(\"The side length of the cube is:\", ...)\n",
    "# 4. Print the calculated volume_of_cube\n",
    "# print(\"The volume of the cube is:\", ...)"
   ]
  },
  {
   "cell_type": "markdown",
   "id": "user-input-intro",
   "metadata": {},
   "source": [
    "## 🐍 Making it Interactive: Getting User Input with `input()`\n",
    "\n",
    "Hardcoding values is fine for simple tests, but what if we want to calculate the area of a square with a *different* side length each time we run the program? Or let someone else use our program to calculate for *their* shapes?\n",
    "\n",
    "For this, we need to get **input from the user**. Python provides a built-in function called `input()` to do this.\n",
    "\n",
    "The `input()` function does two things:\n",
    "1.  It displays a message (called a **prompt**) to the user, asking them to type something.\n",
    "2.  It waits for the user to type their response and press Enter.\n",
    "3.  It then **returns** whatever the user typed as a **string**."
   ]
  },
  {
   "cell_type": "code",
   "execution_count": null,
   "id": "simple-input-example",
   "metadata": {},
   "outputs": [],
   "source": [
    "user_name = input(\"What is your name? \")\n",
    "print(\"Hello,\", user_name, \"!\")"
   ]
  },
  {
   "cell_type": "markdown",
   "id": "input-returns-string",
   "metadata": {},
   "source": [
    "### ⚠️ Heads Up! `input()` Always Gives You a String\n",
    "\n",
    "This is a very important point! Even if the user types in a number, the `input()` function will give it to your program as a **string** (text).\n",
    "\n",
    "Let's see this in action. Run the cell below and enter a number when prompted."
   ]
  },
  {
   "cell_type": "code",
   "execution_count": null,
   "id": "input-type-check",
   "metadata": {},
   "outputs": [],
   "source": [
    "user_number_text = input(\"Enter a number: \")\n",
    "print(\"You entered:\", user_number_text)\n",
    "print(\"The type of data you entered is:\", type(user_number_text)) # type() tells us the data type"
   ]
  },
  {
   "cell_type": "markdown",
   "id": "string-to-number-conversion",
   "metadata": {},
   "source": [
    "You'll notice it says `<class 'str'>`, which means it's a string!\n",
    "\n",
    "If we want to do math with the user's input, we need to convert it from a string to a number. We can use:\n",
    "*   `int()`: to convert a string to an **integer** (whole number).\n",
    "*   `float()`: to convert a string to a **floating-point number** (number with a decimal).\n",
    "\n",
    "If the user types something that can't be converted to a number (like \"hello\"), trying to use `int()` or `float()` will cause an error. For now, we'll assume the user enters valid numbers."
   ]
  },
  {
   "cell_type": "code",
   "execution_count": null,
   "id": "input-conversion-square-area",
   "metadata": {},
   "outputs": [],
   "source": [
    "# Calculate square area with user input\n",
    "\n",
    "side_length_str = input(\"Enter the side length of the square: \")\n",
    "\n",
    "# Convert the input string to a number (let's use float for flexibility)\n",
    "side_length_num = float(side_length_str)\n",
    "\n",
    "area = side_length_num * side_length_num\n",
    "\n",
    "print(\"The side length you entered is:\", side_length_num)\n",
    "print(\"The area of the square is:\", area)"
   ]
  },
  {
   "cell_type": "markdown",
   "id": "mini-challenge-input-rectangle",
   "metadata": {},
   "source": [
    "### 🎯 Mini-Challenge: Rectangle Area with User Input\n",
    "\n",
    "1.  In the code cell below, ask the user to enter the **length** of a rectangle.\n",
    "2.  Store their input and convert it to a number (e.g., a float).\n",
    "3.  Then, ask the user to enter the **width** of the rectangle.\n",
    "4.  Store their input and convert it to a number.\n",
    "5.  Calculate the area of the rectangle (`area = length * width`).\n",
    "6.  Print the length, width, and the calculated area."
   ]
  },
  {
   "cell_type": "code",
   "execution_count": null,
   "id": "rectangle-area-challenge-input",
   "metadata": {},
   "outputs": [],
   "source": [
    "# YOUR CODE HERE\n",
    "# 1. Ask the user to enter the length of the rectangle and store it in a variable (e.g., length_str)\n",
    "# length_str = input(...)\n",
    "# 2. Convert the length from a string to a number (float) and store it (e.g., length_num)\n",
    "# length_num = float(...)\n",
    "\n",
    "# 3. Ask the user to enter the width of the rectangle and store it (e.g., width_str)\n",
    "# width_str = input(...)\n",
    "# 4. Convert the width from a string to a number (float) and store it (e.g., width_num)\n",
    "# width_num = float(...)\n",
    "\n",
    "# 5. Calculate the area (length * width) and store it in a variable (e.g., rect_area)\n",
    "# rect_area = ...\n",
    "\n",
    "# 6. Print the length, width, and the calculated area\n",
    "# print(\"Rectangle Length:\", ...)\n",
    "# print(\"Rectangle Width:\", ...)\n",
    "# print(\"Rectangle Area:\", ...)"
   ]
  },
  {
   "cell_type": "markdown",
   "id": "functions-intro",
   "metadata": {},
   "source": [
    "## 🐍 Smarter Code: Introducing Functions!\n",
    "\n",
    "Imagine you need to calculate the area of a square many times in your program. You could copy and paste the calculation code (`side * side`) everywhere, but that's repetitive and if you make a mistake in one place, you have to fix it everywhere!\n",
    "\n",
    "A **function** is a named block of code that performs a specific task. You can \"call\" a function by its name whenever you need to perform that task.\n",
    "\n",
    "**Why use functions?**\n",
    "*   **DRY (Don't Repeat Yourself):** Write the code once, use it many times.\n",
    "*   **Organization:** Break down your program into smaller, manageable pieces.\n",
    "*   **Readability:** Makes your code easier to understand because complex tasks are hidden inside well-named functions.\n",
    "*   **Reusability:** You can use the same function in different parts of your program, or even in different programs."
   ]
  },
  {
   "cell_type": "markdown",
   "id": "function-anatomy",
   "metadata": {},
   "source": [
    "### Anatomy of a Python Function\n",
    "\n",
    "Here's the basic structure:\n",
    "\n",
    "```python\n",
    "def function_name(parameter1, parameter2):\n",
    "    # Code to perform the task goes here (this is the function body)\n",
    "    # This code must be indented!\n",
    "    result = parameter1 + parameter2 # Example operation\n",
    "    return result # Optional: sends a value back to where the function was called\n",
    "```\n",
    "\n",
    "*   `def`: The keyword that tells Python you're defining a function.\n",
    "*   `function_name`: You choose this! Follow the same naming rules as variables (e.g., `snake_case`).\n",
    "*   `parameter1, parameter2`: These are like special variables that act as placeholders for values you'll give to the function when you call it. These are also called **arguments** when you provide actual values. A function can have zero, one, or many parameters.\n",
    "*   `:`: A colon marks the end of the function definition line.\n",
    "*   **Indented Code Block:** The lines of code *inside* the function that do the work. They **must** be indented (usually 4 spaces).\n",
    "*   `return result` (Optional): The `return` keyword sends a value back from the function to the part of your code that called it. If a function doesn't have a `return` statement, it automatically returns a special value `None`."
   ]
  },
  {
   "cell_type": "markdown",
   "id": "function-example-square-area",
   "metadata": {},
   "source": [
    "### Example: A Function to Calculate Square Area"
   ]
  },
  {
   "cell_type": "code",
   "execution_count": null,
   "id": "define-square-area-function",
   "metadata": {},
   "outputs": [],
   "source": [
    "# Define the function\n",
    "def calculate_square_area(side_length):\n",
    "    \"\"\"Calculates the area of a square given its side length.\"\"\" # This is a docstring - a comment explaining the function\n",
    "    area = side_length * side_length\n",
    "    return area\n",
    "\n",
    "# Now, let's call (use) our function!\n",
    "square1_side = 5\n",
    "square1_area = calculate_square_area(square1_side) # We pass square1_side as the argument\n",
    "print(\"A square with side\", square1_side, \"has an area of\", square1_area, \".\")\n",
    "\n",
    "square2_side = 10\n",
    "square2_area = calculate_square_area(square2_side)\n",
    "print(\"A square with side\", square2_side, \"has an area of\", square2_area, \".\")\n",
    "\n",
    "# We can even use it directly with user input\n",
    "user_side_str = input(\"Enter side length for another square: \")\n",
    "user_side_num = float(user_side_str)\n",
    "user_square_area = calculate_square_area(user_side_num)\n",
    "print(\"Your square with side\", user_side_num, \"has an area of\", user_square_area, \".\")"
   ]
  },
  {
   "cell_type": "markdown",
   "id": "function-example-rectangle-perimeter",
   "metadata": {},
   "source": [
    "### Example: Function for Rectangle Perimeter (Two Parameters)"
   ]
  },
  {
   "cell_type": "code",
   "execution_count": null,
   "id": "define-rectangle-perimeter-function",
   "metadata": {},
   "outputs": [],
   "source": [
    "def calculate_rectangle_perimeter(length, width):\n",
    "    \"\"\"Calculates the perimeter of a rectangle given its length and width.\"\"\"\n",
    "    perimeter = 2 * (length + width)\n",
    "    return perimeter\n",
    "\n",
    "# Call the function\n",
    "rect_l = 7\n",
    "rect_w = 3\n",
    "p_result = calculate_rectangle_perimeter(rect_l, rect_w)\n",
    "print(\"A rectangle with length\", rect_l, \"and width\", rect_w, \"has a perimeter of\", p_result, \".\")"
   ]
  },
  {
   "cell_type": "markdown",
   "id": "mini-challenge-function-cube-volume",
   "metadata": {},
   "source": [
    "### 🎯 Mini-Challenge: Function for Cube Volume\n",
    "\n",
    "1.  Define a function called `calculate_cube_volume`.\n",
    "2.  It should take one parameter: `side` (the side length of the cube).\n",
    "3.  Inside the function, calculate the volume (`side * side * side`).\n",
    "4.  The function should `return` the calculated volume.\n",
    "5.  After defining the function, test it by:\n",
    "    *   Calling it with a hardcoded side length (e.g., `calculate_cube_volume(3)`).\n",
    "    *   Asking the user for a side length, converting it to a number, and then calling your function with the user's input.\n",
    "    *   Print the results clearly."
   ]
  },
  {
   "cell_type": "code",
   "execution_count": null,
   "id": "cube-volume-function-challenge",
   "metadata": {},
   "outputs": [],
   "source": [
    "# YOUR CODE HERE\n",
    "# 1. Define the function calculate_cube_volume that takes one parameter: side\n",
    "# def calculate_cube_volume(side):\n",
    "    # Inside the function, calculate the volume (side * side * side)\n",
    "    # volume = ...\n",
    "    # Return the calculated volume\n",
    "    # return ...\n",
    "\n",
    "# 2. Test with a hardcoded value (e.g., side = 3)\n",
    "# test_side = ... \n",
    "# test_volume = ... # Call your function using test_side\n",
    "# print(\"A cube with side\", test_side, \"has a volume of\", test_volume, \".\")\n",
    "\n",
    "# 3. Test with user input\n",
    "# user_cube_side_str = input(\"Enter the side length of your cube: \")\n",
    "# user_cube_side_num = ... # Convert to number\n",
    "# user_cube_volume = ... # Call your function\n",
    "# print(\"Your cube with side\", user_cube_side_num, \"has a volume of\", user_cube_volume, \".\")"
   ]
  },
  {
   "cell_type": "markdown",
   "id": "more-shapes-intro",
   "metadata": {},
   "source": [
    "## 🚀 Putting It All Together: More Shapes!\n",
    "\n",
    "Now that you know how to get user input and write functions, you can create tools to calculate properties for many different shapes!"
   ]
  },
  {
   "cell_type": "markdown",
   "id": "triangle-area-example",
   "metadata": {},
   "source": [
    "### Example: Area of a Triangle\n",
    "The formula for the area of a triangle is `0.5 * base * height`."
   ]
  },
  {
   "cell_type": "code",
   "execution_count": null,
   "id": "triangle-area-function-and-usage",
   "metadata": {},
   "outputs": [],
   "source": [
    "def calculate_triangle_area(base, height):\n",
    "    \"\"\"Calculates the area of a triangle given its base and height.\"\"\"\n",
    "    area = 0.5 * base * height\n",
    "    return area\n",
    "\n",
    "# Get input from the user\n",
    "tri_base_str = input(\"Enter the base of the triangle: \")\n",
    "tri_height_str = input(\"Enter the height of the triangle: \")\n",
    "\n",
    "# Convert to numbers\n",
    "tri_base_num = float(tri_base_str)\n",
    "tri_height_num = float(tri_height_str)\n",
    "\n",
    "# Calculate and print the area\n",
    "triangle_area_result = calculate_triangle_area(tri_base_num, tri_height_num)\n",
    "print(\"A triangle with base\", tri_base_num, \"and height\", tri_height_num, \"has an area of\", triangle_area_result, \".\")"
   ]
  },
  {
   "cell_type": "markdown",
   "id": "final-challenge-cuboid",
   "metadata": {},
   "source": [
    "### 🎯 Final Challenge: Volume of a Rectangular Prism (Cuboid)\n",
    "\n",
    "A rectangular prism (also known as a cuboid, like a cereal box) has a volume calculated by: `volume = length * width * height`.\n",
    "\n",
    "1.  Define a function called `calculate_cuboid_volume`.\n",
    "2.  It should take three parameters: `length`, `width`, and `height`.\n",
    "3.  Inside the function, calculate the volume.\n",
    "4.  The function should `return` the calculated volume.\n",
    "5.  After defining the function, ask the user for the length, width, and height of their cuboid.\n",
    "6.  Call your function with the user's input and print the result clearly."
   ]
  },
  {
   "cell_type": "code",
   "execution_count": null,
   "id": "cuboid-volume-final-challenge",
   "metadata": {},
   "outputs": [],
   "source": [
    "# YOUR CODE HERE\n",
    "# 1. Define the function calculate_cuboid_volume that takes three parameters: length, width, height\n",
    "# def calculate_cuboid_volume(...):\n",
    "    # volume = ...\n",
    "    # Return the calculated volume\n",
    "    # return ...\n",
    "\n",
    "# 2. Get length input from the user, convert to float\n",
    "# cuboid_l_str = input(\"Enter cuboid length: \")\n",
    "# cuboid_l = float(cuboid_l_str)\n",
    "\n",
    "# 3. Get width input from the user, convert to float\n",
    "# cuboid_w_str = ...\n",
    "# cuboid_w = ...\n",
    "\n",
    "# 4. Get height input from the user, convert to float\n",
    "# cuboid_h_str = ...\n",
    "# cuboid_h = ...\n",
    "\n",
    "# 5. Call your function with the user's inputs to get the volume\n",
    "# cuboid_vol = calculate_cuboid_volume(cuboid_l, cuboid_w, cuboid_h)\n",
    "# 6. Print the result clearly\n",
    "# print(\"A cuboid with L=\", cuboid_l, \", W=\", cuboid_w, \", H=\", cuboid_h, \"has a volume of\", cuboid_vol, \".\")"
   ]
  },
  {
   "cell_type": "markdown",
   "id": "notebook-c-summary",
   "metadata": {},
   "source": [
    "## 🎉 Part 3 Wrap-up & What's Next! 🎉\n",
    "\n",
    "Excellent work! You've built some really useful calculation tools in this notebook.\n",
    "\n",
    "**Here's a recap of what you learned:**\n",
    "*   How to perform basic **arithmetic calculations** for geometric formulas.\n",
    "*   The power of the `input()` function to make your programs **interactive**.\n",
    "*   The critical step of **converting string input to numbers** (`int()`, `float()`) for calculations.\n",
    "*   How to define and use **functions** (`def`, parameters, `return`) to create reusable and organized code.\n",
    "\n",
    "**Key Takeaways:**\n",
    "*   Functions help you avoid repeating code and make your programs easier to manage.\n",
    "*   Always be mindful of data types, especially when getting input from users.\n",
    "*   Breaking problems down (like calculating a shape's property) into smaller steps makes them easier to code.\n",
    "\n",
    "### Next Up: Notebook 4 - Prime Numbers 🚀\n",
    "\n",
    "In our next notebook, we'll tackle a more complex problem: finding prime numbers! This will introduce us to new problem-solving techniques and more powerful Python tools, including **loops**.\n",
    "\n",
    "Keep practicing and experimenting with what you've learned. Try creating functions for other shapes or calculations!"
   ]
  }
 ],
 "metadata": {
  "kernelspec": {
   "display_name": "paps-venv",
   "language": "python",
   "name": "python3"
  },
  "language_info": {
   "codemirror_mode": {
    "name": "ipython",
    "version": 3
   },
   "file_extension": ".py",
   "mimetype": "text/x-python",
   "name": "python",
   "nbconvert_exporter": "python",
   "pygments_lexer": "ipython3",
   "version": "3.10.12"
  }
 },
 "nbformat": 4,
 "nbformat_minor": 5
}
