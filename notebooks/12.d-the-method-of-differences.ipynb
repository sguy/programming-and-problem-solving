{
  "cells": [
    {
      "cell_type": "markdown",
      "id": "header-title",
      "metadata": {},
      "source": [
        "# 12.d: The Method of Differences"
      ]
    },
    {
      "cell_type": "markdown",
      "id": "header-quote",
      "metadata": {},
      "source": [
        "> Order and simplification are the first steps toward the mastery of a subject.\n",
        ">\n",
        "> — Thomas Mann"
      ]
    },
    {
      "cell_type": "markdown",
      "id": "header-learning-objectives",
      "metadata": {},
      "source": [
        "## 🎯 Learning Objectives\n",
        "\n",
        "By the end of this notebook, you will be able to:\n",
        "- Use the method of finite differences to determine the degree of a polynomial sequence.\n",
        "- Explain the Principle of Degree Reduction.\n",
        "- Use the method of differences to derive the coefficients of a quadratic function.\n",
        "- Create a subplot visualization to show a function and its successive differences."
      ]
    },
    {
      "cell_type": "markdown",
      "id": "header-prerequisites",
      "metadata": {},
      "source": [
        "## 📚 Prerequisites\n",
        "\n",
        "This notebook builds on concepts from the previous lessons. Before you begin, make sure you are comfortable with:\n",
        "- Concepts from [Notebook 12.b: Finding Linear Patterns](https://colab.research.google.com/github/sguy/programming-and-problem-solving/blob/main/notebooks/12.b-finding-linear-patterns.ipynb), including the Method of First Differences.\n",
        "- Concepts from [Notebook 12.c: Cracking the Quadratic Code](https://colab.research.google.com/github/sguy/programming-and-problem-solving/blob/main/notebooks/12.c-cracking-the-quadratic-code.ipynb), including the Method of Second Differences."
      ]
    },
    {
      "cell_type": "markdown",
      "id": "header-time-and-toc",
      "metadata": {},
      "source": [
        "*Estimated Time: 50 minutes*\n",
        "\n",
        "---\n",
        "\n",
        "[Return to Table of Contents](https://colab.research.google.com/github/sguy/programming-and-problem-solving/blob/main/notebooks/table-of-contents.ipynb)"
      ]
    },
    {
      "cell_type": "markdown",
      "id": "intro-general-method",
      "metadata": {},
      "source": [
        "## Introduction: From Detective to Master Builder\n",
        "\n",
        "In the last two notebooks, we learned to act like data detectives. We saw that first differences reveal linear patterns and second differences reveal quadratic ones. Our detective work has been successful, but it raises two big questions:\n",
        "\n",
        "1.  **When do we stop?** How many times do we need to take the differences before we can be sure we've found the pattern?\n",
        "2.  **Now what?** Once we've identified a pattern (like \"quadratic\"), how do we turn that knowledge into the actual formula that created the sequence?\n",
        "\n",
        "In this notebook, we will answer both questions. We will formalize our detective work into a powerful, general tool called the **Method of Finite Differences**. This will give us a clear stopping condition and a reliable recipe for finding the function behind a sequence, turning us from pattern-finders into function-builders."
      ]
    },
    {
      "cell_type": "markdown",
      "id": "setup-section",
      "metadata": {},
      "source": [
        "## 🛠️ Setup: Our Detective Kit\n",
        "\n",
        "We only need one tool from our kit for this notebook: our trusted `calculate_differences` function."
      ]
    },
    {
      "cell_type": "code",
      "execution_count": null,
      "id": "helper-functions-cell",
      "metadata": {},
      "outputs": [],
      "source": [
        "import numpy as np\n",
        "import matplotlib.pyplot as plt\n",
        "\n",
        "def calculate_differences(sequence):\n",
        "    if not sequence or len(sequence) < 2:\n",
        "        return [np.nan] * len(sequence)\n",
        "\n",
        "    differences = [np.nan]\n",
        "    for i in range(1, len(sequence)):\n",
        "        # Check if either value is nan before appending\n",
        "        if np.isnan(sequence[i]) or np.isnan(sequence[i-1]):\n",
        "            differences.append(np.nan)\n",
        "        else:\n",
        "            differences.append(sequence[i] - sequence[i-1])\n",
        "    return differences"
      ]
    },
    {
      "cell_type": "markdown",
      "id": "the-why-annihilating-diff",
      "metadata": {},
      "source": [
        "## The \"Why\": When Do We Stop Taking Differences?\n",
        "\n",
        "A key question in this process is, \"How do I know when I'm done?\" Let's revisit our thrown ball data from the last notebook and take the differences until we see a clear pattern emerge."
      ]
    },
    {
      "cell_type": "code",
      "execution_count": null,
      "id": "falling-object-all-diffs",
      "metadata": {},
      "outputs": [],
      "source": [
        "# The height of the ball thrown from the bridge at t = 0, 1, 2, 3, 4, 5\n",
        "heights = [10, 55, 90, 115, 130, 135]\n",
        "\n",
        "# Calculate the first, second, and third differences\n",
        "d1 = calculate_differences(heights)\n",
        "d2 = calculate_differences(d1)\n",
        "d3 = calculate_differences(d2)\n",
        "\n",
        "print(f\"Original Sequence (h): {heights}\")\n",
        "print(f\"First Differences (d1):   {d1}\")\n",
        "print(f\"Second Differences (d2):  {d2}\")\n",
        "print(f\"Third Differences (d3):   {d3}\")"
      ]
    },
    {
      "cell_type": "markdown",
      "id": "polynomial-degree-rule",
      "metadata": {},
      "source": [
        "This is the key! Notice that the **second difference** is constant, and the **third difference** is all zeros (ignoring the `nan` placeholders). This isn't a coincidence; it's the secret to knowing when to stop.\n",
        "\n",
        "> **The Method of Differences: Stopping Rule**\n",
        "> Your **goal** is to find the first difference sequence that is **constant and not zero**.\n",
        "> You **confirm** you are done because the *very next* difference sequence will be **all zeros**.\n",
        "> (And if you keep going, you'll just get more and more zeros!)"
      ]
    },
    {
      "cell_type": "markdown",
      "id": "degree-reduction-principle",
      "metadata": {},
      "source": [
        "### The Principle of Degree Reduction\n",
        "\n",
        "Why does this rule work? It's because of a powerful underlying principle: **each time you take a difference, you reduce the degree of the underlying polynomial by one.**\n",
        "\n",
        "| Sequence Type | Degree | 1st Difference is... | 2nd Difference is... | 3rd Difference is... |\n",
        "| :--- | :---: | :--- | :--- | :--- |\n",
        "| **Quadratic** | 2 | Linear (deg 1) | Constant (deg 0) | Zero |\n",
        "| **Linear** | 1 | Constant (deg 0) | Zero | |\n",
        "| **Constant** | 0 | Zero | | |\n",
        "\n",
        "This is why the method is a systematic process of simplification. We keep taking differences until we reach a simple, constant value, and we know the next step will be zero."
      ]
    },
    {
      "cell_type": "markdown",
      "id": "visualization-challenge-intro",
      "metadata": {},
      "source": [
        "### 🐍 New Python Tool: Subplot Visualization\n",
        "\n",
        "A powerful way to see this degree reduction in action is to plot a sequence and its successive differences all at once. We can do this using `matplotlib`'s `subplots` feature, which lets us create a figure with multiple plots stacked vertically."
      ]
    },
    {
      "cell_type": "code",
      "execution_count": null,
      "id": "subplot-challenge-code",
      "metadata": {},
      "outputs": [],
      "source": [
        "def plot_differences(sequence):\n",
        "     \"\"\"Calculates and plots a sequence and its first two differences.\"\"\"\n",
        "     d1 = calculate_differences(sequence)\n",
        "     d2 = calculate_differences(d1)\n",
        "     n = range(len(sequence))\n",
        "     fig, (ax1, ax2, ax3) = plt.subplots(3, 1, figsize=(8, 8), sharex=True)\n",
        "     fig.suptitle('Visualizing the Method of Differences', fontsize=16)\n",
        "     # Plot Original Sequence\n",
        "     ax1.plot(n, sequence, 'o-')\n",
        "     ax1.set_title(\"Original Sequence (Height)\")\n",
        "     ax1.set_ylabel(\"Height (m)\")\n",
        "     ax1.grid(True)\n",
        "\n",
        "     # Plot First Difference\n",
        "     ax2.plot(n, d1, 'o-', color='r')\n",
        "     ax2.set_title(\"First Difference (Avg. Velocity)\")\n",
        "     ax2.set_ylabel(\"Velocity (m/s)\")\n",
        "     ax2.grid(True)\n",
        "\n",
        "     # Plot Second Difference\n",
        "     ax3.plot(n, d2, 'o-', color='g')\n",
        "     ax3.set_title(\"Second Difference (Avg. Acceleration)\")\n",
        "     ax3.set_ylabel(\"Accel. (m/s²)\")\n",
        "     ax3.set_xlabel(\"Time (s)\")\n",
        "     ax3.grid(True)\n",
        "\n",
        "     plt.show()\n",
        "\n",
        "# Let's visualize our ball's height data\n",
        "plot_differences(heights)"
      ]
    },
    {
      "cell_type": "markdown",
      "id": "the-how-forward-diffs",
      "metadata": {},
      "source": [
        "## The \"How\": Finding Coefficients with the Leading Diagonal\n",
        "\n",
        "The visualization makes it clear: if the second difference is a constant value, the original function was a quadratic. But how do we find the formula $h(t) = at^2 + bt + c$?\n",
        "\n",
        "The secret lies in the first valid number of each difference sequence, which is called the **leading diagonal** of the difference table. Let's look at the general case for a quadratic function, where `n` starts at 0:"
      ]
    },
    {
      "cell_type": "markdown",
      "id": "what-are-abc",
      "metadata": {},
      "source": [
        "### What are `a`, `b`, and `c`?\n",
        "\n",
        "This is a great question. In the last few notebooks, we proved that if the second difference is constant, the sequence must be **quadratic**.\n",
        "\n",
        "In algebra, any quadratic function can be written in a **general form**:\n",
        "$$T(n) = an^2 + bn + c$$\n",
        "\n",
        "Think of this as a blueprint for all quadratic functions. The letters `a`, `b`, and `c` are called **coefficients**. They are the specific numbers that make one quadratic function different from another.\n",
        "\n",
        "- `c` is the **constant term** (or the y-intercept).\n",
        "- `b` is the coefficient of the **linear term** (the `n` part).\n",
        "- `a` is the coefficient of the **quadratic term** (the `n^2` part).\n",
        "\n",
        "Our job as data detectives is to figure out the exact values of `a`, `b`, and `c` for our specific sequence. We aren't pulling them out of thin air; we are starting with a blueprint that we *know* is correct (because the second difference was constant) and now we are just solving for the missing numbers in that blueprint."
      ]
    },
    {
      "cell_type": "markdown",
      "id": "derivation-details",
      "metadata": {},
      "source": [
        "<details>\n",
        "<summary>Optional: Click here to see the step-by-step algebra for deriving the recipe.</summary>\n",
        "\n",
        "### Deriving the Recipe\n",
        "\n",
        "How do we get the recipe for the coefficients? Let's build it step-by-step using algebra.\n",
        "\n",
        "**1. The `c` coefficient**\n",
        "The formula is $T(n) = an^2 + bn + c$. If we look at the very first term where `n=0`:\n",
        "$T(0) = a(0)^2 + b(0) + c = 0 + 0 + c = c$.\n",
        "So, the first term of our sequence, `T[0]`, is always equal to `c`!\n",
        "\n",
        "**2. The `a` and `b` coefficients**\n",
        "Now let's look at the first difference, $d_1(1) = T(1) - T(0)$.\n",
        "$T(1) = a(1)^2 + b(1) + c = a+b+c$.\n",
        "So, $d_1(1) = (a+b+c) - c = a+b$.\n",
        "This gives us our second equation: $a+b = d_1[1]$.\n",
        "\n",
        "**3. The `a` coefficient**\n",
        "Finally, let's look at the second difference, $d_2(2) = d_1(2) - d_1(1)$.\n",
        "We already know $d_1(1) = a+b$. We need $d_1(2) = T(2) - T(1)$.\n",
        "$T(2) = a(2)^2 + b(2) + c = 4a+2b+c$.\n",
        "$d_1(2) = (4a+2b+c) - (a+b+c) = 3a+b$.\n",
        "Now we can find the second difference:\n",
        "$d_2(2) = (3a+b) - (a+b) = 2a$.\n",
        "This gives our final key equation: $2a = d_2[2]$.\n",
        "\n",
        "This step-by-step derivation leads us directly to the recipe, which is summarized in the table below.\n",
        "\n",
        "| n | $T(n) = an^2+bn+c$ | $d_1(n)$ | $d_2(n)$ |\n",
        "|:-:|:---|:---|:---|\n",
        "| 0 | $T(0)=a \\cdot 0^2 + b \\cdot 0 + c$<br> $=c$ | | |\n",
        "| 1 | $T(1)=a \\cdot 1^2 + b \\cdot 1 + c$<br>$=a+b+c$ | $d_1(1)=T(1) - T(0)$<br>$=(a+b+c) - c$<br>$=a + b$| |\n",
        "| 2 | $T(2)=a \\cdot 2^2 + b \\cdot 2 + c$<br>$=4a+2b+c$ | $d_1(2)=T(2) - T(1)$<br>$=(4a+2b+c) - (a+b+c)$<br>$=3a+b$| $d_2(2)=d_1(2) - d_1(1)$<br>$=(3a+b)-(a+b)$<br>$=2a$|\n",
        "\n",
        "By looking at the first usable values from the table (the leading diagonal), we get a **system of equations**. This is a set of clues (equations) that must all be true at the same time. Our three clues are:\n",
        "\n",
        "1. $2a = d_2[2]$ (the first constant value of the 2nd difference)\n",
        "2. $a+b = d_1[1]$ (the first calculated value of the 1st difference)\n",
        "3. $c = T[0]$ (the first term of the original sequence)\n",
        "\n",
        "We can solve these for $a$, $b$, and $c$ in that order!\n",
        "</details>"
      ]
    },
    {
      "cell_type": "markdown",
      "id": "recipe-for-coeffs",
      "metadata": {},
      "source": [
        "### A Recipe for Finding Coefficients\n",
        "\n",
        "Here is our step-by-step recipe for a quadratic sequence:\n",
        "\n",
        "1.  **Find `a`:** $a = \\frac{d_2[2]}{2}$\n",
        "2.  **Find `b`:** $b = d_1[1] - a$\n",
        "3.  **Find `c`:** $c = T[0]$"
      ]
    },
    {
      "cell_type": "code",
      "execution_count": null,
      "id": "code-example-coeffs",
      "metadata": {},
      "outputs": [],
      "source": [
        "# 1. Find a\n",
        "a = d2[2] / 2\n",
        "\n",
        "# 2. Find b\n",
        "b = d1[1] - a\n",
        "\n",
        "# 3. Find c\n",
        "c = heights[0]\n",
        "\n",
        "print(f\"The coefficients are: a = {a}, b = {b}, c = {c}\")"
      ]
    },
    {
      "cell_type": "markdown",
      "id": "verify-formula",
      "metadata": {},
      "source": [
        "### Verifying the Formula\n",
        "\n",
        "Our recipe gives us $a=-5.0$, $b=50.0$, and $c=10.0$. This means the formula should be $h(t) = -5t^2 + 50t + 10$. Let's test it!"
      ]
    },
    {
      "cell_type": "code",
      "execution_count": null,
      "id": "verify-formula-code",
      "metadata": {},
      "outputs": [],
      "source": [
        "def found_formula(n):\n",
        "    # Our derived coefficients\n",
        "    a = -5.0\n",
        "    b = 50.0\n",
        "    c = 10.0\n",
        "    return a * n**2 + b * n + c\n",
        "\n",
        "# Generate the sequence from our new formula\n",
        "generated_sequence = []\n",
        "for i in range(len(heights)):\n",
        "    generated_sequence.append(found_formula(i))\n",
        "\n",
        "print(f\"Original sequence:  {heights}\")\n",
        "print(f\"Generated sequence: {generated_sequence}\")\n",
        "\n",
        "# Check if they match\n",
        "if heights == generated_sequence:\n",
        "    print('Success! The formula is correct.')\n",
        "else:\n",
        "    print('Something went wrong...')"
      ]
    },
    {
      "cell_type": "markdown",
      "id": "challenge-fudge-desc",
      "metadata": {},
      "source": [
        "### 🎯 Optional Challenge: The Fudge Pricing Puzzle\n",
        "\n",
        "Want some more practice? Here is a different scenario. A candy shop has a 3-part pricing model for its specialty square fudge pieces:\n",
        "1.  A flat fee for the bag.\n",
        "2.  A price for the box, which is proportional to the side length `L` of the fudge.\n",
        "3.  A price for the fudge itself, which is proportional to the area (`L^2`).\n",
        "\n",
        "This results in a quadratic pricing formula: `Price(L) = a*L^2 + b*L + c`.\n",
        "\n",
        "Here are the prices:\n",
        "- Just a bag (0x0 fudge): $2.00\n",
        "- 1x1 inch square: $4.00\n",
        "- 2x2 inch square: $7.00\n",
        "- 3x3 inch square: $11.00\n",
        "- 4x4 inch square: $16.00\n",
        "\n",
        "Your task is to find the complete formula by determining `a`, `b`, and `c`, and then use it to price a new **5x5 inch** square."
      ]
    },
    {
      "cell_type": "markdown",
      "id": "challenge-fudge-hints",
      "metadata": {},
      "source": [
        "<details>\n",
        "<summary>Hint: How do I start?</summary>\n",
        "\n",
        "Create a list of the prices, starting with the `L=0` case for the bag. Then, use the `calculate_differences` function twice to get `d1` and `d2`.\n",
        "\n",
        "</details>\n",
        "<details>\n",
        "<summary>Hint: Applying the recipe</summary>\n",
        "\n",
        "Once you have the original sequence `T`, the first difference `d1`, and the second difference `d2`, you can use the first valid number from each list to find the coefficients:\n",
        "- `c = T[0]`\n",
        "- `b = d1[1] - a`\n",
        "- `a = d2[2] / 2`\n",
        "\n",
        "Remember to solve for `a` first!\n",
        "\n",
        "</details>"
      ]
    },
    {
      "cell_type": "code",
      "execution_count": null,
      "id": "challenge-fudge-starter",
      "metadata": {},
      "outputs": [],
      "source": [
        "# Prices for L = 0, 1, 2, 3, 4\n",
        "fudge_prices = [2.00, 4.00, 7.00, 11.00, 16.00]\n",
        "\n",
        "# 1. Calculate the first and second differences\n",
        "d1 = [] # YOUR CODE HERE\n",
        "d2 = [] # YOUR CODE HERE\n",
        "print(f\"d1: {d1}\")\n",
        "print(f\"d2: {d2}\")\n",
        "print(\"---S\")\n",
        "\n",
        "# 2. Use the recipe to find a, b, and c\n",
        "a = 0 # YOUR CODE HERE\n",
        "b = 0 # YOUR CODE HERE\n",
        "c = 0 # YOUR CODE HERE\n",
        "print(f\"Coefficients: a={a}, b={b}, c={c}\")\n",
        "print(\"---S\")\n",
        "\n",
        "# 3. Define the formula and find the price for a 5x5 square\n",
        "def price_formula(L):\n",
        "    # YOUR CODE HERE\n",
        "    return 0\n",
        "\n",
        "price_5x5 = price_formula(5)\n",
        "print(f\"The price for a 5x5 inch square of fudge is: ${price_5x5:.2f}\")"
      ]
    },
    {
      "cell_type": "markdown",
      "id": "challenge-fudge-solution",
      "metadata": {},
      "source": [
        "<details>\n",
        "<summary>Click to see a possible solution</summary>\n",
        "\n",
        "```python\n",
        "# Prices for L = 0, 1, 2, 3, 4\n",
        "fudge_prices = [2.00, 4.00, 7.00, 11.00, 16.00]\n",
        "\n",
        "# 1. Calculate the first and second differences\n",
        "d1 = calculate_differences(fudge_prices)\n",
        "d2 = calculate_differences(d1)\n",
        "print(f\"d1: {d1}\")\n",
        "# Expected output: d1: [nan, 2.0, 3.0, 4.0, 5.0]\n",
        "print(f\"d2: {d2}\")\n",
        "# Expected output: d2: [nan, nan, 1.0, 1.0, 1.0]\n",
        "print(\"---S\")\n",
        "\n",
        "# 2. Use the recipe to find a, b, and c\n",
        "c = fudge_prices[0]\n",
        "a = d2[2] / 2\n",
        "b = d1[1] - a\n",
        "print(f\"Coefficients: a={a}, b={b}, c={c}\")\n",
        "# Expected output: Coefficients: a=0.5, b=1.5, c=2.0\n",
        "print(\"---S\")\n",
        "\n",
        "# 3. Define the formula and find the price for a 5x5 square\n",
        "def price_formula(L):\n",
        "    return a * L**2 + b * L + c\n",
        "\n",
        "price_5x5 = price_formula(5)\n",
        "print(f\"The price for a 5x5 inch square of fudge is: ${price_5x5:.2f}\")\n",
        "# Expected output: The price for a 5x5 inch square of fudge is: $22.00\n",
        "```\n",
        "\n",
        "</details>"
      ]
    },
    {
      "cell_type": "markdown",
      "id": "conclusion",
      "metadata": {},
      "source": [
        "## 🎉 Well Done!\n",
        "\n",
        "You have now mastered the Method of Finite Differences for quadratic sequences! You have moved from being a data detective, able to spot a pattern, to a master builder, able to reconstruct the formula that creates the pattern. This is a powerful step in computational problem-solving.\n",
        "\n",
        "### Key Takeaways\n",
        "- The **(k+1)-th difference** of a polynomial of degree *k* is always zero.\n",
        "- This gives us a clear **stopping condition** for our detective work.\n",
        "- The **leading diagonal** of the difference table gives us the keys to solve for the coefficients $a$, $b$, and $c$ in a systematic way."
      ]
    },
    {
      "cell_type": "markdown",
      "id": "next-steps",
      "metadata": {},
      "source": [
        "### Next Up: A Glimpse of Calculus 🚀\n",
        "\n",
        "This process of taking differences might feel familiar if you've seen calculus before. In our next and final notebook of this series, [Notebook 12.e: A Glimpse of Calculus](https://colab.research.google.com/github/sguy/programming-and-problem-solving/blob/main/notebooks/12.e-a-glimpse-of-calculus.ipynb), we will explore the fascinating connection between the Method of Differences and the fundamental concepts of calculus."
      ]
    },
    {
      "cell_type": "markdown",
      "id": "footer-toc-link",
      "metadata": {},
      "source": [
        "---\n",
        "[Return to Table of Contents](https://colab.research.google.com/github/sguy/programming-and-problem-solving/blob/main/notebooks/table-of-contents.ipynb)"
      ]
    }
  ],
  "metadata": {
    "kernelspec": {
      "display_name": "Python 3",
      "language": "python",
      "name": "python3"
    },
    "language_info": {
      "codemirror_mode": {
        "name": "ipython",
        "version": 3
      },
      "file_extension": ".py",
      "mimetype": "text/x-python",
      "name": "python",
      "nbconvert_exporter": "python",
      "pygments_lexer": "ipython3",
      "version": "3.11.2"
    }
  },
  "nbformat": 4,
  "nbformat_minor": 5
}
