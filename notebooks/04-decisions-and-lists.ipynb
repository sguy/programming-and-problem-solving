{
 "cells": [
  {
   "cell_type": "markdown",
   "id": "notebook-d-intro",
   "metadata": {},
   "source": [
    "# Notebook 4: Python's Decision Power & Organizing with Lists 🚦📋\n",
    "\n",
    "Welcome to our fourth Python notebook! In the last notebook, you learned how to make your programs interactive with `input()` and how to write reusable code blocks with **functions** to calculate properties of shapes. Great job!\n",
    "\n",
    "Now, we're going to give your programs some brains! We'll explore:\n",
    "\n",
    "*   How programs can make **decisions** based on different conditions.\n",
    "*   How to store and manage **collections of items** using a powerful tool called **lists**.\n",
    "\n",
    "**Learning Objectives:**\n",
    "*   Understand and use Boolean values (`True`, `False`).\n",
    "*   Use comparison operators (like `==`, `>`, `<`) to create conditions.\n",
    "*   Write `if`, `elif`, and `else` statements to control the flow of your program.\n",
    "*   Create, modify (add items), and inspect Python lists.\n",
    "\n",
    "**Estimated Time:** 45-65 minutes\n",
    "\n",
    "**Prerequisites/Review:**\n",
    "*   Variables (Notebook 2)\n",
    "*   `print()` and `input()` functions (Notebooks 2 & 3)\n",
    "*   Data types: numbers and strings (Notebook 2)\n",
    "*   Basic arithmetic (Notebook 3)\n",
    "*   Defining and calling functions (Notebook 3)\n",
    "\n",
    "Let's get started!"
   ]
  },
  {
   "cell_type": "markdown",
   "id": "booleans-intro",
   "metadata": {},
   "source": [
    "## 🐍 What are Decisions in Code? Introducing Booleans!\n",
    "\n",
    "Imagine you're writing a game. You might need to check: *Is the player's score high enough to win?* Or, if you're building a website: *Did the user enter the correct password?*\n",
    "\n",
    "These are all questions that have a simple **yes** or **no** answer. In programming, we represent these yes/no answers using special values called **Booleans**.\n",
    "\n",
    "There are only two Boolean values in Python:\n",
    "*   `True` (like a \"yes\")\n",
    "*   `False` (like a \"no\")\n",
    "\n",
    "⚠️ **Heads Up!** `True` and `False` must be capitalized in Python. `true` or `false` (lowercase) will cause an error."
   ]
  },
  {
   "cell_type": "code",
   "execution_count": null,
   "id": "boolean-example",
   "metadata": {},
   "outputs": [],
   "source": [
    "is_student = True\n",
    "has_homework = False\n",
    "is_weekend = True\n",
    "\n",
    "print(\"Is the person a student?\", is_student)\n",
    "print(\"Does the student have homework?\", has_homework)\n",
    "print(\"Is it the weekend?\", is_weekend)\n",
    "\n",
    "# Let's check their type!\n",
    "print(\"The type of is_student is:\", type(is_student))"
   ]
  },
  {
   "cell_type": "markdown",
   "id": "comparison-operators-intro",
   "metadata": {},
   "source": [
    "## 🐍 Comparing Things: Comparison Operators\n",
    "\n",
    "So, how do we get these `True` or `False` values? We often get them by **comparing** two things using **comparison operators**. These operators ask a question and Python answers with `True` or `False`.\n",
    "\n",
    "Here are the common comparison operators:\n",
    "\n",
    "| Operator | Meaning                      | Example         | Result if `x=5`, `y=10` |\n",
    "| :------- | :--------------------------- | :-------------- | :---------------------- |\n",
    "| `==`     | Equal to                     | `x == y`        | `False`                 |\n",
    "| `!=`     | Not equal to                 | `x != y`        | `True`                  |\n",
    "| `>`      | Greater than                 | `x > y`         | `False`                 |\n",
    "| `<`      | Less than                    | `x < y`         | `True`                  |\n",
    "| `>=`     | Greater than or equal to     | `x >= 5`        | `True`                  |\n",
    "| `<=`     | Less than or equal to        | `y <= 10`       | `True`                  |"
   ]
  },
  {
   "cell_type": "code",
   "execution_count": null,
   "id": "comparison-examples",
   "metadata": {},
   "outputs": [],
   "source": [
    "x = 5\n",
    "y = 10\n",
    "name = \"Alice\"\n",
    "\n",
    "print(\"Is x equal to 5?\", x == 5)                  # True\n",
    "print(\"Is x not equal to y?\", x != y)              # True\n",
    "print(\"Is y greater than x?\", y > x)               # True\n",
    "print(\"Is x less than or equal to 5?\", x <= 5)     # True\n",
    "print(\"Is name equal to 'Alice'?\", name == \"Alice\") # True\n",
    "print(\"Is name equal to 'Bob'?\", name == \"Bob\")     # False\n",
    "\n",
    "# You can store the result of a comparison in a variable\n",
    "is_x_big = (x > 100)\n",
    "print(\"Is x big?\", is_x_big) # False"
   ]
  },
  {
   "cell_type": "markdown",
   "id": "conditionals-intro",
   "metadata": {},
   "source": [
    "## 🐍 Making Choices: `if`, `elif`, and `else`\n",
    "\n",
    "Now that we can create `True`/`False` conditions, we can tell our program to do different things based on these conditions. This is called **conditional execution**, and we use `if`, `elif` (short for \"else if\"), and `else` statements.\n",
    "\n",
    "### The `if` Statement\n",
    "An `if` statement runs a block of code *only if* its condition is `True`.\n",
    "\n",
    "```python\n",
    "if condition:\n",
    "    # This code runs if the condition is True\n",
    "    # Notice the indentation!\n",
    "    print(\"The condition was true!\")\n",
    "```\n",
    "The indentation (usually 4 spaces) is very important. It tells Python which lines of code belong to the `if` statement."
   ]
  },
  {
   "cell_type": "code",
   "execution_count": null,
   "id": "if-statement-example",
   "metadata": {},
   "outputs": [],
   "source": [
    "temperature = 72 # degrees Fahrenheit\n",
    "\n",
    "if temperature > 85: # Is it hotter than 85°F?\n",
    "    print(\"It's a hot day!\")\n",
    "    print(\"Remember to drink water.\")\n",
    "\n",
    "if temperature < 50: # Is it colder than 50°F?\n",
    "    print(\"It's cold, wear a jacket!\") # This won't print because 72 is not < 50"
   ]
  },
  {
   "cell_type": "markdown",
   "id": "else-statement-intro",
   "metadata": {},
   "source": [
    "### The `else` Statement\n",
    "What if you want to do something else if the condition is `False`? That's where `else` comes in. It's paired with an `if` statement.\n",
    "\n",
    "```python\n",
    "if condition:\n",
    "    # Runs if condition is True\n",
    "    print(\"Condition was True.\")\n",
    "else:\n",
    "    # Runs if condition is False\n",
    "    print(\"Condition was False.\")\n",
    "```"
   ]
  },
  {
   "cell_type": "code",
   "execution_count": null,
   "id": "if-else-example",
   "metadata": {},
   "outputs": [],
   "source": [
    "user_age = int(input(\"Enter your age: \"))\n",
    "\n",
    "if user_age >= 18:\n",
    "    print(\"You are an adult.\")\n",
    "else:\n",
    "    print(\"You are a minor.\")"
   ]
  },
  {
   "cell_type": "markdown",
   "id": "elif-statement-intro",
   "metadata": {},
   "source": [
    "### The `elif` Statement\n",
    "Sometimes you have more than two possibilities. `elif` (short for \"else if\") lets you check multiple conditions in order.\n",
    "\n",
    "```python\n",
    "if condition1:\n",
    "    # Runs if condition1 is True\n",
    "    print(\"Condition 1 was True.\")\n",
    "elif condition2:\n",
    "    # Runs if condition1 was False AND condition2 is True\n",
    "    print(\"Condition 2 was True.\")\n",
    "elif condition3:\n",
    "    # Runs if condition1 and condition2 were False AND condition3 is True\n",
    "    print(\"Condition 3 was True.\")\n",
    "else:\n",
    "    # Runs if ALL preceding conditions were False\n",
    "    print(\"None of the conditions were True.\")\n",
    "```\n",
    "Python checks the conditions from top to bottom. As soon as it finds one that is `True`, it runs that block of code and skips the rest of the `elif`/`else` blocks in that chain."
   ]
  },
  {
   "cell_type": "code",
   "execution_count": null,
   "id": "elif-example",
   "metadata": {},
   "outputs": [],
   "source": [
    "score = int(input(\"Enter your test score (0-100): \"))\n",
    "\n",
    "if score >= 90:\n",
    "    print(\"Grade: A - Excellent!\")\n",
    "elif score >= 80:\n",
    "    print(\"Grade: B - Good job!\")\n",
    "elif score >= 70:\n",
    "    print(\"Grade: C - Satisfactory.\")\n",
    "elif score >= 60:\n",
    "    print(\"Grade: D - Needs improvement.\")\n",
    "else:\n",
    "    print(\"Grade: F - Please see your teacher.\")"
   ]
  },
  {
   "cell_type": "markdown",
   "id": "mini-challenge-movie-pricer",
   "metadata": {},
   "source": [
    "### 🎯 Mini-Challenge: Movie Ticket Pricer\n",
    "\n",
    "Let's write a program to determine the price of a movie ticket based on age.\n",
    "\n",
    "1.  Ask the user for their age using `input()` and convert it to an integer.\n",
    "2.  Use `if`, `elif`, and `else` to set the ticket price:\n",
    "    *   If age is less than 5, the ticket is free ($0).\n",
    "    *   If age is between 5 and 12 (inclusive of both 5 and 12), the ticket is $5.\n",
    "    *   If age is 13 or older, the ticket is $10.\n",
    "3.  Print the calculated ticket price. For example: \"Your ticket price is $5.\""
   ]
  },
  {
   "cell_type": "code",
   "execution_count": null,
   "id": "movie-pricer-challenge",
   "metadata": {},
   "outputs": [],
   "source": [
    "# 1. Get user's age\n",
    "age_str = input(\"Please enter your age: \")\n",
    "age = int(age_str)\n",
    "\n",
    "ticket_price = 0 # We can set a default or calculate it in the if/else\n",
    "\n",
    "# 2. Determine ticket price using if/elif/else\n",
    "if age < ...: # YOUR CODE HERE: Condition for age less than 5 (e.g., age < 5)\n",
    "    ticket_price = ... # YOUR CODE HERE: Set price for under 5\n",
    "elif age <= ...: # YOUR CODE HERE: Condition for age 12 or less (given it's not < 5 from the above 'if')\n",
    "    ticket_price = ... # YOUR CODE HERE: Set price for 5-12 year olds\n",
    "else: # This covers all other ages (13 and older)\n",
    "    ticket_price = ... # YOUR CODE HERE: Set price for 13 and older\n",
    "\n",
    "# 3. Print the ticket price\n",
    "print(\"Your ticket price is $\" + str(ticket_price) + \".\")"
   ]
  },
  {
   "cell_type": "markdown",
   "id": "lists-intro",
   "metadata": {},
   "source": [
    "## 🐍 Organizing Information: Introduction to Lists\n",
    "\n",
    "So far, our variables have stored one piece of information at a time (one number, one string, one Boolean).\n",
    "But what if you want to store *multiple* pieces of information together? For example:\n",
    "*   A list of your favorite foods.\n",
    "*   The names of students in a class.\n",
    "*   A to-do list for the day.\n",
    "\n",
    "Python has a very handy data type for this called a **list**. A list is an ordered collection of items. You can put almost anything in a list: numbers, strings, Booleans, and even other lists!\n",
    "\n",
    "### Creating Lists\n",
    "You create a list by putting items inside square brackets `[]`, separated by commas."
   ]
  },
  {
   "cell_type": "code",
   "execution_count": null,
   "id": "list-creation-examples",
   "metadata": {},
   "outputs": [],
   "source": [
    "# An empty list\n",
    "empty_list = []\n",
    "print(\"This is an empty list:\", empty_list)\n",
    "\n",
    "# A list of numbers\n",
    "scores = [90, 85, 92, 78, 100]\n",
    "print(\"A list of scores:\", scores)\n",
    "\n",
    "# A list of strings (names)\n",
    "friends = [\"Alice\", \"Bob\", \"Charlie\"]\n",
    "print(\"A list of friends:\", friends)\n",
    "\n",
    "# A list with mixed data types (though usually you'll keep types consistent)\n",
    "mixed_stuff = [\"Python\", 3.14, True, 42]\n",
    "print(\"A mixed list:\", mixed_stuff)"
   ]
  },
  {
   "cell_type": "markdown",
   "id": "python-tool-dot-notation",
   "metadata": {},
   "source": [
    "### 🐍 Python Tool: New Syntax Alert - Using Methods with `.`\n",
    "\n",
    "You're about to see a new way to use functions with certain types of data, like lists. \n",
    "\n",
    "Some values in Python (we call them **objects**) come with their own set of built-in tools. These tools are functions that specifically belong to that object, and we call them **methods**.\n",
    "\n",
    "To use a method, you type the variable name, then a dot `.`, then the method name, followed by parentheses `()` (which might contain arguments, just like regular functions).\n",
    "\n",
    "**Example:** `my_list.append(\"new_item\")`\n",
    "\n",
    "Here, `my_list` is the object (our list), and `append()` is a method that belongs to lists. It adds a new item to that specific list.\n",
    "\n",
    "We'll learn much more about objects and methods later in your programming journey. For now, just recognize this `variable.method()` pattern when you see it with lists and other data types we'll encounter."
   ]
  },
  {
   "cell_type": "markdown",
   "id": "list-append-intro",
   "metadata": {},
   "source": [
    "### Adding Items to a List: `.append()`\n",
    "\n",
    "Often, you'll start with an empty list or a list with a few items, and then you'll want to add more items to it. The most common way to add an item to the *end* of a list is using the `.append()` method."
   ]
  },
  {
   "cell_type": "code",
   "execution_count": null,
   "id": "list-append-example",
   "metadata": {},
   "outputs": [],
   "source": [
    "groceries = [\"milk\", \"eggs\"]\n",
    "print(\"Initial grocery list:\", groceries)\n",
    "\n",
    "# Let's add bread\n",
    "groceries.append(\"bread\")\n",
    "print(\"After adding bread:\", groceries)\n",
    "\n",
    "# And some cheese\n",
    "groceries.append(\"cheese\")\n",
    "print(\"After adding cheese:\", groceries)"
   ]
  },
  {
   "cell_type": "markdown",
   "id": "list-len-intro",
   "metadata": {},
   "source": [
    "### Finding the Length of a List: `len()`\n",
    "\n",
    "To find out how many items are in a list, you can use the built-in `len()` function (just like you might have used it for strings, if you've encountered that!)."
   ]
  },
  {
   "cell_type": "code",
   "execution_count": null,
   "id": "list-len-example",
   "metadata": {},
   "outputs": [],
   "source": [
    "tasks = [\"Wake up\", \"Eat breakfast\", \"Learn Python\", \"Go to bed\"]\n",
    "number_of_tasks = len(tasks)\n",
    "print(\"I have\", number_of_tasks, \"tasks today.\")\n",
    "\n",
    "empty_shopping_cart = []\n",
    "items_in_cart = len(empty_shopping_cart)\n",
    "print(\"Items in empty cart:\", items_in_cart)"
   ]
  },
  {
   "cell_type": "markdown",
   "id": "mini-challenge-favorite-things",
   "metadata": {},
   "source": [
    "### 🎯 Mini-Challenge: My Favorite Things\n",
    "\n",
    "Let's create a list of your favorite things!\n",
    "\n",
    "1.  Create an empty list called `favorite_things`.\n",
    "2.  Use `input()` to ask the user for three of their favorite things. Ask for them one at a time.\n",
    "3.  For each thing the user enters, use the `.append()` method to add it to your `favorite_things` list.\n",
    "4.  After adding all three, print the entire `favorite_things` list.\n",
    "5.  Then, print a message saying how many favorite things are in the list, using `len()`."
   ]
  },
  {
   "cell_type": "code",
   "execution_count": null,
   "id": "favorite-things-challenge",
   "metadata": {},
   "outputs": [],
   "source": [
    "# 1. Create an empty list\n",
    "favorite_things = []\n",
    "\n",
    "# 2. & 3. Ask for three favorite things and append them\n",
    "thing1 = input(\"What's one of your favorite things? \") # We get the first input for you\n",
    "favorite_things.append(...) # YOUR CODE HERE: append thing1 to the favorite_things list\n",
    "\n",
    "thing2 = input(\"What's another favorite thing? \")\n",
    "# YOUR CODE HERE: append thing2 to the favorite_things list\n",
    "\n",
    "thing3 = input(\"And one more favorite thing? \") # We get the third input for you\n",
    "# YOUR CODE HERE: append thing3 to the favorite_things list\n",
    "\n",
    "# 4. Print the list\n",
    "print(\"Here are your favorite things:\", favorite_things)\n",
    "\n",
    "# 5. Print the number of items\n",
    "count_of_favorites = ... # YOUR CODE HERE: use len() to get the number of items\n",
    "print(\"You have\", count_of_favorites, \"favorite things in your list!\")"
   ]
  },
  {
   "cell_type": "markdown",
   "id": "notebook-d-summary",
   "metadata": {},
   "source": [
    "## 🎉 Part 4 Wrap-up & What's Next! 🎉\n",
    "\n",
    "Fantastic work! You've learned how to make your Python programs much more dynamic and intelligent.\n",
    "\n",
    "**Here's a recap of what you learned:**\n",
    "*   **Boolean values** (`True` and `False`) are the foundation of decision-making.\n",
    "*   **Comparison operators** (`==`, `!=`, `>`, `<`, `>=`, `<=`) help you create Boolean conditions by comparing values.\n",
    "*   **Conditional statements** (`if`, `elif`, `else`) allow your code to execute different blocks based on whether conditions are true or false.\n",
    "*   **Lists** (`[]`) are used to store ordered collections of items.\n",
    "*   You can add items to the end of a list using the `.append()` **method**.\n",
    "*   You can find out how many items are in a list using the `len()` function.\n",
    "\n",
    "**Key Takeaways:**\n",
    "*   Conditional logic is essential for creating programs that can react to different inputs and situations.\n",
    "*   Lists are incredibly versatile for organizing and managing multiple pieces of data.\n",
    "*   Combining conditionals and lists (which we'll do more of soon!) opens up a huge range of possibilities for what your programs can do.\n",
    "\n",
    "### Next Up: Notebook 5: The Caesar Cipher 🕵️‍♀️\n",
    "\n",
    "In our next notebook, we'll dive into a fun and classic coding problem: implementing the Caesar Cipher! This will be a great way to apply your new knowledge of decisions and start working more with text (strings) and loops. Get ready to encode and decode secret messages!\n",
    "\n",
    "Keep practicing with `if` statements and lists. Try creating your own small programs that make decisions or manage collections of items!"
   ]
  }
 ],
 "metadata": {
  "kernelspec": {
   "display_name": "paps-venv",
   "language": "python",
   "name": "python3"
  },
  "language_info": {
   "codemirror_mode": {
    "name": "ipython",
    "version": 3
   },
   "file_extension": ".py",
   "mimetype": "text/x-python",
   "name": "python",
   "nbconvert_exporter": "python",
   "pygments_lexer": "ipython3",
   "version": "3.10.12"
  }
 },
 "nbformat": 4,
 "nbformat_minor": 5
}
