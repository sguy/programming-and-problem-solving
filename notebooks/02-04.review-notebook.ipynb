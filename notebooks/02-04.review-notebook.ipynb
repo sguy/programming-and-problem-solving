{
 "cells": [
  {
   "cell_type": "markdown",
   "id": "0",
   "metadata": {},
   "source": [
    "# Stop and Review: Notebooks 02-04 📝\n",
    "\n",
    "Great work on making it through the first few notebooks! This is a special \"review\" notebook designed to help you pause, practice, and solidify the key concepts you've learned so far. We'll mix quick questions with fun mini-challenges to make sure you're feeling confident before we move on.\n",
    "\n",
    "\n",
    "## Topics Covered\n",
    "\n",
    "This review covers the foundational skills from the following notebooks:\n",
    "\n",
    "*   [Notebook 2: First Steps with Python](https://colab.research.google.com/github/sguy/programming-and-problem-solving/blob/main/notebooks/02-first-steps-with-python.ipynb): Variables, basic data types (`string`, `int`), the `print()` function, and reading error messages.\n",
    "*   [Notebook 3: Basic Calculations](https://colab.research.google.com/github/sguy/programming-and-problem-solving/blob/main/notebooks/03-basic-calculations.ipynb): Arithmetic operators (`+`, `-`, `*`, `/`), the exponent operator (`**`), and order of operations.\n",
    "*   [Notebook 4: Interactive Programs](https://colab.research.google.com/github/sguy/programming-and-problem-solving/blob/main/notebooks/04-interactive-programs.ipynb): Getting user input with `input()`, string concatenation, and converting data types with `int()` and `float()`.\n",
    "\n",
    "**Estimated Time:** 45-60 minutes\n",
    "\n",
    "Let's get started!\n",
    "\n",
    "[Return to Table of Contents](https://colab.research.google.com/github/sguy/programming-and-problem-solving/blob/main/notebooks/table-of-contents.ipynb)"
   ]
  },
  {
   "cell_type": "markdown",
   "id": "1",
   "metadata": {},
   "source": [
    "## ✅ Check Your Understanding\n",
    "\n",
    "Let's start with some quick questions to test your memory and understanding of the key concepts."
   ]
  },
  {
   "cell_type": "markdown",
   "id": "2",
   "metadata": {},
   "source": [
    "**Question 1:** After running `message = \"Hello, world!\"` what is the data type of the `message` variable?\n",
    "\n",
    "<details>\n",
    "  <summary>Click to see the answer</summary>\n",
    "    \n",
    "  **Answer:** It is a **string**. The quotation marks `\"\"` tell Python to treat the content as text.\n",
    "</details>"
   ]
  },
  {
   "cell_type": "markdown",
   "id": "3",
   "metadata": {},
   "source": [
    "**Question 2:** What will the following code print?\n",
    "```python\n",
    "item_count = 5\n",
    "item_count = item_count + 2\n",
    "print(item_count)\n",
    "```\n",
    "\n",
    "<details>\n",
    "  <summary>Click to see the answer</summary>\n",
    "    \n",
    "  **Answer:** It will print `7`. The variable `item_count` is first assigned the value `5`, and then it is updated to be its old value (`5`) plus `2`.\n",
    "</details>"
   ]
  },
  {
   "cell_type": "markdown",
   "id": "4",
   "metadata": {},
   "source": [
    "**Question 3:** Which of the following is an **invalid** Python variable name: `user_score`, `_total`, `3rd_place`, `score3`? Why?\n",
    "\n",
    "<details>\n",
    "  <summary>Click to see the answer</summary>\n",
    "    \n",
    "  **Answer:** `3rd_place` is invalid because variable names cannot start with a number.\n",
    "</details>"
   ]
  },
  {
   "cell_type": "markdown",
   "id": "5",
   "metadata": {},
   "source": [
    "**Question 4:** What is the key difference between the number `123` and the string `\"123\"` in Python?\n",
    "\n",
    "<details>\n",
    "  <summary>Click to see the answer</summary>\n",
    "    \n",
    "  **Answer:** `123` is a number (an `int`) that can be used for mathematical calculations. `\"123\"` is a string (text) and cannot be used directly in math operations; it's treated as a sequence of characters.\n",
    "</details>"
   ]
  },
  {
   "cell_type": "markdown",
   "id": "6",
   "metadata": {},
   "source": [
    "**Question 5:** What is the result of the calculation `10 + 3 * 5`? Why?\n",
    "\n",
    "<details>\n",
    "  <summary>Click to see the answer</summary>\n",
    "    \n",
    "  **Answer:** The result is `25`. Because of the order of operations (PEMDAS/BODMAS), multiplication (`*`) is performed before addition (`+`). So, Python calculates `3 * 5` first (which is 15), and then calculates `10 + 15`.\n",
    "</details>"
   ]
  },
  {
   "cell_type": "markdown",
   "id": "7",
   "metadata": {},
   "source": [
    "**Question 6:** How would you write the mathematical expression for \"the square root of 81\" in Python using the `**` operator?\n",
    "\n",
    "<details>\n",
    "  <summary>Click to see the answer</summary>\n",
    "    \n",
    "  **Answer:** `81**0.5`. Raising a number to the power of 0.5 is the same as taking its square root.\n",
    "</details>"
   ]
  },
  {
   "cell_type": "markdown",
   "id": "8",
   "metadata": {},
   "source": [
    "**Question 7:** What is the purpose of using parentheses `()` in a mathematical formula in Python?\n",
    "\n",
    "<details>\n",
    "  <summary>Click to see the answer</summary>\n",
    "    \n",
    "  **Answer:** Parentheses are used to control the order of operations. Any calculation inside parentheses is performed first, before the operations outside of them.\n",
    "</details>"
   ]
  },
  {
   "cell_type": "markdown",
   "id": "9",
   "metadata": {},
   "source": [
    "**Question 8:** What is the output of the following code?\n",
    "```python\n",
    "num1 = \"5\"\n",
    "num2 = \"3\"\n",
    "print(num1 + num2)\n",
    "```\n",
    "\n",
    "<details>\n",
    "  <summary>Click to see the answer</summary>\n",
    "    \n",
    "  **Answer:** The output is `\"53\"`. When the `+` operator is used with two strings, it performs string concatenation (joining them together), not mathematical addition.\n",
    "</details>"
   ]
  },
  {
   "cell_type": "markdown",
   "id": "10",
   "metadata": {},
   "source": [
    "**Question 9:** If a user enters `42` at an `input()` prompt, which function (`int()` or `float()`) would you use to convert it to a whole number for calculations?\n",
    "\n",
    "<details>\n",
    "  <summary>Click to see the answer</summary>\n",
    "    \n",
    "  **Answer:** You would use the `int()` function to convert the string `\"42\"` into the integer `42`.\n",
    "</details>"
   ]
  },
  {
   "cell_type": "markdown",
   "id": "11",
   "metadata": {},
   "source": [
    "**Question 10:** What is the most likely error you would get if you tried to run the code `print(\"Hello)` (notice the missing quote)?\n",
    "\n",
    "<details>\n",
    "  <summary>Click to see the answer</summary>\n",
    "    \n",
    "  **Answer:** You would get a `SyntaxError`. Specifically, it would likely be `EOL while scanning string literal`, which means Python reached the End Of Line (EOL) while it was still looking for the closing quote of the string.\n",
    "</details>"
   ]
  },
  {
   "cell_type": "markdown",
   "id": "12",
   "metadata": {},
   "source": [
    "## 🎯 Mini-Challenges\n",
    "\n",
    "Now it's time to apply what you've learned by writing some code. These challenges will require you to combine skills from different notebooks."
   ]
  },
  {
   "cell_type": "markdown",
   "id": "13",
   "metadata": {},
   "source": [
    "### Mini-Challenge 1: Mad Libs Story Creator\n",
    "\n",
    "Let's create a simple Mad Libs-style story! Your program should ask the user for a few different words and then use their answers to build and print a funny sentence.\n",
    "\n",
    "**Your program should:**\n",
    "1. Ask the user to enter an adjective (e.g., \"silly\", \"blue\").\n",
    "2. Ask the user to enter a noun (e.g., \"cat\", \"rock\").\n",
    "3. Ask the user to enter a verb (e.g., \"jumped\", \"slept\").\n",
    "4. Combine these words into a sentence using string concatenation and print the result. For example: `\"The [adjective] [noun] [verb] over the lazy dog.\"`"
   ]
  },
  {
   "cell_type": "markdown",
   "id": "14",
   "metadata": {},
   "source": [
    "<details>\n",
    "  <summary>Hint: Getting user input</summary>\n",
    "\n",
    "  You'll need to use the `input()` function three times, once for each word. Store each word in its own variable, like `adjective = input(...)`.\n",
    "</details>\n",
    "<details>\n",
    "  <summary>Hint: Combining the words</summary>\n",
    "\n",
    "  Remember to use the `+` operator to join the strings together. Don't forget to add spaces `\" \"` between the variables to make the sentence readable!\n",
    "</details>"
   ]
  },
  {
   "cell_type": "code",
   "execution_count": null,
   "id": "15",
   "metadata": {},
   "outputs": [],
   "source": [
    "# YOUR CODE HERE"
   ]
  },
  {
   "cell_type": "markdown",
   "id": "16",
   "metadata": {},
   "source": [
    "<details>\n",
    "  <summary>Click to see a possible solution</summary>\n",
    "\n",
    "  ```python\n",
    "  # 1. Get the words from the user\n",
    "  adjective = input(\"Enter an adjective: \")\n",
    "  noun = input(\"Enter a noun: \")\n",
    "  verb = input(\"Enter a past-tense verb: \")\n",
    "\n",
    "  # 2. Create the story using string concatenation\n",
    "  story = \"The \" + adjective + \" \" + noun + \" \" + verb + \" over the lazy dog.\"\n",
    "\n",
    "  # 3. Print the final story\n",
    "  print(story)\n",
    "  ```\n",
    "</details>"
   ]
  },
  {
   "cell_type": "markdown",
   "id": "17",
   "metadata": {},
   "source": [
    "### Mini-Challenge 2: Simple Tip Calculator\n",
    "\n",
    "Write a program that calculates a tip and the total bill.\n",
    "\n",
    "**Your program should:**\n",
    "1. Ask the user for the total cost of a meal (e.g., `55.25`).\n",
    "2. Ask the user for the tip percentage they want to leave (e.g., `15` for 15%).\n",
    "3. Calculate the tip amount.\n",
    "4. Calculate the total bill (meal cost + tip amount).\n",
    "5. Print the tip amount and the total bill."
   ]
  },
  {
   "cell_type": "markdown",
   "id": "18",
   "metadata": {},
   "source": [
    "<details>\n",
    "  <summary>Hint: Converting input</summary>\n",
    "\n",
    "  The meal cost and tip percentage will be used in calculations, so they need to be numbers. Since money can have decimals, `float()` is a good choice for converting the input.\n",
    "</details>\n",
    "<details>\n",
    "  <summary>Hint: Calculating the percentage</summary>\n",
    "\n",
    "  To calculate the tip, you'll need to convert the percentage the user enters (like `15`) into its decimal form (`0.15`). You can do this by dividing the user's input by 100.\n",
    "</details>"
   ]
  },
  {
   "cell_type": "code",
   "execution_count": null,
   "id": "19",
   "metadata": {},
   "outputs": [],
   "source": [
    "# YOUR CODE HERE"
   ]
  },
  {
   "cell_type": "markdown",
   "id": "20",
   "metadata": {},
   "source": [
    "<details>\n",
    "  <summary>Click to see a possible solution</summary>\n",
    "\n",
    "  ```python\n",
    "  # 1. Get input from the user and convert to float\n",
    "  meal_cost = float(input(\"Enter the cost of the meal: \"))\n",
    "  tip_percent = float(input(\"Enter the tip percentage (e.g., 15): \"))\n",
    "\n",
    "  # 2. Calculate the tip amount\n",
    "  # Remember to convert the percentage to a decimal (e.g., 15 -> 0.15)\n",
    "  tip_amount = meal_cost * (tip_percent / 100)\n",
    "\n",
    "  # 3. Calculate the total bill\n",
    "  total_bill = meal_cost + tip_amount\n",
    "\n",
    "  # 4. Print the results\n",
    "  print(\"Tip amount: \", tip_amount)\n",
    "  print(\"Total bill: \", total_bill)\n",
    "  ```\n",
    "</details>"
   ]
  },
  {
   "cell_type": "markdown",
   "id": "21",
   "metadata": {},
   "source": [
    "### Mini-Challenge 3: Rectangular Prism Diagonal\n",
    "\n",
    "For this challenge, you will **not** use user input. Instead, you'll use pre-defined variables to calculate the length of the diagonal that runs from one corner of a rectangular prism to the opposite corner.\n",
    "\n",
    "![Diagram of a rectangular prism with a diagonal line](https://raw.githubusercontent.com/sguy/programming-and-problem-solving/main/notebooks/images/rectangular-prism-corner-to-corner.svg)\n",
    "\n",
    "This is a classic problem-solving challenge. Can you figure out the formula on your own using a famous theorem?\n",
    "\n",
    "**Your task:**\n",
    "1. Use the variables `length`, `width`, and `height` provided in the code cell.\n",
    "2. Determine the formula and calculate the value of the corner-to-corner diagonal `d`.\n",
    "3. Print the final result."
   ]
  },
  {
   "cell_type": "markdown",
   "id": "22",
   "metadata": {},
   "source": [
    "<details>\n",
    "  <summary>Hint 1: What theorem should I use?</summary>\n",
    "\n",
    "  Think about the Pythagorean theorem: $a^2 + b^2 = c^2$. It's used to find the hypotenuse of a right-angled triangle.\n",
    "</details>\n",
    "<details>\n",
    "  <summary>Hint 2: How can I use that theorem here?</summary>\n",
    "\n",
    "  Imagine a right-angled triangle on the *base* of the prism. Its sides are the `length` and `width`. The hypotenuse of this triangle would be the diagonal across the base. You can calculate this first.\n",
    "</details>\n",
    "<details>\n",
    "  <summary>Hint 3: Putting it all together</summary>\n",
    "\n",
    "  Now, imagine a *second* right-angled triangle standing up inside the prism. Its sides are:\n",
    "  *   a: The diagonal of the base (which you just calculated).\n",
    "  *   b: The `height` of the prism.\n",
    "  *   c: The corner-to-corner diagonal you are trying to find!\n",
    "\n",
    "  Apply the Pythagorean theorem a second time to find the final answer.\n",
    "</details>"
   ]
  },
  {
   "cell_type": "code",
   "execution_count": null,
   "id": "23",
   "metadata": {},
   "outputs": [],
   "source": [
    "# Given dimensions of the rectangular prism\n",
    "length = 12\n",
    "width = 5\n",
    "height = 8\n",
    "\n",
    "# Calculate the diagonal 'd'\n",
    "diagonal = 0 # YOUR CODE HERE\n",
    "\n",
    "# Print the result\n",
    "print(\"The length of the diagonal is:\", diagonal)"
   ]
  },
  {
   "cell_type": "markdown",
   "id": "24",
   "metadata": {},
   "source": [
    "<details>\n",
    "  <summary>Click to see a possible solution</summary>\n",
    "\n",
    "  ```python\n",
    "  # Given dimensions of the rectangular prism\n",
    "  length = 12\n",
    "  width = 5\n",
    "  height = 8\n",
    "\n",
    "  # Calculate the diagonal 'd'\n",
    "  # Remember to use parentheses for order of operations and **0.5 for the square root.\n",
    "  diagonal = (length**2 + width**2 + height**2)**0.5\n",
    "\n",
    "  # Print the result\n",
    "  print(\"The length of the diagonal is:\", diagonal) # Expected output: 15.264...\n",
    "  ```\n",
    "</details>"
   ]
  },
  {
   "cell_type": "markdown",
   "id": "25",
   "metadata": {},
   "source": [
    "### Mini-Challenge 4: Age in Days Calculator\n",
    "\n",
    "Write a simple program that converts a person's age in years to their approximate age in days.\n",
    "\n",
    "**Your program should:**\n",
    "1. Ask the user for their age in years.\n",
    "2. Convert the input to an integer.\n",
    "3. Calculate their approximate age in days (assume every year has 365 days).\n",
    "4. Print a message with the result, like `\"You are approximately 9125 days old!\"`"
   ]
  },
  {
   "cell_type": "markdown",
   "id": "26",
   "metadata": {},
   "source": [
    "<details>\n",
    "  <summary>Hint: Choosing the right conversion function</summary>\n",
    "\n",
    "  Age is usually given in whole numbers. Which function, `int()` or `float()`, is best for converting the user's input?\n",
    "</details>\n",
    "<details>\n",
    "  <summary>Hint: The calculation</summary>\n",
    "\n",
    "  The calculation is a simple multiplication. You can create a variable `days_in_year = 365` to make your code more readable.\n",
    "</details>"
   ]
  },
  {
   "cell_type": "code",
   "execution_count": null,
   "id": "27",
   "metadata": {},
   "outputs": [],
   "source": [
    "# YOUR CODE HERE"
   ]
  },
  {
   "cell_type": "markdown",
   "id": "28",
   "metadata": {},
   "source": [
    "<details>\n",
    "  <summary>Click to see a possible solution</summary>\n",
    "\n",
    "  ```python\n",
    "  # 1. Get the user's age and convert to an integer\n",
    "  age_in_years = int(input(\"Enter your age in years: \"))\n",
    "\n",
    "  # 2. Calculate age in days\n",
    "  days_in_year = 365\n",
    "  age_in_days = age_in_years * days_in_year\n",
    "\n",
    "  # 3. Print the result\n",
    "  print(\"You are approximately\", age_in_days, \"days old!\")\n",
    "  ```\n",
    "</details>"
   ]
  },
  {
   "cell_type": "markdown",
   "id": "29",
   "metadata": {},
   "source": [
    "### Mini-Challenge 5: Stuffed Animal Name Generator\n",
    "\n",
    "Let's make a fun name generator! This program will create a unique name for a new stuffed animal based on the user's input.\n",
    "\n",
    "**Your program should:**\n",
    "1. Ask the user for their favorite color.\n",
    "2. Ask the user for their favorite animal.\n",
    "3. Combine these to create a stuffed animal name. The format should be `\"[Color] [Animal]\"`, e.g., if the user enters \"Blue\" and \"Tiger\", the name is \"Blue Tiger\").\n",
    "4. Print the final name in a sentence, like `\"Your new stuffed animal's name is Blue Tiger!\"`"
   ]
  },
  {
   "cell_type": "markdown",
   "id": "30",
   "metadata": {},
   "source": [
    "<details>\n",
    "  <summary>Hint: Storing the name</summary>\n",
    "\n",
    "  After getting the color and animal from the user, combine them into a new variable, like `stuffed_animal_name = color + \" \" + animal`. Don't forget the space in the middle!\n",
    "</details>\n",
    "<details>\n",
    "  <summary>Hint: Printing the final message</summary>\n",
    "\n",
    "  You can use multiple `+` operators in your `print()` statement to combine the introductory text with your new `stuffed_animal_name` variable and the final exclamation mark.\n",
    "</details>"
   ]
  },
  {
   "cell_type": "code",
   "execution_count": null,
   "id": "31",
   "metadata": {},
   "outputs": [],
   "source": [
    "# YOUR CODE HERE"
   ]
  },
  {
   "cell_type": "markdown",
   "id": "32",
   "metadata": {},
   "source": [
    "<details>\n",
    "  <summary>Click to see a possible solution</summary>\n",
    "\n",
    "  ```python\n",
    "  # 1. Get input from the user\n",
    "  color = input(\"What is your favorite color? \")\n",
    "  animal = input(\"What is your favorite animal? \")\n",
    "\n",
    "  # 2. Combine the words to create the name\n",
    "  stuffed_animal_name = color + \" \" + animal\n",
    "\n",
    "  # 3. Print the final result\n",
    "  print(\"Your new stuffed animal's name is\", stuffed_animal_name + \"!\")\n",
    "  ```\n",
    "</details>"
   ]
  },
  {
   "cell_type": "markdown",
   "id": "33",
   "metadata": {},
   "source": [
    "## 🧠 A Quick Word on Problem-Solving\n",
    "\n",
    "As you worked through these challenges, you were practicing some key problem-solving skills without even realizing it!\n",
    "\n",
    "1.  **Breaking Down the Problem:** Notice how each challenge description was a numbered list of steps? That's the first thing a programmer does: break a big problem into smaller, manageable pieces. Instead of thinking \"I need to make a tip calculator,\" you think, \"First, I need to get the meal cost. Second, I need to get the tip percentage. Third, I need to do the math...\" and so on.\n",
    "\n",
    "2.  **The Input-Process-Output (IPO) Pattern:** Many of the programs you wrote follow a fundamental pattern:\n",
    "    *   **Input:** Get all the necessary data from the user (`input()`).\n",
    "    *   **Process:** Perform calculations or manipulate the data (arithmetic, string concatenation).\n",
    "    *   **Output:** Display the result to the user (`print()`).\n",
    "\n",
    "Thinking about problems in this IPO structure can make it much clearer what your code needs to do.\n",
    "\n",
    "Keep these strategies in mind. They are the foundation of tackling any coding challenge, no matter how big or small!"
   ]
  },
  {
   "cell_type": "markdown",
   "id": "34",
   "metadata": {},
   "source": [
    "## 🎉 Review Complete!\n",
    "\n",
    "Congratulations on completing the review! You've practiced using variables, performing calculations, and creating interactive programs. These are the essential building blocks for all the exciting things we'll do next.\n",
    "\n",
    "### Meta-Cognitive Question\n",
    "\n",
    "Think about the challenges you just completed. Which one felt the most difficult? Which one felt the easiest? What was the key piece of information or the \"aha!\" moment that helped you solve the hardest one? Recognizing what you find easy and what you find challenging is a great way to focus your learning.\n",
    "\n",
    "### Next Up\n",
    "\n",
    "Now that you have a solid foundation, we're ready to learn how to make our code more organized and reusable. In the next notebook, we'll dive into **functions**!\n",
    "\n",
    "[Return to Table of Contents](https://colab.research.google.com/github/sguy/programming-and-problem-solving/blob/main/notebooks/table-of-contents.ipynb)"
   ]
  }
 ],
 "metadata": {
  "kernelspec": {
   "display_name": "Python 3 (ipykernel)",
   "language": "python",
   "name": "python3"
  },
  "language_info": {
   "codemirror_mode": {
    "name": "ipython",
    "version": 3
   },
   "file_extension": ".py",
   "mimetype": "text/x-python",
   "name": "python",
   "nbconvert_exporter": "python",
   "pygments_lexer": "ipython3",
   "version": "3.13.5"
  }
 },
 "nbformat": 4,
 "nbformat_minor": 5
}
