{
 "cells": [
  {
   "cell_type": "markdown",
   "id": "0",
   "metadata": {},
   "source": [
    "# Notebook 5: Reusable Code with Functions 🛠️\n",
    "\n",
    "Welcome to our fifth Python notebook! In the last lesson, you learned how to make your programs interactive by getting input from the user. Now, we'll learn how to make our code more organized and efficient.\n",
    "\n",
    "In this notebook, we'll explore one of the most powerful ideas in programming: **functions**.\n",
    "\n",
    "> \"Code is read much more often than it is written.\" — [Guido van Rossum](https://en.wikipedia.org/wiki/Guido_van_Rossum)\n",
    "\n",
    "This insight from the creator of Python is a core reason why we use functions. Since our code will be read by others (and our future selves!) many times, it's crucial to make it as clear and understandable as possible. Functions are one of the best tools we have for organizing our thoughts and making our code readable.\n",
    "\n",
    "## Learning Objectives\n",
    "*   Define your own functions using the `def` keyword.\n",
    "*   Pass information to functions using **parameters**.\n",
    "*   Get results back from functions using the `return` keyword.\n",
    "*   Apply the DRY (Don't Repeat Yourself) principle by writing reusable code.\n",
    "*   Combine simple functions to solve complex problems using **composition**.\n",
    "\n",
    "**Estimated Time:** 30-40 minutes\n",
    "\n",
    "## Prerequisites/Review\n",
    "*   Notebook 2: First Steps with Python (Variables and Data Types)\n",
    "*   Notebook 3: Basic Calculations (Basic Arithmetic)\n",
    "*   Notebook 4: Interactive Programs (Getting User Input with `input()`)\n",
    "\n",
    "Let's learn how to write smarter, not harder!"
   ]
  },
  {
   "cell_type": "markdown",
   "id": "1",
   "metadata": {},
   "source": [
    "## 🐍 New Concept: Functions\n",
    "\n",
    "Imagine you need to calculate the area of a square many times in your program. You could copy and paste the calculation code (`side * side`) everywhere, but that's repetitive and if you make a mistake in one place, you have to fix it everywhere!\n",
    "\n",
    "A **function** is a named block of code that performs a specific task. You can \"call\" a function by its name whenever you need to perform that task.\n",
    "\n",
    "**Why use functions?**\n",
    "*   **DRY (Don't Repeat Yourself):** Write the code once, use it many times.\n",
    "*   **Organization:** Break down your program into smaller, manageable pieces.\n",
    "*   **Readability:** Makes your code easier to understand because complex tasks are hidden inside well-named functions.\n",
    "*   **Reusability:** You can use the same function in different parts of your program, or even in different programs."
   ]
  },
  {
   "cell_type": "markdown",
   "id": "2",
   "metadata": {},
   "source": [
    "### Anatomy of a Python Function\n",
    "\n",
    "Here's the basic structure:\n",
    "\n",
    "```python\n",
    "def function_name(parameter1, parameter2):\n",
    "    # Code to perform the task goes here (this is the function body)\n",
    "    # This code must be indented!\n",
    "    result = parameter1 + parameter2 # Example operation\n",
    "    return result # Optional: sends a value back to where the function was called\n",
    "```\n",
    "\n",
    "*   `def`: The keyword that tells Python you're defining a function.\n",
    "*   `function_name`: You choose this! Follow the same naming rules as variables (e.g., `snake_case`).\n",
    "*   `parameter1, parameter2`: These are special variables that act as placeholders for the values (called **arguments**) you'll give to the function when you call it. A function can have zero, one, or many parameters.\n",
    "*   `:`: A colon marks the end of the function definition line.\n",
    "*   **Indented Code Block:** The lines of code *inside* the function that do the work. They **must** be indented (usually 4 spaces).\n",
    "*   `return result` (Optional): The `return` keyword sends a value back from the function to the part of your code that called it. If a function doesn't have a `return` statement, it automatically returns a special value `None`."
   ]
  },
  {
   "cell_type": "markdown",
   "id": "3",
   "metadata": {},
   "source": [
    "### 💡 Tip: Parameters vs. Arguments\n",
    "\n",
    "You'll often hear the words **parameter** and **argument** used interchangeably, but they have a subtle difference:\n",
    "*   A **parameter** is the variable listed inside the parentheses in the function *definition*. It's a placeholder (e.g., `side_length` in `def calculate_square_area(side_length):`).\n",
    "*   An **argument** is the actual *value* that is sent to the function when it is *called*. It's the concrete piece of data (e.g., the number `5` in `calculate_square_area(5)`)."
   ]
  },
  {
   "cell_type": "markdown",
   "id": "4",
   "metadata": {},
   "source": [
    "### ✅ Check Your Understanding:\n",
    "\n",
    "Consider the following code:\n",
    "```python\n",
    "def greet(user_name):\n",
    "    print(\"Hello, \" + user_name)\n",
    "\n",
    "greet(\"Alice\")\n",
    "```\n",
    "In the code above, which statement is correct?\n",
    "\n",
    "a) `user_name` is the argument, and `\"Alice\"` is the parameter.\n",
    "b) `user_name` is the parameter, and `\"Alice\"` is the argument.\n",
    "c) Both `user_name` and `\"Alice\"` are arguments.\n",
    "d) Both `user_name` and `\"Alice\"` are parameters.\n",
    "\n",
    "<details>\n",
    "  <summary>Click to see the answer</summary>\n",
    "  \n",
    "  **Answer:** b) `user_name` is the **parameter** (the placeholder in the function definition), and `\"Alice\"` is the **argument** (the actual value passed to the function when it's called).\n",
    "</details>"
   ]
  },
  {
   "cell_type": "markdown",
   "id": "5",
   "metadata": {},
   "source": [
    "### ⚠️ Heads Up! Functions in Python vs. Functions in Math\n",
    "\n",
    "You might have noticed that we're using another word, \"function,\" that you've probably seen before in math class. Just like we saw with the word \"variable,\" the term \"function\" has a very similar, but subtly different, meaning in programming. It's helpful to understand the comparison.\n",
    "\n",
    "**Similarities:**\n",
    "*   Both take inputs (which we call **parameters** in Python and often see as variables like `x` in math) and produce an output (using the `return` keyword in Python).\n",
    "*   The idea of mapping an input to a specific output is the same. The mathematical function $$f(x) = x^2$$ is very similar to the Python function:\n",
    "    ```python\n",
    "    def f(x):\n",
    "        return x**2\n",
    "    ```\n",
    "\n",
    "**Key Differences:**\n",
    "*   **Side Effects:** A mathematical function is \"pure\"—its only job is to return a value based on its inputs. A Python function can do much more! It can have **side effects**, like printing to the screen, saving a file, or asking the user for input. The `print()` function is a perfect example: its main job isn't to return a value, but to cause something to appear on the screen.\n",
    "*   **State:** A mathematical function will always give you the same output for the same input. `f(5)` will always be `25`. A Python function's output can sometimes depend on things other than its direct inputs (like a global variable that might have changed).\n",
    "\n",
    "Thinking of Python functions as \"recipes\" or \"a set of instructions\" is often more accurate than thinking of them purely as mathematical functions. They are blocks of code that we can run on command, which might or might not return a value."
   ]
  },
  {
   "cell_type": "markdown",
   "id": "6",
   "metadata": {},
   "source": [
    "### Example: A Function to Calculate Square Area"
   ]
  },
  {
   "cell_type": "code",
   "execution_count": null,
   "id": "7",
   "metadata": {},
   "outputs": [],
   "source": [
    "# Define the function\n",
    "def calculate_square_area(side_length):\n",
    "    # Calculates the area of a square given its side length.\n",
    "    area = side_length * side_length\n",
    "    return area\n",
    "\n",
    "# Now, let's call (use) our function!\n",
    "square1_side = 5\n",
    "square1_area = calculate_square_area(square1_side) # We pass square1_side as the argument\n",
    "print(\"A square with side\", square1_side, \"has an area of\", square1_area, \".\")\n",
    "\n",
    "square2_side = 10\n",
    "square2_area = calculate_square_area(square2_side)\n",
    "print(\"A square with side\", square2_side, \"has an area of\", square2_area, \".\")"
   ]
  },
  {
   "cell_type": "markdown",
   "id": "8",
   "metadata": {},
   "source": [
    "### 🎯 Mini-Challenge: Function for Cube Volume\n",
    "\n",
    "Your task is to define a function called `calculate_cube_volume` that takes one parameter, `side`. Inside the function, calculate the volume (`side * side * side` or `side**3`) and `return` the result.\n",
    "\n",
    "After defining the function, test it by calling it with a side length and printing the result."
   ]
  },
  {
   "cell_type": "markdown",
   "id": "9",
   "metadata": {},
   "source": [
    "<details>\n",
    "  <summary>Hint: Remember the function structure</summary>\n",
    "  \n",
    "  Your function definition should start with `def calculate_cube_volume(side):`. Don't forget the colon at the end of the line and make sure the code inside the function is indented!\n",
    "</details>"
   ]
  },
  {
   "cell_type": "code",
   "execution_count": null,
   "id": "10",
   "metadata": {},
   "outputs": [],
   "source": [
    "# 1. Define the calculate_cube_volume function below.\n",
    "# It should take one parameter, `side`, and return the volume.\n",
    "\n",
    "# YOUR CODE HERE\n",
    "\n",
    "\n",
    "# 2. Test your function.\n",
    "# Call the function with a side length of 3.\n",
    "# Store the result in a variable.\n",
    "# Print a message like \"A cube with side 3 has a volume of 27 .\"\n",
    "\n",
    "# YOUR CODE HERE"
   ]
  },
  {
   "cell_type": "markdown",
   "id": "11",
   "metadata": {},
   "source": [
    "<details>\n",
    "  <summary>Click to see a possible solution</summary>\n",
    "\n",
    "  ```python\n",
    "  # 1. Define the function calculate_cube_volume that takes one parameter: side\n",
    "  def calculate_cube_volume(side):\n",
    "      # Calculates the volume of a cube given its side length.\n",
    "      volume = side ** 3 # Using the exponent operator is a great choice!\n",
    "      return volume\n",
    "\n",
    "  # 2. Test with a value (e.g., side = 3)\n",
    "  test_side = 3\n",
    "  test_volume = calculate_cube_volume(test_side)\n",
    "  print(\"A cube with side\", test_side, \"has a volume of\", test_volume, \".\") # Expected output: A cube with side 3 has a volume of 27 .\n",
    "  ```\n",
    "</details>"
   ]
  },
  {
   "cell_type": "markdown",
   "id": "12",
   "metadata": {},
   "source": [
    "### Different Kinds of Functions\n",
    "\n",
    "Not all functions look the same! They are flexible tools. Some functions take information in and give a value back, but others might just perform an action without returning anything, or they might not need any input to do their job. Let's look at a few common patterns."
   ]
  },
  {
   "cell_type": "markdown",
   "id": "13",
   "metadata": {},
   "source": [
    "#### 1. A function with input and a side effect (but no `return`)\n",
    "\n",
    "Some functions are designed to *do* something, like print a message, rather than to calculate and return a value. These functions have a **side effect** (the action they perform)."
   ]
  },
  {
   "cell_type": "code",
   "execution_count": null,
   "id": "14",
   "metadata": {},
   "outputs": [],
   "source": [
    "def greet_user(name):\n",
    "    # Takes a name and prints a greeting. This is a side effect.\n",
    "    print(\"Hello, \" + name + \"! Welcome.\")\n",
    "\n",
    "# Call the function. It will print the message directly.\n",
    "greet_user(\"Ada\")\n",
    "\n",
    "# What happens if we try to store the result?\n",
    "result = greet_user(\"Grace\")\n",
    "print(\"The function returned:\", result)"
   ]
  },
  {
   "cell_type": "markdown",
   "id": "15",
   "metadata": {},
   "source": [
    "Notice that when we tried to print the `result` of calling `greet_user(\"Grace\")`, it printed `None`. This is a special value in Python that represents \"nothing.\" If you don't explicitly use the `return` keyword in your function, it automatically returns `None` by default."
   ]
  },
  {
   "cell_type": "markdown",
   "id": "16",
   "metadata": {},
   "source": [
    "#### 2. A function with no input, but a `return` value\n",
    "\n",
    "Sometimes, a function's job is just to provide a value that might be complex to calculate or is a constant you want to give a name to. It doesn't need any input to do its job."
   ]
  },
  {
   "cell_type": "code",
   "execution_count": null,
   "id": "17",
   "metadata": {},
   "outputs": [],
   "source": [
    "def get_pi_value():\n",
    "    # This function takes no arguments and returns a constant value.\n",
    "    return 3.14159\n",
    "\n",
    "# Call the function and store its return value\n",
    "pi = get_pi_value()\n",
    "print(\"The value of pi is approximately:\", pi)\n",
    "\n",
    "# You can use it directly in calculations\n",
    "circle_radius = 5\n",
    "circle_area = get_pi_value() * (circle_radius ** 2)\n",
    "print(\"The area of the circle is:\", circle_area)"
   ]
  },
  {
   "cell_type": "markdown",
   "id": "18",
   "metadata": {},
   "source": [
    "#### 3. A function with no input and no `return` value\n",
    "\n",
    "Finally, some functions are just simple, repeatable actions that don't need any input and don't need to send a value back. They just perform a task."
   ]
  },
  {
   "cell_type": "code",
   "execution_count": null,
   "id": "19",
   "metadata": {},
   "outputs": [],
   "source": [
    "def display_menu():\n",
    "    # This function has a side effect (printing) and takes no arguments.\n",
    "    print(\"--- Main Menu ---\")\n",
    "    print(\"1. Start New Game\")\n",
    "    print(\"2. Load Game\")\n",
    "    print(\"3. Options\")\n",
    "    print(\"4. Exit\")\n",
    "\n",
    "# Call the function to display the menu\n",
    "display_menu()"
   ]
  },
  {
   "cell_type": "markdown",
   "id": "20",
   "metadata": {},
   "source": [
    "## 🐍 New Concept: Combining Functions and User Input\n",
    "\n",
    "Now that you know how to get user input and write functions, you can create tools to calculate properties for many different shapes! Let's combine what you learned in the last two notebooks."
   ]
  },
  {
   "cell_type": "markdown",
   "id": "21",
   "metadata": {},
   "source": [
    "### Example: Area of a Triangle\n",
    "The formula for the area of a triangle is $$Area = \\frac{base \\times height}{2}$$"
   ]
  },
  {
   "cell_type": "code",
   "execution_count": null,
   "id": "22",
   "metadata": {},
   "outputs": [],
   "source": [
    "def calculate_triangle_area(base, height):\n",
    "    # Calculates the area of a triangle given its base and height.\n",
    "    area = 0.5 * base * height\n",
    "    return area\n",
    "\n",
    "# --- Main Program ---\n",
    "\n",
    "# 1. Get input from the user\n",
    "print(\"Let's calculate the area of a triangle!\")\n",
    "tri_base_str = input(\"Enter the base of the triangle: \")\n",
    "tri_height_str = input(\"Enter the height of the triangle: \")\n",
    "\n",
    "# 2. Convert the string inputs to numbers\n",
    "tri_base_num = float(tri_base_str)\n",
    "tri_height_num = float(tri_height_str)\n",
    "\n",
    "# 3. Calculate the area by calling our function\n",
    "triangle_area_result = calculate_triangle_area(tri_base_num, tri_height_num)\n",
    "\n",
    "# 4. Print the final result\n",
    "print(\"A triangle with base\", tri_base_num, \"and height\", tri_height_num, \"has an area of\", triangle_area_result, \".\")"
   ]
  },
  {
   "cell_type": "markdown",
   "id": "23",
   "metadata": {},
   "source": [
    "## 🧩 Case Study: Building a Bigger Tool from Smaller Parts\n",
    "\n",
    "This is where functions truly start to shine. We've created a few simple, reliable tools (`calculate_square_area`, `calculate_triangle_area`). Now we can use those tools as building blocks to solve a more complex problem without starting from scratch.\n",
    "\n",
    "Let's calculate the surface area of a square pyramid. The **surface area** is the total area of all the faces of a 3D object. For our pyramid, that's the area of the square base plus the areas of the four triangular sides.\n",
    "\n",
    "The diagram below shows the pyramid's **net**, which is what it looks like if you unfold it. You can clearly see the one square and four triangles we need to measure.\n",
    "\n",
    "![A net of a square pyramid, showing a central square with a triangle attached to each side.](https://raw.githubusercontent.com/sguy/programming-and-problem-solving/refs/heads/main/notebooks/images/pyramid-net.svg)\n",
    "\n",
    "The formula is: $$Surface Area = Area_{base} + (4 \\times Area_{triangle})$$"
   ]
  },
  {
   "cell_type": "markdown",
   "id": "24",
   "metadata": {},
   "source": [
    "### The Hard Way: Without Reusing Functions\n",
    "\n",
    "Without our helper functions, we'd have to write out all the math in one go. It works, but notice how we're repeating the logic for area calculations that we've already solved elsewhere."
   ]
  },
  {
   "cell_type": "code",
   "execution_count": null,
   "id": "25",
   "metadata": {},
   "outputs": [],
   "source": [
    "# --- Main Program ---\n",
    "\n",
    "# 1. Define the dimensions of the pyramid\n",
    "# b = the side length of the square base\n",
    "# h = the slant height of the triangular faces\n",
    "pyramid_base_side = 6.0  # This is 'b'\n",
    "pyramid_slant_height = 5.0 # This is 'h'\n",
    "\n",
    "# 2. Calculate the area of the square base\n",
    "# The formula is b * b\n",
    "base_area = pyramid_base_side * pyramid_base_side\n",
    "print(\"Area of the square base:\", base_area)\n",
    "\n",
    "# 3. Calculate the area of ONE triangular face\n",
    "# The base of the triangle is the same as the pyramid's base side ('b')\n",
    "# The height of the triangle is the pyramid's slant height ('h')\n",
    "# The formula is 0.5 * b * h\n",
    "one_triangle_area = 0.5 * pyramid_base_side * pyramid_slant_height\n",
    "print(\"Area of one triangular face:\", one_triangle_area)\n",
    "\n",
    "# 4. Calculate the total surface area\n",
    "# It's the base area + 4 * the area of one triangle\n",
    "total_surface_area = base_area + (4 * one_triangle_area)\n",
    "\n",
    "print(\"---\")\n",
    "print(\"Total Surface Area of the Pyramid:\", total_surface_area)"
   ]
  },
  {
   "cell_type": "markdown",
   "id": "26",
   "metadata": {},
   "source": [
    "### 🎯 Mini-Challenge: The Smart Way with Functions\n",
    "\n",
    "That worked, but we had to rewrite the logic for calculating the area of a square and a triangle. We already have functions for that!\n",
    "\n",
    "Your task is to create a new, high-level function called `calculate_surface_area_of_pyramid`. This function should take two parameters: `base_side` and `slant_height`.\n",
    "\n",
    "**Inside your new function, you must call your existing helper functions to do the work.** Don't repeat the math! Assemble the final result from the results of those two functions.\n",
    "\n",
    "You will need to reuse:\n",
    "*   `calculate_square_area(side_length)` (from our earlier example)\n",
    "*   `calculate_triangle_area(base, height)` (which we defined just before this case study)"
   ]
  },
  {
   "cell_type": "markdown",
   "id": "27",
   "metadata": {},
   "source": [
    "<details>\n",
    "  <summary>Hint: Which functions should I call?</summary>\n",
    "  \n",
    "  Inside your new function, you'll need to call `calculate_square_area()` and `calculate_triangle_area()`. Think about what arguments you need to pass to each one to get the area of the base and the area of one triangular face.\n",
    "</details>\n",
    "\n",
    "<details>\n",
    "  <summary>Hint: How do I combine the results?</summary>\n",
    "  \n",
    "  Remember, the total surface area is the area of the square base plus the area of the **four** triangular faces. You'll need to use the results from your function calls to calculate this.\n",
    "</details>\n",
    "\n",
    "<details>\n",
    "  <summary>Hint: I'm stuck on the final formula.</summary>\n",
    "  \n",
    "  If you have the `base_area` and the `one_triangle_area`, the final calculation is: `total_area = base_area + (4 * one_triangle_area)`.\n",
    "</details>\n",
    "\n",
    "<details>\n",
    "  <summary>Hint: What should my function give back?</summary>\n",
    "  \n",
    "  Don't forget to use the `return` keyword at the end of your function to send your final calculated `total_area` back.\n",
    "</details>"
   ]
  },
  {
   "cell_type": "code",
   "execution_count": null,
   "id": "28",
   "metadata": {},
   "outputs": [],
   "source": [
    "# YOUR CODE HERE\n",
    "# Define the calculate_surface_area_of_pyramid function below.\n",
    "# It should call calculate_square_area and calculate_triangle_area.\n",
    "\n",
    "\n",
    "\n",
    "# --- Testing your function ---\n",
    "pyramid_base_side = 6.0\n",
    "pyramid_slant_height = 5.0\n",
    "\n",
    "# Uncomment the line below to test your function\n",
    "# pyramid_area = calculate_surface_area_of_pyramid(pyramid_base_side, pyramid_slant_height)\n",
    "# print(\"Using the function, the total surface area is:\", pyramid_area) # Expected output: 96.0"
   ]
  },
  {
   "cell_type": "markdown",
   "id": "29",
   "metadata": {},
   "source": [
    "<details>\n",
    "  <summary>Click to see a possible solution</summary>\n",
    "\n",
    "  ```python\n",
    "  def calculate_surface_area_of_pyramid(base_side, slant_height):\n",
    "      # Calculates the surface area of a square pyramid by reusing other functions.\n",
    "      # 1. Calculate the area of the square base by calling our function\n",
    "      base_area = calculate_square_area(base_side)\n",
    "\n",
    "      # 2. Calculate the area of ONE triangular face by calling our function\n",
    "      # The base of the triangle is the pyramid's base_side\n",
    "      one_triangle_area = calculate_triangle_area(base_side, slant_height)\n",
    "\n",
    "      # 3. Calculate the total surface area\n",
    "      total_area = base_area + (4 * one_triangle_area)\n",
    "\n",
    "      return total_area\n",
    "\n",
    "  # --- Testing the function ---\n",
    "  pyramid_base_side = 6.0\n",
    "  pyramid_slant_height = 5.0\n",
    "\n",
    "  # Call your new function\n",
    "  pyramid_area = calculate_surface_area_of_pyramid(pyramid_base_side, pyramid_slant_height)\n",
    "  print(\"Using the function, the total surface area is:\", pyramid_area) # Expected output: Using the function, the total surface area is: 96.0\n",
    "  ```\n",
    "</details>"
   ]
  },
  {
   "cell_type": "markdown",
   "id": "30",
   "metadata": {},
   "source": [
    "### The Power of Composition\n",
    "\n",
    "Look at how clean and readable the solution is! The `calculate_surface_area_of_pyramid` function doesn't need to know *how* to calculate the area of a square; it just needs to know that there's a tool (`calculate_square_area`) that can do it. \n",
    "\n",
    "This idea is called **composition**. We are *composing* a larger, more complex function from smaller, simpler ones. This directly relates to the quote at the start of this notebook—because code is read so often, making it clear and easy to understand is one of our most important goals. Using composition helps us achieve that.\n",
    "\n",
    "The benefits are huge:\n",
    "*   **Readability:** The code almost reads like a plain-English recipe. It's clear that we're calculating a base area and a triangle area and then combining them.\n",
    "*   **Reliability:** We already know `calculate_square_area` works. By reusing it, we reduce the chance of making a new typo or logic error.\n",
    "*   **Maintainability:** If we ever found a better way to calculate the area of a triangle, we would only need to update the `calculate_triangle_area` function. Every other function that uses it (like our pyramid function) would automatically get the benefit of that improvement without any changes."
   ]
  },
  {
   "cell_type": "markdown",
   "id": "31",
   "metadata": {},
   "source": [
    "### 🤔 Discussion Question: Expanding Our Toolkit\n",
    "\n",
    "Now that we have a small library of area-calculating functions, think about how you could use them to solve other problems.\n",
    "\n",
    "*   **Cube:** How would you calculate the surface area of a **cube**? What function(s) could you reuse? What new \"manager\" function would you need to write?\n",
    "*   **Triangular Prism:** What about a **triangular prism** (which has 2 triangular faces and 3 rectangular faces)? What new, simple function (like `calculate_rectangle_area`) would you need to create first before you could build the final function?\n",
    "*   **A Design Question:** Imagine you create a `calculate_rectangle_area(length, width)` function.\n",
    "    *   Could you use this new function to re-write your `calculate_square_area` function? (Hint: A square is just a special kind of rectangle).\n",
    "    *   What are the pros and cons of doing this? Is it better to have one general function (`rectangle`) or two specific ones (`rectangle` and `square`)? This is a common trade-off in software design: choosing between specificity and generality. There's no single right answer!"
   ]
  },
  {
   "cell_type": "markdown",
   "id": "32",
   "metadata": {},
   "source": [
    "## 🎉 Part 5 Wrap-up & What's Next!\n",
    "\n",
    "Excellent work! You've learned how to create your own reusable tools in Python.\n",
    "\n",
    "**Key Takeaways:**\n",
    "*   Functions are defined with the `def` keyword, can take **parameters**, and can send a value back with `return`.\n",
    "*   Functions help you follow the **DRY (Don't Repeat Yourself)** principle, making code cleaner and easier to manage.\n",
    "*   You can use **composition** to solve complex problems by building larger functions from smaller, simpler ones.\n",
    "\n",
    "### Next Up: Notebook 6: Python's Decision Power 🚀\n",
    "\n",
    "You've taught your program how to follow a recipe. What's next? Teaching it how to think! In our next notebook, we'll explore how Python can make decisions using **conditional statements** (`if`, `else`). Get ready to create programs that can react to different situations and make choices on their own!"
   ]
  }
 ],
 "metadata": {
  "kernelspec": {
   "display_name": "paps-venv",
   "language": "python",
   "name": "python3"
  },
  "language_info": {
   "codemirror_mode": {
    "name": "ipython",
    "version": 3
   },
   "file_extension": ".py",
   "mimetype": "text/x-python",
   "name": "python",
   "nbconvert_exporter": "python",
   "pygments_lexer": "ipython3",
   "version": "3.10.17"
  }
 },
 "nbformat": 4,
 "nbformat_minor": 5
}
