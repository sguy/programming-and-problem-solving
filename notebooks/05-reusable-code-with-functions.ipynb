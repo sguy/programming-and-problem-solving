{
 "cells": [
  {
   "cell_type": "markdown",
   "id": "0",
   "metadata": {},
   "source": [
    "# Notebook 5: Reusable Code with Functions 🛠️\n",
    "\n",
    "Welcome to our fifth Python notebook! In the last lesson, you learned how to make your programs interactive by getting input from the user. Now, we'll learn how to make our code more organized and efficient.\n",
    "\n",
    "In this notebook, we'll explore one of the most powerful ideas in programming: **functions**.\n",
    "\n",
    "> \"The function of good software is to make the complex appear to be simple.\" — Grady Booch\n",
    "\n",
    "This is the magic of functions! They allow us to take a complex set of steps, wrap them up in a simple, reusable command, and give it a clear name. This helps us manage complexity and build powerful programs from simple pieces.\n",
    "\n",
    "**Learning Objectives:**\n",
    "*   Define your own functions using the `def` keyword.\n",
    "*   Pass information to functions using **parameters**.\n",
    "*   Get results back from functions using the `return` keyword.\n",
    "*   Understand the DRY (Don't Repeat Yourself) principle.\n",
    "\n",
    "**Estimated Time:** 30-40 minutes\n",
    "\n",
    "**Prerequisites/Review:**\n",
    "*   Variables and Data Types (Notebook 2)\n",
    "*   Basic Arithmetic (Notebook 3)\n",
    "*   Getting User Input with `input()` (Notebook 4)\n",
    "\n",
    "Let's learn how to write smarter, not harder!"
   ]
  },
  {
   "cell_type": "markdown",
   "id": "1",
   "metadata": {},
   "source": [
    "## 🐍 Smarter Code: Introducing Functions!\n",
    "\n",
    "Imagine you need to calculate the area of a square many times in your program. You could copy and paste the calculation code (`side * side`) everywhere, but that's repetitive and if you make a mistake in one place, you have to fix it everywhere!\n",
    "\n",
    "A **function** is a named block of code that performs a specific task. You can \"call\" a function by its name whenever you need to perform that task.\n",
    "\n",
    "**Why use functions?**\n",
    "*   **DRY (Don't Repeat Yourself):** Write the code once, use it many times.\n",
    "*   **Organization:** Break down your program into smaller, manageable pieces.\n",
    "*   **Readability:** Makes your code easier to understand because complex tasks are hidden inside well-named functions.\n",
    "*   **Reusability:** You can use the same function in different parts of your program, or even in different programs."
   ]
  },
  {
   "cell_type": "markdown",
   "id": "2",
   "metadata": {},
   "source": [
    "### Anatomy of a Python Function\n",
    "\n",
    "Here's the basic structure:\n",
    "\n",
    "```python\n",
    "def function_name(parameter1, parameter2):\n",
    "    # Code to perform the task goes here (this is the function body)\n",
    "    # This code must be indented!\n",
    "    result = parameter1 + parameter2 # Example operation\n",
    "    return result # Optional: sends a value back to where the function was called\n",
    "```\n",
    "\n",
    "*   `def`: The keyword that tells Python you're defining a function.\n",
    "*   `function_name`: You choose this! Follow the same naming rules as variables (e.g., `snake_case`).\n",
    "*   `parameter1, parameter2`: These are like special variables that act as placeholders for values you'll give to the function when you call it. These are also called **arguments** when you provide actual values. A function can have zero, one, or many parameters.\n",
    "*   `:`: A colon marks the end of the function definition line.\n",
    "*   **Indented Code Block:** The lines of code *inside* the function that do the work. They **must** be indented (usually 4 spaces).\n",
    "*   `return result` (Optional): The `return` keyword sends a value back from the function to the part of your code that called it. If a function doesn't have a `return` statement, it automatically returns a special value `None`."
   ]
  },
  {
   "cell_type": "markdown",
   "id": "3",
   "metadata": {},
   "source": [
    "### Example: A Function to Calculate Square Area"
   ]
  },
  {
   "cell_type": "code",
   "execution_count": null,
   "id": "4",
   "metadata": {},
   "outputs": [],
   "source": [
    "# Define the function\n",
    "def calculate_square_area(side_length):\n",
    "    \"\"\"Calculates the area of a square given its side length.\"\"\" # This is a docstring - a comment explaining the function\n",
    "    area = side_length * side_length\n",
    "    return area\n",
    "\n",
    "# Now, let's call (use) our function!\n",
    "square1_side = 5\n",
    "square1_area = calculate_square_area(square1_side) # We pass square1_side as the argument\n",
    "print(\"A square with side\", square1_side, \"has an area of\", square1_area, \".\")\n",
    "\n",
    "square2_side = 10\n",
    "square2_area = calculate_square_area(square2_side)\n",
    "print(\"A square with side\", square2_side, \"has an area of\", square2_area, \".\")"
   ]
  },
  {
   "cell_type": "markdown",
   "id": "5",
   "metadata": {},
   "source": [
    "### 🎯 Mini-Challenge: Function for Cube Volume\n",
    "\n",
    "1.  Define a function called `calculate_cube_volume`.\n",
    "2.  It should take one parameter: `side` (the side length of the cube).\n",
    "3.  Inside the function, calculate the volume (`side * side * side`).\n",
    "4.  The function should `return` the calculated volume.\n",
    "5.  After defining the function, test it by calling it with a side length (e.g., `calculate_cube_volume(3)`) and printing the result."
   ]
  },
  {
   "cell_type": "code",
   "execution_count": null,
   "id": "6",
   "metadata": {},
   "outputs": [],
   "source": [
    "# 1. Define the function calculate_cube_volume that takes one parameter: side\n",
    "def calculate_cube_volume(side):\n",
    "    \"\"\"Calculates the volume of a cube given its side length.\"\"\"\n",
    "    volume = side * side * side\n",
    "    return volume\n",
    "\n",
    "# 2. Test with a hardcoded value (e.g., side = 3)\n",
    "test_side = 3\n",
    "test_volume = calculate_cube_volume(test_side)\n",
    "print(\"A cube with side\", test_side, \"has a volume of\", test_volume, \".\")"
   ]
  },
  {
   "cell_type": "markdown",
   "id": "7",
   "metadata": {},
   "source": [
    "## 🚀 Putting It All Together: Combining Functions and User Input\n",
    "\n",
    "Now that you know how to get user input and write functions, you can create tools to calculate properties for many different shapes! Let's combine what you learned in the last two notebooks."
   ]
  },
  {
   "cell_type": "markdown",
   "id": "8",
   "metadata": {},
   "source": [
    "### Example: Area of a Triangle\n",
    "The formula for the area of a triangle is `0.5 * base * height`."
   ]
  },
  {
   "cell_type": "code",
   "execution_count": null,
   "id": "9",
   "metadata": {},
   "outputs": [],
   "source": [
    "def calculate_triangle_area(base, height):\n",
    "    \"\"\"Calculates the area of a triangle given its base and height.\"\"\"\n",
    "    area = 0.5 * base * height\n",
    "    return area\n",
    "\n",
    "# Get input from the user\n",
    "tri_base_str = input(\"Enter the base of the triangle: \")\n",
    "tri_height_str = input(\"Enter the height of the triangle: \")\n",
    "\n",
    "# Convert to numbers\n",
    "tri_base_num = float(tri_base_str)\n",
    "tri_height_num = float(tri_height_str)\n",
    "\n",
    "# Calculate and print the area by calling our function\n",
    "triangle_area_result = calculate_triangle_area(tri_base_num, tri_height_num)\n",
    "print(\"A triangle with base\", tri_base_num, \"and height\", tri_height_num, \"has an area of\", triangle_area_result, \".\")"
   ]
  },
  {
   "cell_type": "markdown",
   "id": "10",
   "metadata": {},
   "source": [
    "## 🎉 Part 5 Wrap-up & What's Next! 🎉\n",
    "\n",
    "Excellent work! You've learned how to create your own reusable tools in Python.\n",
    "\n",
    "**Here's a recap of what you learned:**\n",
    "*   How to define your own **functions** using `def`.\n",
    "*   How to pass information to functions using **parameters**.\n",
    "*   How to get a value back from a function using `return`.\n",
    "*   The importance of the **DRY (Don't Repeat Yourself)** principle for writing clean and efficient code.\n",
    "\n",
    "**Key Takeaways:**\n",
    "*   Functions are the primary way to organize and reuse code in Python.\n",
    "*   Breaking a large problem down into smaller functions makes the problem much easier to solve.\n",
    "\n",
    "### Next Up: Notebook 6: Python's Decision Power & Organizing with Lists 🚀\n",
    "\n",
    "In our next notebook, we'll explore how Python can make decisions using **conditional statements** (`if`, `else`) and how to organize multiple pieces of data using **lists**. Get ready to give your programs some decision-making power!"
   ]
  }
 ],
 "metadata": {
  "kernelspec": {
   "display_name": "paps-venv",
   "language": "python",
   "name": "python3"
  },
  "language_info": {
   "codemirror_mode": {
    "name": "ipython",
    "version": 3
   },
   "file_extension": ".py",
   "mimetype": "text/x-python",
   "name": "python",
   "nbconvert_exporter": "python",
   "pygments_lexer": "ipython3",
   "version": "3.10.17"
  }
 },
 "nbformat": 4,
 "nbformat_minor": 5
}
