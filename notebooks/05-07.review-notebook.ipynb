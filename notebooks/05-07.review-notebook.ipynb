{
 "cells": [
  {
   "cell_type": "markdown",
   "id": "0",
   "metadata": {},
   "source": [
    "# Stop and Review: Notebooks 05-07 📝\n",
    "\n",
    "Great work on making it through the next set of notebooks! This is a special \"review\" notebook designed to help you pause, practice, and solidify the key concepts you've learned so far. We'll mix quick questions with fun mini-challenges to make sure you're feeling confident before we move on.\n",
    "\n",
    "\n",
    "## Topics Covered\n",
    "\n",
    "This review covers the foundational skills from the following notebooks:\n",
    "\n",
    "*   [Notebook 5: Reusable Code with Functions](https://colab.research.google.com/github/sguy/programming-and-problem-solving/blob/main/notebooks/05-reusable-code-with-functions.ipynb): Defining and calling functions, parameters, and return values.\n",
    "*   [Notebook 6: Decisions](https://colab.research.google.com/github/sguy/programming-and-problem-solving/blob/main/notebooks/06-decisions.ipynb): `if`, `elif`, and `else` statements, comparison operators, and boolean logic.\n",
    "*   [Notebook 7: Lists](https://colab.research.google.com/github/sguy/programming-and-problem-solving/blob/main/notebooks/07-lists.ipynb): Creating and using lists, adding items with `.append()`, and accessing items by index.\n",
    "\n",
    "**Estimated Time:** 45-60 minutes\n",
    "\n",
    "Let's get started!\n",
    "\n",
    "[Return to Table of Contents](https://colab.research.google.com/github/sguy/programming-and-problem-solving/blob/main/notebooks/table-of-contents.ipynb)"
   ]
  },
  {
   "cell_type": "markdown",
   "id": "1",
   "metadata": {},
   "source": [
    "## ✅ Check Your Understanding\n",
    "\n",
    "Let's start with some quick questions to test your memory and understanding of the key concepts."
   ]
  },
  {
   "cell_type": "markdown",
   "id": "2",
   "metadata": {},
   "source": [
    "**Question 1:** What is the main reason for using functions in your code?\n",
    "\n",
    "<details>\n",
    "  <summary>Click to see the answer</summary>\n",
    "    \n",
    "  **Answer:** Functions allow you to write reusable blocks of code. This helps to avoid repetition (following the DRY - Don't Repeat Yourself - principle) and makes your code more organized and easier to debug.\n",
    "</details>"
   ]
  },
  {
   "cell_type": "markdown",
   "id": "3",
   "metadata": {},
   "source": [
    "**Question 2:** What is the difference between a parameter and an argument in the context of a function?\n",
    "\n",
    "<details>\n",
    "  <summary>Click to see the answer</summary>\n",
    "    \n",
    "  **Answer:** A **parameter** is the variable name listed in a function's definition (e.g., `def greet(name):`). An **argument** is the actual value that is sent to the function when it is called (e.g., `greet(\"Alice\")`).\n",
    "</details>"
   ]
  },
  {
   "cell_type": "markdown",
   "id": "4",
   "metadata": {},
   "source": [
    "**Question 3:** What will the following code print?\n",
    "```python\n",
    "def calculate(a, b):\n",
    "    return a * b\n",
    "result = calculate(5, 10)\n",
    "print(result)\n",
    "```\n",
    "\n",
    "<details>\n",
    "  <summary>Click to see the answer</summary>\n",
    "    \n",
    "  **Answer:** It will print `50`. The `calculate` function multiplies the two arguments passed to it and returns the result, which is then stored in the `result` variable and printed.\n",
    "</details>"
   ]
  },
  {
   "cell_type": "markdown",
   "id": "5",
   "metadata": {},
   "source": [
    "**Question 4:** What is the value of the boolean expression `10 > 5 and \"a\" == \"b\"`?\n",
    "\n",
    "<details>\n",
    "  <summary>Click to see the answer</summary>\n",
    "    \n",
    "  **Answer:** The expression evaluates to `False`. While `10 > 5` is `True`, `\"a\" == \"b\"` is `False`. The `and` operator requires both sides to be `True`, so the overall result is `False`.\n",
    "</details>"
   ]
  },
  {
   "cell_type": "markdown",
   "id": "6",
   "metadata": {},
   "source": [
    "**Question 5:** What is the purpose of the `elif` keyword?\n",
    "\n",
    "<details>\n",
    "  <summary>Click to see the answer</summary>\n",
    "    \n",
    "  **Answer:** `elif` (short for \"else if\") allows you to check for multiple conditions in a sequence. It is used after an initial `if` statement and before a final `else` statement to test additional conditions if the previous ones were false.\n",
    "</details>"
   ]
  },
  {
   "cell_type": "markdown",
   "id": "7",
   "metadata": {},
   "source": [
    "**Question 6:** How do you access the first item in a list called `my_list`?\n",
    "\n",
    "<details>\n",
    "  <summary>Click to see the answer</summary>\n",
    "    \n",
    "  **Answer:** You would use `my_list[0]`. Lists in Python are zero-indexed, meaning the first item is at index 0.\n",
    "</details>"
   ]
  },
  {
   "cell_type": "markdown",
   "id": "8",
   "metadata": {},
   "source": [
    "**Question 7:** What method is used to add an item to the end of a list?\n",
    "\n",
    "<details>\n",
    "  <summary>Click to see the answer</summary>\n",
    "    \n",
    "  **Answer:** The `.append()` method is used to add an item to the end of a list. For example, `my_list.append(\"new_item\")`.\n",
    "</details>"
   ]
  },
  {
   "cell_type": "markdown",
   "id": "9",
   "metadata": {},
   "source": [
    "**Question 8:** What will be printed by the following code?\n",
    "```python\n",
    "my_list = [10, 20, 30]\n",
    "my_list.append(40)\n",
    "print(my_list[1])\n",
    "```\n",
    "\n",
    "<details>\n",
    "  <summary>Click to see the answer</summary>\n",
    "    \n",
    "  **Answer:** It will print `20`. The code first creates a list, then appends the number 40 to it, making the list `[10, 20, 30, 40]`. It then prints the item at index 1, which is `20`.\n",
    "</details>"
   ]
  },
  {
   "cell_type": "markdown",
   "id": "10",
   "metadata": {},
   "source": [
    "## 🎯 Mini-Challenges\n",
    "\n",
    "Now it's time to apply what you've learned by writing some code. These challenges will require you to combine skills from different notebooks."
   ]
  },
  {
   "cell_type": "markdown",
   "id": "11",
   "metadata": {},
   "source": [
    "### Mini-Challenge 1: Grade Calculator Function\n",
    "\n",
    "Let's write a function to automate the process of assigning a letter grade based on a numerical score. This is a common task that can be made much easier with functions and conditional logic.\n",
    "\n",
    "**Your function should:**\n",
    "1.  Be named `assign_grade`.\n",
    "2.  Take one parameter: `score`.\n",
    "3.  Return a letter grade as a string based on the following scale:\n",
    "    *   90-100: \"A\"\n",
    "    *   80-89: \"B\"\n",
    "    *   70-79: \"C\"\n",
    "    *   60-69: \"D\"\n",
    "    *   Below 60: \"F\"\n",
    "\n",
    "What do you think the type of the return of the function should be? What are some inputs that we should check to make sure this function is running properly? Why?"
   ]
  },
  {
   "cell_type": "markdown",
   "id": "12",
   "metadata": {},
   "source": [
    "<details>\n",
    "  <summary>Hint: Structuring the conditions</summary>\n",
    "\n",
    "  An `if/elif/else` chain is perfect for this. Start by checking for the highest grade first (e.g., `if score >= 90:`). Why do you think starting with the highest grade and working down is a good approach?\n",
    "</details>\n",
    "<details>\n",
    "  <summary>Hint: Handling the lowest grade</summary>\n",
    "\n",
    "  The final `else` block can be used to catch all remaining cases (scores below 60) without needing another specific condition.\n",
    "</details>"
   ]
  },
  {
   "cell_type": "code",
   "execution_count": null,
   "id": "13",
   "metadata": {},
   "outputs": [],
   "source": [
    "def assign_grade(score):\n",
    "    # YOUR CODE HERE\n",
    "    pass # Remove this line when you start writing your code\n",
    "\n",
    "# --- Test Cases ---\n",
    "print(f\"Score: 95, Grade: {assign_grade(95)}\") # Expected: A\n",
    "print(f\"Score: 82, Grade: {assign_grade(82)}\") # Expected: B\n",
    "print(f\"Score: 77, Grade: {assign_grade(77)}\") # Expected: C\n",
    "print(f\"Score: 61, Grade: {assign_grade(61)}\") # Expected: D\n",
    "print(f\"Score: 45, Grade: {assign_grade(45)}\") # Expected: F\n",
    "print(f\"Score: 90, Grade: {assign_grade(90)}\") # Expected: A (boundary case)\n",
    "print(f\"Score: 0, Grade: {assign_grade(0)}\") # Expected: F (boundary case)"
   ]
  },
  {
   "cell_type": "markdown",
   "id": "14",
   "metadata": {},
   "source": [
    "<details>\n",
    "  <summary>Click to see a possible solution</summary>\n",
    "\n",
    "  ```python\n",
    "  def assign_grade(score):\n",
    "      if score >= 90:\n",
    "          return \"A\"\n",
    "      elif score >= 80:\n",
    "          return \"B\"\n",
    "      elif score >= 70:\n",
    "          return \"C\"\n",
    "      elif score >= 60:\n",
    "          return \"D\"\n",
    "      else:\n",
    "          return \"F\"\n",
    "  ```\n",
    "</details>"
   ]
  },
  {
   "cell_type": "markdown",
   "id": "15",
   "metadata": {},
   "source": [
    "### Mini-Challenge 2: Shopping List Manager\n",
    "\n",
    "Let's create a simple shopping list manager. This will involve creating a list and then writing functions to add items to it and display the list's contents. This is a great example of how functions can be used to organize and manage data.\n",
    "\n",
    "**Your program should include:**\n",
    "1.  An empty list called `shopping_list`.\n",
    "2.  A function `add_item(item)` that appends an item to the `shopping_list`.\n",
    "3.  A function `display_list()` that prints the `shopping_list`.\n",
    "\n",
    "What are some of the advantages of using functions to manage the list, rather than just adding to it directly?"
   ]
  },
  {
   "cell_type": "code",
   "execution_count": null,
   "id": "16",
   "metadata": {},
   "outputs": [],
   "source": [
    "shopping_list = []\n",
    "\n",
    "def add_item(item):\n",
    "    # YOUR CODE HERE\n",
    "    pass # Remove this line when you start writing your code\n",
    "\n",
    "def display_list():\n",
    "    # YOUR CODE HERE\n",
    "    pass # Remove this line when you start writing your code\n",
    "\n",
    "# --- Test Cases ---\n",
    "add_item(\"Apples\")\n",
    "add_item(\"Milk\")\n",
    "add_item(\"Bread\")\n",
    "display_list() # Expected to see a list with Apples, Milk, and Bread"
   ]
  },
  {
   "cell_type": "markdown",
   "id": "17",
   "metadata": {},
   "source": [
    "<details>\n",
    "  <summary>Click to see a possible solution</summary>\n",
    "\n",
    "  ```python\n",
    "  shopping_list = []\n",
    "\n",
    "  def add_item(item):\n",
    "      shopping_list.append(item)\n",
    "      print(f\"Added '{item}' to the list.\")\n",
    "\n",
    "  def display_list():\n",
    "      print(\"--- Shopping List ---\")\n",
    "      for item in shopping_list:\n",
    "          print(f\"- {item}\")\n",
    "  ```\n",
    "</details>"
   ]
  },
  {
   "cell_type": "markdown",
   "id": "18",
   "metadata": {},
   "source": [
    "### Mini-Challenge 3: Find the Maximum Value in a List\n",
    "\n",
    "Let's write a function to find the largest number in a list. While Python has a built-in `max()` function, building our own is a great way to practice looping and conditional logic.\n",
    "\n",
    "**Your function should:**\n",
    "1.  Be named `find_max`.\n",
    "2.  Take one parameter: `numbers` (a list of numbers).\n",
    "3.  Return the largest number in the list.\n",
    "4.  If the list is empty, it should return `None`.\n",
    "\n",
    "What are some edge cases we should consider when testing this function? Why is it important to handle an empty list?"
   ]
  },
  {
   "cell_type": "markdown",
   "id": "19",
   "metadata": {},
   "source": [
    "<details>\n",
    "  <summary>Hint: Initializing the maximum value</summary>\n",
    "\n",
    "  Before you start looping, you need a variable to keep track of the largest number found so far. A good approach is to initialize this variable with the first element of the list. What might happen if you initialized it to 0?\n",
    "</details>\n",
    "<details>\n",
    "  <summary>Hint: Updating the maximum value</summary>\n",
    "\n",
    "  Inside your loop, for each number, you'll compare it to your current maximum value. If the number is larger, you'll update your maximum value.\n",
    "</details>"
   ]
  },
  {
   "cell_type": "code",
   "execution_count": null,
   "id": "20",
   "metadata": {},
   "outputs": [],
   "source": [
    "def find_max(numbers):\n",
    "    # YOUR CODE HERE\n",
    "    pass # Remove this line when you start writing your code\n",
    "\n",
    "# --- Test Cases ---\n",
    "print(f\"List: [1, 5, 2, 9, 3], Max: {find_max([1, 5, 2, 9, 3])}\") # Expected: 9\n",
    "print(f\"List: [-10, -5, -2, -9, -3], Max: {find_max([-10, -5, -2, -9, -3])}\") # Expected: -2\n",
    "print(f\"List: [5], Max: {find_max([5])}\") # Expected: 5\n",
    "print(f\"List: [], Max: {find_max([])}\") # Expected: None"
   ]
  },
  {
   "cell_type": "markdown",
   "id": "21",
   "metadata": {},
   "source": [
    "<details>\n",
    "  <summary>Click to see a possible solution</summary>\n",
    "\n",
    "  ```python\n",
    "  def find_max(numbers):\n",
    "      if not numbers:\n",
    "          return None\n",
    "      max_so_far = numbers[0]\n",
    "      for number in numbers:\n",
    "          if number > max_so_far:\n",
    "              max_so_far = number\n",
    "      return max_so_far\n",
    "  ```\n",
    "</details>"
   ]
  },
  {
   "cell_type": "markdown",
   "id": "22",
   "metadata": {},
   "source": [
    "### Mini-Challenge 4: List Pivot\n",
    "\n",
    "Imagine you have a list of numbers and you want to split it into two new lists based on a \"pivot\" value. One list will hold all the numbers *less than* the pivot, and the other will hold all the numbers *greater than or equal to* the pivot.\n",
    "\n",
    "This is a common operation in programming, especially in sorting algorithms!\n",
    "\n",
    "**Your task:**\n",
    "Write a function `pivot_list(in_list, pivot, lt_list, gte_list)` that takes an input list and a pivot value, and then sorts the numbers from the input list into the other two lists as described above."
   ]
  },
  {
   "cell_type": "markdown",
   "id": "23",
   "metadata": {},
   "source": [
    "<details>\n",
    "  <summary>Hint: Looping through the list</summary>\n",
    "\n",
    "  You will need to loop through each `item` in the `in_list`. A `for` loop is a great choice for this.\n",
    "</details>\n",
    "<details>\n",
    "  <summary>Hint: The core logic</summary>\n",
    "\n",
    "  Inside your loop, you'll need an `if/else` statement to check if the current `item` is less than the `pivot`. Based on that comparison, you will append the `item` to either the `lt_list` or the `gte_list`.\n",
    "</details>"
   ]
  },
  {
   "cell_type": "code",
   "execution_count": null,
   "id": "24",
   "metadata": {},
   "outputs": [],
   "source": [
    "def pivot_list(in_list, pivot, lt_list, gte_list):\n",
    "    # YOUR CODE HERE\n",
    "    pass # Remove this line when you start writing your code\n",
    "\n",
    "# --- Test Cases --- \n",
    "numbers1 = [10, 4, 12, 8, 15, 6, 9]\n",
    "less_than1 = []\n",
    "greater_than_equal1 = []\n",
    "pivot1 = 9\n",
    "pivot_list(numbers1, pivot1, less_than1, greater_than_equal1)\n",
    "print(f\"Pivot: {pivot1}\")\n",
    "print(f\"Original List: {numbers1}\")\n",
    "print(f\"Less Than: {less_than1}\") # Expected: [4, 8, 6]\n",
    "print(f\"Greater Than or Equal: {greater_than_equal1}\") # Expected: [10, 12, 15, 9]\n",
    "\n",
    "numbers2 = [5, 5, 5, 5, 5]\n",
    "less_than2 = []\n",
    "greater_than_equal2 = []\n",
    "pivot2 = 5\n",
    "pivot_list(numbers2, pivot2, less_than2, greater_than_equal2)\n",
    "print(f\"Pivot: {pivot2}\")\n",
    "print(f\"Original List: {numbers2}\")\n",
    "print(f\"Less Than: {less_than2}\") # Expected: []\n",
    "print(f\"Greater Than or Equal: {greater_than_equal2}\") # Expected: [5, 5, 5, 5, 5]"
   ]
  },
  {
   "cell_type": "markdown",
   "id": "25",
   "metadata": {},
   "source": [
    "<details>\n",
    "  <summary>Click to see a possible solution</summary>\n",
    "\n",
    "  ```python\n",
    "  def pivot_list(in_list, pivot, lt_list, gte_list):\n",
    "      for item in in_list:\n",
    "          if item < pivot:\n",
    "              lt_list.append(item)\n",
    "          else:\n",
    "              gte_list.append(item)\n",
    "  ```\n",
    "</details>"
   ]
  },
  {
   "cell_type": "markdown",
   "id": "26",
   "metadata": {},
   "source": [
    "## 🎉 Review Complete!\n",
    "\n",
    "Congratulations on completing the review! You've practiced using functions, making decisions with conditional logic, and organizing data with lists. These are powerful tools that will allow you to write much more complex and interesting programs.\n",
    "\n",
    "As you worked through these challenges, which one felt the most difficult? Which one felt the easiest? What was the key piece of information or the \"aha!\" moment that helped you solve the hardest one? There's no right answer, but thinking about your own process is a key part of becoming a great programmer.\n",
    "\n",
    "### Next Up\n",
    "\n",
    "Now that you have a solid foundation in functions, conditionals, and lists, we're ready to learn about loops, which will allow us to repeat actions and work with lists much more efficiently.\n",
    "\n",
    "[Return to Table of Contents](https://colab.research.google.com/github/sguy/programming-and-problem-solving/blob/main/notebooks/table-of-contents.ipynb)"
   ]
  }
 ],
 "metadata": {
  "kernelspec": {
   "display_name": "Python 3 (ipykernel)",
   "language": "python",
   "name": "python3"
  },
  "language_info": {
   "codemirror_mode": {
    "name": "ipython",
    "version": 3
   },
   "file_extension": ".py",
   "mimetype": "text/x-python",
   "name": "python",
   "nbconvert_exporter": "python",
   "pygments_lexer": "ipython3",
   "version": "3.13.5"
  }
 },
 "nbformat": 4,
 "nbformat_minor": 5
}
