{
 "cells": [
  {
   "cell_type": "markdown",
   "id": "0",
   "metadata": {},
   "source": [
    "# Notebook 3: Basic Calculations 📐\n",
    "\n",
    "Welcome to our third Python notebook! So far, you've learned about Jupyter Notebooks, basic Python syntax like `print()`, how to store information in **variables**, and the different **data types** like numbers and strings.\n",
    "\n",
    "In this notebook, we're going to use these skills to solve some practical problems: calculating properties of shapes! We'll cover:\n",
    "\n",
    "*   Using basic math operations in Python.\n",
    "*   Understanding the order of operations.\n",
    "*   Performing calculations with pre-defined (hardcoded) values.\n",
    "\n",
    "**Learning Objectives:**\n",
    "*   Perform basic arithmetic calculations in Python using operators like `+`, `-`, `*`, and `/`.\n",
    "*   Understand operator precedence and how to use parentheses `()` to control the order of calculations.\n",
    "\n",
    "**Estimated Time:** 20-30 minutes\n",
    "\n",
    "**Prerequisites/Review:**\n",
    "*   Comfortable with variables (e.g., `my_age = 14`) from Notebook 2: First Steps with Python.\n",
    "*   Using the `print()` function (e.g., `print(\"Hello\")`) from Notebook 2: First Steps with Python.\n",
    "\n",
    "Let's get calculating!"
   ]
  },
  {
   "cell_type": "markdown",
   "id": "1",
   "metadata": {},
   "source": [
    "## 🤔 Why Calculate Shape Properties?\n",
    "\n",
    "Why bother calculating things like perimeter, area, or volume? It turns out these calculations are super useful in many real-world situations:\n",
    "\n",
    "*   **Building & Construction:** How much fencing do you need for a yard (perimeter)? How much carpet for a room (area)? How much concrete for a foundation (volume)?\n",
    "*   **Art & Design:** How much paint to cover a canvas (area)? How much clay to make a sculpture (volume)?\n",
    "*   **Science & Engineering:** Calculating the surface area of a wing or the volume of a chemical solution.\n",
    "*   **Everyday Life:** Figuring out if a piece of furniture will fit in a room, or how much wrapping paper you need for a gift.\n",
    "\n",
    "Python can help us do these calculations quickly and accurately!"
   ]
  },
  {
   "cell_type": "markdown",
   "id": "2",
   "metadata": {},
   "source": [
    "## 🐍 Python's Math Powers: Basic Arithmetic\n",
    "\n",
    "Python is not just for text; it's also a powerful calculator! To perform mathematical calculations, we use special symbols called **arithmetic operators**. Here are the most common ones you'll use:\n",
    "\n",
    "*   `+` for addition\n",
    "*   `-` for subtraction\n",
    "*   `*` for multiplication\n",
    "*   `/` for division\n",
    "\n",
    "Let's start by using these to calculate some shape properties with numbers we define directly in our code."
   ]
  },
  {
   "cell_type": "markdown",
   "id": "3",
   "metadata": {},
   "source": [
    "### First Calculations: Using Pre-defined (Hardcoded) Values\n",
    "\n",
    "\"Hardcoded\" means we're writing the numbers directly into our program. This is a good starting point to understand the formulas."
   ]
  },
  {
   "cell_type": "markdown",
   "id": "4",
   "metadata": {},
   "source": [
    "#### Let's calculate the area of a square\n",
    "\n",
    "$$area = side \\times side$$"
   ]
  },
  {
   "cell_type": "code",
   "execution_count": null,
   "id": "5",
   "metadata": {},
   "outputs": [],
   "source": [
    "side_length = 5  # units (e.g., cm, inches)\n",
    "area_of_square = side_length * side_length\n",
    "\n",
    "print(\"The side length of the square is:\", side_length)\n",
    "print(\"The area of the square is:\", area_of_square)"
   ]
  },
  {
   "cell_type": "markdown",
   "id": "6",
   "metadata": {},
   "source": [
    "#### Now let's calculate the perimeter of a rectangle.\n",
    "\n",
    "$$perimeter = 2\\times(length + width)$$"
   ]
  },
  {
   "cell_type": "code",
   "execution_count": null,
   "id": "7",
   "metadata": {},
   "outputs": [],
   "source": [
    "rect_length = 7\n",
    "rect_width = 3\n",
    "perimeter_of_rectangle = 2 * (rect_length + rect_width)\n",
    "\n",
    "print(\"The length of the rectangle is:\", rect_length)\n",
    "print(\"The width of the rectangle is:\", rect_width)\n",
    "print(\"The perimeter of the rectangle is:\", perimeter_of_rectangle)"
   ]
  },
  {
   "cell_type": "markdown",
   "id": "8",
   "metadata": {},
   "source": [
    "### 🤔 A Quick Note on Order of Operations\n",
    "\n",
    "In the rectangle perimeter calculation, `perimeter_of_rectangle = 2 * (rect_length + rect_width)`, notice the parentheses `()` around `rect_length + rect_width`.\n",
    "\n",
    "Just like in math class, Python follows an order of operations (often remembered by acronyms like PEMDAS/BODMAS - Parentheses/Brackets, Exponents/Orders, Multiplication and Division, Addition and Subtraction).\n",
    "\n",
    "*   The parentheses `()` ensure that the `length` and `width` are added together *before* the sum is multiplied by `2`.\n",
    "*   If we wrote `2 * rect_length + rect_width`, Python would multiply `2 * rect_length` first, and then add `rect_width` to that result, which would give the wrong perimeter!\n",
    "\n",
    "Using parentheses helps make your formulas clear and ensures Python calculates them in the way you intend."
   ]
  },
  {
   "cell_type": "markdown",
   "id": "9",
   "metadata": {},
   "source": [
    "### 🎯 Mini-Challenge: Volume of a Cube\n",
    "\n",
    "1.  In the code cell below, calculate the volume of a cube.\n",
    "2.  The formula for the volume of a cube is: `volume = side * side * side`.\n",
    "3.  Choose a `side_length` for your cube (e.g., `4`).\n",
    "4.  Store the result in a variable called `volume_of_cube`.\n",
    "5.  Print the `side_length` and the calculated `volume_of_cube`."
   ]
  },
  {
   "cell_type": "code",
   "execution_count": null,
   "id": "10",
   "metadata": {},
   "outputs": [],
   "source": [
    "# 1. Define a variable for the side_length of a cube and give it a value (e.g., 4)\n",
    "cube_side_length = 4\n",
    "\n",
    "# 2. Calculate the volume using the formula: side * side * side\n",
    "volume_of_cube = cube_side_length * cube_side_length * cube_side_length\n",
    "\n",
    "# 3. Print the side_length of the cube\n",
    "print(\"The side length of the cube is:\", cube_side_length)\n",
    "# 4. Print the calculated volume_of_cube\n",
    "print(\"The volume of the cube is:\", volume_of_cube)"
   ]
  },
  {
   "cell_type": "markdown",
   "id": "11",
   "metadata": {},
   "source": [
    "## 🎉 Part 3 Wrap-up & What's Next! 🎉\n",
    "\n",
    "Excellent work! You've used Python as a powerful calculator to solve some geometry problems.\n",
    "\n",
    "**Here's a recap of what you learned:**\n",
    "*   How to perform basic **arithmetic calculations** using the `+`, `-`, `*`, and `/` operators.\n",
    "*   The importance of **operator precedence** and how to use parentheses `()` to make sure your calculations run in the correct order.\n",
    "*   How to use variables to store numbers and perform calculations with them.\n",
    "\n",
    "**Key Takeaways:**\n",
    "*   Writing out formulas in Python is very similar to how you'd write them in math class.\n",
    "*   Using variables with descriptive names (like `side_length` or `area_of_square`) makes your code easy to read and understand.\n",
    "\n",
    "### Next Up: Notebook 4: Interactive Programs 🚀\n",
    "\n",
    "In our next notebook, we'll make our programs much more flexible by learning how to get input directly from the user. Get ready to make your first interactive programs!"
   ]
  }
 ],
 "metadata": {
  "kernelspec": {
   "display_name": "paps-venv",
   "language": "python",
   "name": "python3"
  },
  "language_info": {
   "codemirror_mode": {
    "name": "ipython",
    "version": 3
   },
   "file_extension": ".py",
   "mimetype": "text/x-python",
   "name": "python",
   "nbconvert_exporter": "python",
   "pygments_lexer": "ipython3",
   "version": "3.10.17"
  }
 },
 "nbformat": 4,
 "nbformat_minor": 5
}
