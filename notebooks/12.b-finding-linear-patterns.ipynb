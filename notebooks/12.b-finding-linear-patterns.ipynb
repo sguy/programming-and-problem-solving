{
  "cells": [
    {
      "cell_type": "markdown",
      "id": "header-title",
      "metadata": {},
      "source": [
        "# Notebook 12.b: Finding Linear Patterns"
      ]
    },
    {
      "cell_type": "markdown",
      "id": "header-quote",
      "metadata": {},
      "source": [
        "> Data! Data! Data! I can't make bricks without clay.\n",
        ">\n",
        "> — [Arthur Conan Doyle](https://en.wikipedia.org/wiki/Arthur_Conan_Doyle)"
      ]
    },
    {
      "cell_type": "markdown",
      "id": "header-learning-objectives",
      "metadata": {},
      "source": [
        "## 🎯 Learning Objectives\n",
        "\n",
        "By the end of this notebook, you will be able to:\n",
        "- Use the \"method of first differences\" to identify a linear pattern in a sequence of data.\n",
        "- Write a Python function that calculates the differences between elements in a list.\n",
        "- Determine the equation of a line (`y = mx + b`) from a sequence of numbers."
      ]
    },
    {
      "cell_type": "markdown",
      "id": "header-prerequisites",
      "metadata": {},
      "source": [
        "## 📚 Prerequisites\n",
        "\n",
        "This notebook builds on concepts from the previous lesson. Before you begin, make sure you are comfortable with:\n",
        "- Concepts from [Notebook 12.a: Functions, Sequences, and Plots](https://colab.research.google.com/github/sguy/programming-and-problem-solving/blob/main/notebooks/12.a-functions-sequences-and-plots.ipynb), including writing functions and using lists."
      ]
    },
    {
      "cell_type": "markdown",
      "id": "header-time-and-toc",
      "metadata": {},
      "source": [
        "*Estimated Time: 45 minutes*\n",
        "\n",
        "---\n",
        "\n",
        "[Return to Table of Contents](https://colab.research.google.com/github/sguy/programming-and-problem-solving/blob/main/notebooks/table-of-contents.ipynb)"
      ]
    },
    {
      "cell_type": "code",
      "execution_count": null,
      "id": "import-matplotlib",
      "metadata": {},
      "outputs": [],
      "source": [
        "import matplotlib.pyplot as plt"
      ]
    },
    {
      "cell_type": "markdown",
      "id": "intro-detective-work",
      "metadata": {},
      "source": [
        "## Introduction: The Detective's Work\n",
        "\n",
        "In the last notebook, we started with a rule (a function) and generated a sequence of data. Now, we're going to do the reverse. Like a detective finding clues, we'll start with a sequence of numbers and work backward to find the secret rule that created it.\n",
        "\n",
        "Our first case is a taxi service. We have a list of fares for trips of different lengths, but we don't know the pricing rule. Can we figure it out?"
      ]
    },
    {
      "cell_type": "markdown",
      "id": "first-differences-intro",
      "metadata": {},
      "source": [
        "## 🐍 New Concept: The Method of First Differences\n",
        "\n",
        "Let's start with the data. Here are the costs for taxi rides of 1, 2, 3, 4, and 5 miles."
      ]
    },
    {
      "cell_type": "code",
      "execution_count": null,
      "id": "taxi-fare-data",
      "metadata": {},
      "outputs": [],
      "source": [
        "# miles:    1,   2,   3,    4,    5\n",
        "fares = [4.5, 7.0, 9.5, 12.0, 14.5]"
      ]
    },
    {
      "cell_type": "code",
      "execution_count": null,
      "id": "plot-taxi-fare",
      "metadata": {},
      "outputs": [],
      "source": [
        "plt.figure(figsize=(8, 6))\n",
        "plt.plot([1, 2, 3, 4, 5], fares, marker='o', linestyle='-')\n",
        "plt.title('Taxi Fare vs. Miles Traveled')\n",
        "plt.xlabel('Miles Traveled')\n",
        "plt.ylabel('Fare ($)')\n",
        "plt.grid(True)\n",
        "plt.show()"
      ]
    },
    {
      "cell_type": "markdown",
      "id": "manual-calculation",
      "metadata": {},
      "source": [
        "Let's look at the data and see if we can spot a pattern. How much does the price change between each one-mile increase?\n",
        "\n",
        "- From 1 to 2 miles: `7.00 - 4.50 = 2.50`\n",
        "- From 2 to 3 miles: `9.50 - 7.00 = 2.50`\n",
        "- From 3 to 4 miles: `12.00 - 9.50 = 2.50`\n",
        "- From 4 to 5 miles: `14.50 - 12.00 = 2.50`\n",
        "\n",
        "This is our first big clue! The price increases by the exact same amount for every extra mile. This is called a **constant difference**."
      ]
    },
    {
      "cell_type": "markdown",
      "id": "slope-vs-gradient-tip",
      "metadata": {},
      "source": [
        "### 💡 Tip: Slope vs. Gradient\n",
        "\n",
        "The special name for the rate of change in a linear function can be a bit confusing. You will hear it called by two different names:\n",
        "\n",
        "- **Slope**: This is very common in algebra classes.\n",
        "- **Gradient**: This is very common in higher-level mathematics, science, and fields like machine learning.\n",
        "\n",
        "They both mean the exact same thing: the 'steepness' or rate of change of the line. In these notebooks, we will use the term **gradient**."
      ]
    },
    {
      "cell_type": "markdown",
      "id": "connecting-to-linear",
      "metadata": {},
      "source": [
        "### The Rule of Constant Differences\n",
        "\n",
        "Here is a fundamental rule in mathematics:\n",
        "> If the difference between consecutive terms in a sequence is constant, the sequence is generated by a **linear function**.\n",
        "\n",
        "A linear function is the mathematical name for the equation of a straight line, which you might have seen before as `y = mx + b`.\n",
        "\n",
        "- `m` is the **gradient** (or slope), which represents the rate of change. In our case, it's the cost per mile. The constant difference we found, `$2.50`, is our gradient!\n",
        "- `b` is the **y-intercept**, a starting value or flat fee. In our case, it would be the pickup fee for the taxi."
      ]
    },
    {
      "cell_type": "markdown",
      "id": "finding-the-intercept",
      "metadata": {},
      "source": [
        "### Finding the Full Equation\n",
        "\n",
        "So we know our rule is something like:\n",
        "\n",
        "`cost = 2.50 * miles + b`\n",
        "\n",
        "How do we find `b`? We can just take any point from our data and plug it in. Let's use the first data point: when `miles = 1`, the `cost = 4.50`.\n",
        "\n",
        "\\begin{aligned}\n",
        "m x + b &= y\\\\\n",
        "2.50 \\times 1 + b &= 4.50\\\\\n",
        "2.50 + b &= 4.50\\\\\n",
        "b &= 4.50 - 2.50\\\\\n",
        "&= 2.00\\\\\n",
        "\\end{aligned}\n",
        "\n",
        "So the flat pickup fee is $2.00! Our final rule is:\n",
        "\n",
        "**`cost = 2.50 * miles + 2.00`**\n",
        "\n",
        "Let's test it with another point, say 3 miles: \n",
        "\n",
        "\\begin{aligned}\n",
        "&= 2.50 \\times 3 + 2.00\\\\\n",
        "&= 7.50 + 2.00\\\\\n",
        "&= 9.50\\\\\n",
        "\\end{aligned}\n",
        "\n",
        "It works!"
      ]
    },
    {
      "cell_type": "markdown",
      "id": "challenge-calculate-differences-desc",
      "metadata": {},
      "source": [
        "### 🎯 Mini-Challenge: Automate the Detective Work\n",
        "\n",
        "Manually calculating the differences is fine for a short list, but what if we had hundreds of data points? That would be tedious and error-prone. This is a perfect job for a computer!\n",
        "\n",
        "Your goal is to complete the function `calculate_differences` that takes a list of numbers (a `sequence`) and returns a new list containing the differences between them."
      ]
    },
    {
      "cell_type": "markdown",
      "id": "challenge-calculate-differences-hints",
      "metadata": {},
      "source": [
        "<details>\n",
        "  <summary>Hint 1: How do you get the first difference?</summary>\n",
        "  The first difference is calculated by subtracting the first element from the second element.\n",
        "</details>\n",
        "\n",
        "<details>\n",
        "  <summary>Hint 2: How do you iterate through a list to get pairs of numbers?</summary>\n",
        "  You can use a `for` loop with `range()` and indexing. Remember that to get the difference between two numbers, you need to access `sequence[i+1]` and `sequence[i]`. Be careful not to go out of bounds!\n",
        "</details>\n",
        "\n",
        "<details>\n",
        "  <summary>Hint 3: What should be the length of the new list?</summary>\n",
        "  If the original sequence has `n` elements, the list of differences will have `n-1` elements.\n",
        "</details>"
      ]
    },
    {
      "cell_type": "code",
      "execution_count": null,
      "id": "challenge-calculate-differences-code",
      "metadata": {},
      "outputs": [],
      "source": [
        "def calculate_differences(sequence):\n",
        "    # YOUR CODE HERE\n",
        "    pass\n",
        "\n",
        "# Test your function\n",
        "test_sequence = [4.5, 7.0, 9.5, 12.0, 14.5]\n",
        "expected_differences = [2.5, 2.5, 2.5, 2.5]\n",
        "calculated_differences = calculate_differences(test_sequence)\n",
        "\n",
        "print(\"Original Sequence: \" + str(test_sequence))\n",
        "print(\"Calculated Differences: \" + str(calculated_differences))\n",
        "print(\"Expected Differences: \" + str(expected_differences))\n",
        "\n",
        "assert calculated_differences == expected_differences, \"Your function did not return the correct differences!\"\n",
        "print(\"Success! Your function works for the taxi fare example.\")\n",
        "\n",
        "test_sequence_2 = [1, 3, 6, 10, 15]\n",
        "expected_differences_2 = [2, 3, 4, 5]\n",
        "calculated_differences_2 = calculate_differences(test_sequence_2)\n",
        "\n",
        "print(\"Original Sequence 2: \" + str(test_sequence_2))\n",
        "print(\"Calculated Differences 2: \" + str(calculated_differences_2))\n",
        "print(\"Expected Differences 2: \" + str(expected_differences_2))\n",
        "\n",
        "assert calculated_differences_2 == expected_differences_2, \"Your function did not return the correct differences for the second test case!\"\n",
        "print(\"Success! Your function works for the second test case.\")"
      ]
    },
    {
      "cell_type": "markdown",
      "id": "challenge-calculate-differences-solution",
      "metadata": {},
      "source": [
        "<details>\n",
        "  <summary>Click to see a possible solution</summary>\n",
        "\n",
        "```python\n",
        "def calculate_differences(sequence):\n",
        "    differences = []\n",
        "    for i in range(len(sequence) - 1):\n",
        "        diff = sequence[i+1] - sequence[i]\n",
        "        differences.append(diff)\n",
        "    return differences\n",
        "\n",
        "# Test your function\n",
        "test_sequence = [4.5, 7.0, 9.5, 12.0, 14.5]\n",
        "expected_differences = [2.5, 2.5, 2.5, 2.5]\n",
        "calculated_differences = calculate_differences(test_sequence)\n",
        "\n",
        "print(\"Original Sequence: \" + str(test_sequence))\n",
        "# Expected output: Original Sequence: [4.5, 7.0, 9.5, 12.0, 14.5]\n",
        "print(\"Calculated Differences: \" + str(calculated_differences))\n",
        "# Expected output: Calculated Differences: [2.5, 2.5, 2.5, 2.5]\n",
        "print(\"Expected Differences: \" + str(expected_differences))\n",
        "# Expected output: Expected Differences: [2.5, 2.5, 2.5, 2.5]\n",
        "\n",
        "assert calculated_differences == expected_differences, \"Your function did not return the correct differences!\"\n",
        "print(\"\\nSuccess! Your function works for the taxi fare example.\")\n",
        "# Expected output: \n",
        "# Expected output: Success! Your function works for the taxi fare example.\n",
        "\n",
        "test_sequence_2 = [1, 3, 6, 10, 15]\n",
        "expected_differences_2 = [2, 3, 4, 5]\n",
        "calculated_differences_2 = calculate_differences(test_sequence_2)\n",
        "\n",
        "print(\"\\nOriginal Sequence 2: \" + str(test_sequence_2))\n",
        "# Expected output: \n",
        "# Expected output: Original Sequence 2: [1, 3, 6, 10, 15]\n",
        "print(\"Calculated Differences 2: \" + str(calculated_differences_2))\n",
        "# Expected output: Calculated Differences 2: [2, 3, 4, 5]\n",
        "print(\"Expected Differences 2: \" + str(expected_differences_2))\n",
        "# Expected output: Expected Differences 2: [2, 3, 4, 5]\n",
        "\n",
        "assert calculated_differences_2 == expected_differences_2, \"Your function did not return the correct differences for the second test case!\"\n",
        "print(\"\\nSuccess! Your function works for the second test case.\")\n",
        "# Expected output: \n",
        "# Expected output: Success! Your function works for the second test case.\n",
        "```\n",
        "</details>"
      ]
    },
    {
      "cell_type": "markdown",
      "id": "challenge-cupcake-conundrum-desc",
      "metadata": {},
      "source": [
        "### 🎯 Mini-Challenge: The Cupcake Conundrum\n",
        "\n",
        "You're at a bakery, and you want to buy some cupcakes. The bakery sells cupcakes in boxes, and there's a special deal: the more boxes you buy, the cheaper each additional box becomes. However, there's also a fixed cost for the fancy packaging.\n",
        "\n",
        "You have the following data for the total cost of buying different numbers of boxes:\n",
        "\n",
        "- 1 box: $10.00\n",
        "- 2 boxes: $18.00\n",
        "- 3 boxes: $26.00\n",
        "- 4 boxes: $34.00\n",
        "- 5 boxes: $42.00\n",
        "\n",
        "Your task is to:\n",
        "1. Use the `calculate_differences` function you just wrote to find the constant difference in the total cost. This will be the cost per additional box.\n",
        "2. Using this constant difference and one of the data points, deduce the fixed cost of the fancy packaging (the `b` in `y = mx + b`).\n",
        "3. Print the cost per additional box and the fixed packaging cost."
      ]
    },
    {
      "cell_type": "code",
      "execution_count": null,
      "id": "challenge-cupcake-conundrum-code",
      "metadata": {},
      "outputs": [],
      "source": [
        "# Cupcake costs for 1, 2, 3, 4, and 5 boxes\n",
        "cupcake_costs = [10.00, 18.00, 26.00, 34.00, 42.00]\n",
        "\n",
        "# YOUR CODE HERE\n",
        "pass\n",
        "\n",
        "# Expected output:\n",
        "# Cost per additional box: 8.0\n",
        "# Fixed packaging cost: 2.0"
      ]
    },
    {
      "cell_type": "markdown",
      "id": "challenge-cupcake-conundrum-solution",
      "metadata": {},
      "source": [
        "<details>\n",
        "  <summary>Click to see a possible solution</summary>\n",
        "\n",
        "```python\n",
        "# Cupcake costs for 1, 2, 3, 4, and 5 boxes\n",
        "cupcake_costs = [10.00, 18.00, 26.00, 34.00, 42.00]\n",
        "\n",
        "# 1. Use calculate_differences to find the constant difference\n",
        "cost_differences = calculate_differences(cupcake_costs)\n",
        "cost_per_additional_box = cost_differences[0] # Since it's a constant difference\n",
        "\n",
        "# 2. Deduce the fixed packaging cost (b)\n",
        "# Using the first data point: 1 box costs $10.00\n",
        "# total_cost = cost_per_additional_box * num_boxes + fixed_packaging_cost\n",
        "# 10.00 = cost_per_additional_box * 1 + fixed_packaging_cost\n",
        "fixed_packaging_cost = cupcake_costs[0] - (cost_per_additional_box * 1)\n",
        "\n",
        "# 3. Print the results\n",
        "print(\"Cost per additional box: \" + str(cost_per_additional_box))\n",
        "# Expected output: Cost per additional box: 8.0\n",
        "print(\"Fixed packaging cost: \" + str(fixed_packaging_cost))\n",
        "# Expected output: Fixed packaging cost: 2.0\n",
        "```\n",
        "</details>"
      ]
    },
    {
      "cell_type": "code",
      "execution_count": null,
      "id": "plot-cupcake-cost",
      "metadata": {},
      "outputs": [],
      "source": [
        "num_boxes = [1, 2, 3, 4, 5]\n",
        "cupcake_costs = [10.00, 18.00, 26.00, 34.00, 42.00]\n",
        "\n",
        "plt.figure(figsize=(8, 6))\n",
        "plt.plot(num_boxes, cupcake_costs, marker='o', linestyle='-')\n",
        "plt.title('Cupcake Cost vs. Number of Boxes')\n",
        "plt.xlabel('Number of Boxes')\n",
        "plt.ylabel('Total Cost ($)')\n",
        "plt.grid(True)\n",
        "plt.show()"
      ]
    },
    {
      "cell_type": "markdown",
      "id": "summary-and-next-steps",
      "metadata": {},
      "source": [
        "## Summary and Next Steps\n",
        "\n",
        "In this notebook, you became a data detective! You learned how to identify linear patterns in sequences of numbers using the **Method of First Differences**. By calculating the constant difference between consecutive terms, you were able to determine the **gradient** (`m`) of a linear function. Then, by plugging in a known data point, you found the **y-intercept** (`b`), thus revealing the hidden `y = mx + b` rule. You also practiced automating this process with Python functions.\n",
        "\n",
        "### Key Takeaways:\n",
        "- The **Method of First Differences** helps identify linear relationships in sequences.\n",
        "- A **constant first difference** indicates a linear function.\n",
        "- The constant first difference is the **gradient** (`m`) of the linear function.\n",
        "- You can find the **y-intercept** (`b`) by using a known data point and the calculated gradient.\n",
        "\n",
        "### Next Up: Notebook 12.c: Cracking the Quadratic Code 🕵️‍♀️\n",
        "\n",
        "In our next notebook, [Notebook 12.c: Cracking the Quadratic Code](https://colab.research.google.com/github/sguy/programming-and-problem-solving/blob/main/notebooks/12.c-cracking-the-quadratic-code.ipynb), we'll tackle even more complex patterns. What happens when the first differences aren't constant? Get ready to uncover the secrets of quadratic functions!\n",
        "\n",
        "[Return to Table of Contents](https://colab.research.google.com/github/sguy/programming-and-problem-solving/blob/main/notebooks/table-of-contents.ipynb)"
      ]
    }
  ],
  "metadata": {
    "kernelspec": {
      "display_name": "Python 3 (ipykernel)",
      "language": "python",
      "name": "python3"
    },
    "language_info": {
      "codemirror_mode": {
        "name": "ipython",
        "version": 3
      },
      "file_extension": ".py",
      "mimetype": "text/x-python",
      "name": "python",
      "nbconvert_exporter": "python",
      "pygments_lexer": "ipython3",
      "version": "3.13.5"
    }
  },
  "nbformat": 4,
  "nbformat_minor": 5
}
