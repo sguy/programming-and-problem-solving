{
  "cells": [
    {
      "cell_type": "markdown",
      "id": "header-title",
      "metadata": {},
      "source": [
        "# Notebook 12.b: Finding Linear Patterns"
      ]
    },
    {
      "cell_type": "markdown",
      "id": "header-quote",
      "metadata": {},
      "source": [
        "> Data! Data! Data! I can't make bricks without clay.\n",
        ">\n",
        "> — [Arthur Conan Doyle](https://en.wikipedia.org/wiki/Arthur_Conan_Doyle)"
      ]
    },
    {
      "cell_type": "markdown",
      "id": "header-learning-objectives",
      "metadata": {},
      "source": [
        "## 🎯 Learning Objectives\n",
        "\n",
        "By the end of this notebook, you will be able to:\n",
        "- Analyze the differences of a constant function (degree 0).\n",
        "- Use the Method of First Differences to identify linear patterns (degree 1).\n"
      ]
    },
    {
      "cell_type": "markdown",
      "id": "setup-section",
      "metadata": {},
      "source": [
        "## 🛠️ Setup\n",
        "\n",
        "First, we'll import the `math` module, which provides access to mathematical functions, including `math.nan` for representing \"Not a Number.\" We'll also define a helper function, `calculate_differences`, which will be crucial for our analysis. This function takes a sequence of numbers and returns a new sequence where each element is the difference between consecutive elements of the original sequence. The first element of the returned sequence will be `math.nan` because there is no preceding element to calculate a difference from.\n"
      ]
    },
    {
      "cell_type": "code",
      "execution_count": null,
      "id": "calculate-differences-function",
      "metadata": {},
      "outputs": [],
      "source": [
        "import math\n",
        "\n",
        "def calculate_differences(sequence):\n",
        "    \"\"\"\n",
        "    Calculates the differences between consecutive elements in a sequence.\n",
        "\n",
        "    Args:\n",
        "        sequence (list): A list of numbers.\n",
        "\n",
        "    Returns:\n",
        "        list: A new list containing the differences between consecutive elements.\n",
        "              The first element is math.nan as there is no preceding element.\n",
        "    \"\"\"\n",
        "    if not sequence or len(sequence) < 2:\n",
        "        return [math.nan] * len(sequence)\n",
        "\n",
        "    differences = [math.nan]\n",
        "    for i in range(1, len(sequence)):\n",
        "        differences.append(sequence[i] - sequence[i-1])\n",
        "    return differences\n"
      ]
    },
    {
      "cell_type": "markdown",
      "id": "constant-function-intro",
      "metadata": {},
      "source": [
        "## Case 1: The Constant Function (Degree 0)\n",
        "\n",
        "Let's start with the simplest possible sequence: a constant function. In this case, every value in our sequence is the same. This is like a subway system where the ticket price is the same no matter which station you want to go to.\n",
        "\n",
        "What do you expect to see when we calculate the differences between each step?"
      ]
    },
    {
      "cell_type": "code",
      "execution_count": null,
      "id": "constant-function-example",
      "metadata": {},
      "outputs": [],
      "source": [
        "y_constant = [5, 5, 5, 5, 5]\n",
        "d1_constant = calculate_differences(y_constant)\n",
        "print(f\"The original sequence is: {y_constant}\")\n",
        "print(f\"The first difference is:  {d1_constant}\")"
      ]
    },
    {
      "cell_type": "markdown",
      "id": "constant-function-explanation",
      "metadata": {},
      "source": [
        "As you can see, after the initial `nan`, the first difference is a sequence of zeros. This makes sense—since the value isn't changing, the difference between consecutive values is always zero. This is a key observation: **a sequence is constant if and only if its first difference is zero.**"
      ]
    },
    {
      "cell_type": "markdown",
      "id": "linear-function-intro",
      "metadata": {},
      "source": [
        "## Case 2: The Linear Function (Degree 1)\n",
        "\n",
        "Now, let's look at a linear function. Imagine a taxi fare that starts at $5 (the flag-drop fee) and increases by $2 for every kilometer driven. We can represent the total cost at each kilometer as a sequence.\n",
        "\n",
        "Let's see what happens when we apply our `calculate_differences` function to this sequence."
      ]
    },
    {
      "cell_type": "code",
      "execution_count": null,
      "id": "linear-function-example",
      "metadata": {},
      "outputs": [],
      "source": [
        "# The value at index 0 is the cost at 0km, index 1 is the cost at 1km, and so on.\n",
        "y_linear = [5, 7, 9, 11, 13, 15]\n",
        "d1_linear = calculate_differences(y_linear)\n",
        "print(f\"The original sequence is: {y_linear}\")\n",
        "print(f\"The first difference is:  {d1_linear}\")"
      ]
    },
    {
      "cell_type": "markdown",
      "id": "linear-function-explanation",
      "metadata": {},
      "source": [
        "This time, the first difference is a constant value (2) after the initial `nan`. This is the rate of change, or the slope of the line. In our taxi example, it's the cost per kilometer.\n",
        "\n",
        "This gives us our second key observation: **a sequence is linear if and only if its first difference is constant.**"
      ]
    }
  ],
  "metadata": {
    "kernelspec": {
      "display_name": "Python 3",
      "language": "python",
      "name": "python3"
    },
    "language_info": {
      "codemirror_mode": {
        "name": "ipython",
        "version": 3
      },
      "file_extension": ".py",
      "mimetype": "text/x-python",
      "name": "python",
      "nbconvert_exporter": "python",
      "pygments_lexer": "ipython3",
      "version": "3.10.12"
    }
  },
  "nbformat": 4,
  "nbformat_minor": 5
}