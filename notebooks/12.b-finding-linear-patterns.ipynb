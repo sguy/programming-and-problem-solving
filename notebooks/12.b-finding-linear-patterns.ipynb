{
  "cells": [
    {
      "cell_type": "markdown",
      "id": "header-title",
      "metadata": {},
      "source": [
        "# 12.b: Finding Linear Patterns"
      ]
    },
    {
      "cell_type": "markdown",
      "id": "header-quote",
      "metadata": {},
      "source": [
        "> Data! Data! Data! I can't make bricks without clay.\n",
        ">\n",
        "> — [Arthur Conan Doyle](https://en.wikipedia.org/wiki/Arthur_Conan_Doyle)"
      ]
    },
    {
      "cell_type": "markdown",
      "id": "header-learning-objectives",
      "metadata": {},
      "source": [
        "## 🎯 Learning Objectives\n",
        "\n",
        "By the end of this notebook, you will be able to:\n",
        "- Analyze the differences of a constant function (degree 0).\n",
        "- Use the Method of First Differences to identify linear patterns (degree 1).\n",
        "- Visualize a sequence and its differences using plots."
      ]
    },
    {
      "cell_type": "markdown",
      "id": "header-prerequisites",
      "metadata": {},
      "source": [
        "## 📚 Prerequisites\n",
        "\n",
        "This notebook builds on concepts from the previous lesson. Before you begin, make sure you are comfortable with:\n",
        "- Concepts from [Notebook 12.a: Functions, Sequences, and Plots](https://colab.research.google.com/github/sguy/programming-and-problem-solving/blob/main/notebooks/12.a-functions-sequences-and-plots.ipynb), including passing functions as arguments and basic plotting."
      ]
    },
    {
      "cell_type": "markdown",
      "id": "header-time-and-toc",
      "metadata": {},
      "source": [
        "*Estimated Time: 30 minutes*\n",
        "\n",
        "---\n",
        "\n",
        "[Return to Table of Contents](https://colab.research.google.com/github/sguy/programming-and-problem-solving/blob/main/notebooks/table-of-contents.ipynb)"
      ]
    },
    {
      "cell_type": "markdown",
      "id": "intro-from-data-to-rules",
      "metadata": {},
      "source": [
        "## Introduction: From Data to Rules\n",
        "\n",
        "In the last notebook, we started with a rule (a Python function) and used it to generate a sequence of data, which we then plotted. We acted like engineers building a model.\n",
        "\n",
        "Now, we're going to put on our detective hats and do the reverse. We will start with a sequence of data and try to uncover the hidden mathematical rule that created it. This is a fundamental skill in science, finance, and engineering, where the goal is to find a model that explains the data you observe.\n",
        "\n",
        "Our primary tool will be the **Method of Differences**. By calculating the difference between consecutive data points, we can reveal the underlying pattern."
      ]
    },
    {
      "cell_type": "markdown",
      "id": "setup-section",
      "metadata": {},
      "source": [
        "## 🛠️ Setup: Our Detective Kit\n",
        "\n",
        "Before we start our investigation, let's prepare our tools. We'll use a helper function from our previous lesson and create a new one for calculating differences. We will also import `numpy` and `matplotlib`.\n",
        "\n",
        "- **`get_function_values(func, domain)`**: Our helper from last time. It takes a function and a list of x-values and returns the list of y-values.\n",
        "- **`calculate_differences(sequence)`**: Our new tool. It takes a list of numbers and returns a new list containing the differences between consecutive values.\n",
        "- **`np.nan`**: A special value from `numpy` meaning \"Not a Number.\" Why do we need this? When we calculate the difference between items in a list, the *first* item has nothing before it to compare against. We use `np.nan` as a placeholder for this first calculated difference, which is undefined. This also ensures our lists of differences stay the same length as our original list, which is useful for plotting.\n",
        "- **`matplotlib.pyplot`**: Our go-to library for plotting our data and our differences, so we can see the patterns.\n",
        "\n",
        "### 🔗 External Resources:\n",
        "- **Documentation for `numpy.nan`**: [https://numpy.org/doc/stable/reference/constants.html#numpy.nan](https://numpy.org/doc/stable/reference/constants.html#numpy.nan)"
      ]
    },
    {
      "cell_type": "code",
      "execution_count": null,
      "id": "helper-functions-cell",
      "metadata": {},
      "outputs": [],
      "source": [
        "import numpy as np\n",
        "import matplotlib.pyplot as plt\n",
        "\n",
        "def get_function_values(func, domain):\n",
        "    codomain = []\n",
        "    for x in domain:\n",
        "        codomain.append(func(x))\n",
        "    return codomain\n",
        "\n",
        "def calculate_differences(sequence):\n",
        "    if not sequence or len(sequence) < 2:\n",
        "        return [np.nan] * len(sequence)\n",
        "\n",
        "    differences = [np.nan]\n",
        "    for i in range(1, len(sequence)):\n",
        "        differences.append(sequence[i] - sequence[i-1])\n",
        "    return differences"
      ]
    },
    {
      "cell_type": "markdown",
      "id": "polynomial-degree-review",
      "metadata": {},
      "source": [
        "## A Clue for Our Detective: The Polynomial's \"Degree\"\n",
        "\n",
        "The secret to the Method of Differences lies in a concept from algebra called the **degree** of a polynomial. A polynomial is just an expression with variables (like `x`), numbers, and whole number exponents. For example:\n",
        "$$y = 4x^2 - 5x + 10$$\n",
        "The **degree** is simply the highest exponent of the variable. In the example above, the exponents are 2 (from $4x^2$), 1 (from $-5x^1$), and 0 (from $10x^0$), so the degree is **2**.\n",
        "\n",
        "Why is this our big clue? Because a polynomial's degree tells us exactly how many times we need to calculate the differences to find a constant pattern. It's the key that unlocks the secret of the sequence!\n",
        "\n",
        "- A **degree 0** polynomial (like `y = 15`) will have a constant sequence to begin with.\n",
        "- A **degree 1** polynomial (like `y = 10x - 2`) will have a constant *first* difference.\n",
        "- A **degree 2** polynomial (like `y = 4x^2 - 5x + 10`) will have a constant *second* difference. (We'll see this in the next notebook!)"
      ]
    },
    {
      "cell_type": "markdown",
      "id": "check-your-understanding-degree",
      "metadata": {},
      "source": [
        "### ✅ Check Your Understanding\n",
        "\n",
        "What is the degree of each of the following polynomials?\n",
        "\n",
        "- a) $y = 5x^3 + 2x^2 - 7$\n",
        "- b) $y = 10x - 2$\n",
        "- c) $y = 15$\n",
        "- d) $y = x^4 + x$\n",
        "\n",
        "<details><summary>Click for the answers</summary>\n",
        "\n",
        "- a) **Degree 3** (the highest exponent is 3)\n",
        "- b) **Degree 1** (since $10x$ is the same as $10x^1$)\n",
        "- c) **Degree 0** (since $15$ is the same as $15x^0$)\n",
        "- d) **Degree 4** (the highest exponent is 4)\n",
        "\n",
        "</details>"
      ]
    },
    {
      "cell_type": "markdown",
      "id": "constant-function-intro",
      "metadata": {},
      "source": [
        "## Case 1: The Constant Function (Degree 0)\n",
        "\n",
        "Let's start with the simplest possible rule: a constant function. No matter what the input is, the output is always the same. This is like a subway system where the ticket price is the same for every trip.\n",
        "\n",
        "What do you expect to see when we calculate the differences between each step?"
      ]
    },
    {
      "cell_type": "code",
      "execution_count": null,
      "id": "constant-function-example",
      "metadata": {},
      "outputs": [],
      "source": [
        "# 1. Define the rule as a function\n",
        "def calc_subway_fare(station_number):\n",
        "    return 2.75\n",
        "\n",
        "# 2. Define the domain (the inputs to the function)\n",
        "x_stations = list(range(5))\n",
        "\n",
        "# 3. Generate the sequence (the outputs)\n",
        "y_fares = get_function_values(calc_subway_fare, x_stations)\n",
        "\n",
        "# 4. Calculate the first difference\n",
        "d1_fares = calculate_differences(y_fares)\n",
        "\n",
        "print(f\"Original Sequence: {y_fares}\")\n",
        "print(f\"First Difference:  {d1_fares}\")"
      ]
    },
    {
      "cell_type": "code",
      "execution_count": null,
      "id": "constant-function-plot",
      "metadata": {},
      "outputs": [],
      "source": [
        "# Let's visualize the constant sequence and its differences\n",
        "fig, (ax1, ax2) = plt.subplots(2, 1, figsize=(8, 6), sharex=True)\n",
        "fig.suptitle('Analysis of a Constant Function', fontsize=16)\n",
        "\n",
        "# Plot Original Sequence\n",
        "ax1.plot(x_stations, y_fares, 'o-')\n",
        "ax1.set_title(\"Original Sequence (Constant)\")\n",
        "ax1.set_ylabel(\"Fare ($)\")\n",
        "ax1.grid(True)\n",
        "\n",
        "# Plot First Difference\n",
        "ax2.plot(x_stations, d1_fares, 'o-', color='r')\n",
        "ax2.set_title(\"First Difference\")\n",
        "ax2.set_ylabel(\"Change in Fare ($)\")\n",
        "ax2.set_xlabel(\"Station Number\")\n",
        "ax2.grid(True)\n",
        "\n",
        "plt.show()"
      ]
    },
    {
      "cell_type": "markdown",
      "id": "constant-function-explanation",
      "metadata": {},
      "source": [
        "As the plots clearly show, the first difference is a sequence of zeros (after the initial `nan`). This makes sense—since the value isn't changing, the difference between consecutive values is always zero.\n",
        "\n",
        "This connects to the idea of polynomial degrees. A constant function like `y = 2.75` can be written mathematically as:\n",
        "$$y = 2.75 \\cdot x^0$$\n",
        "Since anything to the power of 0 is 1, the $x^0$ term is equal to 1 and we don't usually write it. But seeing it this way shows that the highest power of x is 0, which is why we call a constant function a **degree 0** polynomial.\n",
        "\n",
        "> 💡 A sequence is **constant (degree 0)** if and only if its first difference is zero."
      ]
    },
    {
      "cell_type": "markdown",
      "id": "linear-function-intro",
      "metadata": {},
      "source": [
        "## Case 2: The Linear Function (Degree 1)\n",
        "\n",
        "Now, let's look at a linear function. Imagine a taxi fare that starts at $5 (the flag-drop fee) and increases by $2 for every kilometer driven. We can model this rule with a function."
      ]
    },
    {
      "cell_type": "code",
      "execution_count": null,
      "id": "linear-function-example",
      "metadata": {},
      "outputs": [],
      "source": [
        "# 1. Define the rule as a function\n",
        "def calc_taxi_fare(kilometers):\n",
        "    return 5 + 2 * kilometers\n",
        "\n",
        "# 2. Define the domain\n",
        "x_kilometers = list(range(6))\n",
        "\n",
        "# 3. Generate the sequence\n",
        "y_taxi_fares = get_function_values(calc_taxi_fare, x_kilometers)\n",
        "\n",
        "# 4. Calculate the first difference\n",
        "d1_taxi_fares = calculate_differences(y_taxi_fares)\n",
        "\n",
        "print(f\"Original Sequence: {y_taxi_fares}\")\n",
        "print(f\"First Difference:  {d1_taxi_fares}\")"
      ]
    },
    {
      "cell_type": "code",
      "execution_count": null,
      "id": "linear-function-plot",
      "metadata": {},
      "outputs": [],
      "source": [
        "# Let's visualize the linear sequence and its differences\n",
        "fig, (ax1, ax2) = plt.subplots(2, 1, figsize=(8, 6), sharex=True)\n",
        "fig.suptitle('Analysis of a Linear Function', fontsize=16)\n",
        "\n",
        "# Plot Original Sequence\n",
        "ax1.plot(x_kilometers, y_taxi_fares, 'o-')\n",
        "ax1.set_title(\"Original Sequence (Linear)\")\n",
        "ax1.set_ylabel(\"Fare ($)\")\n",
        "ax1.grid(True)\n",
        "\n",
        "# Plot First Difference\n",
        "ax2.plot(x_kilometers, d1_taxi_fares, 'o-', color='r')\n",
        "ax2.set_title(\"First Difference\")\n",
        "ax2.set_ylabel(\"Change in Fare ($)\")\n",
        "ax2.set_xlabel(\"Kilometer\")\n",
        "ax2.grid(True)\n",
        "\n",
        "plt.show()"
      ]
    },
    {
      "cell_type": "markdown",
      "id": "linear-function-explanation",
      "metadata": {},
      "source": [
        "This time, the plot of the first difference is a horizontal line at `2.0`. This constant value is the **rate of change**, or the slope of the line. In our taxi example, it's the $2 cost per kilometer.\n",
        "\n",
        "> 💡 A sequence is **linear** if and only if its first difference is a non-zero constant."
      ]
    },
    {
      "cell_type": "markdown",
      "id": "check-your-understanding-linear",
      "metadata": {},
      "source": [
        "### ✅ Check Your Understanding\n",
        "\n",
        "You are given a sequence of numbers and after calculating its first differences, you get `[nan, 4, 4, 4, 4]`. What can you conclude about the original sequence?\n",
        "\n",
        "a) It is a constant sequence.\n",
        "b) It is a linear sequence.\n",
        "c) It is a quadratic sequence.\n",
        "d) You cannot determine the pattern from the first differences.\n",
        "\n",
        "<details><summary>Click for the answer</summary>\n",
        "The answer is **b) It is a linear sequence**. A constant first difference indicates a linear pattern.\n",
        "</details>"
      ]
    },
    {
      "cell_type": "markdown",
      "id": "mini-challenge-leaky-bucket-desc",
      "metadata": {},
      "source": [
        "### 🎯 Mini-Challenge: The Leaky Bucket\n",
        "\n",
        "A bucket is leaking water at a steady rate. The volume of water (in liters) is measured every minute. The data is recorded in the `water_volume` list below.\n",
        "\n",
        "Your task is to:\n",
        "1. Calculate the first differences for this sequence.\n",
        "2. Based on the result, print whether the leak is linear or not.\n",
        "3. Explain what the constant difference represents in this context."
      ]
    },
    {
      "cell_type": "code",
      "execution_count": null,
      "id": "mini-challenge-leaky-bucket-starter",
      "metadata": {},
      "outputs": [],
      "source": [
        "water_volume = [10.0, 9.5, 9.0, 8.5, 8.0]\n",
        "\n",
        "# 1. Calculate the first differences\n",
        "d1_water = [] # YOUR CODE HERE\n",
        "\n",
        "print(f\"First differences: {d1_water}\")\n",
        "\n",
        "# 2. Check if the result is constant and print your conclusion\n",
        "# YOUR CODE HERE\n",
        "\n",
        "# 3. Explain what the difference means in a print statement\n",
        "# YOUR CODE HERE"
      ]
    },
    {
      "cell_type": "markdown",
      "id": "mini-challenge-leaky-bucket-solution",
      "metadata": {},
      "source": [
        "<details><summary>Click to see a possible solution</summary>\n",
        "\n",
        "```python\n",
        "water_volume = [10.0, 9.5, 9.0, 8.5, 8.0]\n",
        "\n",
        "# 1. Calculate the first differences\n",
        "d1_water = calculate_differences(water_volume)\n",
        "print(f\"First differences: {d1_water}\")\n",
        "# Expected output: First differences: [nan, -0.5, -0.5, -0.5, -0.5]\n",
        "\n",
        "# 2. Check if the result is constant and print your conclusion\n",
        "# We can see by looking that the difference is a constant -0.5.\n",
        "print(\"The leak is linear because the first difference is constant.\")\n",
        "\n",
        "# 3. Explain what the difference means in a print statement\n",
        "print(\"The constant difference of -0.5 means the bucket is losing 0.5 liters per minute.\")\n",
        "```\n",
        "\n",
        "</details>"
      ]
    },
    {
      "cell_type": "markdown",
      "id": "footer-summary",
      "metadata": {},
      "source": [
        "## 🎉 Well Done!\n",
        "\n",
        "In this notebook, we used the Method of First Differences to test if a sequence of data was generated by a constant or linear rule. By calculating and plotting the differences, we can quickly identify the nature of the underlying function.\n",
        "\n",
        "### Key Takeaways\n",
        "- The first difference of a **constant** sequence is **zero**.\n",
        "- The first difference of a **linear** sequence is a **non-zero constant**.\n",
        "- This constant difference is the function's **rate of change** (or slope)."
      ]
    },
    {
      "cell_type": "markdown",
      "id": "footer-next-steps",
      "metadata": {},
      "source": [
        "### Next Up: Notebook 12.c: Cracking the Quadratic Code 🚀\n",
        "\n",
        "But what happens if the first difference *isn't* constant? In our next notebook, [Notebook 12.c: Cracking the Quadratic Code](https://colab.research.google.com/github/sguy/programming-and-problem-solving/blob/main/notebooks/12.c-cracking-the-quadratic-code.ipynb), we'll become data detectives again and see what happens when we take the difference of the differences."
      ]
    },
    {
      "cell_type": "markdown",
      "id": "footer-toc-link",
      "metadata": {},
      "source": [
        "---\n",
        "[Return to Table of Contents](https://colab.research.google.com/github/sguy/programming-and-problem-solving/blob/main/notebooks/table-of-contents.ipynb)"
      ]
    }
  ],
  "metadata": {
    "kernelspec": {
      "display_name": "Python 3",
      "language": "python",
      "name": "python3"
    },
    "language_info": {
      "name": "python",
      "version": "3.10.12"
    }
  },
  "nbformat": 4,
  "nbformat_minor": 2
}
